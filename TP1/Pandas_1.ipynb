{
  "nbformat": 4,
  "nbformat_minor": 0,
  "metadata": {
    "colab": {
      "provenance": [],
      "authorship_tag": "ABX9TyP+VaVVifrNFFgZCdiImGwE",
      "include_colab_link": true
    },
    "kernelspec": {
      "name": "python3",
      "display_name": "Python 3"
    },
    "language_info": {
      "name": "python"
    }
  },
  "cells": [
    {
      "cell_type": "markdown",
      "metadata": {
        "id": "view-in-github",
        "colab_type": "text"
      },
      "source": [
        "<a href=\"https://colab.research.google.com/github/vitolemus/learningPandas/blob/main/TP1/Pandas_1.ipynb\" target=\"_parent\"><img src=\"https://colab.research.google.com/assets/colab-badge.svg\" alt=\"Open In Colab\"/></a>"
      ]
    },
    {
      "cell_type": "code",
      "execution_count": null,
      "metadata": {
        "id": "3ocaFAoRLmz7"
      },
      "outputs": [],
      "source": [
        "import pandas as pd"
      ]
    },
    {
      "cell_type": "code",
      "source": [
        "edades = [22, 13, 8, 33, 25, 44, 38, 22]"
      ],
      "metadata": {
        "id": "cTCuaOkoKbG1"
      },
      "execution_count": null,
      "outputs": []
    },
    {
      "cell_type": "code",
      "source": [
        "edades"
      ],
      "metadata": {
        "colab": {
          "base_uri": "https://localhost:8080/"
        },
        "id": "ny-0J3yJKutr",
        "outputId": "cc27ee69-7213-45f0-8228-711f5f2db899"
      },
      "execution_count": null,
      "outputs": [
        {
          "output_type": "execute_result",
          "data": {
            "text/plain": [
              "[22, 13, 8, 33, 25, 44, 38, 22]"
            ]
          },
          "metadata": {},
          "execution_count": 5
        }
      ]
    },
    {
      "cell_type": "code",
      "source": [
        "serie = pd.Series(edades)"
      ],
      "metadata": {
        "id": "OMH7RqC2Kzic"
      },
      "execution_count": null,
      "outputs": []
    },
    {
      "cell_type": "code",
      "source": [
        "serie"
      ],
      "metadata": {
        "colab": {
          "base_uri": "https://localhost:8080/"
        },
        "id": "e2LnCW_3K7DD",
        "outputId": "3be7cc73-0898-4b0d-a9cd-024287ff9a51"
      },
      "execution_count": null,
      "outputs": [
        {
          "output_type": "execute_result",
          "data": {
            "text/plain": [
              "0    22\n",
              "1    13\n",
              "2     8\n",
              "3    33\n",
              "4    25\n",
              "5    44\n",
              "6    38\n",
              "7    22\n",
              "dtype: int64"
            ]
          },
          "metadata": {},
          "execution_count": 9
        }
      ]
    },
    {
      "cell_type": "markdown",
      "source": [
        "#Ejercicio 2:\n",
        "Obtener los primeros 5 registros utilizando Head"
      ],
      "metadata": {
        "id": "dsDLP76fLCic"
      }
    },
    {
      "cell_type": "code",
      "source": [
        "serie.head()"
      ],
      "metadata": {
        "colab": {
          "base_uri": "https://localhost:8080/"
        },
        "id": "-kSPq1WSK8Gj",
        "outputId": "98b2cccf-0737-4ec7-8038-074c9e39d85a"
      },
      "execution_count": null,
      "outputs": [
        {
          "output_type": "execute_result",
          "data": {
            "text/plain": [
              "0    22\n",
              "1    13\n",
              "2     8\n",
              "3    33\n",
              "4    25\n",
              "dtype: int64"
            ]
          },
          "metadata": {},
          "execution_count": 10
        }
      ]
    },
    {
      "cell_type": "code",
      "source": [],
      "metadata": {
        "id": "pW5R3a_yLSbd"
      },
      "execution_count": null,
      "outputs": []
    }
  ]
}