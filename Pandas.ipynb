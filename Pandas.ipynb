{
  "cells": [
    {
      "cell_type": "markdown",
      "metadata": {
        "id": "view-in-github",
        "colab_type": "text"
      },
      "source": [
        "<a href=\"https://colab.research.google.com/github/vitolemus/learningPandas/blob/main/Pandas.ipynb\" target=\"_parent\"><img src=\"https://colab.research.google.com/assets/colab-badge.svg\" alt=\"Open In Colab\"/></a>"
      ]
    },
    {
      "cell_type": "markdown",
      "id": "a61d0e38-bd8f-4ccb-8f85-434512f46f1a",
      "metadata": {
        "tags": [],
        "id": "a61d0e38-bd8f-4ccb-8f85-434512f46f1a"
      },
      "source": [
        "# DataFrames"
      ]
    },
    {
      "cell_type": "code",
      "execution_count": 2,
      "id": "d7f29d2f-620b-4da7-a4cc-471e8363db27",
      "metadata": {
        "id": "d7f29d2f-620b-4da7-a4cc-471e8363db27"
      },
      "outputs": [],
      "source": [
        "import pandas as pd"
      ]
    },
    {
      "cell_type": "markdown",
      "id": "b9e95a14-1934-4848-b0a4-88293b69d4e4",
      "metadata": {
        "id": "b9e95a14-1934-4848-b0a4-88293b69d4e4"
      },
      "source": [
        "__Ejercicio 1:__ Crear una serie de pandas con el siguiente arreglo"
      ]
    },
    {
      "cell_type": "code",
      "execution_count": 3,
      "id": "85a136e2-0233-484a-876b-94ba4dd3f4f7",
      "metadata": {
        "id": "85a136e2-0233-484a-876b-94ba4dd3f4f7"
      },
      "outputs": [],
      "source": [
        "edades=[22,13,8,33,25,44,38,22]"
      ]
    },
    {
      "cell_type": "code",
      "execution_count": 4,
      "id": "902600f6-f652-48a1-8307-4addd450a0be",
      "metadata": {
        "colab": {
          "base_uri": "https://localhost:8080/"
        },
        "id": "902600f6-f652-48a1-8307-4addd450a0be",
        "outputId": "dcc10c88-b022-491f-a719-97c53114db71"
      },
      "outputs": [
        {
          "output_type": "execute_result",
          "data": {
            "text/plain": [
              "[22, 13, 8, 33, 25, 44, 38, 22]"
            ]
          },
          "metadata": {},
          "execution_count": 4
        }
      ],
      "source": [
        "edades"
      ]
    },
    {
      "cell_type": "code",
      "execution_count": 5,
      "id": "8d9f81f9-6fd5-4ae3-a674-816fbd734d29",
      "metadata": {
        "id": "8d9f81f9-6fd5-4ae3-a674-816fbd734d29"
      },
      "outputs": [],
      "source": [
        "serie = pd.Series(edades)"
      ]
    },
    {
      "cell_type": "code",
      "execution_count": 6,
      "id": "60114c97-ba69-4d16-a3a3-90a9b2b24b43",
      "metadata": {
        "colab": {
          "base_uri": "https://localhost:8080/"
        },
        "id": "60114c97-ba69-4d16-a3a3-90a9b2b24b43",
        "outputId": "fd527f46-1f25-43c5-ca31-8c04064042e8"
      },
      "outputs": [
        {
          "output_type": "execute_result",
          "data": {
            "text/plain": [
              "0    22\n",
              "1    13\n",
              "2     8\n",
              "3    33\n",
              "4    25\n",
              "5    44\n",
              "6    38\n",
              "7    22\n",
              "dtype: int64"
            ]
          },
          "metadata": {},
          "execution_count": 6
        }
      ],
      "source": [
        "serie"
      ]
    },
    {
      "cell_type": "markdown",
      "id": "9803ef5f-68e9-4bef-9111-560dde4be3e4",
      "metadata": {
        "id": "9803ef5f-68e9-4bef-9111-560dde4be3e4"
      },
      "source": [
        "__Ejercicio 2:__"
      ]
    },
    {
      "cell_type": "markdown",
      "id": "5d90cfe7-1adf-423b-84e2-836688e2206a",
      "metadata": {
        "id": "5d90cfe7-1adf-423b-84e2-836688e2206a"
      },
      "source": [
        "Obtener los primeros 5 registros utilizando head"
      ]
    },
    {
      "cell_type": "code",
      "execution_count": 7,
      "id": "3a20db5d-d0ec-499a-9463-c178d727ac07",
      "metadata": {
        "colab": {
          "base_uri": "https://localhost:8080/"
        },
        "id": "3a20db5d-d0ec-499a-9463-c178d727ac07",
        "outputId": "119c374b-fe93-4c6e-c6ac-d50f002d44f0"
      },
      "outputs": [
        {
          "output_type": "execute_result",
          "data": {
            "text/plain": [
              "0    22\n",
              "1    13\n",
              "2     8\n",
              "3    33\n",
              "4    25\n",
              "dtype: int64"
            ]
          },
          "metadata": {},
          "execution_count": 7
        }
      ],
      "source": [
        "serie.head()"
      ]
    },
    {
      "cell_type": "markdown",
      "id": "e3c9f1e3-2441-4977-9f04-2b842de7578a",
      "metadata": {
        "id": "e3c9f1e3-2441-4977-9f04-2b842de7578a"
      },
      "source": [
        "Obtener los últimos 3 registros utilizando tail"
      ]
    },
    {
      "cell_type": "code",
      "execution_count": 8,
      "id": "ce5a5e4b-fbf1-44c6-ab07-dc334dfbfaf5",
      "metadata": {
        "colab": {
          "base_uri": "https://localhost:8080/"
        },
        "id": "ce5a5e4b-fbf1-44c6-ab07-dc334dfbfaf5",
        "outputId": "478f074f-5022-43b7-e975-4847dcfc9c52"
      },
      "outputs": [
        {
          "output_type": "execute_result",
          "data": {
            "text/plain": [
              "5    44\n",
              "6    38\n",
              "7    22\n",
              "dtype: int64"
            ]
          },
          "metadata": {},
          "execution_count": 8
        }
      ],
      "source": [
        "serie.tail(3)"
      ]
    },
    {
      "cell_type": "markdown",
      "id": "0fcff9b0-84f8-4f03-8d9e-6743e25e6092",
      "metadata": {
        "id": "0fcff9b0-84f8-4f03-8d9e-6743e25e6092"
      },
      "source": [
        "__Ejercicio 3__"
      ]
    },
    {
      "cell_type": "markdown",
      "id": "a3880be8-54a2-4196-8883-fa4ba37a3f8e",
      "metadata": {
        "id": "a3880be8-54a2-4196-8883-fa4ba37a3f8e"
      },
      "source": [
        "Obtener el valor mínimo de la serie"
      ]
    },
    {
      "cell_type": "code",
      "execution_count": 9,
      "id": "ba63ba1c-ce04-4c56-bc35-4dd3b59690bf",
      "metadata": {
        "colab": {
          "base_uri": "https://localhost:8080/"
        },
        "id": "ba63ba1c-ce04-4c56-bc35-4dd3b59690bf",
        "outputId": "b35e0a05-d1e5-4aa7-d411-5923aa6b9781"
      },
      "outputs": [
        {
          "output_type": "execute_result",
          "data": {
            "text/plain": [
              "8"
            ]
          },
          "metadata": {},
          "execution_count": 9
        }
      ],
      "source": [
        "serie.min()"
      ]
    },
    {
      "cell_type": "markdown",
      "id": "1369762e-0fa0-41e9-9a5d-b9e7ea385abe",
      "metadata": {
        "id": "1369762e-0fa0-41e9-9a5d-b9e7ea385abe"
      },
      "source": [
        "Obtener el valor máximo de la serie"
      ]
    },
    {
      "cell_type": "code",
      "execution_count": 10,
      "id": "14c667d0-4a0e-4c9b-bf51-855c7161e972",
      "metadata": {
        "colab": {
          "base_uri": "https://localhost:8080/"
        },
        "id": "14c667d0-4a0e-4c9b-bf51-855c7161e972",
        "outputId": "d8bfd14d-91e1-467e-a927-08b11da83f1a"
      },
      "outputs": [
        {
          "output_type": "execute_result",
          "data": {
            "text/plain": [
              "44"
            ]
          },
          "metadata": {},
          "execution_count": 10
        }
      ],
      "source": [
        "serie.max()"
      ]
    },
    {
      "cell_type": "markdown",
      "id": "407e71dd-95e8-4520-8c54-cf28489955db",
      "metadata": {
        "id": "407e71dd-95e8-4520-8c54-cf28489955db"
      },
      "source": [
        "Obtener el valor promedio de la serie"
      ]
    },
    {
      "cell_type": "code",
      "execution_count": 11,
      "id": "ad7a5230-8a73-45b5-8bb9-6c8fad8bce58",
      "metadata": {
        "colab": {
          "base_uri": "https://localhost:8080/"
        },
        "id": "ad7a5230-8a73-45b5-8bb9-6c8fad8bce58",
        "outputId": "8cffd2ee-ee32-4356-bfbc-fb2ce87d343e"
      },
      "outputs": [
        {
          "output_type": "execute_result",
          "data": {
            "text/plain": [
              "25.625"
            ]
          },
          "metadata": {},
          "execution_count": 11
        }
      ],
      "source": [
        "serie.mean()"
      ]
    },
    {
      "cell_type": "markdown",
      "id": "fd064347-6b86-4880-b20c-fa70f5c50315",
      "metadata": {
        "id": "fd064347-6b86-4880-b20c-fa70f5c50315"
      },
      "source": [
        "__Ejercicio 4:__ Obtener el valor en la segunda posición de la serie"
      ]
    },
    {
      "cell_type": "code",
      "execution_count": 12,
      "id": "44744775-18b9-4986-b346-4bfc4a86a76b",
      "metadata": {
        "colab": {
          "base_uri": "https://localhost:8080/"
        },
        "id": "44744775-18b9-4986-b346-4bfc4a86a76b",
        "outputId": "4a3af1b0-3b90-4788-da6b-84caf77ac7d7"
      },
      "outputs": [
        {
          "output_type": "execute_result",
          "data": {
            "text/plain": [
              "0    22\n",
              "1    13\n",
              "2     8\n",
              "3    33\n",
              "4    25\n",
              "5    44\n",
              "6    38\n",
              "7    22\n",
              "dtype: int64"
            ]
          },
          "metadata": {},
          "execution_count": 12
        }
      ],
      "source": [
        "serie"
      ]
    },
    {
      "cell_type": "code",
      "execution_count": 13,
      "id": "e2cb34c3-d380-4f63-96b3-e0d1644ec280",
      "metadata": {
        "colab": {
          "base_uri": "https://localhost:8080/"
        },
        "id": "e2cb34c3-d380-4f63-96b3-e0d1644ec280",
        "outputId": "ff1f599c-9239-45c1-a69a-d569a35e8a65"
      },
      "outputs": [
        {
          "output_type": "execute_result",
          "data": {
            "text/plain": [
              "13"
            ]
          },
          "metadata": {},
          "execution_count": 13
        }
      ],
      "source": [
        "serie[1]"
      ]
    },
    {
      "cell_type": "code",
      "source": [
        "serie.get(5)"
      ],
      "metadata": {
        "colab": {
          "base_uri": "https://localhost:8080/"
        },
        "id": "-9e3-N9MP9YI",
        "outputId": "fe13ecbe-48d4-44e1-de63-12088afd7615"
      },
      "id": "-9e3-N9MP9YI",
      "execution_count": 14,
      "outputs": [
        {
          "output_type": "execute_result",
          "data": {
            "text/plain": [
              "44"
            ]
          },
          "metadata": {},
          "execution_count": 14
        }
      ]
    },
    {
      "cell_type": "markdown",
      "id": "212aaa22-896e-4e78-8fe3-7ee15afd8526",
      "metadata": {
        "id": "212aaa22-896e-4e78-8fe3-7ee15afd8526"
      },
      "source": [
        "__Ejercicio 5:__ Obtener los registros que tengan un valor igual a 22"
      ]
    },
    {
      "cell_type": "code",
      "execution_count": 15,
      "id": "8db7d794-1198-4163-a42e-8ca6eae0928a",
      "metadata": {
        "colab": {
          "base_uri": "https://localhost:8080/"
        },
        "id": "8db7d794-1198-4163-a42e-8ca6eae0928a",
        "outputId": "b93056ca-dabe-4b11-cbd0-724d3696e028"
      },
      "outputs": [
        {
          "output_type": "execute_result",
          "data": {
            "text/plain": [
              "0     True\n",
              "1    False\n",
              "2    False\n",
              "3    False\n",
              "4    False\n",
              "5    False\n",
              "6    False\n",
              "7     True\n",
              "dtype: bool"
            ]
          },
          "metadata": {},
          "execution_count": 15
        }
      ],
      "source": [
        "serie == 22"
      ]
    },
    {
      "cell_type": "code",
      "source": [
        "serie[serie == 22]"
      ],
      "metadata": {
        "colab": {
          "base_uri": "https://localhost:8080/"
        },
        "id": "95y9HwZiP3XI",
        "outputId": "239462fd-b335-4d32-a8ab-411e682a2d2c"
      },
      "id": "95y9HwZiP3XI",
      "execution_count": 16,
      "outputs": [
        {
          "output_type": "execute_result",
          "data": {
            "text/plain": [
              "0    22\n",
              "7    22\n",
              "dtype: int64"
            ]
          },
          "metadata": {},
          "execution_count": 16
        }
      ]
    },
    {
      "cell_type": "markdown",
      "id": "b1a82ab9-0117-4acb-80f7-27afc178141c",
      "metadata": {
        "id": "b1a82ab9-0117-4acb-80f7-27afc178141c"
      },
      "source": [
        "__Ejercicio 6:__"
      ]
    },
    {
      "cell_type": "markdown",
      "id": "a08fcd17-bac9-408a-ac5c-11aca12a5457",
      "metadata": {
        "id": "a08fcd17-bac9-408a-ac5c-11aca12a5457"
      },
      "source": [
        "Crear una segunda serie utilizando los siguientes datos:"
      ]
    },
    {
      "cell_type": "code",
      "execution_count": 17,
      "id": "fef8e45b-c418-46ca-a449-25664a1563c7",
      "metadata": {
        "id": "fef8e45b-c418-46ca-a449-25664a1563c7"
      },
      "outputs": [],
      "source": [
        "edades2= [23,15,12,25,20,50,31,2]"
      ]
    },
    {
      "cell_type": "code",
      "execution_count": 18,
      "id": "0866517f-9055-41f7-8648-bb4d61ef546a",
      "metadata": {
        "id": "0866517f-9055-41f7-8648-bb4d61ef546a"
      },
      "outputs": [],
      "source": [
        "serie2 = pd.Series(edades2)"
      ]
    },
    {
      "cell_type": "code",
      "execution_count": 19,
      "id": "e156267e-b2f2-4d97-b8ec-debc09964089",
      "metadata": {
        "colab": {
          "base_uri": "https://localhost:8080/"
        },
        "id": "e156267e-b2f2-4d97-b8ec-debc09964089",
        "outputId": "58e3e438-a146-4d35-d1c7-5b188b330ce9"
      },
      "outputs": [
        {
          "output_type": "execute_result",
          "data": {
            "text/plain": [
              "0    23\n",
              "1    15\n",
              "2    12\n",
              "3    25\n",
              "4    20\n",
              "5    50\n",
              "6    31\n",
              "7     2\n",
              "dtype: int64"
            ]
          },
          "metadata": {},
          "execution_count": 19
        }
      ],
      "source": [
        "serie2"
      ]
    },
    {
      "cell_type": "markdown",
      "id": "36f4b8a1-012d-4f29-b149-71e7fe59b966",
      "metadata": {
        "id": "36f4b8a1-012d-4f29-b149-71e7fe59b966"
      },
      "source": [
        "Sumar ambas series:"
      ]
    },
    {
      "cell_type": "code",
      "execution_count": 20,
      "id": "3c78e3c4-7292-4300-a369-ff33c974d314",
      "metadata": {
        "colab": {
          "base_uri": "https://localhost:8080/"
        },
        "id": "3c78e3c4-7292-4300-a369-ff33c974d314",
        "outputId": "eb9ee90f-00be-4d2e-ae42-c5bb5abc7198"
      },
      "outputs": [
        {
          "output_type": "execute_result",
          "data": {
            "text/plain": [
              "0    45\n",
              "1    28\n",
              "2    20\n",
              "3    58\n",
              "4    45\n",
              "5    94\n",
              "6    69\n",
              "7    24\n",
              "dtype: int64"
            ]
          },
          "metadata": {},
          "execution_count": 20
        }
      ],
      "source": [
        "serie + serie2"
      ]
    },
    {
      "cell_type": "code",
      "execution_count": 21,
      "id": "7ba6d04b-8c6c-44ab-af23-1fff4dcef48a",
      "metadata": {
        "colab": {
          "base_uri": "https://localhost:8080/"
        },
        "id": "7ba6d04b-8c6c-44ab-af23-1fff4dcef48a",
        "outputId": "077fbdb1-9b0a-49d3-9276-760060c3527c"
      },
      "outputs": [
        {
          "output_type": "execute_result",
          "data": {
            "text/plain": [
              "[22, 13, 8, 33, 25, 44, 38, 22, 23, 15, 12, 25, 20, 50, 31, 2]"
            ]
          },
          "metadata": {},
          "execution_count": 21
        }
      ],
      "source": [
        "edades + edades2"
      ]
    },
    {
      "cell_type": "code",
      "execution_count": 22,
      "id": "36977085-fd5f-414d-b468-d2d1254dd851",
      "metadata": {
        "id": "36977085-fd5f-414d-b468-d2d1254dd851"
      },
      "outputs": [],
      "source": [
        "edades3 = 2"
      ]
    },
    {
      "cell_type": "code",
      "execution_count": 23,
      "id": "39b8cae7-d36b-4b81-a824-1ab8e9d1c76f",
      "metadata": {
        "id": "39b8cae7-d36b-4b81-a824-1ab8e9d1c76f"
      },
      "outputs": [],
      "source": [
        "serie3 = pd. Series(edades3)"
      ]
    },
    {
      "cell_type": "code",
      "execution_count": 24,
      "id": "970a8101-bf4d-45b3-9cac-55518bb7991e",
      "metadata": {
        "colab": {
          "base_uri": "https://localhost:8080/"
        },
        "id": "970a8101-bf4d-45b3-9cac-55518bb7991e",
        "outputId": "64ce1b9e-9717-40f6-cb4a-e6f6f2398dec"
      },
      "outputs": [
        {
          "output_type": "execute_result",
          "data": {
            "text/plain": [
              "0    2\n",
              "dtype: int64"
            ]
          },
          "metadata": {},
          "execution_count": 24
        }
      ],
      "source": [
        "serie3"
      ]
    },
    {
      "cell_type": "code",
      "source": [
        "serie3 + serie"
      ],
      "metadata": {
        "id": "sCq67cD5RYqr",
        "outputId": "4591a98c-ea50-456b-cce2-05461b437688",
        "colab": {
          "base_uri": "https://localhost:8080/"
        }
      },
      "id": "sCq67cD5RYqr",
      "execution_count": 25,
      "outputs": [
        {
          "output_type": "execute_result",
          "data": {
            "text/plain": [
              "0    24.0\n",
              "1     NaN\n",
              "2     NaN\n",
              "3     NaN\n",
              "4     NaN\n",
              "5     NaN\n",
              "6     NaN\n",
              "7     NaN\n",
              "dtype: float64"
            ]
          },
          "metadata": {},
          "execution_count": 25
        }
      ]
    },
    {
      "cell_type": "markdown",
      "id": "1546d2fe-14e5-43a3-959e-54ce2d2979ba",
      "metadata": {
        "id": "1546d2fe-14e5-43a3-959e-54ce2d2979ba"
      },
      "source": [
        "__Ejercicio 7:__"
      ]
    },
    {
      "cell_type": "markdown",
      "id": "ef4ad8e3-7cb4-407c-91a4-5c13cafad38b",
      "metadata": {
        "id": "ef4ad8e3-7cb4-407c-91a4-5c13cafad38b"
      },
      "source": [
        "Reordenar la serie anterior invirtiendo los indices con __sort_index()__"
      ]
    },
    {
      "cell_type": "code",
      "execution_count": 26,
      "id": "d53389ed-0e29-4dc7-8c1c-7f8836c7d738",
      "metadata": {
        "id": "d53389ed-0e29-4dc7-8c1c-7f8836c7d738"
      },
      "outputs": [],
      "source": [
        "serie2 = serie2.sort_index(ascending= False)"
      ]
    },
    {
      "cell_type": "code",
      "source": [
        "serie2"
      ],
      "metadata": {
        "colab": {
          "base_uri": "https://localhost:8080/"
        },
        "id": "wsmmP1a4TNni",
        "outputId": "4b6c813a-0c78-4a1d-a782-c758b503b34f"
      },
      "id": "wsmmP1a4TNni",
      "execution_count": 27,
      "outputs": [
        {
          "output_type": "execute_result",
          "data": {
            "text/plain": [
              "7     2\n",
              "6    31\n",
              "5    50\n",
              "4    20\n",
              "3    25\n",
              "2    12\n",
              "1    15\n",
              "0    23\n",
              "dtype: int64"
            ]
          },
          "metadata": {},
          "execution_count": 27
        }
      ]
    },
    {
      "cell_type": "markdown",
      "id": "e5cf00ee-6e9d-4ebd-90e4-1731511d4afe",
      "metadata": {
        "id": "e5cf00ee-6e9d-4ebd-90e4-1731511d4afe"
      },
      "source": [
        "Volver a sumar ambas series:"
      ]
    },
    {
      "cell_type": "code",
      "execution_count": 28,
      "id": "c63131c2-2321-41c5-9bf8-61c38fc3d945",
      "metadata": {
        "id": "c63131c2-2321-41c5-9bf8-61c38fc3d945",
        "colab": {
          "base_uri": "https://localhost:8080/"
        },
        "outputId": "45601413-a2b4-4acc-86da-68abc6de6d32"
      },
      "outputs": [
        {
          "output_type": "execute_result",
          "data": {
            "text/plain": [
              "0    45\n",
              "1    28\n",
              "2    20\n",
              "3    58\n",
              "4    45\n",
              "5    94\n",
              "6    69\n",
              "7    24\n",
              "dtype: int64"
            ]
          },
          "metadata": {},
          "execution_count": 28
        }
      ],
      "source": [
        "serie + serie2"
      ]
    },
    {
      "cell_type": "markdown",
      "source": [
        "Se suman por igualdad de indice NO por la posición"
      ],
      "metadata": {
        "id": "e3Iywvz0TYaU"
      },
      "id": "e3Iywvz0TYaU"
    },
    {
      "cell_type": "markdown",
      "id": "a66404f4-5668-4598-a2b0-977904735edb",
      "metadata": {
        "id": "a66404f4-5668-4598-a2b0-977904735edb"
      },
      "source": [
        "__Ejercicio 8:__ Restar a todos los elementos de la primera serie 5 unidades"
      ]
    },
    {
      "cell_type": "code",
      "execution_count": 29,
      "id": "ea3f423f-1b03-4fcb-a60d-ffcafebcd3df",
      "metadata": {
        "id": "ea3f423f-1b03-4fcb-a60d-ffcafebcd3df",
        "colab": {
          "base_uri": "https://localhost:8080/"
        },
        "outputId": "613d6d42-8dd1-49ca-81a9-c844a255ec08"
      },
      "outputs": [
        {
          "output_type": "execute_result",
          "data": {
            "text/plain": [
              "0    17\n",
              "1     8\n",
              "2     3\n",
              "3    28\n",
              "4    20\n",
              "5    39\n",
              "6    33\n",
              "7    17\n",
              "dtype: int64"
            ]
          },
          "metadata": {},
          "execution_count": 29
        }
      ],
      "source": [
        "serie - 5"
      ]
    },
    {
      "cell_type": "code",
      "execution_count": 30,
      "id": "0eb79ee2-31ef-4889-9eeb-e8a12e7b0e48",
      "metadata": {
        "id": "0eb79ee2-31ef-4889-9eeb-e8a12e7b0e48",
        "colab": {
          "base_uri": "https://localhost:8080/"
        },
        "outputId": "92e34bf1-0869-4403-96a4-1175b035aaec"
      },
      "outputs": [
        {
          "output_type": "execute_result",
          "data": {
            "text/plain": [
              "0    22\n",
              "1    13\n",
              "2     8\n",
              "3    33\n",
              "4    25\n",
              "5    44\n",
              "6    38\n",
              "7    22\n",
              "dtype: int64"
            ]
          },
          "metadata": {},
          "execution_count": 30
        }
      ],
      "source": [
        "serie"
      ]
    },
    {
      "cell_type": "markdown",
      "id": "e5e7c359-c9b9-47f9-b158-01cbdeaed940",
      "metadata": {
        "id": "e5e7c359-c9b9-47f9-b158-01cbdeaed940"
      },
      "source": [
        "__Ejercicio 9:__ calcular el cuadrado de todos los valores en la serie utilizando __map__"
      ]
    },
    {
      "cell_type": "code",
      "execution_count": 31,
      "id": "368366d9-04ac-4b00-926c-b1cb1ea0befb",
      "metadata": {
        "id": "368366d9-04ac-4b00-926c-b1cb1ea0befb",
        "outputId": "4a354fa4-18d6-49d6-edc6-6b3c4eb31b36",
        "colab": {
          "base_uri": "https://localhost:8080/"
        }
      },
      "outputs": [
        {
          "output_type": "execute_result",
          "data": {
            "text/plain": [
              "0     484\n",
              "1     169\n",
              "2      64\n",
              "3    1089\n",
              "4     625\n",
              "5    1936\n",
              "6    1444\n",
              "7     484\n",
              "dtype: int64"
            ]
          },
          "metadata": {},
          "execution_count": 31
        }
      ],
      "source": [
        "def cuadrado(x):\n",
        "  return x*x\n",
        "\n",
        "serie.map(cuadrado)"
      ]
    },
    {
      "cell_type": "markdown",
      "id": "ae1fce41-3370-4be5-8f8f-652b66dcd5a4",
      "metadata": {
        "id": "ae1fce41-3370-4be5-8f8f-652b66dcd5a4"
      },
      "source": [
        "__Ejercicio 10:__ Crear un DataFrame con pandas llamado paises utilizando el siguiente diccionario de datos:"
      ]
    },
    {
      "cell_type": "code",
      "execution_count": 32,
      "id": "aecbdaa5-73f2-4887-a3ce-b65266f8bab7",
      "metadata": {
        "id": "aecbdaa5-73f2-4887-a3ce-b65266f8bab7"
      },
      "outputs": [],
      "source": [
        "datos={  \n",
        "        \"nombre\":[\"Argentina\",\"Brasil\",\"Chile\",\"Colombia\",\"Ecuador\",\"Paraguay\",\"Peru\"],  \n",
        "        \"capital\":[\"Buenos Airea\",\"Brasilia\",\"Santiago de Chile\",\"Bogotá\",\"Quito\",\"Asunción\",\"Lima\"],  \n",
        "        \"poblacion\":[45380000,212600000,19120000,50880000,17640000,7133000,32970000],\n",
        "        \"sup. en km2\":[2780000,8516000,756950,1143000,283560,406752,1285216]\n",
        "        }"
      ]
    },
    {
      "cell_type": "code",
      "execution_count": 33,
      "id": "bafdb9a5-7eee-43ea-8705-e4203c5f774e",
      "metadata": {
        "id": "bafdb9a5-7eee-43ea-8705-e4203c5f774e",
        "colab": {
          "base_uri": "https://localhost:8080/",
          "height": 269
        },
        "outputId": "34bb287b-d2e4-481c-f7bf-819c6d19919f"
      },
      "outputs": [
        {
          "output_type": "execute_result",
          "data": {
            "text/plain": [
              "      nombre            capital  poblacion  sup. en km2\n",
              "0  Argentina       Buenos Airea   45380000      2780000\n",
              "1     Brasil           Brasilia  212600000      8516000\n",
              "2      Chile  Santiago de Chile   19120000       756950\n",
              "3   Colombia             Bogotá   50880000      1143000\n",
              "4    Ecuador              Quito   17640000       283560\n",
              "5   Paraguay           Asunción    7133000       406752\n",
              "6       Peru               Lima   32970000      1285216"
            ],
            "text/html": [
              "\n",
              "  <div id=\"df-3baa8b49-30fc-44cd-8628-b34e2161ad34\">\n",
              "    <div class=\"colab-df-container\">\n",
              "      <div>\n",
              "<style scoped>\n",
              "    .dataframe tbody tr th:only-of-type {\n",
              "        vertical-align: middle;\n",
              "    }\n",
              "\n",
              "    .dataframe tbody tr th {\n",
              "        vertical-align: top;\n",
              "    }\n",
              "\n",
              "    .dataframe thead th {\n",
              "        text-align: right;\n",
              "    }\n",
              "</style>\n",
              "<table border=\"1\" class=\"dataframe\">\n",
              "  <thead>\n",
              "    <tr style=\"text-align: right;\">\n",
              "      <th></th>\n",
              "      <th>nombre</th>\n",
              "      <th>capital</th>\n",
              "      <th>poblacion</th>\n",
              "      <th>sup. en km2</th>\n",
              "    </tr>\n",
              "  </thead>\n",
              "  <tbody>\n",
              "    <tr>\n",
              "      <th>0</th>\n",
              "      <td>Argentina</td>\n",
              "      <td>Buenos Airea</td>\n",
              "      <td>45380000</td>\n",
              "      <td>2780000</td>\n",
              "    </tr>\n",
              "    <tr>\n",
              "      <th>1</th>\n",
              "      <td>Brasil</td>\n",
              "      <td>Brasilia</td>\n",
              "      <td>212600000</td>\n",
              "      <td>8516000</td>\n",
              "    </tr>\n",
              "    <tr>\n",
              "      <th>2</th>\n",
              "      <td>Chile</td>\n",
              "      <td>Santiago de Chile</td>\n",
              "      <td>19120000</td>\n",
              "      <td>756950</td>\n",
              "    </tr>\n",
              "    <tr>\n",
              "      <th>3</th>\n",
              "      <td>Colombia</td>\n",
              "      <td>Bogotá</td>\n",
              "      <td>50880000</td>\n",
              "      <td>1143000</td>\n",
              "    </tr>\n",
              "    <tr>\n",
              "      <th>4</th>\n",
              "      <td>Ecuador</td>\n",
              "      <td>Quito</td>\n",
              "      <td>17640000</td>\n",
              "      <td>283560</td>\n",
              "    </tr>\n",
              "    <tr>\n",
              "      <th>5</th>\n",
              "      <td>Paraguay</td>\n",
              "      <td>Asunción</td>\n",
              "      <td>7133000</td>\n",
              "      <td>406752</td>\n",
              "    </tr>\n",
              "    <tr>\n",
              "      <th>6</th>\n",
              "      <td>Peru</td>\n",
              "      <td>Lima</td>\n",
              "      <td>32970000</td>\n",
              "      <td>1285216</td>\n",
              "    </tr>\n",
              "  </tbody>\n",
              "</table>\n",
              "</div>\n",
              "      <button class=\"colab-df-convert\" onclick=\"convertToInteractive('df-3baa8b49-30fc-44cd-8628-b34e2161ad34')\"\n",
              "              title=\"Convert this dataframe to an interactive table.\"\n",
              "              style=\"display:none;\">\n",
              "        \n",
              "  <svg xmlns=\"http://www.w3.org/2000/svg\" height=\"24px\"viewBox=\"0 0 24 24\"\n",
              "       width=\"24px\">\n",
              "    <path d=\"M0 0h24v24H0V0z\" fill=\"none\"/>\n",
              "    <path d=\"M18.56 5.44l.94 2.06.94-2.06 2.06-.94-2.06-.94-.94-2.06-.94 2.06-2.06.94zm-11 1L8.5 8.5l.94-2.06 2.06-.94-2.06-.94L8.5 2.5l-.94 2.06-2.06.94zm10 10l.94 2.06.94-2.06 2.06-.94-2.06-.94-.94-2.06-.94 2.06-2.06.94z\"/><path d=\"M17.41 7.96l-1.37-1.37c-.4-.4-.92-.59-1.43-.59-.52 0-1.04.2-1.43.59L10.3 9.45l-7.72 7.72c-.78.78-.78 2.05 0 2.83L4 21.41c.39.39.9.59 1.41.59.51 0 1.02-.2 1.41-.59l7.78-7.78 2.81-2.81c.8-.78.8-2.07 0-2.86zM5.41 20L4 18.59l7.72-7.72 1.47 1.35L5.41 20z\"/>\n",
              "  </svg>\n",
              "      </button>\n",
              "      \n",
              "  <style>\n",
              "    .colab-df-container {\n",
              "      display:flex;\n",
              "      flex-wrap:wrap;\n",
              "      gap: 12px;\n",
              "    }\n",
              "\n",
              "    .colab-df-convert {\n",
              "      background-color: #E8F0FE;\n",
              "      border: none;\n",
              "      border-radius: 50%;\n",
              "      cursor: pointer;\n",
              "      display: none;\n",
              "      fill: #1967D2;\n",
              "      height: 32px;\n",
              "      padding: 0 0 0 0;\n",
              "      width: 32px;\n",
              "    }\n",
              "\n",
              "    .colab-df-convert:hover {\n",
              "      background-color: #E2EBFA;\n",
              "      box-shadow: 0px 1px 2px rgba(60, 64, 67, 0.3), 0px 1px 3px 1px rgba(60, 64, 67, 0.15);\n",
              "      fill: #174EA6;\n",
              "    }\n",
              "\n",
              "    [theme=dark] .colab-df-convert {\n",
              "      background-color: #3B4455;\n",
              "      fill: #D2E3FC;\n",
              "    }\n",
              "\n",
              "    [theme=dark] .colab-df-convert:hover {\n",
              "      background-color: #434B5C;\n",
              "      box-shadow: 0px 1px 3px 1px rgba(0, 0, 0, 0.15);\n",
              "      filter: drop-shadow(0px 1px 2px rgba(0, 0, 0, 0.3));\n",
              "      fill: #FFFFFF;\n",
              "    }\n",
              "  </style>\n",
              "\n",
              "      <script>\n",
              "        const buttonEl =\n",
              "          document.querySelector('#df-3baa8b49-30fc-44cd-8628-b34e2161ad34 button.colab-df-convert');\n",
              "        buttonEl.style.display =\n",
              "          google.colab.kernel.accessAllowed ? 'block' : 'none';\n",
              "\n",
              "        async function convertToInteractive(key) {\n",
              "          const element = document.querySelector('#df-3baa8b49-30fc-44cd-8628-b34e2161ad34');\n",
              "          const dataTable =\n",
              "            await google.colab.kernel.invokeFunction('convertToInteractive',\n",
              "                                                     [key], {});\n",
              "          if (!dataTable) return;\n",
              "\n",
              "          const docLinkHtml = 'Like what you see? Visit the ' +\n",
              "            '<a target=\"_blank\" href=https://colab.research.google.com/notebooks/data_table.ipynb>data table notebook</a>'\n",
              "            + ' to learn more about interactive tables.';\n",
              "          element.innerHTML = '';\n",
              "          dataTable['output_type'] = 'display_data';\n",
              "          await google.colab.output.renderOutput(dataTable, element);\n",
              "          const docLink = document.createElement('div');\n",
              "          docLink.innerHTML = docLinkHtml;\n",
              "          element.appendChild(docLink);\n",
              "        }\n",
              "      </script>\n",
              "    </div>\n",
              "  </div>\n",
              "  "
            ]
          },
          "metadata": {},
          "execution_count": 33
        }
      ],
      "source": [
        " paises = pd.DataFrame(datos)\n",
        " paises"
      ]
    },
    {
      "cell_type": "markdown",
      "id": "94a88a4d-23ec-44bd-8395-418db8d32334",
      "metadata": {
        "id": "94a88a4d-23ec-44bd-8395-418db8d32334"
      },
      "source": [
        "__Ejercicio 11:__ Visualizar los primeros 5 y los últimos 3 elementos del DataFrame anterior"
      ]
    },
    {
      "cell_type": "code",
      "source": [
        "paises"
      ],
      "metadata": {
        "colab": {
          "base_uri": "https://localhost:8080/",
          "height": 269
        },
        "id": "8RjIj-l_Vi1o",
        "outputId": "199049e8-eed7-4bd3-f075-6ccff605ce73"
      },
      "id": "8RjIj-l_Vi1o",
      "execution_count": 34,
      "outputs": [
        {
          "output_type": "execute_result",
          "data": {
            "text/plain": [
              "      nombre            capital  poblacion  sup. en km2\n",
              "0  Argentina       Buenos Airea   45380000      2780000\n",
              "1     Brasil           Brasilia  212600000      8516000\n",
              "2      Chile  Santiago de Chile   19120000       756950\n",
              "3   Colombia             Bogotá   50880000      1143000\n",
              "4    Ecuador              Quito   17640000       283560\n",
              "5   Paraguay           Asunción    7133000       406752\n",
              "6       Peru               Lima   32970000      1285216"
            ],
            "text/html": [
              "\n",
              "  <div id=\"df-52051499-c87c-4324-bf2f-258937df17b4\">\n",
              "    <div class=\"colab-df-container\">\n",
              "      <div>\n",
              "<style scoped>\n",
              "    .dataframe tbody tr th:only-of-type {\n",
              "        vertical-align: middle;\n",
              "    }\n",
              "\n",
              "    .dataframe tbody tr th {\n",
              "        vertical-align: top;\n",
              "    }\n",
              "\n",
              "    .dataframe thead th {\n",
              "        text-align: right;\n",
              "    }\n",
              "</style>\n",
              "<table border=\"1\" class=\"dataframe\">\n",
              "  <thead>\n",
              "    <tr style=\"text-align: right;\">\n",
              "      <th></th>\n",
              "      <th>nombre</th>\n",
              "      <th>capital</th>\n",
              "      <th>poblacion</th>\n",
              "      <th>sup. en km2</th>\n",
              "    </tr>\n",
              "  </thead>\n",
              "  <tbody>\n",
              "    <tr>\n",
              "      <th>0</th>\n",
              "      <td>Argentina</td>\n",
              "      <td>Buenos Airea</td>\n",
              "      <td>45380000</td>\n",
              "      <td>2780000</td>\n",
              "    </tr>\n",
              "    <tr>\n",
              "      <th>1</th>\n",
              "      <td>Brasil</td>\n",
              "      <td>Brasilia</td>\n",
              "      <td>212600000</td>\n",
              "      <td>8516000</td>\n",
              "    </tr>\n",
              "    <tr>\n",
              "      <th>2</th>\n",
              "      <td>Chile</td>\n",
              "      <td>Santiago de Chile</td>\n",
              "      <td>19120000</td>\n",
              "      <td>756950</td>\n",
              "    </tr>\n",
              "    <tr>\n",
              "      <th>3</th>\n",
              "      <td>Colombia</td>\n",
              "      <td>Bogotá</td>\n",
              "      <td>50880000</td>\n",
              "      <td>1143000</td>\n",
              "    </tr>\n",
              "    <tr>\n",
              "      <th>4</th>\n",
              "      <td>Ecuador</td>\n",
              "      <td>Quito</td>\n",
              "      <td>17640000</td>\n",
              "      <td>283560</td>\n",
              "    </tr>\n",
              "    <tr>\n",
              "      <th>5</th>\n",
              "      <td>Paraguay</td>\n",
              "      <td>Asunción</td>\n",
              "      <td>7133000</td>\n",
              "      <td>406752</td>\n",
              "    </tr>\n",
              "    <tr>\n",
              "      <th>6</th>\n",
              "      <td>Peru</td>\n",
              "      <td>Lima</td>\n",
              "      <td>32970000</td>\n",
              "      <td>1285216</td>\n",
              "    </tr>\n",
              "  </tbody>\n",
              "</table>\n",
              "</div>\n",
              "      <button class=\"colab-df-convert\" onclick=\"convertToInteractive('df-52051499-c87c-4324-bf2f-258937df17b4')\"\n",
              "              title=\"Convert this dataframe to an interactive table.\"\n",
              "              style=\"display:none;\">\n",
              "        \n",
              "  <svg xmlns=\"http://www.w3.org/2000/svg\" height=\"24px\"viewBox=\"0 0 24 24\"\n",
              "       width=\"24px\">\n",
              "    <path d=\"M0 0h24v24H0V0z\" fill=\"none\"/>\n",
              "    <path d=\"M18.56 5.44l.94 2.06.94-2.06 2.06-.94-2.06-.94-.94-2.06-.94 2.06-2.06.94zm-11 1L8.5 8.5l.94-2.06 2.06-.94-2.06-.94L8.5 2.5l-.94 2.06-2.06.94zm10 10l.94 2.06.94-2.06 2.06-.94-2.06-.94-.94-2.06-.94 2.06-2.06.94z\"/><path d=\"M17.41 7.96l-1.37-1.37c-.4-.4-.92-.59-1.43-.59-.52 0-1.04.2-1.43.59L10.3 9.45l-7.72 7.72c-.78.78-.78 2.05 0 2.83L4 21.41c.39.39.9.59 1.41.59.51 0 1.02-.2 1.41-.59l7.78-7.78 2.81-2.81c.8-.78.8-2.07 0-2.86zM5.41 20L4 18.59l7.72-7.72 1.47 1.35L5.41 20z\"/>\n",
              "  </svg>\n",
              "      </button>\n",
              "      \n",
              "  <style>\n",
              "    .colab-df-container {\n",
              "      display:flex;\n",
              "      flex-wrap:wrap;\n",
              "      gap: 12px;\n",
              "    }\n",
              "\n",
              "    .colab-df-convert {\n",
              "      background-color: #E8F0FE;\n",
              "      border: none;\n",
              "      border-radius: 50%;\n",
              "      cursor: pointer;\n",
              "      display: none;\n",
              "      fill: #1967D2;\n",
              "      height: 32px;\n",
              "      padding: 0 0 0 0;\n",
              "      width: 32px;\n",
              "    }\n",
              "\n",
              "    .colab-df-convert:hover {\n",
              "      background-color: #E2EBFA;\n",
              "      box-shadow: 0px 1px 2px rgba(60, 64, 67, 0.3), 0px 1px 3px 1px rgba(60, 64, 67, 0.15);\n",
              "      fill: #174EA6;\n",
              "    }\n",
              "\n",
              "    [theme=dark] .colab-df-convert {\n",
              "      background-color: #3B4455;\n",
              "      fill: #D2E3FC;\n",
              "    }\n",
              "\n",
              "    [theme=dark] .colab-df-convert:hover {\n",
              "      background-color: #434B5C;\n",
              "      box-shadow: 0px 1px 3px 1px rgba(0, 0, 0, 0.15);\n",
              "      filter: drop-shadow(0px 1px 2px rgba(0, 0, 0, 0.3));\n",
              "      fill: #FFFFFF;\n",
              "    }\n",
              "  </style>\n",
              "\n",
              "      <script>\n",
              "        const buttonEl =\n",
              "          document.querySelector('#df-52051499-c87c-4324-bf2f-258937df17b4 button.colab-df-convert');\n",
              "        buttonEl.style.display =\n",
              "          google.colab.kernel.accessAllowed ? 'block' : 'none';\n",
              "\n",
              "        async function convertToInteractive(key) {\n",
              "          const element = document.querySelector('#df-52051499-c87c-4324-bf2f-258937df17b4');\n",
              "          const dataTable =\n",
              "            await google.colab.kernel.invokeFunction('convertToInteractive',\n",
              "                                                     [key], {});\n",
              "          if (!dataTable) return;\n",
              "\n",
              "          const docLinkHtml = 'Like what you see? Visit the ' +\n",
              "            '<a target=\"_blank\" href=https://colab.research.google.com/notebooks/data_table.ipynb>data table notebook</a>'\n",
              "            + ' to learn more about interactive tables.';\n",
              "          element.innerHTML = '';\n",
              "          dataTable['output_type'] = 'display_data';\n",
              "          await google.colab.output.renderOutput(dataTable, element);\n",
              "          const docLink = document.createElement('div');\n",
              "          docLink.innerHTML = docLinkHtml;\n",
              "          element.appendChild(docLink);\n",
              "        }\n",
              "      </script>\n",
              "    </div>\n",
              "  </div>\n",
              "  "
            ]
          },
          "metadata": {},
          "execution_count": 34
        }
      ]
    },
    {
      "cell_type": "code",
      "execution_count": 35,
      "id": "4bea3858-2247-4f29-9514-92588531d31a",
      "metadata": {
        "id": "4bea3858-2247-4f29-9514-92588531d31a",
        "colab": {
          "base_uri": "https://localhost:8080/",
          "height": 206
        },
        "outputId": "261bef18-eb80-4050-c5cb-4d881dc45843"
      },
      "outputs": [
        {
          "output_type": "execute_result",
          "data": {
            "text/plain": [
              "      nombre            capital  poblacion  sup. en km2\n",
              "0  Argentina       Buenos Airea   45380000      2780000\n",
              "1     Brasil           Brasilia  212600000      8516000\n",
              "2      Chile  Santiago de Chile   19120000       756950\n",
              "3   Colombia             Bogotá   50880000      1143000\n",
              "4    Ecuador              Quito   17640000       283560"
            ],
            "text/html": [
              "\n",
              "  <div id=\"df-ce363d44-a0b1-4a3a-ad01-eb50dfebcab9\">\n",
              "    <div class=\"colab-df-container\">\n",
              "      <div>\n",
              "<style scoped>\n",
              "    .dataframe tbody tr th:only-of-type {\n",
              "        vertical-align: middle;\n",
              "    }\n",
              "\n",
              "    .dataframe tbody tr th {\n",
              "        vertical-align: top;\n",
              "    }\n",
              "\n",
              "    .dataframe thead th {\n",
              "        text-align: right;\n",
              "    }\n",
              "</style>\n",
              "<table border=\"1\" class=\"dataframe\">\n",
              "  <thead>\n",
              "    <tr style=\"text-align: right;\">\n",
              "      <th></th>\n",
              "      <th>nombre</th>\n",
              "      <th>capital</th>\n",
              "      <th>poblacion</th>\n",
              "      <th>sup. en km2</th>\n",
              "    </tr>\n",
              "  </thead>\n",
              "  <tbody>\n",
              "    <tr>\n",
              "      <th>0</th>\n",
              "      <td>Argentina</td>\n",
              "      <td>Buenos Airea</td>\n",
              "      <td>45380000</td>\n",
              "      <td>2780000</td>\n",
              "    </tr>\n",
              "    <tr>\n",
              "      <th>1</th>\n",
              "      <td>Brasil</td>\n",
              "      <td>Brasilia</td>\n",
              "      <td>212600000</td>\n",
              "      <td>8516000</td>\n",
              "    </tr>\n",
              "    <tr>\n",
              "      <th>2</th>\n",
              "      <td>Chile</td>\n",
              "      <td>Santiago de Chile</td>\n",
              "      <td>19120000</td>\n",
              "      <td>756950</td>\n",
              "    </tr>\n",
              "    <tr>\n",
              "      <th>3</th>\n",
              "      <td>Colombia</td>\n",
              "      <td>Bogotá</td>\n",
              "      <td>50880000</td>\n",
              "      <td>1143000</td>\n",
              "    </tr>\n",
              "    <tr>\n",
              "      <th>4</th>\n",
              "      <td>Ecuador</td>\n",
              "      <td>Quito</td>\n",
              "      <td>17640000</td>\n",
              "      <td>283560</td>\n",
              "    </tr>\n",
              "  </tbody>\n",
              "</table>\n",
              "</div>\n",
              "      <button class=\"colab-df-convert\" onclick=\"convertToInteractive('df-ce363d44-a0b1-4a3a-ad01-eb50dfebcab9')\"\n",
              "              title=\"Convert this dataframe to an interactive table.\"\n",
              "              style=\"display:none;\">\n",
              "        \n",
              "  <svg xmlns=\"http://www.w3.org/2000/svg\" height=\"24px\"viewBox=\"0 0 24 24\"\n",
              "       width=\"24px\">\n",
              "    <path d=\"M0 0h24v24H0V0z\" fill=\"none\"/>\n",
              "    <path d=\"M18.56 5.44l.94 2.06.94-2.06 2.06-.94-2.06-.94-.94-2.06-.94 2.06-2.06.94zm-11 1L8.5 8.5l.94-2.06 2.06-.94-2.06-.94L8.5 2.5l-.94 2.06-2.06.94zm10 10l.94 2.06.94-2.06 2.06-.94-2.06-.94-.94-2.06-.94 2.06-2.06.94z\"/><path d=\"M17.41 7.96l-1.37-1.37c-.4-.4-.92-.59-1.43-.59-.52 0-1.04.2-1.43.59L10.3 9.45l-7.72 7.72c-.78.78-.78 2.05 0 2.83L4 21.41c.39.39.9.59 1.41.59.51 0 1.02-.2 1.41-.59l7.78-7.78 2.81-2.81c.8-.78.8-2.07 0-2.86zM5.41 20L4 18.59l7.72-7.72 1.47 1.35L5.41 20z\"/>\n",
              "  </svg>\n",
              "      </button>\n",
              "      \n",
              "  <style>\n",
              "    .colab-df-container {\n",
              "      display:flex;\n",
              "      flex-wrap:wrap;\n",
              "      gap: 12px;\n",
              "    }\n",
              "\n",
              "    .colab-df-convert {\n",
              "      background-color: #E8F0FE;\n",
              "      border: none;\n",
              "      border-radius: 50%;\n",
              "      cursor: pointer;\n",
              "      display: none;\n",
              "      fill: #1967D2;\n",
              "      height: 32px;\n",
              "      padding: 0 0 0 0;\n",
              "      width: 32px;\n",
              "    }\n",
              "\n",
              "    .colab-df-convert:hover {\n",
              "      background-color: #E2EBFA;\n",
              "      box-shadow: 0px 1px 2px rgba(60, 64, 67, 0.3), 0px 1px 3px 1px rgba(60, 64, 67, 0.15);\n",
              "      fill: #174EA6;\n",
              "    }\n",
              "\n",
              "    [theme=dark] .colab-df-convert {\n",
              "      background-color: #3B4455;\n",
              "      fill: #D2E3FC;\n",
              "    }\n",
              "\n",
              "    [theme=dark] .colab-df-convert:hover {\n",
              "      background-color: #434B5C;\n",
              "      box-shadow: 0px 1px 3px 1px rgba(0, 0, 0, 0.15);\n",
              "      filter: drop-shadow(0px 1px 2px rgba(0, 0, 0, 0.3));\n",
              "      fill: #FFFFFF;\n",
              "    }\n",
              "  </style>\n",
              "\n",
              "      <script>\n",
              "        const buttonEl =\n",
              "          document.querySelector('#df-ce363d44-a0b1-4a3a-ad01-eb50dfebcab9 button.colab-df-convert');\n",
              "        buttonEl.style.display =\n",
              "          google.colab.kernel.accessAllowed ? 'block' : 'none';\n",
              "\n",
              "        async function convertToInteractive(key) {\n",
              "          const element = document.querySelector('#df-ce363d44-a0b1-4a3a-ad01-eb50dfebcab9');\n",
              "          const dataTable =\n",
              "            await google.colab.kernel.invokeFunction('convertToInteractive',\n",
              "                                                     [key], {});\n",
              "          if (!dataTable) return;\n",
              "\n",
              "          const docLinkHtml = 'Like what you see? Visit the ' +\n",
              "            '<a target=\"_blank\" href=https://colab.research.google.com/notebooks/data_table.ipynb>data table notebook</a>'\n",
              "            + ' to learn more about interactive tables.';\n",
              "          element.innerHTML = '';\n",
              "          dataTable['output_type'] = 'display_data';\n",
              "          await google.colab.output.renderOutput(dataTable, element);\n",
              "          const docLink = document.createElement('div');\n",
              "          docLink.innerHTML = docLinkHtml;\n",
              "          element.appendChild(docLink);\n",
              "        }\n",
              "      </script>\n",
              "    </div>\n",
              "  </div>\n",
              "  "
            ]
          },
          "metadata": {},
          "execution_count": 35
        }
      ],
      "source": [
        "paises.head()"
      ]
    },
    {
      "cell_type": "code",
      "execution_count": 36,
      "id": "57caa923-4212-4d3f-9c82-40c6a6e6459c",
      "metadata": {
        "id": "57caa923-4212-4d3f-9c82-40c6a6e6459c",
        "colab": {
          "base_uri": "https://localhost:8080/",
          "height": 143
        },
        "outputId": "6ca901c0-3222-42f1-8c03-8acbee44abba"
      },
      "outputs": [
        {
          "output_type": "execute_result",
          "data": {
            "text/plain": [
              "     nombre   capital  poblacion  sup. en km2\n",
              "4   Ecuador     Quito   17640000       283560\n",
              "5  Paraguay  Asunción    7133000       406752\n",
              "6      Peru      Lima   32970000      1285216"
            ],
            "text/html": [
              "\n",
              "  <div id=\"df-0d5b0bbe-8fde-444d-b616-2c02f9c5f8d6\">\n",
              "    <div class=\"colab-df-container\">\n",
              "      <div>\n",
              "<style scoped>\n",
              "    .dataframe tbody tr th:only-of-type {\n",
              "        vertical-align: middle;\n",
              "    }\n",
              "\n",
              "    .dataframe tbody tr th {\n",
              "        vertical-align: top;\n",
              "    }\n",
              "\n",
              "    .dataframe thead th {\n",
              "        text-align: right;\n",
              "    }\n",
              "</style>\n",
              "<table border=\"1\" class=\"dataframe\">\n",
              "  <thead>\n",
              "    <tr style=\"text-align: right;\">\n",
              "      <th></th>\n",
              "      <th>nombre</th>\n",
              "      <th>capital</th>\n",
              "      <th>poblacion</th>\n",
              "      <th>sup. en km2</th>\n",
              "    </tr>\n",
              "  </thead>\n",
              "  <tbody>\n",
              "    <tr>\n",
              "      <th>4</th>\n",
              "      <td>Ecuador</td>\n",
              "      <td>Quito</td>\n",
              "      <td>17640000</td>\n",
              "      <td>283560</td>\n",
              "    </tr>\n",
              "    <tr>\n",
              "      <th>5</th>\n",
              "      <td>Paraguay</td>\n",
              "      <td>Asunción</td>\n",
              "      <td>7133000</td>\n",
              "      <td>406752</td>\n",
              "    </tr>\n",
              "    <tr>\n",
              "      <th>6</th>\n",
              "      <td>Peru</td>\n",
              "      <td>Lima</td>\n",
              "      <td>32970000</td>\n",
              "      <td>1285216</td>\n",
              "    </tr>\n",
              "  </tbody>\n",
              "</table>\n",
              "</div>\n",
              "      <button class=\"colab-df-convert\" onclick=\"convertToInteractive('df-0d5b0bbe-8fde-444d-b616-2c02f9c5f8d6')\"\n",
              "              title=\"Convert this dataframe to an interactive table.\"\n",
              "              style=\"display:none;\">\n",
              "        \n",
              "  <svg xmlns=\"http://www.w3.org/2000/svg\" height=\"24px\"viewBox=\"0 0 24 24\"\n",
              "       width=\"24px\">\n",
              "    <path d=\"M0 0h24v24H0V0z\" fill=\"none\"/>\n",
              "    <path d=\"M18.56 5.44l.94 2.06.94-2.06 2.06-.94-2.06-.94-.94-2.06-.94 2.06-2.06.94zm-11 1L8.5 8.5l.94-2.06 2.06-.94-2.06-.94L8.5 2.5l-.94 2.06-2.06.94zm10 10l.94 2.06.94-2.06 2.06-.94-2.06-.94-.94-2.06-.94 2.06-2.06.94z\"/><path d=\"M17.41 7.96l-1.37-1.37c-.4-.4-.92-.59-1.43-.59-.52 0-1.04.2-1.43.59L10.3 9.45l-7.72 7.72c-.78.78-.78 2.05 0 2.83L4 21.41c.39.39.9.59 1.41.59.51 0 1.02-.2 1.41-.59l7.78-7.78 2.81-2.81c.8-.78.8-2.07 0-2.86zM5.41 20L4 18.59l7.72-7.72 1.47 1.35L5.41 20z\"/>\n",
              "  </svg>\n",
              "      </button>\n",
              "      \n",
              "  <style>\n",
              "    .colab-df-container {\n",
              "      display:flex;\n",
              "      flex-wrap:wrap;\n",
              "      gap: 12px;\n",
              "    }\n",
              "\n",
              "    .colab-df-convert {\n",
              "      background-color: #E8F0FE;\n",
              "      border: none;\n",
              "      border-radius: 50%;\n",
              "      cursor: pointer;\n",
              "      display: none;\n",
              "      fill: #1967D2;\n",
              "      height: 32px;\n",
              "      padding: 0 0 0 0;\n",
              "      width: 32px;\n",
              "    }\n",
              "\n",
              "    .colab-df-convert:hover {\n",
              "      background-color: #E2EBFA;\n",
              "      box-shadow: 0px 1px 2px rgba(60, 64, 67, 0.3), 0px 1px 3px 1px rgba(60, 64, 67, 0.15);\n",
              "      fill: #174EA6;\n",
              "    }\n",
              "\n",
              "    [theme=dark] .colab-df-convert {\n",
              "      background-color: #3B4455;\n",
              "      fill: #D2E3FC;\n",
              "    }\n",
              "\n",
              "    [theme=dark] .colab-df-convert:hover {\n",
              "      background-color: #434B5C;\n",
              "      box-shadow: 0px 1px 3px 1px rgba(0, 0, 0, 0.15);\n",
              "      filter: drop-shadow(0px 1px 2px rgba(0, 0, 0, 0.3));\n",
              "      fill: #FFFFFF;\n",
              "    }\n",
              "  </style>\n",
              "\n",
              "      <script>\n",
              "        const buttonEl =\n",
              "          document.querySelector('#df-0d5b0bbe-8fde-444d-b616-2c02f9c5f8d6 button.colab-df-convert');\n",
              "        buttonEl.style.display =\n",
              "          google.colab.kernel.accessAllowed ? 'block' : 'none';\n",
              "\n",
              "        async function convertToInteractive(key) {\n",
              "          const element = document.querySelector('#df-0d5b0bbe-8fde-444d-b616-2c02f9c5f8d6');\n",
              "          const dataTable =\n",
              "            await google.colab.kernel.invokeFunction('convertToInteractive',\n",
              "                                                     [key], {});\n",
              "          if (!dataTable) return;\n",
              "\n",
              "          const docLinkHtml = 'Like what you see? Visit the ' +\n",
              "            '<a target=\"_blank\" href=https://colab.research.google.com/notebooks/data_table.ipynb>data table notebook</a>'\n",
              "            + ' to learn more about interactive tables.';\n",
              "          element.innerHTML = '';\n",
              "          dataTable['output_type'] = 'display_data';\n",
              "          await google.colab.output.renderOutput(dataTable, element);\n",
              "          const docLink = document.createElement('div');\n",
              "          docLink.innerHTML = docLinkHtml;\n",
              "          element.appendChild(docLink);\n",
              "        }\n",
              "      </script>\n",
              "    </div>\n",
              "  </div>\n",
              "  "
            ]
          },
          "metadata": {},
          "execution_count": 36
        }
      ],
      "source": [
        "paises.tail(3)"
      ]
    },
    {
      "cell_type": "markdown",
      "source": [
        "Podemos mostrar los 5 primeros lugares del DF usando Python:"
      ],
      "metadata": {
        "id": "TBVT0hBgV6zI"
      },
      "id": "TBVT0hBgV6zI"
    },
    {
      "cell_type": "code",
      "execution_count": 37,
      "id": "9e92fdc1-0b0e-417e-9adc-e142844c7dda",
      "metadata": {
        "id": "9e92fdc1-0b0e-417e-9adc-e142844c7dda",
        "colab": {
          "base_uri": "https://localhost:8080/",
          "height": 206
        },
        "outputId": "cb8ed449-ea09-412f-955d-92bf623b48ff"
      },
      "outputs": [
        {
          "output_type": "execute_result",
          "data": {
            "text/plain": [
              "      nombre            capital  poblacion  sup. en km2\n",
              "0  Argentina       Buenos Airea   45380000      2780000\n",
              "1     Brasil           Brasilia  212600000      8516000\n",
              "2      Chile  Santiago de Chile   19120000       756950\n",
              "3   Colombia             Bogotá   50880000      1143000\n",
              "4    Ecuador              Quito   17640000       283560"
            ],
            "text/html": [
              "\n",
              "  <div id=\"df-cf44819f-e47e-4fb1-98b6-09542088576a\">\n",
              "    <div class=\"colab-df-container\">\n",
              "      <div>\n",
              "<style scoped>\n",
              "    .dataframe tbody tr th:only-of-type {\n",
              "        vertical-align: middle;\n",
              "    }\n",
              "\n",
              "    .dataframe tbody tr th {\n",
              "        vertical-align: top;\n",
              "    }\n",
              "\n",
              "    .dataframe thead th {\n",
              "        text-align: right;\n",
              "    }\n",
              "</style>\n",
              "<table border=\"1\" class=\"dataframe\">\n",
              "  <thead>\n",
              "    <tr style=\"text-align: right;\">\n",
              "      <th></th>\n",
              "      <th>nombre</th>\n",
              "      <th>capital</th>\n",
              "      <th>poblacion</th>\n",
              "      <th>sup. en km2</th>\n",
              "    </tr>\n",
              "  </thead>\n",
              "  <tbody>\n",
              "    <tr>\n",
              "      <th>0</th>\n",
              "      <td>Argentina</td>\n",
              "      <td>Buenos Airea</td>\n",
              "      <td>45380000</td>\n",
              "      <td>2780000</td>\n",
              "    </tr>\n",
              "    <tr>\n",
              "      <th>1</th>\n",
              "      <td>Brasil</td>\n",
              "      <td>Brasilia</td>\n",
              "      <td>212600000</td>\n",
              "      <td>8516000</td>\n",
              "    </tr>\n",
              "    <tr>\n",
              "      <th>2</th>\n",
              "      <td>Chile</td>\n",
              "      <td>Santiago de Chile</td>\n",
              "      <td>19120000</td>\n",
              "      <td>756950</td>\n",
              "    </tr>\n",
              "    <tr>\n",
              "      <th>3</th>\n",
              "      <td>Colombia</td>\n",
              "      <td>Bogotá</td>\n",
              "      <td>50880000</td>\n",
              "      <td>1143000</td>\n",
              "    </tr>\n",
              "    <tr>\n",
              "      <th>4</th>\n",
              "      <td>Ecuador</td>\n",
              "      <td>Quito</td>\n",
              "      <td>17640000</td>\n",
              "      <td>283560</td>\n",
              "    </tr>\n",
              "  </tbody>\n",
              "</table>\n",
              "</div>\n",
              "      <button class=\"colab-df-convert\" onclick=\"convertToInteractive('df-cf44819f-e47e-4fb1-98b6-09542088576a')\"\n",
              "              title=\"Convert this dataframe to an interactive table.\"\n",
              "              style=\"display:none;\">\n",
              "        \n",
              "  <svg xmlns=\"http://www.w3.org/2000/svg\" height=\"24px\"viewBox=\"0 0 24 24\"\n",
              "       width=\"24px\">\n",
              "    <path d=\"M0 0h24v24H0V0z\" fill=\"none\"/>\n",
              "    <path d=\"M18.56 5.44l.94 2.06.94-2.06 2.06-.94-2.06-.94-.94-2.06-.94 2.06-2.06.94zm-11 1L8.5 8.5l.94-2.06 2.06-.94-2.06-.94L8.5 2.5l-.94 2.06-2.06.94zm10 10l.94 2.06.94-2.06 2.06-.94-2.06-.94-.94-2.06-.94 2.06-2.06.94z\"/><path d=\"M17.41 7.96l-1.37-1.37c-.4-.4-.92-.59-1.43-.59-.52 0-1.04.2-1.43.59L10.3 9.45l-7.72 7.72c-.78.78-.78 2.05 0 2.83L4 21.41c.39.39.9.59 1.41.59.51 0 1.02-.2 1.41-.59l7.78-7.78 2.81-2.81c.8-.78.8-2.07 0-2.86zM5.41 20L4 18.59l7.72-7.72 1.47 1.35L5.41 20z\"/>\n",
              "  </svg>\n",
              "      </button>\n",
              "      \n",
              "  <style>\n",
              "    .colab-df-container {\n",
              "      display:flex;\n",
              "      flex-wrap:wrap;\n",
              "      gap: 12px;\n",
              "    }\n",
              "\n",
              "    .colab-df-convert {\n",
              "      background-color: #E8F0FE;\n",
              "      border: none;\n",
              "      border-radius: 50%;\n",
              "      cursor: pointer;\n",
              "      display: none;\n",
              "      fill: #1967D2;\n",
              "      height: 32px;\n",
              "      padding: 0 0 0 0;\n",
              "      width: 32px;\n",
              "    }\n",
              "\n",
              "    .colab-df-convert:hover {\n",
              "      background-color: #E2EBFA;\n",
              "      box-shadow: 0px 1px 2px rgba(60, 64, 67, 0.3), 0px 1px 3px 1px rgba(60, 64, 67, 0.15);\n",
              "      fill: #174EA6;\n",
              "    }\n",
              "\n",
              "    [theme=dark] .colab-df-convert {\n",
              "      background-color: #3B4455;\n",
              "      fill: #D2E3FC;\n",
              "    }\n",
              "\n",
              "    [theme=dark] .colab-df-convert:hover {\n",
              "      background-color: #434B5C;\n",
              "      box-shadow: 0px 1px 3px 1px rgba(0, 0, 0, 0.15);\n",
              "      filter: drop-shadow(0px 1px 2px rgba(0, 0, 0, 0.3));\n",
              "      fill: #FFFFFF;\n",
              "    }\n",
              "  </style>\n",
              "\n",
              "      <script>\n",
              "        const buttonEl =\n",
              "          document.querySelector('#df-cf44819f-e47e-4fb1-98b6-09542088576a button.colab-df-convert');\n",
              "        buttonEl.style.display =\n",
              "          google.colab.kernel.accessAllowed ? 'block' : 'none';\n",
              "\n",
              "        async function convertToInteractive(key) {\n",
              "          const element = document.querySelector('#df-cf44819f-e47e-4fb1-98b6-09542088576a');\n",
              "          const dataTable =\n",
              "            await google.colab.kernel.invokeFunction('convertToInteractive',\n",
              "                                                     [key], {});\n",
              "          if (!dataTable) return;\n",
              "\n",
              "          const docLinkHtml = 'Like what you see? Visit the ' +\n",
              "            '<a target=\"_blank\" href=https://colab.research.google.com/notebooks/data_table.ipynb>data table notebook</a>'\n",
              "            + ' to learn more about interactive tables.';\n",
              "          element.innerHTML = '';\n",
              "          dataTable['output_type'] = 'display_data';\n",
              "          await google.colab.output.renderOutput(dataTable, element);\n",
              "          const docLink = document.createElement('div');\n",
              "          docLink.innerHTML = docLinkHtml;\n",
              "          element.appendChild(docLink);\n",
              "        }\n",
              "      </script>\n",
              "    </div>\n",
              "  </div>\n",
              "  "
            ]
          },
          "metadata": {},
          "execution_count": 37
        }
      ],
      "source": [
        "paises[:5]"
      ]
    },
    {
      "cell_type": "markdown",
      "id": "2dc94e46-206b-469b-9b30-4d68bf28ce95",
      "metadata": {
        "id": "2dc94e46-206b-469b-9b30-4d68bf28ce95"
      },
      "source": [
        "__Ejercicio 12:__ Crear un Dataframe utilizando el diccionario de datos anterior únicamente con las columnas nombre y población"
      ]
    },
    {
      "cell_type": "code",
      "execution_count": 38,
      "id": "7ec9978e-cf4d-48e1-a26a-d2749f32bb5d",
      "metadata": {
        "id": "7ec9978e-cf4d-48e1-a26a-d2749f32bb5d"
      },
      "outputs": [],
      "source": [
        "paises2 = pd.DataFrame(datos, columns = [\"nombre\", \"poblacion\"])\n"
      ]
    },
    {
      "cell_type": "code",
      "execution_count": 39,
      "id": "fbdb1061-d5c1-4051-acdb-57b3286e5e21",
      "metadata": {
        "id": "fbdb1061-d5c1-4051-acdb-57b3286e5e21",
        "colab": {
          "base_uri": "https://localhost:8080/",
          "height": 269
        },
        "outputId": "768737c5-723e-4908-8236-e6d1c88e9c57"
      },
      "outputs": [
        {
          "output_type": "execute_result",
          "data": {
            "text/plain": [
              "      nombre  poblacion\n",
              "0  Argentina   45380000\n",
              "1     Brasil  212600000\n",
              "2      Chile   19120000\n",
              "3   Colombia   50880000\n",
              "4    Ecuador   17640000\n",
              "5   Paraguay    7133000\n",
              "6       Peru   32970000"
            ],
            "text/html": [
              "\n",
              "  <div id=\"df-573c737e-b736-4fd0-bb26-9930457ac13b\">\n",
              "    <div class=\"colab-df-container\">\n",
              "      <div>\n",
              "<style scoped>\n",
              "    .dataframe tbody tr th:only-of-type {\n",
              "        vertical-align: middle;\n",
              "    }\n",
              "\n",
              "    .dataframe tbody tr th {\n",
              "        vertical-align: top;\n",
              "    }\n",
              "\n",
              "    .dataframe thead th {\n",
              "        text-align: right;\n",
              "    }\n",
              "</style>\n",
              "<table border=\"1\" class=\"dataframe\">\n",
              "  <thead>\n",
              "    <tr style=\"text-align: right;\">\n",
              "      <th></th>\n",
              "      <th>nombre</th>\n",
              "      <th>poblacion</th>\n",
              "    </tr>\n",
              "  </thead>\n",
              "  <tbody>\n",
              "    <tr>\n",
              "      <th>0</th>\n",
              "      <td>Argentina</td>\n",
              "      <td>45380000</td>\n",
              "    </tr>\n",
              "    <tr>\n",
              "      <th>1</th>\n",
              "      <td>Brasil</td>\n",
              "      <td>212600000</td>\n",
              "    </tr>\n",
              "    <tr>\n",
              "      <th>2</th>\n",
              "      <td>Chile</td>\n",
              "      <td>19120000</td>\n",
              "    </tr>\n",
              "    <tr>\n",
              "      <th>3</th>\n",
              "      <td>Colombia</td>\n",
              "      <td>50880000</td>\n",
              "    </tr>\n",
              "    <tr>\n",
              "      <th>4</th>\n",
              "      <td>Ecuador</td>\n",
              "      <td>17640000</td>\n",
              "    </tr>\n",
              "    <tr>\n",
              "      <th>5</th>\n",
              "      <td>Paraguay</td>\n",
              "      <td>7133000</td>\n",
              "    </tr>\n",
              "    <tr>\n",
              "      <th>6</th>\n",
              "      <td>Peru</td>\n",
              "      <td>32970000</td>\n",
              "    </tr>\n",
              "  </tbody>\n",
              "</table>\n",
              "</div>\n",
              "      <button class=\"colab-df-convert\" onclick=\"convertToInteractive('df-573c737e-b736-4fd0-bb26-9930457ac13b')\"\n",
              "              title=\"Convert this dataframe to an interactive table.\"\n",
              "              style=\"display:none;\">\n",
              "        \n",
              "  <svg xmlns=\"http://www.w3.org/2000/svg\" height=\"24px\"viewBox=\"0 0 24 24\"\n",
              "       width=\"24px\">\n",
              "    <path d=\"M0 0h24v24H0V0z\" fill=\"none\"/>\n",
              "    <path d=\"M18.56 5.44l.94 2.06.94-2.06 2.06-.94-2.06-.94-.94-2.06-.94 2.06-2.06.94zm-11 1L8.5 8.5l.94-2.06 2.06-.94-2.06-.94L8.5 2.5l-.94 2.06-2.06.94zm10 10l.94 2.06.94-2.06 2.06-.94-2.06-.94-.94-2.06-.94 2.06-2.06.94z\"/><path d=\"M17.41 7.96l-1.37-1.37c-.4-.4-.92-.59-1.43-.59-.52 0-1.04.2-1.43.59L10.3 9.45l-7.72 7.72c-.78.78-.78 2.05 0 2.83L4 21.41c.39.39.9.59 1.41.59.51 0 1.02-.2 1.41-.59l7.78-7.78 2.81-2.81c.8-.78.8-2.07 0-2.86zM5.41 20L4 18.59l7.72-7.72 1.47 1.35L5.41 20z\"/>\n",
              "  </svg>\n",
              "      </button>\n",
              "      \n",
              "  <style>\n",
              "    .colab-df-container {\n",
              "      display:flex;\n",
              "      flex-wrap:wrap;\n",
              "      gap: 12px;\n",
              "    }\n",
              "\n",
              "    .colab-df-convert {\n",
              "      background-color: #E8F0FE;\n",
              "      border: none;\n",
              "      border-radius: 50%;\n",
              "      cursor: pointer;\n",
              "      display: none;\n",
              "      fill: #1967D2;\n",
              "      height: 32px;\n",
              "      padding: 0 0 0 0;\n",
              "      width: 32px;\n",
              "    }\n",
              "\n",
              "    .colab-df-convert:hover {\n",
              "      background-color: #E2EBFA;\n",
              "      box-shadow: 0px 1px 2px rgba(60, 64, 67, 0.3), 0px 1px 3px 1px rgba(60, 64, 67, 0.15);\n",
              "      fill: #174EA6;\n",
              "    }\n",
              "\n",
              "    [theme=dark] .colab-df-convert {\n",
              "      background-color: #3B4455;\n",
              "      fill: #D2E3FC;\n",
              "    }\n",
              "\n",
              "    [theme=dark] .colab-df-convert:hover {\n",
              "      background-color: #434B5C;\n",
              "      box-shadow: 0px 1px 3px 1px rgba(0, 0, 0, 0.15);\n",
              "      filter: drop-shadow(0px 1px 2px rgba(0, 0, 0, 0.3));\n",
              "      fill: #FFFFFF;\n",
              "    }\n",
              "  </style>\n",
              "\n",
              "      <script>\n",
              "        const buttonEl =\n",
              "          document.querySelector('#df-573c737e-b736-4fd0-bb26-9930457ac13b button.colab-df-convert');\n",
              "        buttonEl.style.display =\n",
              "          google.colab.kernel.accessAllowed ? 'block' : 'none';\n",
              "\n",
              "        async function convertToInteractive(key) {\n",
              "          const element = document.querySelector('#df-573c737e-b736-4fd0-bb26-9930457ac13b');\n",
              "          const dataTable =\n",
              "            await google.colab.kernel.invokeFunction('convertToInteractive',\n",
              "                                                     [key], {});\n",
              "          if (!dataTable) return;\n",
              "\n",
              "          const docLinkHtml = 'Like what you see? Visit the ' +\n",
              "            '<a target=\"_blank\" href=https://colab.research.google.com/notebooks/data_table.ipynb>data table notebook</a>'\n",
              "            + ' to learn more about interactive tables.';\n",
              "          element.innerHTML = '';\n",
              "          dataTable['output_type'] = 'display_data';\n",
              "          await google.colab.output.renderOutput(dataTable, element);\n",
              "          const docLink = document.createElement('div');\n",
              "          docLink.innerHTML = docLinkHtml;\n",
              "          element.appendChild(docLink);\n",
              "        }\n",
              "      </script>\n",
              "    </div>\n",
              "  </div>\n",
              "  "
            ]
          },
          "metadata": {},
          "execution_count": 39
        }
      ],
      "source": [
        "paises2"
      ]
    },
    {
      "cell_type": "markdown",
      "id": "6a75aea9-288d-4ddc-92ce-d94123d84bfb",
      "metadata": {
        "id": "6a75aea9-288d-4ddc-92ce-d94123d84bfb"
      },
      "source": [
        "__Ejercicio 13:__ Crear un DataFrame utilizando el diccionario de datos, con la columna \"nombre\" como índice:"
      ]
    },
    {
      "cell_type": "code",
      "execution_count": 40,
      "id": "cdb5740a-6ba0-4a09-aeff-0227b4cf097c",
      "metadata": {
        "id": "cdb5740a-6ba0-4a09-aeff-0227b4cf097c"
      },
      "outputs": [],
      "source": [
        "paises3 = pd.DataFrame(datos, index=datos[\"nombre\"], columns=[\"capital\", \"poblacion\", \"sup. en km2\"])"
      ]
    },
    {
      "cell_type": "code",
      "execution_count": 41,
      "id": "7b579bed-8dc1-466e-9e0f-1dee803ad05a",
      "metadata": {
        "id": "7b579bed-8dc1-466e-9e0f-1dee803ad05a",
        "colab": {
          "base_uri": "https://localhost:8080/",
          "height": 269
        },
        "outputId": "78438678-0149-4884-fd37-bf72087428a2"
      },
      "outputs": [
        {
          "output_type": "execute_result",
          "data": {
            "text/plain": [
              "                     capital  poblacion  sup. en km2\n",
              "Argentina       Buenos Airea   45380000      2780000\n",
              "Brasil              Brasilia  212600000      8516000\n",
              "Chile      Santiago de Chile   19120000       756950\n",
              "Colombia              Bogotá   50880000      1143000\n",
              "Ecuador                Quito   17640000       283560\n",
              "Paraguay            Asunción    7133000       406752\n",
              "Peru                    Lima   32970000      1285216"
            ],
            "text/html": [
              "\n",
              "  <div id=\"df-f69085a0-4d77-4145-a96d-08fae5839a84\">\n",
              "    <div class=\"colab-df-container\">\n",
              "      <div>\n",
              "<style scoped>\n",
              "    .dataframe tbody tr th:only-of-type {\n",
              "        vertical-align: middle;\n",
              "    }\n",
              "\n",
              "    .dataframe tbody tr th {\n",
              "        vertical-align: top;\n",
              "    }\n",
              "\n",
              "    .dataframe thead th {\n",
              "        text-align: right;\n",
              "    }\n",
              "</style>\n",
              "<table border=\"1\" class=\"dataframe\">\n",
              "  <thead>\n",
              "    <tr style=\"text-align: right;\">\n",
              "      <th></th>\n",
              "      <th>capital</th>\n",
              "      <th>poblacion</th>\n",
              "      <th>sup. en km2</th>\n",
              "    </tr>\n",
              "  </thead>\n",
              "  <tbody>\n",
              "    <tr>\n",
              "      <th>Argentina</th>\n",
              "      <td>Buenos Airea</td>\n",
              "      <td>45380000</td>\n",
              "      <td>2780000</td>\n",
              "    </tr>\n",
              "    <tr>\n",
              "      <th>Brasil</th>\n",
              "      <td>Brasilia</td>\n",
              "      <td>212600000</td>\n",
              "      <td>8516000</td>\n",
              "    </tr>\n",
              "    <tr>\n",
              "      <th>Chile</th>\n",
              "      <td>Santiago de Chile</td>\n",
              "      <td>19120000</td>\n",
              "      <td>756950</td>\n",
              "    </tr>\n",
              "    <tr>\n",
              "      <th>Colombia</th>\n",
              "      <td>Bogotá</td>\n",
              "      <td>50880000</td>\n",
              "      <td>1143000</td>\n",
              "    </tr>\n",
              "    <tr>\n",
              "      <th>Ecuador</th>\n",
              "      <td>Quito</td>\n",
              "      <td>17640000</td>\n",
              "      <td>283560</td>\n",
              "    </tr>\n",
              "    <tr>\n",
              "      <th>Paraguay</th>\n",
              "      <td>Asunción</td>\n",
              "      <td>7133000</td>\n",
              "      <td>406752</td>\n",
              "    </tr>\n",
              "    <tr>\n",
              "      <th>Peru</th>\n",
              "      <td>Lima</td>\n",
              "      <td>32970000</td>\n",
              "      <td>1285216</td>\n",
              "    </tr>\n",
              "  </tbody>\n",
              "</table>\n",
              "</div>\n",
              "      <button class=\"colab-df-convert\" onclick=\"convertToInteractive('df-f69085a0-4d77-4145-a96d-08fae5839a84')\"\n",
              "              title=\"Convert this dataframe to an interactive table.\"\n",
              "              style=\"display:none;\">\n",
              "        \n",
              "  <svg xmlns=\"http://www.w3.org/2000/svg\" height=\"24px\"viewBox=\"0 0 24 24\"\n",
              "       width=\"24px\">\n",
              "    <path d=\"M0 0h24v24H0V0z\" fill=\"none\"/>\n",
              "    <path d=\"M18.56 5.44l.94 2.06.94-2.06 2.06-.94-2.06-.94-.94-2.06-.94 2.06-2.06.94zm-11 1L8.5 8.5l.94-2.06 2.06-.94-2.06-.94L8.5 2.5l-.94 2.06-2.06.94zm10 10l.94 2.06.94-2.06 2.06-.94-2.06-.94-.94-2.06-.94 2.06-2.06.94z\"/><path d=\"M17.41 7.96l-1.37-1.37c-.4-.4-.92-.59-1.43-.59-.52 0-1.04.2-1.43.59L10.3 9.45l-7.72 7.72c-.78.78-.78 2.05 0 2.83L4 21.41c.39.39.9.59 1.41.59.51 0 1.02-.2 1.41-.59l7.78-7.78 2.81-2.81c.8-.78.8-2.07 0-2.86zM5.41 20L4 18.59l7.72-7.72 1.47 1.35L5.41 20z\"/>\n",
              "  </svg>\n",
              "      </button>\n",
              "      \n",
              "  <style>\n",
              "    .colab-df-container {\n",
              "      display:flex;\n",
              "      flex-wrap:wrap;\n",
              "      gap: 12px;\n",
              "    }\n",
              "\n",
              "    .colab-df-convert {\n",
              "      background-color: #E8F0FE;\n",
              "      border: none;\n",
              "      border-radius: 50%;\n",
              "      cursor: pointer;\n",
              "      display: none;\n",
              "      fill: #1967D2;\n",
              "      height: 32px;\n",
              "      padding: 0 0 0 0;\n",
              "      width: 32px;\n",
              "    }\n",
              "\n",
              "    .colab-df-convert:hover {\n",
              "      background-color: #E2EBFA;\n",
              "      box-shadow: 0px 1px 2px rgba(60, 64, 67, 0.3), 0px 1px 3px 1px rgba(60, 64, 67, 0.15);\n",
              "      fill: #174EA6;\n",
              "    }\n",
              "\n",
              "    [theme=dark] .colab-df-convert {\n",
              "      background-color: #3B4455;\n",
              "      fill: #D2E3FC;\n",
              "    }\n",
              "\n",
              "    [theme=dark] .colab-df-convert:hover {\n",
              "      background-color: #434B5C;\n",
              "      box-shadow: 0px 1px 3px 1px rgba(0, 0, 0, 0.15);\n",
              "      filter: drop-shadow(0px 1px 2px rgba(0, 0, 0, 0.3));\n",
              "      fill: #FFFFFF;\n",
              "    }\n",
              "  </style>\n",
              "\n",
              "      <script>\n",
              "        const buttonEl =\n",
              "          document.querySelector('#df-f69085a0-4d77-4145-a96d-08fae5839a84 button.colab-df-convert');\n",
              "        buttonEl.style.display =\n",
              "          google.colab.kernel.accessAllowed ? 'block' : 'none';\n",
              "\n",
              "        async function convertToInteractive(key) {\n",
              "          const element = document.querySelector('#df-f69085a0-4d77-4145-a96d-08fae5839a84');\n",
              "          const dataTable =\n",
              "            await google.colab.kernel.invokeFunction('convertToInteractive',\n",
              "                                                     [key], {});\n",
              "          if (!dataTable) return;\n",
              "\n",
              "          const docLinkHtml = 'Like what you see? Visit the ' +\n",
              "            '<a target=\"_blank\" href=https://colab.research.google.com/notebooks/data_table.ipynb>data table notebook</a>'\n",
              "            + ' to learn more about interactive tables.';\n",
              "          element.innerHTML = '';\n",
              "          dataTable['output_type'] = 'display_data';\n",
              "          await google.colab.output.renderOutput(dataTable, element);\n",
              "          const docLink = document.createElement('div');\n",
              "          docLink.innerHTML = docLinkHtml;\n",
              "          element.appendChild(docLink);\n",
              "        }\n",
              "      </script>\n",
              "    </div>\n",
              "  </div>\n",
              "  "
            ]
          },
          "metadata": {},
          "execution_count": 41
        }
      ],
      "source": [
        "paises3"
      ]
    },
    {
      "cell_type": "markdown",
      "id": "a94e8e57-5efb-453b-aeb6-5b0dc3ddfabd",
      "metadata": {
        "id": "a94e8e57-5efb-453b-aeb6-5b0dc3ddfabd"
      },
      "source": [
        "__Ejercicio 14:__ Obtener los datos de la fila con el indice \"Argentina\""
      ]
    },
    {
      "cell_type": "code",
      "execution_count": 42,
      "id": "ecd20f37-11fb-4180-8345-bc27de5442dd",
      "metadata": {
        "id": "ecd20f37-11fb-4180-8345-bc27de5442dd",
        "colab": {
          "base_uri": "https://localhost:8080/"
        },
        "outputId": "91cda3b5-c2c6-4c1f-8546-9ce62e6555d2"
      },
      "outputs": [
        {
          "output_type": "execute_result",
          "data": {
            "text/plain": [
              "capital        Buenos Airea\n",
              "poblacion          45380000\n",
              "sup. en km2         2780000\n",
              "Name: Argentina, dtype: object"
            ]
          },
          "metadata": {},
          "execution_count": 42
        }
      ],
      "source": [
        "paises3.loc[\"Argentina\"]"
      ]
    },
    {
      "cell_type": "markdown",
      "id": "194d0cda-0265-49c9-bc08-c9f3f295fe42",
      "metadata": {
        "id": "194d0cda-0265-49c9-bc08-c9f3f295fe42"
      },
      "source": [
        "__Ejercicio 15:__ Obtener la población y capital de Argentina y Brasil utilizando la función loc"
      ]
    },
    {
      "cell_type": "code",
      "execution_count": 43,
      "id": "e4c09750-ce0c-4fc6-9b93-4096f09f9b52",
      "metadata": {
        "id": "e4c09750-ce0c-4fc6-9b93-4096f09f9b52",
        "colab": {
          "base_uri": "https://localhost:8080/",
          "height": 112
        },
        "outputId": "67cfbc10-6685-4c67-9d26-3d7ee0dc6029"
      },
      "outputs": [
        {
          "output_type": "execute_result",
          "data": {
            "text/plain": [
              "           poblacion\n",
              "Argentina   45380000\n",
              "Brasil     212600000"
            ],
            "text/html": [
              "\n",
              "  <div id=\"df-19eb93f1-e43b-4020-a1fd-aa89623bc0a1\">\n",
              "    <div class=\"colab-df-container\">\n",
              "      <div>\n",
              "<style scoped>\n",
              "    .dataframe tbody tr th:only-of-type {\n",
              "        vertical-align: middle;\n",
              "    }\n",
              "\n",
              "    .dataframe tbody tr th {\n",
              "        vertical-align: top;\n",
              "    }\n",
              "\n",
              "    .dataframe thead th {\n",
              "        text-align: right;\n",
              "    }\n",
              "</style>\n",
              "<table border=\"1\" class=\"dataframe\">\n",
              "  <thead>\n",
              "    <tr style=\"text-align: right;\">\n",
              "      <th></th>\n",
              "      <th>poblacion</th>\n",
              "    </tr>\n",
              "  </thead>\n",
              "  <tbody>\n",
              "    <tr>\n",
              "      <th>Argentina</th>\n",
              "      <td>45380000</td>\n",
              "    </tr>\n",
              "    <tr>\n",
              "      <th>Brasil</th>\n",
              "      <td>212600000</td>\n",
              "    </tr>\n",
              "  </tbody>\n",
              "</table>\n",
              "</div>\n",
              "      <button class=\"colab-df-convert\" onclick=\"convertToInteractive('df-19eb93f1-e43b-4020-a1fd-aa89623bc0a1')\"\n",
              "              title=\"Convert this dataframe to an interactive table.\"\n",
              "              style=\"display:none;\">\n",
              "        \n",
              "  <svg xmlns=\"http://www.w3.org/2000/svg\" height=\"24px\"viewBox=\"0 0 24 24\"\n",
              "       width=\"24px\">\n",
              "    <path d=\"M0 0h24v24H0V0z\" fill=\"none\"/>\n",
              "    <path d=\"M18.56 5.44l.94 2.06.94-2.06 2.06-.94-2.06-.94-.94-2.06-.94 2.06-2.06.94zm-11 1L8.5 8.5l.94-2.06 2.06-.94-2.06-.94L8.5 2.5l-.94 2.06-2.06.94zm10 10l.94 2.06.94-2.06 2.06-.94-2.06-.94-.94-2.06-.94 2.06-2.06.94z\"/><path d=\"M17.41 7.96l-1.37-1.37c-.4-.4-.92-.59-1.43-.59-.52 0-1.04.2-1.43.59L10.3 9.45l-7.72 7.72c-.78.78-.78 2.05 0 2.83L4 21.41c.39.39.9.59 1.41.59.51 0 1.02-.2 1.41-.59l7.78-7.78 2.81-2.81c.8-.78.8-2.07 0-2.86zM5.41 20L4 18.59l7.72-7.72 1.47 1.35L5.41 20z\"/>\n",
              "  </svg>\n",
              "      </button>\n",
              "      \n",
              "  <style>\n",
              "    .colab-df-container {\n",
              "      display:flex;\n",
              "      flex-wrap:wrap;\n",
              "      gap: 12px;\n",
              "    }\n",
              "\n",
              "    .colab-df-convert {\n",
              "      background-color: #E8F0FE;\n",
              "      border: none;\n",
              "      border-radius: 50%;\n",
              "      cursor: pointer;\n",
              "      display: none;\n",
              "      fill: #1967D2;\n",
              "      height: 32px;\n",
              "      padding: 0 0 0 0;\n",
              "      width: 32px;\n",
              "    }\n",
              "\n",
              "    .colab-df-convert:hover {\n",
              "      background-color: #E2EBFA;\n",
              "      box-shadow: 0px 1px 2px rgba(60, 64, 67, 0.3), 0px 1px 3px 1px rgba(60, 64, 67, 0.15);\n",
              "      fill: #174EA6;\n",
              "    }\n",
              "\n",
              "    [theme=dark] .colab-df-convert {\n",
              "      background-color: #3B4455;\n",
              "      fill: #D2E3FC;\n",
              "    }\n",
              "\n",
              "    [theme=dark] .colab-df-convert:hover {\n",
              "      background-color: #434B5C;\n",
              "      box-shadow: 0px 1px 3px 1px rgba(0, 0, 0, 0.15);\n",
              "      filter: drop-shadow(0px 1px 2px rgba(0, 0, 0, 0.3));\n",
              "      fill: #FFFFFF;\n",
              "    }\n",
              "  </style>\n",
              "\n",
              "      <script>\n",
              "        const buttonEl =\n",
              "          document.querySelector('#df-19eb93f1-e43b-4020-a1fd-aa89623bc0a1 button.colab-df-convert');\n",
              "        buttonEl.style.display =\n",
              "          google.colab.kernel.accessAllowed ? 'block' : 'none';\n",
              "\n",
              "        async function convertToInteractive(key) {\n",
              "          const element = document.querySelector('#df-19eb93f1-e43b-4020-a1fd-aa89623bc0a1');\n",
              "          const dataTable =\n",
              "            await google.colab.kernel.invokeFunction('convertToInteractive',\n",
              "                                                     [key], {});\n",
              "          if (!dataTable) return;\n",
              "\n",
              "          const docLinkHtml = 'Like what you see? Visit the ' +\n",
              "            '<a target=\"_blank\" href=https://colab.research.google.com/notebooks/data_table.ipynb>data table notebook</a>'\n",
              "            + ' to learn more about interactive tables.';\n",
              "          element.innerHTML = '';\n",
              "          dataTable['output_type'] = 'display_data';\n",
              "          await google.colab.output.renderOutput(dataTable, element);\n",
              "          const docLink = document.createElement('div');\n",
              "          docLink.innerHTML = docLinkHtml;\n",
              "          element.appendChild(docLink);\n",
              "        }\n",
              "      </script>\n",
              "    </div>\n",
              "  </div>\n",
              "  "
            ]
          },
          "metadata": {},
          "execution_count": 43
        }
      ],
      "source": [
        "paises3.loc[[\"Argentina\", \"Brasil\"], [\"poblacion\"]]"
      ]
    },
    {
      "cell_type": "markdown",
      "id": "d8e74773-012f-4c49-8837-00b6c9b43ec8",
      "metadata": {
        "id": "d8e74773-012f-4c49-8837-00b6c9b43ec8"
      },
      "source": [
        "__Ejercicio 16:__ Obtener la información de los paises con una superficie mayor a 1,000,000 de kilometros cuadrados utilizando loc"
      ]
    },
    {
      "cell_type": "markdown",
      "source": [
        "Para mostrar solo 1 columna, lo podemos hacer de las siguientes formas:"
      ],
      "metadata": {
        "id": "U5ZLVsT5j3Y_"
      },
      "id": "U5ZLVsT5j3Y_"
    },
    {
      "cell_type": "code",
      "source": [
        "paises3.loc[ : , [\"sup. en km2\"]]"
      ],
      "metadata": {
        "colab": {
          "base_uri": "https://localhost:8080/",
          "height": 269
        },
        "id": "CJWYIWsXi7Zm",
        "outputId": "c223e01f-6917-47ca-ad43-27798b57d76c"
      },
      "id": "CJWYIWsXi7Zm",
      "execution_count": 44,
      "outputs": [
        {
          "output_type": "execute_result",
          "data": {
            "text/plain": [
              "           sup. en km2\n",
              "Argentina      2780000\n",
              "Brasil         8516000\n",
              "Chile           756950\n",
              "Colombia       1143000\n",
              "Ecuador         283560\n",
              "Paraguay        406752\n",
              "Peru           1285216"
            ],
            "text/html": [
              "\n",
              "  <div id=\"df-d8559e98-dd81-4e19-a916-2c841504810e\">\n",
              "    <div class=\"colab-df-container\">\n",
              "      <div>\n",
              "<style scoped>\n",
              "    .dataframe tbody tr th:only-of-type {\n",
              "        vertical-align: middle;\n",
              "    }\n",
              "\n",
              "    .dataframe tbody tr th {\n",
              "        vertical-align: top;\n",
              "    }\n",
              "\n",
              "    .dataframe thead th {\n",
              "        text-align: right;\n",
              "    }\n",
              "</style>\n",
              "<table border=\"1\" class=\"dataframe\">\n",
              "  <thead>\n",
              "    <tr style=\"text-align: right;\">\n",
              "      <th></th>\n",
              "      <th>sup. en km2</th>\n",
              "    </tr>\n",
              "  </thead>\n",
              "  <tbody>\n",
              "    <tr>\n",
              "      <th>Argentina</th>\n",
              "      <td>2780000</td>\n",
              "    </tr>\n",
              "    <tr>\n",
              "      <th>Brasil</th>\n",
              "      <td>8516000</td>\n",
              "    </tr>\n",
              "    <tr>\n",
              "      <th>Chile</th>\n",
              "      <td>756950</td>\n",
              "    </tr>\n",
              "    <tr>\n",
              "      <th>Colombia</th>\n",
              "      <td>1143000</td>\n",
              "    </tr>\n",
              "    <tr>\n",
              "      <th>Ecuador</th>\n",
              "      <td>283560</td>\n",
              "    </tr>\n",
              "    <tr>\n",
              "      <th>Paraguay</th>\n",
              "      <td>406752</td>\n",
              "    </tr>\n",
              "    <tr>\n",
              "      <th>Peru</th>\n",
              "      <td>1285216</td>\n",
              "    </tr>\n",
              "  </tbody>\n",
              "</table>\n",
              "</div>\n",
              "      <button class=\"colab-df-convert\" onclick=\"convertToInteractive('df-d8559e98-dd81-4e19-a916-2c841504810e')\"\n",
              "              title=\"Convert this dataframe to an interactive table.\"\n",
              "              style=\"display:none;\">\n",
              "        \n",
              "  <svg xmlns=\"http://www.w3.org/2000/svg\" height=\"24px\"viewBox=\"0 0 24 24\"\n",
              "       width=\"24px\">\n",
              "    <path d=\"M0 0h24v24H0V0z\" fill=\"none\"/>\n",
              "    <path d=\"M18.56 5.44l.94 2.06.94-2.06 2.06-.94-2.06-.94-.94-2.06-.94 2.06-2.06.94zm-11 1L8.5 8.5l.94-2.06 2.06-.94-2.06-.94L8.5 2.5l-.94 2.06-2.06.94zm10 10l.94 2.06.94-2.06 2.06-.94-2.06-.94-.94-2.06-.94 2.06-2.06.94z\"/><path d=\"M17.41 7.96l-1.37-1.37c-.4-.4-.92-.59-1.43-.59-.52 0-1.04.2-1.43.59L10.3 9.45l-7.72 7.72c-.78.78-.78 2.05 0 2.83L4 21.41c.39.39.9.59 1.41.59.51 0 1.02-.2 1.41-.59l7.78-7.78 2.81-2.81c.8-.78.8-2.07 0-2.86zM5.41 20L4 18.59l7.72-7.72 1.47 1.35L5.41 20z\"/>\n",
              "  </svg>\n",
              "      </button>\n",
              "      \n",
              "  <style>\n",
              "    .colab-df-container {\n",
              "      display:flex;\n",
              "      flex-wrap:wrap;\n",
              "      gap: 12px;\n",
              "    }\n",
              "\n",
              "    .colab-df-convert {\n",
              "      background-color: #E8F0FE;\n",
              "      border: none;\n",
              "      border-radius: 50%;\n",
              "      cursor: pointer;\n",
              "      display: none;\n",
              "      fill: #1967D2;\n",
              "      height: 32px;\n",
              "      padding: 0 0 0 0;\n",
              "      width: 32px;\n",
              "    }\n",
              "\n",
              "    .colab-df-convert:hover {\n",
              "      background-color: #E2EBFA;\n",
              "      box-shadow: 0px 1px 2px rgba(60, 64, 67, 0.3), 0px 1px 3px 1px rgba(60, 64, 67, 0.15);\n",
              "      fill: #174EA6;\n",
              "    }\n",
              "\n",
              "    [theme=dark] .colab-df-convert {\n",
              "      background-color: #3B4455;\n",
              "      fill: #D2E3FC;\n",
              "    }\n",
              "\n",
              "    [theme=dark] .colab-df-convert:hover {\n",
              "      background-color: #434B5C;\n",
              "      box-shadow: 0px 1px 3px 1px rgba(0, 0, 0, 0.15);\n",
              "      filter: drop-shadow(0px 1px 2px rgba(0, 0, 0, 0.3));\n",
              "      fill: #FFFFFF;\n",
              "    }\n",
              "  </style>\n",
              "\n",
              "      <script>\n",
              "        const buttonEl =\n",
              "          document.querySelector('#df-d8559e98-dd81-4e19-a916-2c841504810e button.colab-df-convert');\n",
              "        buttonEl.style.display =\n",
              "          google.colab.kernel.accessAllowed ? 'block' : 'none';\n",
              "\n",
              "        async function convertToInteractive(key) {\n",
              "          const element = document.querySelector('#df-d8559e98-dd81-4e19-a916-2c841504810e');\n",
              "          const dataTable =\n",
              "            await google.colab.kernel.invokeFunction('convertToInteractive',\n",
              "                                                     [key], {});\n",
              "          if (!dataTable) return;\n",
              "\n",
              "          const docLinkHtml = 'Like what you see? Visit the ' +\n",
              "            '<a target=\"_blank\" href=https://colab.research.google.com/notebooks/data_table.ipynb>data table notebook</a>'\n",
              "            + ' to learn more about interactive tables.';\n",
              "          element.innerHTML = '';\n",
              "          dataTable['output_type'] = 'display_data';\n",
              "          await google.colab.output.renderOutput(dataTable, element);\n",
              "          const docLink = document.createElement('div');\n",
              "          docLink.innerHTML = docLinkHtml;\n",
              "          element.appendChild(docLink);\n",
              "        }\n",
              "      </script>\n",
              "    </div>\n",
              "  </div>\n",
              "  "
            ]
          },
          "metadata": {},
          "execution_count": 44
        }
      ]
    },
    {
      "cell_type": "code",
      "source": [
        "paises3.capital"
      ],
      "metadata": {
        "colab": {
          "base_uri": "https://localhost:8080/"
        },
        "id": "U3nevF0JilXY",
        "outputId": "b4d6ca19-ec5c-4604-ae39-17a246dce201"
      },
      "id": "U3nevF0JilXY",
      "execution_count": 45,
      "outputs": [
        {
          "output_type": "execute_result",
          "data": {
            "text/plain": [
              "Argentina         Buenos Airea\n",
              "Brasil                Brasilia\n",
              "Chile        Santiago de Chile\n",
              "Colombia                Bogotá\n",
              "Ecuador                  Quito\n",
              "Paraguay              Asunción\n",
              "Peru                      Lima\n",
              "Name: capital, dtype: object"
            ]
          },
          "metadata": {},
          "execution_count": 45
        }
      ]
    },
    {
      "cell_type": "code",
      "source": [
        "paises3.poblacion"
      ],
      "metadata": {
        "colab": {
          "base_uri": "https://localhost:8080/"
        },
        "id": "c7fVAZnWixh7",
        "outputId": "57386290-80df-4f84-efc8-e0fdb021949f"
      },
      "id": "c7fVAZnWixh7",
      "execution_count": 46,
      "outputs": [
        {
          "output_type": "execute_result",
          "data": {
            "text/plain": [
              "Argentina     45380000\n",
              "Brasil       212600000\n",
              "Chile         19120000\n",
              "Colombia      50880000\n",
              "Ecuador       17640000\n",
              "Paraguay       7133000\n",
              "Peru          32970000\n",
              "Name: poblacion, dtype: int64"
            ]
          },
          "metadata": {},
          "execution_count": 46
        }
      ]
    },
    {
      "cell_type": "code",
      "source": [
        "paises3[\"sup. en km2\"]"
      ],
      "metadata": {
        "colab": {
          "base_uri": "https://localhost:8080/"
        },
        "id": "cwFcj_dSi2EA",
        "outputId": "48930d1f-fb7d-48dd-dc96-72e43d5be7cf"
      },
      "id": "cwFcj_dSi2EA",
      "execution_count": 47,
      "outputs": [
        {
          "output_type": "execute_result",
          "data": {
            "text/plain": [
              "Argentina    2780000\n",
              "Brasil       8516000\n",
              "Chile         756950\n",
              "Colombia     1143000\n",
              "Ecuador       283560\n",
              "Paraguay      406752\n",
              "Peru         1285216\n",
              "Name: sup. en km2, dtype: int64"
            ]
          },
          "metadata": {},
          "execution_count": 47
        }
      ]
    },
    {
      "cell_type": "code",
      "execution_count": 48,
      "id": "e9746a6c-5a92-4db3-af38-609bbf24bea6",
      "metadata": {
        "id": "e9746a6c-5a92-4db3-af38-609bbf24bea6",
        "colab": {
          "base_uri": "https://localhost:8080/",
          "height": 174
        },
        "outputId": "29c214dc-9439-40c2-899e-4b1f200e1aa8"
      },
      "outputs": [
        {
          "output_type": "execute_result",
          "data": {
            "text/plain": [
              "                capital  poblacion  sup. en km2\n",
              "Argentina  Buenos Airea   45380000      2780000\n",
              "Brasil         Brasilia  212600000      8516000\n",
              "Colombia         Bogotá   50880000      1143000\n",
              "Peru               Lima   32970000      1285216"
            ],
            "text/html": [
              "\n",
              "  <div id=\"df-4599c21e-5119-4e3a-9a10-152a0747602e\">\n",
              "    <div class=\"colab-df-container\">\n",
              "      <div>\n",
              "<style scoped>\n",
              "    .dataframe tbody tr th:only-of-type {\n",
              "        vertical-align: middle;\n",
              "    }\n",
              "\n",
              "    .dataframe tbody tr th {\n",
              "        vertical-align: top;\n",
              "    }\n",
              "\n",
              "    .dataframe thead th {\n",
              "        text-align: right;\n",
              "    }\n",
              "</style>\n",
              "<table border=\"1\" class=\"dataframe\">\n",
              "  <thead>\n",
              "    <tr style=\"text-align: right;\">\n",
              "      <th></th>\n",
              "      <th>capital</th>\n",
              "      <th>poblacion</th>\n",
              "      <th>sup. en km2</th>\n",
              "    </tr>\n",
              "  </thead>\n",
              "  <tbody>\n",
              "    <tr>\n",
              "      <th>Argentina</th>\n",
              "      <td>Buenos Airea</td>\n",
              "      <td>45380000</td>\n",
              "      <td>2780000</td>\n",
              "    </tr>\n",
              "    <tr>\n",
              "      <th>Brasil</th>\n",
              "      <td>Brasilia</td>\n",
              "      <td>212600000</td>\n",
              "      <td>8516000</td>\n",
              "    </tr>\n",
              "    <tr>\n",
              "      <th>Colombia</th>\n",
              "      <td>Bogotá</td>\n",
              "      <td>50880000</td>\n",
              "      <td>1143000</td>\n",
              "    </tr>\n",
              "    <tr>\n",
              "      <th>Peru</th>\n",
              "      <td>Lima</td>\n",
              "      <td>32970000</td>\n",
              "      <td>1285216</td>\n",
              "    </tr>\n",
              "  </tbody>\n",
              "</table>\n",
              "</div>\n",
              "      <button class=\"colab-df-convert\" onclick=\"convertToInteractive('df-4599c21e-5119-4e3a-9a10-152a0747602e')\"\n",
              "              title=\"Convert this dataframe to an interactive table.\"\n",
              "              style=\"display:none;\">\n",
              "        \n",
              "  <svg xmlns=\"http://www.w3.org/2000/svg\" height=\"24px\"viewBox=\"0 0 24 24\"\n",
              "       width=\"24px\">\n",
              "    <path d=\"M0 0h24v24H0V0z\" fill=\"none\"/>\n",
              "    <path d=\"M18.56 5.44l.94 2.06.94-2.06 2.06-.94-2.06-.94-.94-2.06-.94 2.06-2.06.94zm-11 1L8.5 8.5l.94-2.06 2.06-.94-2.06-.94L8.5 2.5l-.94 2.06-2.06.94zm10 10l.94 2.06.94-2.06 2.06-.94-2.06-.94-.94-2.06-.94 2.06-2.06.94z\"/><path d=\"M17.41 7.96l-1.37-1.37c-.4-.4-.92-.59-1.43-.59-.52 0-1.04.2-1.43.59L10.3 9.45l-7.72 7.72c-.78.78-.78 2.05 0 2.83L4 21.41c.39.39.9.59 1.41.59.51 0 1.02-.2 1.41-.59l7.78-7.78 2.81-2.81c.8-.78.8-2.07 0-2.86zM5.41 20L4 18.59l7.72-7.72 1.47 1.35L5.41 20z\"/>\n",
              "  </svg>\n",
              "      </button>\n",
              "      \n",
              "  <style>\n",
              "    .colab-df-container {\n",
              "      display:flex;\n",
              "      flex-wrap:wrap;\n",
              "      gap: 12px;\n",
              "    }\n",
              "\n",
              "    .colab-df-convert {\n",
              "      background-color: #E8F0FE;\n",
              "      border: none;\n",
              "      border-radius: 50%;\n",
              "      cursor: pointer;\n",
              "      display: none;\n",
              "      fill: #1967D2;\n",
              "      height: 32px;\n",
              "      padding: 0 0 0 0;\n",
              "      width: 32px;\n",
              "    }\n",
              "\n",
              "    .colab-df-convert:hover {\n",
              "      background-color: #E2EBFA;\n",
              "      box-shadow: 0px 1px 2px rgba(60, 64, 67, 0.3), 0px 1px 3px 1px rgba(60, 64, 67, 0.15);\n",
              "      fill: #174EA6;\n",
              "    }\n",
              "\n",
              "    [theme=dark] .colab-df-convert {\n",
              "      background-color: #3B4455;\n",
              "      fill: #D2E3FC;\n",
              "    }\n",
              "\n",
              "    [theme=dark] .colab-df-convert:hover {\n",
              "      background-color: #434B5C;\n",
              "      box-shadow: 0px 1px 3px 1px rgba(0, 0, 0, 0.15);\n",
              "      filter: drop-shadow(0px 1px 2px rgba(0, 0, 0, 0.3));\n",
              "      fill: #FFFFFF;\n",
              "    }\n",
              "  </style>\n",
              "\n",
              "      <script>\n",
              "        const buttonEl =\n",
              "          document.querySelector('#df-4599c21e-5119-4e3a-9a10-152a0747602e button.colab-df-convert');\n",
              "        buttonEl.style.display =\n",
              "          google.colab.kernel.accessAllowed ? 'block' : 'none';\n",
              "\n",
              "        async function convertToInteractive(key) {\n",
              "          const element = document.querySelector('#df-4599c21e-5119-4e3a-9a10-152a0747602e');\n",
              "          const dataTable =\n",
              "            await google.colab.kernel.invokeFunction('convertToInteractive',\n",
              "                                                     [key], {});\n",
              "          if (!dataTable) return;\n",
              "\n",
              "          const docLinkHtml = 'Like what you see? Visit the ' +\n",
              "            '<a target=\"_blank\" href=https://colab.research.google.com/notebooks/data_table.ipynb>data table notebook</a>'\n",
              "            + ' to learn more about interactive tables.';\n",
              "          element.innerHTML = '';\n",
              "          dataTable['output_type'] = 'display_data';\n",
              "          await google.colab.output.renderOutput(dataTable, element);\n",
              "          const docLink = document.createElement('div');\n",
              "          docLink.innerHTML = docLinkHtml;\n",
              "          element.appendChild(docLink);\n",
              "        }\n",
              "      </script>\n",
              "    </div>\n",
              "  </div>\n",
              "  "
            ]
          },
          "metadata": {},
          "execution_count": 48
        }
      ],
      "source": [
        "paises3.loc[paises3[\"sup. en km2\"]> 1000000]"
      ]
    },
    {
      "cell_type": "markdown",
      "id": "f42d3b15-da5b-45dc-821c-14474cddd1d7",
      "metadata": {
        "id": "f42d3b15-da5b-45dc-821c-14474cddd1d7"
      },
      "source": [
        "__Ejercicio 17:__ Cambiar el nombre de la capital Argentina a \"Buenos Aires\" utilizando la función loc"
      ]
    },
    {
      "cell_type": "code",
      "execution_count": 49,
      "id": "8c1e6277-9578-4fae-863e-9e54f312b106",
      "metadata": {
        "id": "8c1e6277-9578-4fae-863e-9e54f312b106",
        "colab": {
          "base_uri": "https://localhost:8080/",
          "height": 269
        },
        "outputId": "4ee4edc2-c630-40df-f09e-70469987f78b"
      },
      "outputs": [
        {
          "output_type": "execute_result",
          "data": {
            "text/plain": [
              "                     capital  poblacion  sup. en km2\n",
              "Argentina       Buenos Airea   45380000      2780000\n",
              "Brasil              Brasilia  212600000      8516000\n",
              "Chile      Santiago de Chile   19120000       756950\n",
              "Colombia              Bogotá   50880000      1143000\n",
              "Ecuador                Quito   17640000       283560\n",
              "Paraguay            Asunción    7133000       406752\n",
              "Peru                    Lima   32970000      1285216"
            ],
            "text/html": [
              "\n",
              "  <div id=\"df-4ae13f5f-7320-4eb1-a3bb-24687d9c8607\">\n",
              "    <div class=\"colab-df-container\">\n",
              "      <div>\n",
              "<style scoped>\n",
              "    .dataframe tbody tr th:only-of-type {\n",
              "        vertical-align: middle;\n",
              "    }\n",
              "\n",
              "    .dataframe tbody tr th {\n",
              "        vertical-align: top;\n",
              "    }\n",
              "\n",
              "    .dataframe thead th {\n",
              "        text-align: right;\n",
              "    }\n",
              "</style>\n",
              "<table border=\"1\" class=\"dataframe\">\n",
              "  <thead>\n",
              "    <tr style=\"text-align: right;\">\n",
              "      <th></th>\n",
              "      <th>capital</th>\n",
              "      <th>poblacion</th>\n",
              "      <th>sup. en km2</th>\n",
              "    </tr>\n",
              "  </thead>\n",
              "  <tbody>\n",
              "    <tr>\n",
              "      <th>Argentina</th>\n",
              "      <td>Buenos Airea</td>\n",
              "      <td>45380000</td>\n",
              "      <td>2780000</td>\n",
              "    </tr>\n",
              "    <tr>\n",
              "      <th>Brasil</th>\n",
              "      <td>Brasilia</td>\n",
              "      <td>212600000</td>\n",
              "      <td>8516000</td>\n",
              "    </tr>\n",
              "    <tr>\n",
              "      <th>Chile</th>\n",
              "      <td>Santiago de Chile</td>\n",
              "      <td>19120000</td>\n",
              "      <td>756950</td>\n",
              "    </tr>\n",
              "    <tr>\n",
              "      <th>Colombia</th>\n",
              "      <td>Bogotá</td>\n",
              "      <td>50880000</td>\n",
              "      <td>1143000</td>\n",
              "    </tr>\n",
              "    <tr>\n",
              "      <th>Ecuador</th>\n",
              "      <td>Quito</td>\n",
              "      <td>17640000</td>\n",
              "      <td>283560</td>\n",
              "    </tr>\n",
              "    <tr>\n",
              "      <th>Paraguay</th>\n",
              "      <td>Asunción</td>\n",
              "      <td>7133000</td>\n",
              "      <td>406752</td>\n",
              "    </tr>\n",
              "    <tr>\n",
              "      <th>Peru</th>\n",
              "      <td>Lima</td>\n",
              "      <td>32970000</td>\n",
              "      <td>1285216</td>\n",
              "    </tr>\n",
              "  </tbody>\n",
              "</table>\n",
              "</div>\n",
              "      <button class=\"colab-df-convert\" onclick=\"convertToInteractive('df-4ae13f5f-7320-4eb1-a3bb-24687d9c8607')\"\n",
              "              title=\"Convert this dataframe to an interactive table.\"\n",
              "              style=\"display:none;\">\n",
              "        \n",
              "  <svg xmlns=\"http://www.w3.org/2000/svg\" height=\"24px\"viewBox=\"0 0 24 24\"\n",
              "       width=\"24px\">\n",
              "    <path d=\"M0 0h24v24H0V0z\" fill=\"none\"/>\n",
              "    <path d=\"M18.56 5.44l.94 2.06.94-2.06 2.06-.94-2.06-.94-.94-2.06-.94 2.06-2.06.94zm-11 1L8.5 8.5l.94-2.06 2.06-.94-2.06-.94L8.5 2.5l-.94 2.06-2.06.94zm10 10l.94 2.06.94-2.06 2.06-.94-2.06-.94-.94-2.06-.94 2.06-2.06.94z\"/><path d=\"M17.41 7.96l-1.37-1.37c-.4-.4-.92-.59-1.43-.59-.52 0-1.04.2-1.43.59L10.3 9.45l-7.72 7.72c-.78.78-.78 2.05 0 2.83L4 21.41c.39.39.9.59 1.41.59.51 0 1.02-.2 1.41-.59l7.78-7.78 2.81-2.81c.8-.78.8-2.07 0-2.86zM5.41 20L4 18.59l7.72-7.72 1.47 1.35L5.41 20z\"/>\n",
              "  </svg>\n",
              "      </button>\n",
              "      \n",
              "  <style>\n",
              "    .colab-df-container {\n",
              "      display:flex;\n",
              "      flex-wrap:wrap;\n",
              "      gap: 12px;\n",
              "    }\n",
              "\n",
              "    .colab-df-convert {\n",
              "      background-color: #E8F0FE;\n",
              "      border: none;\n",
              "      border-radius: 50%;\n",
              "      cursor: pointer;\n",
              "      display: none;\n",
              "      fill: #1967D2;\n",
              "      height: 32px;\n",
              "      padding: 0 0 0 0;\n",
              "      width: 32px;\n",
              "    }\n",
              "\n",
              "    .colab-df-convert:hover {\n",
              "      background-color: #E2EBFA;\n",
              "      box-shadow: 0px 1px 2px rgba(60, 64, 67, 0.3), 0px 1px 3px 1px rgba(60, 64, 67, 0.15);\n",
              "      fill: #174EA6;\n",
              "    }\n",
              "\n",
              "    [theme=dark] .colab-df-convert {\n",
              "      background-color: #3B4455;\n",
              "      fill: #D2E3FC;\n",
              "    }\n",
              "\n",
              "    [theme=dark] .colab-df-convert:hover {\n",
              "      background-color: #434B5C;\n",
              "      box-shadow: 0px 1px 3px 1px rgba(0, 0, 0, 0.15);\n",
              "      filter: drop-shadow(0px 1px 2px rgba(0, 0, 0, 0.3));\n",
              "      fill: #FFFFFF;\n",
              "    }\n",
              "  </style>\n",
              "\n",
              "      <script>\n",
              "        const buttonEl =\n",
              "          document.querySelector('#df-4ae13f5f-7320-4eb1-a3bb-24687d9c8607 button.colab-df-convert');\n",
              "        buttonEl.style.display =\n",
              "          google.colab.kernel.accessAllowed ? 'block' : 'none';\n",
              "\n",
              "        async function convertToInteractive(key) {\n",
              "          const element = document.querySelector('#df-4ae13f5f-7320-4eb1-a3bb-24687d9c8607');\n",
              "          const dataTable =\n",
              "            await google.colab.kernel.invokeFunction('convertToInteractive',\n",
              "                                                     [key], {});\n",
              "          if (!dataTable) return;\n",
              "\n",
              "          const docLinkHtml = 'Like what you see? Visit the ' +\n",
              "            '<a target=\"_blank\" href=https://colab.research.google.com/notebooks/data_table.ipynb>data table notebook</a>'\n",
              "            + ' to learn more about interactive tables.';\n",
              "          element.innerHTML = '';\n",
              "          dataTable['output_type'] = 'display_data';\n",
              "          await google.colab.output.renderOutput(dataTable, element);\n",
              "          const docLink = document.createElement('div');\n",
              "          docLink.innerHTML = docLinkHtml;\n",
              "          element.appendChild(docLink);\n",
              "        }\n",
              "      </script>\n",
              "    </div>\n",
              "  </div>\n",
              "  "
            ]
          },
          "metadata": {},
          "execution_count": 49
        }
      ],
      "source": [
        "paises3"
      ]
    },
    {
      "cell_type": "code",
      "execution_count": 50,
      "id": "9bd51875-b0ec-4000-b8b7-7afabf2e3a7a",
      "metadata": {
        "id": "9bd51875-b0ec-4000-b8b7-7afabf2e3a7a"
      },
      "outputs": [],
      "source": [
        "paises3.loc[\"Argentina\", \"capital\"] = \"Buenos Aires\""
      ]
    },
    {
      "cell_type": "code",
      "source": [
        "paises3.loc[\"Argentina\", \"capital\"]"
      ],
      "metadata": {
        "colab": {
          "base_uri": "https://localhost:8080/",
          "height": 35
        },
        "id": "LfyZi2BAkihb",
        "outputId": "ccbcd03d-7e8f-4f1b-e162-b9c381b913eb"
      },
      "id": "LfyZi2BAkihb",
      "execution_count": 51,
      "outputs": [
        {
          "output_type": "execute_result",
          "data": {
            "text/plain": [
              "'Buenos Aires'"
            ],
            "application/vnd.google.colaboratory.intrinsic+json": {
              "type": "string"
            }
          },
          "metadata": {},
          "execution_count": 51
        }
      ]
    },
    {
      "cell_type": "markdown",
      "id": "75a8cf12-476a-4a9f-84a9-8ef895e23218",
      "metadata": {
        "id": "75a8cf12-476a-4a9f-84a9-8ef895e23218"
      },
      "source": [
        "__Ejercicio 18:__ "
      ]
    },
    {
      "cell_type": "markdown",
      "id": "574ea1e8-0c78-4bbe-b87d-9222ffdffb02",
      "metadata": {
        "id": "574ea1e8-0c78-4bbe-b87d-9222ffdffb02"
      },
      "source": [
        "Obtener los datos de la fila en la tercera posición utilizando iloc"
      ]
    },
    {
      "cell_type": "code",
      "execution_count": 52,
      "id": "669824f4-9928-4ea5-8fcc-0ae504fea694",
      "metadata": {
        "id": "669824f4-9928-4ea5-8fcc-0ae504fea694",
        "colab": {
          "base_uri": "https://localhost:8080/"
        },
        "outputId": "f33e1921-937a-437d-b55a-69b824861bbd"
      },
      "outputs": [
        {
          "output_type": "execute_result",
          "data": {
            "text/plain": [
              "capital        Santiago de Chile\n",
              "poblacion               19120000\n",
              "sup. en km2               756950\n",
              "Name: Chile, dtype: object"
            ]
          },
          "metadata": {},
          "execution_count": 52
        }
      ],
      "source": [
        "paises3.iloc[2]"
      ]
    },
    {
      "cell_type": "markdown",
      "id": "222b5555-05f6-4c57-940b-2683f38654f6",
      "metadata": {
        "id": "222b5555-05f6-4c57-940b-2683f38654f6"
      },
      "source": [
        "Obtener los datos de la columna en la segunda posición utilizando iloc"
      ]
    },
    {
      "cell_type": "code",
      "execution_count": 53,
      "id": "4b521130-1c93-4b47-b498-0a726609b6f2",
      "metadata": {
        "id": "4b521130-1c93-4b47-b498-0a726609b6f2",
        "colab": {
          "base_uri": "https://localhost:8080/"
        },
        "outputId": "37d09fbf-86b6-4dff-d09a-5f884ee1e993"
      },
      "outputs": [
        {
          "output_type": "execute_result",
          "data": {
            "text/plain": [
              "Argentina     45380000\n",
              "Brasil       212600000\n",
              "Chile         19120000\n",
              "Colombia      50880000\n",
              "Ecuador       17640000\n",
              "Paraguay       7133000\n",
              "Peru          32970000\n",
              "Name: poblacion, dtype: int64"
            ]
          },
          "metadata": {},
          "execution_count": 53
        }
      ],
      "source": [
        "paises3.iloc[ :, 1]"
      ]
    },
    {
      "cell_type": "code",
      "execution_count": 54,
      "id": "fb439c48-5daf-412c-9c77-4e5b9aef9fb3",
      "metadata": {
        "id": "fb439c48-5daf-412c-9c77-4e5b9aef9fb3",
        "colab": {
          "base_uri": "https://localhost:8080/",
          "height": 269
        },
        "outputId": "23b51a6f-ae87-4bcc-d63c-0ddd0151db4d"
      },
      "outputs": [
        {
          "output_type": "execute_result",
          "data": {
            "text/plain": [
              "                     capital  poblacion  sup. en km2\n",
              "Argentina       Buenos Aires   45380000      2780000\n",
              "Brasil              Brasilia  212600000      8516000\n",
              "Chile      Santiago de Chile   19120000       756950\n",
              "Colombia              Bogotá   50880000      1143000\n",
              "Ecuador                Quito   17640000       283560\n",
              "Paraguay            Asunción    7133000       406752\n",
              "Peru                    Lima   32970000      1285216"
            ],
            "text/html": [
              "\n",
              "  <div id=\"df-ab194359-b59c-4af4-9487-37c2043bc754\">\n",
              "    <div class=\"colab-df-container\">\n",
              "      <div>\n",
              "<style scoped>\n",
              "    .dataframe tbody tr th:only-of-type {\n",
              "        vertical-align: middle;\n",
              "    }\n",
              "\n",
              "    .dataframe tbody tr th {\n",
              "        vertical-align: top;\n",
              "    }\n",
              "\n",
              "    .dataframe thead th {\n",
              "        text-align: right;\n",
              "    }\n",
              "</style>\n",
              "<table border=\"1\" class=\"dataframe\">\n",
              "  <thead>\n",
              "    <tr style=\"text-align: right;\">\n",
              "      <th></th>\n",
              "      <th>capital</th>\n",
              "      <th>poblacion</th>\n",
              "      <th>sup. en km2</th>\n",
              "    </tr>\n",
              "  </thead>\n",
              "  <tbody>\n",
              "    <tr>\n",
              "      <th>Argentina</th>\n",
              "      <td>Buenos Aires</td>\n",
              "      <td>45380000</td>\n",
              "      <td>2780000</td>\n",
              "    </tr>\n",
              "    <tr>\n",
              "      <th>Brasil</th>\n",
              "      <td>Brasilia</td>\n",
              "      <td>212600000</td>\n",
              "      <td>8516000</td>\n",
              "    </tr>\n",
              "    <tr>\n",
              "      <th>Chile</th>\n",
              "      <td>Santiago de Chile</td>\n",
              "      <td>19120000</td>\n",
              "      <td>756950</td>\n",
              "    </tr>\n",
              "    <tr>\n",
              "      <th>Colombia</th>\n",
              "      <td>Bogotá</td>\n",
              "      <td>50880000</td>\n",
              "      <td>1143000</td>\n",
              "    </tr>\n",
              "    <tr>\n",
              "      <th>Ecuador</th>\n",
              "      <td>Quito</td>\n",
              "      <td>17640000</td>\n",
              "      <td>283560</td>\n",
              "    </tr>\n",
              "    <tr>\n",
              "      <th>Paraguay</th>\n",
              "      <td>Asunción</td>\n",
              "      <td>7133000</td>\n",
              "      <td>406752</td>\n",
              "    </tr>\n",
              "    <tr>\n",
              "      <th>Peru</th>\n",
              "      <td>Lima</td>\n",
              "      <td>32970000</td>\n",
              "      <td>1285216</td>\n",
              "    </tr>\n",
              "  </tbody>\n",
              "</table>\n",
              "</div>\n",
              "      <button class=\"colab-df-convert\" onclick=\"convertToInteractive('df-ab194359-b59c-4af4-9487-37c2043bc754')\"\n",
              "              title=\"Convert this dataframe to an interactive table.\"\n",
              "              style=\"display:none;\">\n",
              "        \n",
              "  <svg xmlns=\"http://www.w3.org/2000/svg\" height=\"24px\"viewBox=\"0 0 24 24\"\n",
              "       width=\"24px\">\n",
              "    <path d=\"M0 0h24v24H0V0z\" fill=\"none\"/>\n",
              "    <path d=\"M18.56 5.44l.94 2.06.94-2.06 2.06-.94-2.06-.94-.94-2.06-.94 2.06-2.06.94zm-11 1L8.5 8.5l.94-2.06 2.06-.94-2.06-.94L8.5 2.5l-.94 2.06-2.06.94zm10 10l.94 2.06.94-2.06 2.06-.94-2.06-.94-.94-2.06-.94 2.06-2.06.94z\"/><path d=\"M17.41 7.96l-1.37-1.37c-.4-.4-.92-.59-1.43-.59-.52 0-1.04.2-1.43.59L10.3 9.45l-7.72 7.72c-.78.78-.78 2.05 0 2.83L4 21.41c.39.39.9.59 1.41.59.51 0 1.02-.2 1.41-.59l7.78-7.78 2.81-2.81c.8-.78.8-2.07 0-2.86zM5.41 20L4 18.59l7.72-7.72 1.47 1.35L5.41 20z\"/>\n",
              "  </svg>\n",
              "      </button>\n",
              "      \n",
              "  <style>\n",
              "    .colab-df-container {\n",
              "      display:flex;\n",
              "      flex-wrap:wrap;\n",
              "      gap: 12px;\n",
              "    }\n",
              "\n",
              "    .colab-df-convert {\n",
              "      background-color: #E8F0FE;\n",
              "      border: none;\n",
              "      border-radius: 50%;\n",
              "      cursor: pointer;\n",
              "      display: none;\n",
              "      fill: #1967D2;\n",
              "      height: 32px;\n",
              "      padding: 0 0 0 0;\n",
              "      width: 32px;\n",
              "    }\n",
              "\n",
              "    .colab-df-convert:hover {\n",
              "      background-color: #E2EBFA;\n",
              "      box-shadow: 0px 1px 2px rgba(60, 64, 67, 0.3), 0px 1px 3px 1px rgba(60, 64, 67, 0.15);\n",
              "      fill: #174EA6;\n",
              "    }\n",
              "\n",
              "    [theme=dark] .colab-df-convert {\n",
              "      background-color: #3B4455;\n",
              "      fill: #D2E3FC;\n",
              "    }\n",
              "\n",
              "    [theme=dark] .colab-df-convert:hover {\n",
              "      background-color: #434B5C;\n",
              "      box-shadow: 0px 1px 3px 1px rgba(0, 0, 0, 0.15);\n",
              "      filter: drop-shadow(0px 1px 2px rgba(0, 0, 0, 0.3));\n",
              "      fill: #FFFFFF;\n",
              "    }\n",
              "  </style>\n",
              "\n",
              "      <script>\n",
              "        const buttonEl =\n",
              "          document.querySelector('#df-ab194359-b59c-4af4-9487-37c2043bc754 button.colab-df-convert');\n",
              "        buttonEl.style.display =\n",
              "          google.colab.kernel.accessAllowed ? 'block' : 'none';\n",
              "\n",
              "        async function convertToInteractive(key) {\n",
              "          const element = document.querySelector('#df-ab194359-b59c-4af4-9487-37c2043bc754');\n",
              "          const dataTable =\n",
              "            await google.colab.kernel.invokeFunction('convertToInteractive',\n",
              "                                                     [key], {});\n",
              "          if (!dataTable) return;\n",
              "\n",
              "          const docLinkHtml = 'Like what you see? Visit the ' +\n",
              "            '<a target=\"_blank\" href=https://colab.research.google.com/notebooks/data_table.ipynb>data table notebook</a>'\n",
              "            + ' to learn more about interactive tables.';\n",
              "          element.innerHTML = '';\n",
              "          dataTable['output_type'] = 'display_data';\n",
              "          await google.colab.output.renderOutput(dataTable, element);\n",
              "          const docLink = document.createElement('div');\n",
              "          docLink.innerHTML = docLinkHtml;\n",
              "          element.appendChild(docLink);\n",
              "        }\n",
              "      </script>\n",
              "    </div>\n",
              "  </div>\n",
              "  "
            ]
          },
          "metadata": {},
          "execution_count": 54
        }
      ],
      "source": [
        "paises3"
      ]
    },
    {
      "cell_type": "markdown",
      "id": "44c20209-8369-4d3d-b09b-b65ea88b9830",
      "metadata": {
        "id": "44c20209-8369-4d3d-b09b-b65ea88b9830"
      },
      "source": [
        "__Ejercicio 19:__ Obtener los datos de la fila en la tercera y cuarta posición utilizando iloc"
      ]
    },
    {
      "cell_type": "code",
      "execution_count": 55,
      "id": "e20c9403-dd01-4ff1-a0a2-73f12f25b5cc",
      "metadata": {
        "id": "e20c9403-dd01-4ff1-a0a2-73f12f25b5cc",
        "colab": {
          "base_uri": "https://localhost:8080/",
          "height": 112
        },
        "outputId": "63f6828b-2caf-4ce2-a4c1-e095f7dc96c9"
      },
      "outputs": [
        {
          "output_type": "execute_result",
          "data": {
            "text/plain": [
              "                    capital  poblacion  sup. en km2\n",
              "Chile     Santiago de Chile   19120000       756950\n",
              "Colombia             Bogotá   50880000      1143000"
            ],
            "text/html": [
              "\n",
              "  <div id=\"df-038d8684-85a8-4e98-927e-d8496edc7446\">\n",
              "    <div class=\"colab-df-container\">\n",
              "      <div>\n",
              "<style scoped>\n",
              "    .dataframe tbody tr th:only-of-type {\n",
              "        vertical-align: middle;\n",
              "    }\n",
              "\n",
              "    .dataframe tbody tr th {\n",
              "        vertical-align: top;\n",
              "    }\n",
              "\n",
              "    .dataframe thead th {\n",
              "        text-align: right;\n",
              "    }\n",
              "</style>\n",
              "<table border=\"1\" class=\"dataframe\">\n",
              "  <thead>\n",
              "    <tr style=\"text-align: right;\">\n",
              "      <th></th>\n",
              "      <th>capital</th>\n",
              "      <th>poblacion</th>\n",
              "      <th>sup. en km2</th>\n",
              "    </tr>\n",
              "  </thead>\n",
              "  <tbody>\n",
              "    <tr>\n",
              "      <th>Chile</th>\n",
              "      <td>Santiago de Chile</td>\n",
              "      <td>19120000</td>\n",
              "      <td>756950</td>\n",
              "    </tr>\n",
              "    <tr>\n",
              "      <th>Colombia</th>\n",
              "      <td>Bogotá</td>\n",
              "      <td>50880000</td>\n",
              "      <td>1143000</td>\n",
              "    </tr>\n",
              "  </tbody>\n",
              "</table>\n",
              "</div>\n",
              "      <button class=\"colab-df-convert\" onclick=\"convertToInteractive('df-038d8684-85a8-4e98-927e-d8496edc7446')\"\n",
              "              title=\"Convert this dataframe to an interactive table.\"\n",
              "              style=\"display:none;\">\n",
              "        \n",
              "  <svg xmlns=\"http://www.w3.org/2000/svg\" height=\"24px\"viewBox=\"0 0 24 24\"\n",
              "       width=\"24px\">\n",
              "    <path d=\"M0 0h24v24H0V0z\" fill=\"none\"/>\n",
              "    <path d=\"M18.56 5.44l.94 2.06.94-2.06 2.06-.94-2.06-.94-.94-2.06-.94 2.06-2.06.94zm-11 1L8.5 8.5l.94-2.06 2.06-.94-2.06-.94L8.5 2.5l-.94 2.06-2.06.94zm10 10l.94 2.06.94-2.06 2.06-.94-2.06-.94-.94-2.06-.94 2.06-2.06.94z\"/><path d=\"M17.41 7.96l-1.37-1.37c-.4-.4-.92-.59-1.43-.59-.52 0-1.04.2-1.43.59L10.3 9.45l-7.72 7.72c-.78.78-.78 2.05 0 2.83L4 21.41c.39.39.9.59 1.41.59.51 0 1.02-.2 1.41-.59l7.78-7.78 2.81-2.81c.8-.78.8-2.07 0-2.86zM5.41 20L4 18.59l7.72-7.72 1.47 1.35L5.41 20z\"/>\n",
              "  </svg>\n",
              "      </button>\n",
              "      \n",
              "  <style>\n",
              "    .colab-df-container {\n",
              "      display:flex;\n",
              "      flex-wrap:wrap;\n",
              "      gap: 12px;\n",
              "    }\n",
              "\n",
              "    .colab-df-convert {\n",
              "      background-color: #E8F0FE;\n",
              "      border: none;\n",
              "      border-radius: 50%;\n",
              "      cursor: pointer;\n",
              "      display: none;\n",
              "      fill: #1967D2;\n",
              "      height: 32px;\n",
              "      padding: 0 0 0 0;\n",
              "      width: 32px;\n",
              "    }\n",
              "\n",
              "    .colab-df-convert:hover {\n",
              "      background-color: #E2EBFA;\n",
              "      box-shadow: 0px 1px 2px rgba(60, 64, 67, 0.3), 0px 1px 3px 1px rgba(60, 64, 67, 0.15);\n",
              "      fill: #174EA6;\n",
              "    }\n",
              "\n",
              "    [theme=dark] .colab-df-convert {\n",
              "      background-color: #3B4455;\n",
              "      fill: #D2E3FC;\n",
              "    }\n",
              "\n",
              "    [theme=dark] .colab-df-convert:hover {\n",
              "      background-color: #434B5C;\n",
              "      box-shadow: 0px 1px 3px 1px rgba(0, 0, 0, 0.15);\n",
              "      filter: drop-shadow(0px 1px 2px rgba(0, 0, 0, 0.3));\n",
              "      fill: #FFFFFF;\n",
              "    }\n",
              "  </style>\n",
              "\n",
              "      <script>\n",
              "        const buttonEl =\n",
              "          document.querySelector('#df-038d8684-85a8-4e98-927e-d8496edc7446 button.colab-df-convert');\n",
              "        buttonEl.style.display =\n",
              "          google.colab.kernel.accessAllowed ? 'block' : 'none';\n",
              "\n",
              "        async function convertToInteractive(key) {\n",
              "          const element = document.querySelector('#df-038d8684-85a8-4e98-927e-d8496edc7446');\n",
              "          const dataTable =\n",
              "            await google.colab.kernel.invokeFunction('convertToInteractive',\n",
              "                                                     [key], {});\n",
              "          if (!dataTable) return;\n",
              "\n",
              "          const docLinkHtml = 'Like what you see? Visit the ' +\n",
              "            '<a target=\"_blank\" href=https://colab.research.google.com/notebooks/data_table.ipynb>data table notebook</a>'\n",
              "            + ' to learn more about interactive tables.';\n",
              "          element.innerHTML = '';\n",
              "          dataTable['output_type'] = 'display_data';\n",
              "          await google.colab.output.renderOutput(dataTable, element);\n",
              "          const docLink = document.createElement('div');\n",
              "          docLink.innerHTML = docLinkHtml;\n",
              "          element.appendChild(docLink);\n",
              "        }\n",
              "      </script>\n",
              "    </div>\n",
              "  </div>\n",
              "  "
            ]
          },
          "metadata": {},
          "execution_count": 55
        }
      ],
      "source": [
        "paises3.iloc[[2,3]]"
      ]
    },
    {
      "cell_type": "code",
      "execution_count": 56,
      "id": "2f6006cc-7a6d-4b22-863f-c0898c9cc6ba",
      "metadata": {
        "id": "2f6006cc-7a6d-4b22-863f-c0898c9cc6ba",
        "colab": {
          "base_uri": "https://localhost:8080/",
          "height": 269
        },
        "outputId": "146f310c-2fec-43c4-eb17-b17a4fb7f52f"
      },
      "outputs": [
        {
          "output_type": "execute_result",
          "data": {
            "text/plain": [
              "                     capital  poblacion  sup. en km2\n",
              "Argentina       Buenos Aires   45380000      2780000\n",
              "Brasil              Brasilia  212600000      8516000\n",
              "Chile      Santiago de Chile   19120000       756950\n",
              "Colombia              Bogotá   50880000      1143000\n",
              "Ecuador                Quito   17640000       283560\n",
              "Paraguay            Asunción    7133000       406752\n",
              "Peru                    Lima   32970000      1285216"
            ],
            "text/html": [
              "\n",
              "  <div id=\"df-d9dd006a-c04b-46e7-a590-6416e9c96c77\">\n",
              "    <div class=\"colab-df-container\">\n",
              "      <div>\n",
              "<style scoped>\n",
              "    .dataframe tbody tr th:only-of-type {\n",
              "        vertical-align: middle;\n",
              "    }\n",
              "\n",
              "    .dataframe tbody tr th {\n",
              "        vertical-align: top;\n",
              "    }\n",
              "\n",
              "    .dataframe thead th {\n",
              "        text-align: right;\n",
              "    }\n",
              "</style>\n",
              "<table border=\"1\" class=\"dataframe\">\n",
              "  <thead>\n",
              "    <tr style=\"text-align: right;\">\n",
              "      <th></th>\n",
              "      <th>capital</th>\n",
              "      <th>poblacion</th>\n",
              "      <th>sup. en km2</th>\n",
              "    </tr>\n",
              "  </thead>\n",
              "  <tbody>\n",
              "    <tr>\n",
              "      <th>Argentina</th>\n",
              "      <td>Buenos Aires</td>\n",
              "      <td>45380000</td>\n",
              "      <td>2780000</td>\n",
              "    </tr>\n",
              "    <tr>\n",
              "      <th>Brasil</th>\n",
              "      <td>Brasilia</td>\n",
              "      <td>212600000</td>\n",
              "      <td>8516000</td>\n",
              "    </tr>\n",
              "    <tr>\n",
              "      <th>Chile</th>\n",
              "      <td>Santiago de Chile</td>\n",
              "      <td>19120000</td>\n",
              "      <td>756950</td>\n",
              "    </tr>\n",
              "    <tr>\n",
              "      <th>Colombia</th>\n",
              "      <td>Bogotá</td>\n",
              "      <td>50880000</td>\n",
              "      <td>1143000</td>\n",
              "    </tr>\n",
              "    <tr>\n",
              "      <th>Ecuador</th>\n",
              "      <td>Quito</td>\n",
              "      <td>17640000</td>\n",
              "      <td>283560</td>\n",
              "    </tr>\n",
              "    <tr>\n",
              "      <th>Paraguay</th>\n",
              "      <td>Asunción</td>\n",
              "      <td>7133000</td>\n",
              "      <td>406752</td>\n",
              "    </tr>\n",
              "    <tr>\n",
              "      <th>Peru</th>\n",
              "      <td>Lima</td>\n",
              "      <td>32970000</td>\n",
              "      <td>1285216</td>\n",
              "    </tr>\n",
              "  </tbody>\n",
              "</table>\n",
              "</div>\n",
              "      <button class=\"colab-df-convert\" onclick=\"convertToInteractive('df-d9dd006a-c04b-46e7-a590-6416e9c96c77')\"\n",
              "              title=\"Convert this dataframe to an interactive table.\"\n",
              "              style=\"display:none;\">\n",
              "        \n",
              "  <svg xmlns=\"http://www.w3.org/2000/svg\" height=\"24px\"viewBox=\"0 0 24 24\"\n",
              "       width=\"24px\">\n",
              "    <path d=\"M0 0h24v24H0V0z\" fill=\"none\"/>\n",
              "    <path d=\"M18.56 5.44l.94 2.06.94-2.06 2.06-.94-2.06-.94-.94-2.06-.94 2.06-2.06.94zm-11 1L8.5 8.5l.94-2.06 2.06-.94-2.06-.94L8.5 2.5l-.94 2.06-2.06.94zm10 10l.94 2.06.94-2.06 2.06-.94-2.06-.94-.94-2.06-.94 2.06-2.06.94z\"/><path d=\"M17.41 7.96l-1.37-1.37c-.4-.4-.92-.59-1.43-.59-.52 0-1.04.2-1.43.59L10.3 9.45l-7.72 7.72c-.78.78-.78 2.05 0 2.83L4 21.41c.39.39.9.59 1.41.59.51 0 1.02-.2 1.41-.59l7.78-7.78 2.81-2.81c.8-.78.8-2.07 0-2.86zM5.41 20L4 18.59l7.72-7.72 1.47 1.35L5.41 20z\"/>\n",
              "  </svg>\n",
              "      </button>\n",
              "      \n",
              "  <style>\n",
              "    .colab-df-container {\n",
              "      display:flex;\n",
              "      flex-wrap:wrap;\n",
              "      gap: 12px;\n",
              "    }\n",
              "\n",
              "    .colab-df-convert {\n",
              "      background-color: #E8F0FE;\n",
              "      border: none;\n",
              "      border-radius: 50%;\n",
              "      cursor: pointer;\n",
              "      display: none;\n",
              "      fill: #1967D2;\n",
              "      height: 32px;\n",
              "      padding: 0 0 0 0;\n",
              "      width: 32px;\n",
              "    }\n",
              "\n",
              "    .colab-df-convert:hover {\n",
              "      background-color: #E2EBFA;\n",
              "      box-shadow: 0px 1px 2px rgba(60, 64, 67, 0.3), 0px 1px 3px 1px rgba(60, 64, 67, 0.15);\n",
              "      fill: #174EA6;\n",
              "    }\n",
              "\n",
              "    [theme=dark] .colab-df-convert {\n",
              "      background-color: #3B4455;\n",
              "      fill: #D2E3FC;\n",
              "    }\n",
              "\n",
              "    [theme=dark] .colab-df-convert:hover {\n",
              "      background-color: #434B5C;\n",
              "      box-shadow: 0px 1px 3px 1px rgba(0, 0, 0, 0.15);\n",
              "      filter: drop-shadow(0px 1px 2px rgba(0, 0, 0, 0.3));\n",
              "      fill: #FFFFFF;\n",
              "    }\n",
              "  </style>\n",
              "\n",
              "      <script>\n",
              "        const buttonEl =\n",
              "          document.querySelector('#df-d9dd006a-c04b-46e7-a590-6416e9c96c77 button.colab-df-convert');\n",
              "        buttonEl.style.display =\n",
              "          google.colab.kernel.accessAllowed ? 'block' : 'none';\n",
              "\n",
              "        async function convertToInteractive(key) {\n",
              "          const element = document.querySelector('#df-d9dd006a-c04b-46e7-a590-6416e9c96c77');\n",
              "          const dataTable =\n",
              "            await google.colab.kernel.invokeFunction('convertToInteractive',\n",
              "                                                     [key], {});\n",
              "          if (!dataTable) return;\n",
              "\n",
              "          const docLinkHtml = 'Like what you see? Visit the ' +\n",
              "            '<a target=\"_blank\" href=https://colab.research.google.com/notebooks/data_table.ipynb>data table notebook</a>'\n",
              "            + ' to learn more about interactive tables.';\n",
              "          element.innerHTML = '';\n",
              "          dataTable['output_type'] = 'display_data';\n",
              "          await google.colab.output.renderOutput(dataTable, element);\n",
              "          const docLink = document.createElement('div');\n",
              "          docLink.innerHTML = docLinkHtml;\n",
              "          element.appendChild(docLink);\n",
              "        }\n",
              "      </script>\n",
              "    </div>\n",
              "  </div>\n",
              "  "
            ]
          },
          "metadata": {},
          "execution_count": 56
        }
      ],
      "source": [
        "paises3"
      ]
    },
    {
      "cell_type": "markdown",
      "id": "19526f4a-841c-4a7a-8990-35be57c904cc",
      "metadata": {
        "id": "19526f4a-841c-4a7a-8990-35be57c904cc"
      },
      "source": [
        "__Ejercicio 20:__ Obtener el nombre de las columnas en el DataFrame"
      ]
    },
    {
      "cell_type": "code",
      "execution_count": 57,
      "id": "ca01f3c7-1329-494f-8e36-45fa67da8aef",
      "metadata": {
        "id": "ca01f3c7-1329-494f-8e36-45fa67da8aef",
        "colab": {
          "base_uri": "https://localhost:8080/"
        },
        "outputId": "490b0e8f-ce4f-4924-8eb8-6d64ef89ccd7"
      },
      "outputs": [
        {
          "output_type": "execute_result",
          "data": {
            "text/plain": [
              "Index(['capital', 'poblacion', 'sup. en km2'], dtype='object')"
            ]
          },
          "metadata": {},
          "execution_count": 57
        }
      ],
      "source": [
        "paises3.columns"
      ]
    },
    {
      "cell_type": "code",
      "execution_count": 58,
      "id": "15b18cca-1b9e-4bf8-9fa2-5fa3b06be5c3",
      "metadata": {
        "id": "15b18cca-1b9e-4bf8-9fa2-5fa3b06be5c3",
        "colab": {
          "base_uri": "https://localhost:8080/"
        },
        "outputId": "73f20f43-8da2-42ae-a1d9-c2af6ddd93e9"
      },
      "outputs": [
        {
          "output_type": "execute_result",
          "data": {
            "text/plain": [
              "Index(['Argentina', 'Brasil', 'Chile', 'Colombia', 'Ecuador', 'Paraguay',\n",
              "       'Peru'],\n",
              "      dtype='object')"
            ]
          },
          "metadata": {},
          "execution_count": 58
        }
      ],
      "source": [
        "paises3.index"
      ]
    },
    {
      "cell_type": "code",
      "source": [
        "paises3"
      ],
      "metadata": {
        "colab": {
          "base_uri": "https://localhost:8080/",
          "height": 269
        },
        "id": "Xmn6OP4tmduf",
        "outputId": "abf7a3b0-1e99-480f-9626-83a9c96d13f7"
      },
      "id": "Xmn6OP4tmduf",
      "execution_count": 59,
      "outputs": [
        {
          "output_type": "execute_result",
          "data": {
            "text/plain": [
              "                     capital  poblacion  sup. en km2\n",
              "Argentina       Buenos Aires   45380000      2780000\n",
              "Brasil              Brasilia  212600000      8516000\n",
              "Chile      Santiago de Chile   19120000       756950\n",
              "Colombia              Bogotá   50880000      1143000\n",
              "Ecuador                Quito   17640000       283560\n",
              "Paraguay            Asunción    7133000       406752\n",
              "Peru                    Lima   32970000      1285216"
            ],
            "text/html": [
              "\n",
              "  <div id=\"df-ca342abf-3992-4280-bcb2-7d0d2b29b815\">\n",
              "    <div class=\"colab-df-container\">\n",
              "      <div>\n",
              "<style scoped>\n",
              "    .dataframe tbody tr th:only-of-type {\n",
              "        vertical-align: middle;\n",
              "    }\n",
              "\n",
              "    .dataframe tbody tr th {\n",
              "        vertical-align: top;\n",
              "    }\n",
              "\n",
              "    .dataframe thead th {\n",
              "        text-align: right;\n",
              "    }\n",
              "</style>\n",
              "<table border=\"1\" class=\"dataframe\">\n",
              "  <thead>\n",
              "    <tr style=\"text-align: right;\">\n",
              "      <th></th>\n",
              "      <th>capital</th>\n",
              "      <th>poblacion</th>\n",
              "      <th>sup. en km2</th>\n",
              "    </tr>\n",
              "  </thead>\n",
              "  <tbody>\n",
              "    <tr>\n",
              "      <th>Argentina</th>\n",
              "      <td>Buenos Aires</td>\n",
              "      <td>45380000</td>\n",
              "      <td>2780000</td>\n",
              "    </tr>\n",
              "    <tr>\n",
              "      <th>Brasil</th>\n",
              "      <td>Brasilia</td>\n",
              "      <td>212600000</td>\n",
              "      <td>8516000</td>\n",
              "    </tr>\n",
              "    <tr>\n",
              "      <th>Chile</th>\n",
              "      <td>Santiago de Chile</td>\n",
              "      <td>19120000</td>\n",
              "      <td>756950</td>\n",
              "    </tr>\n",
              "    <tr>\n",
              "      <th>Colombia</th>\n",
              "      <td>Bogotá</td>\n",
              "      <td>50880000</td>\n",
              "      <td>1143000</td>\n",
              "    </tr>\n",
              "    <tr>\n",
              "      <th>Ecuador</th>\n",
              "      <td>Quito</td>\n",
              "      <td>17640000</td>\n",
              "      <td>283560</td>\n",
              "    </tr>\n",
              "    <tr>\n",
              "      <th>Paraguay</th>\n",
              "      <td>Asunción</td>\n",
              "      <td>7133000</td>\n",
              "      <td>406752</td>\n",
              "    </tr>\n",
              "    <tr>\n",
              "      <th>Peru</th>\n",
              "      <td>Lima</td>\n",
              "      <td>32970000</td>\n",
              "      <td>1285216</td>\n",
              "    </tr>\n",
              "  </tbody>\n",
              "</table>\n",
              "</div>\n",
              "      <button class=\"colab-df-convert\" onclick=\"convertToInteractive('df-ca342abf-3992-4280-bcb2-7d0d2b29b815')\"\n",
              "              title=\"Convert this dataframe to an interactive table.\"\n",
              "              style=\"display:none;\">\n",
              "        \n",
              "  <svg xmlns=\"http://www.w3.org/2000/svg\" height=\"24px\"viewBox=\"0 0 24 24\"\n",
              "       width=\"24px\">\n",
              "    <path d=\"M0 0h24v24H0V0z\" fill=\"none\"/>\n",
              "    <path d=\"M18.56 5.44l.94 2.06.94-2.06 2.06-.94-2.06-.94-.94-2.06-.94 2.06-2.06.94zm-11 1L8.5 8.5l.94-2.06 2.06-.94-2.06-.94L8.5 2.5l-.94 2.06-2.06.94zm10 10l.94 2.06.94-2.06 2.06-.94-2.06-.94-.94-2.06-.94 2.06-2.06.94z\"/><path d=\"M17.41 7.96l-1.37-1.37c-.4-.4-.92-.59-1.43-.59-.52 0-1.04.2-1.43.59L10.3 9.45l-7.72 7.72c-.78.78-.78 2.05 0 2.83L4 21.41c.39.39.9.59 1.41.59.51 0 1.02-.2 1.41-.59l7.78-7.78 2.81-2.81c.8-.78.8-2.07 0-2.86zM5.41 20L4 18.59l7.72-7.72 1.47 1.35L5.41 20z\"/>\n",
              "  </svg>\n",
              "      </button>\n",
              "      \n",
              "  <style>\n",
              "    .colab-df-container {\n",
              "      display:flex;\n",
              "      flex-wrap:wrap;\n",
              "      gap: 12px;\n",
              "    }\n",
              "\n",
              "    .colab-df-convert {\n",
              "      background-color: #E8F0FE;\n",
              "      border: none;\n",
              "      border-radius: 50%;\n",
              "      cursor: pointer;\n",
              "      display: none;\n",
              "      fill: #1967D2;\n",
              "      height: 32px;\n",
              "      padding: 0 0 0 0;\n",
              "      width: 32px;\n",
              "    }\n",
              "\n",
              "    .colab-df-convert:hover {\n",
              "      background-color: #E2EBFA;\n",
              "      box-shadow: 0px 1px 2px rgba(60, 64, 67, 0.3), 0px 1px 3px 1px rgba(60, 64, 67, 0.15);\n",
              "      fill: #174EA6;\n",
              "    }\n",
              "\n",
              "    [theme=dark] .colab-df-convert {\n",
              "      background-color: #3B4455;\n",
              "      fill: #D2E3FC;\n",
              "    }\n",
              "\n",
              "    [theme=dark] .colab-df-convert:hover {\n",
              "      background-color: #434B5C;\n",
              "      box-shadow: 0px 1px 3px 1px rgba(0, 0, 0, 0.15);\n",
              "      filter: drop-shadow(0px 1px 2px rgba(0, 0, 0, 0.3));\n",
              "      fill: #FFFFFF;\n",
              "    }\n",
              "  </style>\n",
              "\n",
              "      <script>\n",
              "        const buttonEl =\n",
              "          document.querySelector('#df-ca342abf-3992-4280-bcb2-7d0d2b29b815 button.colab-df-convert');\n",
              "        buttonEl.style.display =\n",
              "          google.colab.kernel.accessAllowed ? 'block' : 'none';\n",
              "\n",
              "        async function convertToInteractive(key) {\n",
              "          const element = document.querySelector('#df-ca342abf-3992-4280-bcb2-7d0d2b29b815');\n",
              "          const dataTable =\n",
              "            await google.colab.kernel.invokeFunction('convertToInteractive',\n",
              "                                                     [key], {});\n",
              "          if (!dataTable) return;\n",
              "\n",
              "          const docLinkHtml = 'Like what you see? Visit the ' +\n",
              "            '<a target=\"_blank\" href=https://colab.research.google.com/notebooks/data_table.ipynb>data table notebook</a>'\n",
              "            + ' to learn more about interactive tables.';\n",
              "          element.innerHTML = '';\n",
              "          dataTable['output_type'] = 'display_data';\n",
              "          await google.colab.output.renderOutput(dataTable, element);\n",
              "          const docLink = document.createElement('div');\n",
              "          docLink.innerHTML = docLinkHtml;\n",
              "          element.appendChild(docLink);\n",
              "        }\n",
              "      </script>\n",
              "    </div>\n",
              "  </div>\n",
              "  "
            ]
          },
          "metadata": {},
          "execution_count": 59
        }
      ]
    },
    {
      "cell_type": "markdown",
      "id": "17cd0d32-5e37-4291-a45f-8ec4b0464acb",
      "metadata": {
        "id": "17cd0d32-5e37-4291-a45f-8ec4b0464acb"
      },
      "source": [
        "__Ejercicio 21:__ "
      ]
    },
    {
      "cell_type": "markdown",
      "id": "a69b2d75-e122-4658-812d-7d68c75cdb97",
      "metadata": {
        "id": "a69b2d75-e122-4658-812d-7d68c75cdb97"
      },
      "source": [
        "Obtener la columna \"poblacion\" con al notacion del punto"
      ]
    },
    {
      "cell_type": "code",
      "execution_count": 60,
      "id": "da16d49e-92a9-4c48-84c3-d934ce7affa5",
      "metadata": {
        "id": "da16d49e-92a9-4c48-84c3-d934ce7affa5",
        "colab": {
          "base_uri": "https://localhost:8080/"
        },
        "outputId": "252591cb-846a-43a1-b7c1-c50b54fe0660"
      },
      "outputs": [
        {
          "output_type": "execute_result",
          "data": {
            "text/plain": [
              "Argentina     45380000\n",
              "Brasil       212600000\n",
              "Chile         19120000\n",
              "Colombia      50880000\n",
              "Ecuador       17640000\n",
              "Paraguay       7133000\n",
              "Peru          32970000\n",
              "Name: poblacion, dtype: int64"
            ]
          },
          "metadata": {},
          "execution_count": 60
        }
      ],
      "source": [
        "paises3.poblacion"
      ]
    },
    {
      "cell_type": "markdown",
      "id": "e03f320a-1bd8-4456-ad1e-fbac5d066404",
      "metadata": {
        "id": "e03f320a-1bd8-4456-ad1e-fbac5d066404"
      },
      "source": [
        "Obtener los valores de la columna \"poblacion\""
      ]
    },
    {
      "cell_type": "code",
      "execution_count": 61,
      "id": "d8891d82-de51-4d72-8e74-5a1499f2a9a3",
      "metadata": {
        "id": "d8891d82-de51-4d72-8e74-5a1499f2a9a3",
        "colab": {
          "base_uri": "https://localhost:8080/"
        },
        "outputId": "520e71dd-67bf-4673-9a47-2243792d868a"
      },
      "outputs": [
        {
          "output_type": "execute_result",
          "data": {
            "text/plain": [
              "array([ 45380000, 212600000,  19120000,  50880000,  17640000,   7133000,\n",
              "        32970000])"
            ]
          },
          "metadata": {},
          "execution_count": 61
        }
      ],
      "source": [
        "paises3.poblacion.values"
      ]
    },
    {
      "cell_type": "markdown",
      "id": "e42cdb7c-122d-4f22-9327-c3c1b4796fa1",
      "metadata": {
        "id": "e42cdb7c-122d-4f22-9327-c3c1b4796fa1"
      },
      "source": [
        "Obtener el nombre de la columna \"poblacion\""
      ]
    },
    {
      "cell_type": "code",
      "execution_count": 62,
      "id": "9b575f4e-0d86-42ee-b166-3402e8730634",
      "metadata": {
        "id": "9b575f4e-0d86-42ee-b166-3402e8730634",
        "colab": {
          "base_uri": "https://localhost:8080/",
          "height": 35
        },
        "outputId": "e40451a9-4e74-4c4d-dbf2-5144bdcbe5ae"
      },
      "outputs": [
        {
          "output_type": "execute_result",
          "data": {
            "text/plain": [
              "'poblacion'"
            ],
            "application/vnd.google.colaboratory.intrinsic+json": {
              "type": "string"
            }
          },
          "metadata": {},
          "execution_count": 62
        }
      ],
      "source": [
        "paises3.poblacion.name"
      ]
    },
    {
      "cell_type": "markdown",
      "id": "e174a791-2e62-4d31-b5e1-735400fd297e",
      "metadata": {
        "id": "e174a791-2e62-4d31-b5e1-735400fd297e"
      },
      "source": [
        "__Ejercicio 22:__ "
      ]
    },
    {
      "cell_type": "markdown",
      "id": "59c041fb-5625-48d0-acc7-dced3b4444ea",
      "metadata": {
        "id": "59c041fb-5625-48d0-acc7-dced3b4444ea"
      },
      "source": [
        "Obtener el valor mínimo de la columna población"
      ]
    },
    {
      "cell_type": "code",
      "execution_count": 63,
      "id": "7edf064a-420a-4e42-b81c-b81c52eb7c4d",
      "metadata": {
        "id": "7edf064a-420a-4e42-b81c-b81c52eb7c4d",
        "colab": {
          "base_uri": "https://localhost:8080/"
        },
        "outputId": "8aac9b3e-e177-415b-f737-c9eb3f28cbbb"
      },
      "outputs": [
        {
          "output_type": "execute_result",
          "data": {
            "text/plain": [
              "7133000"
            ]
          },
          "metadata": {},
          "execution_count": 63
        }
      ],
      "source": [
        "paises3.poblacion.min()"
      ]
    },
    {
      "cell_type": "code",
      "execution_count": 64,
      "id": "aab4bed1-4582-4c1d-8372-33a25f14ef67",
      "metadata": {
        "id": "aab4bed1-4582-4c1d-8372-33a25f14ef67",
        "colab": {
          "base_uri": "https://localhost:8080/",
          "height": 269
        },
        "outputId": "ea6d754f-3a7a-4925-8874-52fbfe6b2ead"
      },
      "outputs": [
        {
          "output_type": "execute_result",
          "data": {
            "text/plain": [
              "                     capital  poblacion  sup. en km2\n",
              "Argentina       Buenos Aires   45380000      2780000\n",
              "Brasil              Brasilia  212600000      8516000\n",
              "Chile      Santiago de Chile   19120000       756950\n",
              "Colombia              Bogotá   50880000      1143000\n",
              "Ecuador                Quito   17640000       283560\n",
              "Paraguay            Asunción    7133000       406752\n",
              "Peru                    Lima   32970000      1285216"
            ],
            "text/html": [
              "\n",
              "  <div id=\"df-b2edf476-e4a4-4ba0-b43f-d865460ae52b\">\n",
              "    <div class=\"colab-df-container\">\n",
              "      <div>\n",
              "<style scoped>\n",
              "    .dataframe tbody tr th:only-of-type {\n",
              "        vertical-align: middle;\n",
              "    }\n",
              "\n",
              "    .dataframe tbody tr th {\n",
              "        vertical-align: top;\n",
              "    }\n",
              "\n",
              "    .dataframe thead th {\n",
              "        text-align: right;\n",
              "    }\n",
              "</style>\n",
              "<table border=\"1\" class=\"dataframe\">\n",
              "  <thead>\n",
              "    <tr style=\"text-align: right;\">\n",
              "      <th></th>\n",
              "      <th>capital</th>\n",
              "      <th>poblacion</th>\n",
              "      <th>sup. en km2</th>\n",
              "    </tr>\n",
              "  </thead>\n",
              "  <tbody>\n",
              "    <tr>\n",
              "      <th>Argentina</th>\n",
              "      <td>Buenos Aires</td>\n",
              "      <td>45380000</td>\n",
              "      <td>2780000</td>\n",
              "    </tr>\n",
              "    <tr>\n",
              "      <th>Brasil</th>\n",
              "      <td>Brasilia</td>\n",
              "      <td>212600000</td>\n",
              "      <td>8516000</td>\n",
              "    </tr>\n",
              "    <tr>\n",
              "      <th>Chile</th>\n",
              "      <td>Santiago de Chile</td>\n",
              "      <td>19120000</td>\n",
              "      <td>756950</td>\n",
              "    </tr>\n",
              "    <tr>\n",
              "      <th>Colombia</th>\n",
              "      <td>Bogotá</td>\n",
              "      <td>50880000</td>\n",
              "      <td>1143000</td>\n",
              "    </tr>\n",
              "    <tr>\n",
              "      <th>Ecuador</th>\n",
              "      <td>Quito</td>\n",
              "      <td>17640000</td>\n",
              "      <td>283560</td>\n",
              "    </tr>\n",
              "    <tr>\n",
              "      <th>Paraguay</th>\n",
              "      <td>Asunción</td>\n",
              "      <td>7133000</td>\n",
              "      <td>406752</td>\n",
              "    </tr>\n",
              "    <tr>\n",
              "      <th>Peru</th>\n",
              "      <td>Lima</td>\n",
              "      <td>32970000</td>\n",
              "      <td>1285216</td>\n",
              "    </tr>\n",
              "  </tbody>\n",
              "</table>\n",
              "</div>\n",
              "      <button class=\"colab-df-convert\" onclick=\"convertToInteractive('df-b2edf476-e4a4-4ba0-b43f-d865460ae52b')\"\n",
              "              title=\"Convert this dataframe to an interactive table.\"\n",
              "              style=\"display:none;\">\n",
              "        \n",
              "  <svg xmlns=\"http://www.w3.org/2000/svg\" height=\"24px\"viewBox=\"0 0 24 24\"\n",
              "       width=\"24px\">\n",
              "    <path d=\"M0 0h24v24H0V0z\" fill=\"none\"/>\n",
              "    <path d=\"M18.56 5.44l.94 2.06.94-2.06 2.06-.94-2.06-.94-.94-2.06-.94 2.06-2.06.94zm-11 1L8.5 8.5l.94-2.06 2.06-.94-2.06-.94L8.5 2.5l-.94 2.06-2.06.94zm10 10l.94 2.06.94-2.06 2.06-.94-2.06-.94-.94-2.06-.94 2.06-2.06.94z\"/><path d=\"M17.41 7.96l-1.37-1.37c-.4-.4-.92-.59-1.43-.59-.52 0-1.04.2-1.43.59L10.3 9.45l-7.72 7.72c-.78.78-.78 2.05 0 2.83L4 21.41c.39.39.9.59 1.41.59.51 0 1.02-.2 1.41-.59l7.78-7.78 2.81-2.81c.8-.78.8-2.07 0-2.86zM5.41 20L4 18.59l7.72-7.72 1.47 1.35L5.41 20z\"/>\n",
              "  </svg>\n",
              "      </button>\n",
              "      \n",
              "  <style>\n",
              "    .colab-df-container {\n",
              "      display:flex;\n",
              "      flex-wrap:wrap;\n",
              "      gap: 12px;\n",
              "    }\n",
              "\n",
              "    .colab-df-convert {\n",
              "      background-color: #E8F0FE;\n",
              "      border: none;\n",
              "      border-radius: 50%;\n",
              "      cursor: pointer;\n",
              "      display: none;\n",
              "      fill: #1967D2;\n",
              "      height: 32px;\n",
              "      padding: 0 0 0 0;\n",
              "      width: 32px;\n",
              "    }\n",
              "\n",
              "    .colab-df-convert:hover {\n",
              "      background-color: #E2EBFA;\n",
              "      box-shadow: 0px 1px 2px rgba(60, 64, 67, 0.3), 0px 1px 3px 1px rgba(60, 64, 67, 0.15);\n",
              "      fill: #174EA6;\n",
              "    }\n",
              "\n",
              "    [theme=dark] .colab-df-convert {\n",
              "      background-color: #3B4455;\n",
              "      fill: #D2E3FC;\n",
              "    }\n",
              "\n",
              "    [theme=dark] .colab-df-convert:hover {\n",
              "      background-color: #434B5C;\n",
              "      box-shadow: 0px 1px 3px 1px rgba(0, 0, 0, 0.15);\n",
              "      filter: drop-shadow(0px 1px 2px rgba(0, 0, 0, 0.3));\n",
              "      fill: #FFFFFF;\n",
              "    }\n",
              "  </style>\n",
              "\n",
              "      <script>\n",
              "        const buttonEl =\n",
              "          document.querySelector('#df-b2edf476-e4a4-4ba0-b43f-d865460ae52b button.colab-df-convert');\n",
              "        buttonEl.style.display =\n",
              "          google.colab.kernel.accessAllowed ? 'block' : 'none';\n",
              "\n",
              "        async function convertToInteractive(key) {\n",
              "          const element = document.querySelector('#df-b2edf476-e4a4-4ba0-b43f-d865460ae52b');\n",
              "          const dataTable =\n",
              "            await google.colab.kernel.invokeFunction('convertToInteractive',\n",
              "                                                     [key], {});\n",
              "          if (!dataTable) return;\n",
              "\n",
              "          const docLinkHtml = 'Like what you see? Visit the ' +\n",
              "            '<a target=\"_blank\" href=https://colab.research.google.com/notebooks/data_table.ipynb>data table notebook</a>'\n",
              "            + ' to learn more about interactive tables.';\n",
              "          element.innerHTML = '';\n",
              "          dataTable['output_type'] = 'display_data';\n",
              "          await google.colab.output.renderOutput(dataTable, element);\n",
              "          const docLink = document.createElement('div');\n",
              "          docLink.innerHTML = docLinkHtml;\n",
              "          element.appendChild(docLink);\n",
              "        }\n",
              "      </script>\n",
              "    </div>\n",
              "  </div>\n",
              "  "
            ]
          },
          "metadata": {},
          "execution_count": 64
        }
      ],
      "source": [
        "paises3"
      ]
    },
    {
      "cell_type": "markdown",
      "id": "ee0d266f-8c51-4863-89a0-b3b80cf4a80a",
      "metadata": {
        "id": "ee0d266f-8c51-4863-89a0-b3b80cf4a80a"
      },
      "source": [
        "Obtener el valor máximo de la columna población"
      ]
    },
    {
      "cell_type": "code",
      "execution_count": 65,
      "id": "b57ae067-d502-4adf-83a2-3cc951742fba",
      "metadata": {
        "id": "b57ae067-d502-4adf-83a2-3cc951742fba",
        "colab": {
          "base_uri": "https://localhost:8080/"
        },
        "outputId": "85354627-e3ac-4804-af96-5957c79729d1"
      },
      "outputs": [
        {
          "output_type": "execute_result",
          "data": {
            "text/plain": [
              "212600000"
            ]
          },
          "metadata": {},
          "execution_count": 65
        }
      ],
      "source": [
        "paises3.poblacion.max()"
      ]
    },
    {
      "cell_type": "markdown",
      "id": "d1fc87ab-69a5-40cd-bdf0-d494da7cbdc6",
      "metadata": {
        "id": "d1fc87ab-69a5-40cd-bdf0-d494da7cbdc6"
      },
      "source": [
        "Obtener la desviación estandar de la columna población"
      ]
    },
    {
      "cell_type": "code",
      "execution_count": 66,
      "id": "277be38e-5504-471e-885a-53efcdd7f9cf",
      "metadata": {
        "id": "277be38e-5504-471e-885a-53efcdd7f9cf",
        "colab": {
          "base_uri": "https://localhost:8080/"
        },
        "outputId": "151fc000-e9db-42c0-f6e7-897f1fe10499"
      },
      "outputs": [
        {
          "output_type": "execute_result",
          "data": {
            "text/plain": [
              "71188621.18043464"
            ]
          },
          "metadata": {},
          "execution_count": 66
        }
      ],
      "source": [
        "paises3.poblacion.std()"
      ]
    },
    {
      "cell_type": "markdown",
      "id": "fc5aba6c-ac78-4cf8-890d-584fb821794d",
      "metadata": {
        "id": "fc5aba6c-ac78-4cf8-890d-584fb821794d"
      },
      "source": [
        "__Ejercicio 23:__ Obtener un DataFrame con las columnas población y capital "
      ]
    },
    {
      "cell_type": "code",
      "execution_count": 67,
      "id": "de361afe-fceb-4937-a038-e98ba15858ad",
      "metadata": {
        "id": "de361afe-fceb-4937-a038-e98ba15858ad",
        "colab": {
          "base_uri": "https://localhost:8080/",
          "height": 269
        },
        "outputId": "b2961319-4462-4ee2-ebce-48b27d4a5acb"
      },
      "outputs": [
        {
          "output_type": "execute_result",
          "data": {
            "text/plain": [
              "                     capital  poblacion\n",
              "Argentina       Buenos Airea   45380000\n",
              "Brasil              Brasilia  212600000\n",
              "Chile      Santiago de Chile   19120000\n",
              "Colombia              Bogotá   50880000\n",
              "Ecuador                Quito   17640000\n",
              "Paraguay            Asunción    7133000\n",
              "Peru                    Lima   32970000"
            ],
            "text/html": [
              "\n",
              "  <div id=\"df-a1c65d8f-0410-4aac-8d6b-f63af281f663\">\n",
              "    <div class=\"colab-df-container\">\n",
              "      <div>\n",
              "<style scoped>\n",
              "    .dataframe tbody tr th:only-of-type {\n",
              "        vertical-align: middle;\n",
              "    }\n",
              "\n",
              "    .dataframe tbody tr th {\n",
              "        vertical-align: top;\n",
              "    }\n",
              "\n",
              "    .dataframe thead th {\n",
              "        text-align: right;\n",
              "    }\n",
              "</style>\n",
              "<table border=\"1\" class=\"dataframe\">\n",
              "  <thead>\n",
              "    <tr style=\"text-align: right;\">\n",
              "      <th></th>\n",
              "      <th>capital</th>\n",
              "      <th>poblacion</th>\n",
              "    </tr>\n",
              "  </thead>\n",
              "  <tbody>\n",
              "    <tr>\n",
              "      <th>Argentina</th>\n",
              "      <td>Buenos Airea</td>\n",
              "      <td>45380000</td>\n",
              "    </tr>\n",
              "    <tr>\n",
              "      <th>Brasil</th>\n",
              "      <td>Brasilia</td>\n",
              "      <td>212600000</td>\n",
              "    </tr>\n",
              "    <tr>\n",
              "      <th>Chile</th>\n",
              "      <td>Santiago de Chile</td>\n",
              "      <td>19120000</td>\n",
              "    </tr>\n",
              "    <tr>\n",
              "      <th>Colombia</th>\n",
              "      <td>Bogotá</td>\n",
              "      <td>50880000</td>\n",
              "    </tr>\n",
              "    <tr>\n",
              "      <th>Ecuador</th>\n",
              "      <td>Quito</td>\n",
              "      <td>17640000</td>\n",
              "    </tr>\n",
              "    <tr>\n",
              "      <th>Paraguay</th>\n",
              "      <td>Asunción</td>\n",
              "      <td>7133000</td>\n",
              "    </tr>\n",
              "    <tr>\n",
              "      <th>Peru</th>\n",
              "      <td>Lima</td>\n",
              "      <td>32970000</td>\n",
              "    </tr>\n",
              "  </tbody>\n",
              "</table>\n",
              "</div>\n",
              "      <button class=\"colab-df-convert\" onclick=\"convertToInteractive('df-a1c65d8f-0410-4aac-8d6b-f63af281f663')\"\n",
              "              title=\"Convert this dataframe to an interactive table.\"\n",
              "              style=\"display:none;\">\n",
              "        \n",
              "  <svg xmlns=\"http://www.w3.org/2000/svg\" height=\"24px\"viewBox=\"0 0 24 24\"\n",
              "       width=\"24px\">\n",
              "    <path d=\"M0 0h24v24H0V0z\" fill=\"none\"/>\n",
              "    <path d=\"M18.56 5.44l.94 2.06.94-2.06 2.06-.94-2.06-.94-.94-2.06-.94 2.06-2.06.94zm-11 1L8.5 8.5l.94-2.06 2.06-.94-2.06-.94L8.5 2.5l-.94 2.06-2.06.94zm10 10l.94 2.06.94-2.06 2.06-.94-2.06-.94-.94-2.06-.94 2.06-2.06.94z\"/><path d=\"M17.41 7.96l-1.37-1.37c-.4-.4-.92-.59-1.43-.59-.52 0-1.04.2-1.43.59L10.3 9.45l-7.72 7.72c-.78.78-.78 2.05 0 2.83L4 21.41c.39.39.9.59 1.41.59.51 0 1.02-.2 1.41-.59l7.78-7.78 2.81-2.81c.8-.78.8-2.07 0-2.86zM5.41 20L4 18.59l7.72-7.72 1.47 1.35L5.41 20z\"/>\n",
              "  </svg>\n",
              "      </button>\n",
              "      \n",
              "  <style>\n",
              "    .colab-df-container {\n",
              "      display:flex;\n",
              "      flex-wrap:wrap;\n",
              "      gap: 12px;\n",
              "    }\n",
              "\n",
              "    .colab-df-convert {\n",
              "      background-color: #E8F0FE;\n",
              "      border: none;\n",
              "      border-radius: 50%;\n",
              "      cursor: pointer;\n",
              "      display: none;\n",
              "      fill: #1967D2;\n",
              "      height: 32px;\n",
              "      padding: 0 0 0 0;\n",
              "      width: 32px;\n",
              "    }\n",
              "\n",
              "    .colab-df-convert:hover {\n",
              "      background-color: #E2EBFA;\n",
              "      box-shadow: 0px 1px 2px rgba(60, 64, 67, 0.3), 0px 1px 3px 1px rgba(60, 64, 67, 0.15);\n",
              "      fill: #174EA6;\n",
              "    }\n",
              "\n",
              "    [theme=dark] .colab-df-convert {\n",
              "      background-color: #3B4455;\n",
              "      fill: #D2E3FC;\n",
              "    }\n",
              "\n",
              "    [theme=dark] .colab-df-convert:hover {\n",
              "      background-color: #434B5C;\n",
              "      box-shadow: 0px 1px 3px 1px rgba(0, 0, 0, 0.15);\n",
              "      filter: drop-shadow(0px 1px 2px rgba(0, 0, 0, 0.3));\n",
              "      fill: #FFFFFF;\n",
              "    }\n",
              "  </style>\n",
              "\n",
              "      <script>\n",
              "        const buttonEl =\n",
              "          document.querySelector('#df-a1c65d8f-0410-4aac-8d6b-f63af281f663 button.colab-df-convert');\n",
              "        buttonEl.style.display =\n",
              "          google.colab.kernel.accessAllowed ? 'block' : 'none';\n",
              "\n",
              "        async function convertToInteractive(key) {\n",
              "          const element = document.querySelector('#df-a1c65d8f-0410-4aac-8d6b-f63af281f663');\n",
              "          const dataTable =\n",
              "            await google.colab.kernel.invokeFunction('convertToInteractive',\n",
              "                                                     [key], {});\n",
              "          if (!dataTable) return;\n",
              "\n",
              "          const docLinkHtml = 'Like what you see? Visit the ' +\n",
              "            '<a target=\"_blank\" href=https://colab.research.google.com/notebooks/data_table.ipynb>data table notebook</a>'\n",
              "            + ' to learn more about interactive tables.';\n",
              "          element.innerHTML = '';\n",
              "          dataTable['output_type'] = 'display_data';\n",
              "          await google.colab.output.renderOutput(dataTable, element);\n",
              "          const docLink = document.createElement('div');\n",
              "          docLink.innerHTML = docLinkHtml;\n",
              "          element.appendChild(docLink);\n",
              "        }\n",
              "      </script>\n",
              "    </div>\n",
              "  </div>\n",
              "  "
            ]
          },
          "metadata": {},
          "execution_count": 67
        }
      ],
      "source": [
        "paises4 = pd.DataFrame(datos, columns=[\"capital\", \"poblacion\"], index=datos[\"nombre\"])\n",
        "paises4"
      ]
    },
    {
      "cell_type": "code",
      "source": [
        "paises3[[\"capital\", \"poblacion\"]]"
      ],
      "metadata": {
        "colab": {
          "base_uri": "https://localhost:8080/",
          "height": 269
        },
        "id": "rtGko5SipH2z",
        "outputId": "4d1874ec-8a74-46a6-b578-5521709926ea"
      },
      "id": "rtGko5SipH2z",
      "execution_count": 68,
      "outputs": [
        {
          "output_type": "execute_result",
          "data": {
            "text/plain": [
              "                     capital  poblacion\n",
              "Argentina       Buenos Aires   45380000\n",
              "Brasil              Brasilia  212600000\n",
              "Chile      Santiago de Chile   19120000\n",
              "Colombia              Bogotá   50880000\n",
              "Ecuador                Quito   17640000\n",
              "Paraguay            Asunción    7133000\n",
              "Peru                    Lima   32970000"
            ],
            "text/html": [
              "\n",
              "  <div id=\"df-0074224e-8f60-45db-8c4d-214a8ac6dc09\">\n",
              "    <div class=\"colab-df-container\">\n",
              "      <div>\n",
              "<style scoped>\n",
              "    .dataframe tbody tr th:only-of-type {\n",
              "        vertical-align: middle;\n",
              "    }\n",
              "\n",
              "    .dataframe tbody tr th {\n",
              "        vertical-align: top;\n",
              "    }\n",
              "\n",
              "    .dataframe thead th {\n",
              "        text-align: right;\n",
              "    }\n",
              "</style>\n",
              "<table border=\"1\" class=\"dataframe\">\n",
              "  <thead>\n",
              "    <tr style=\"text-align: right;\">\n",
              "      <th></th>\n",
              "      <th>capital</th>\n",
              "      <th>poblacion</th>\n",
              "    </tr>\n",
              "  </thead>\n",
              "  <tbody>\n",
              "    <tr>\n",
              "      <th>Argentina</th>\n",
              "      <td>Buenos Aires</td>\n",
              "      <td>45380000</td>\n",
              "    </tr>\n",
              "    <tr>\n",
              "      <th>Brasil</th>\n",
              "      <td>Brasilia</td>\n",
              "      <td>212600000</td>\n",
              "    </tr>\n",
              "    <tr>\n",
              "      <th>Chile</th>\n",
              "      <td>Santiago de Chile</td>\n",
              "      <td>19120000</td>\n",
              "    </tr>\n",
              "    <tr>\n",
              "      <th>Colombia</th>\n",
              "      <td>Bogotá</td>\n",
              "      <td>50880000</td>\n",
              "    </tr>\n",
              "    <tr>\n",
              "      <th>Ecuador</th>\n",
              "      <td>Quito</td>\n",
              "      <td>17640000</td>\n",
              "    </tr>\n",
              "    <tr>\n",
              "      <th>Paraguay</th>\n",
              "      <td>Asunción</td>\n",
              "      <td>7133000</td>\n",
              "    </tr>\n",
              "    <tr>\n",
              "      <th>Peru</th>\n",
              "      <td>Lima</td>\n",
              "      <td>32970000</td>\n",
              "    </tr>\n",
              "  </tbody>\n",
              "</table>\n",
              "</div>\n",
              "      <button class=\"colab-df-convert\" onclick=\"convertToInteractive('df-0074224e-8f60-45db-8c4d-214a8ac6dc09')\"\n",
              "              title=\"Convert this dataframe to an interactive table.\"\n",
              "              style=\"display:none;\">\n",
              "        \n",
              "  <svg xmlns=\"http://www.w3.org/2000/svg\" height=\"24px\"viewBox=\"0 0 24 24\"\n",
              "       width=\"24px\">\n",
              "    <path d=\"M0 0h24v24H0V0z\" fill=\"none\"/>\n",
              "    <path d=\"M18.56 5.44l.94 2.06.94-2.06 2.06-.94-2.06-.94-.94-2.06-.94 2.06-2.06.94zm-11 1L8.5 8.5l.94-2.06 2.06-.94-2.06-.94L8.5 2.5l-.94 2.06-2.06.94zm10 10l.94 2.06.94-2.06 2.06-.94-2.06-.94-.94-2.06-.94 2.06-2.06.94z\"/><path d=\"M17.41 7.96l-1.37-1.37c-.4-.4-.92-.59-1.43-.59-.52 0-1.04.2-1.43.59L10.3 9.45l-7.72 7.72c-.78.78-.78 2.05 0 2.83L4 21.41c.39.39.9.59 1.41.59.51 0 1.02-.2 1.41-.59l7.78-7.78 2.81-2.81c.8-.78.8-2.07 0-2.86zM5.41 20L4 18.59l7.72-7.72 1.47 1.35L5.41 20z\"/>\n",
              "  </svg>\n",
              "      </button>\n",
              "      \n",
              "  <style>\n",
              "    .colab-df-container {\n",
              "      display:flex;\n",
              "      flex-wrap:wrap;\n",
              "      gap: 12px;\n",
              "    }\n",
              "\n",
              "    .colab-df-convert {\n",
              "      background-color: #E8F0FE;\n",
              "      border: none;\n",
              "      border-radius: 50%;\n",
              "      cursor: pointer;\n",
              "      display: none;\n",
              "      fill: #1967D2;\n",
              "      height: 32px;\n",
              "      padding: 0 0 0 0;\n",
              "      width: 32px;\n",
              "    }\n",
              "\n",
              "    .colab-df-convert:hover {\n",
              "      background-color: #E2EBFA;\n",
              "      box-shadow: 0px 1px 2px rgba(60, 64, 67, 0.3), 0px 1px 3px 1px rgba(60, 64, 67, 0.15);\n",
              "      fill: #174EA6;\n",
              "    }\n",
              "\n",
              "    [theme=dark] .colab-df-convert {\n",
              "      background-color: #3B4455;\n",
              "      fill: #D2E3FC;\n",
              "    }\n",
              "\n",
              "    [theme=dark] .colab-df-convert:hover {\n",
              "      background-color: #434B5C;\n",
              "      box-shadow: 0px 1px 3px 1px rgba(0, 0, 0, 0.15);\n",
              "      filter: drop-shadow(0px 1px 2px rgba(0, 0, 0, 0.3));\n",
              "      fill: #FFFFFF;\n",
              "    }\n",
              "  </style>\n",
              "\n",
              "      <script>\n",
              "        const buttonEl =\n",
              "          document.querySelector('#df-0074224e-8f60-45db-8c4d-214a8ac6dc09 button.colab-df-convert');\n",
              "        buttonEl.style.display =\n",
              "          google.colab.kernel.accessAllowed ? 'block' : 'none';\n",
              "\n",
              "        async function convertToInteractive(key) {\n",
              "          const element = document.querySelector('#df-0074224e-8f60-45db-8c4d-214a8ac6dc09');\n",
              "          const dataTable =\n",
              "            await google.colab.kernel.invokeFunction('convertToInteractive',\n",
              "                                                     [key], {});\n",
              "          if (!dataTable) return;\n",
              "\n",
              "          const docLinkHtml = 'Like what you see? Visit the ' +\n",
              "            '<a target=\"_blank\" href=https://colab.research.google.com/notebooks/data_table.ipynb>data table notebook</a>'\n",
              "            + ' to learn more about interactive tables.';\n",
              "          element.innerHTML = '';\n",
              "          dataTable['output_type'] = 'display_data';\n",
              "          await google.colab.output.renderOutput(dataTable, element);\n",
              "          const docLink = document.createElement('div');\n",
              "          docLink.innerHTML = docLinkHtml;\n",
              "          element.appendChild(docLink);\n",
              "        }\n",
              "      </script>\n",
              "    </div>\n",
              "  </div>\n",
              "  "
            ]
          },
          "metadata": {},
          "execution_count": 68
        }
      ]
    },
    {
      "cell_type": "markdown",
      "id": "d0e78aa2-8b82-48a2-84bc-b24ed2c0fe3f",
      "metadata": {
        "id": "d0e78aa2-8b82-48a2-84bc-b24ed2c0fe3f"
      },
      "source": [
        "__Ejercicio 24:__ Obtener únicamente los datos de los paises con una población mayor a 50,000,000"
      ]
    },
    {
      "cell_type": "code",
      "execution_count": 69,
      "id": "14d30d7d-fac4-4677-a15c-dd0fd92007db",
      "metadata": {
        "id": "14d30d7d-fac4-4677-a15c-dd0fd92007db",
        "colab": {
          "base_uri": "https://localhost:8080/",
          "height": 112
        },
        "outputId": "51d97b70-0f29-43c3-e6df-e880035f420d"
      },
      "outputs": [
        {
          "output_type": "execute_result",
          "data": {
            "text/plain": [
              "           capital  poblacion  sup. en km2\n",
              "Brasil    Brasilia  212600000      8516000\n",
              "Colombia    Bogotá   50880000      1143000"
            ],
            "text/html": [
              "\n",
              "  <div id=\"df-bbfa2163-3eac-48ba-99f1-b1cadf7c2761\">\n",
              "    <div class=\"colab-df-container\">\n",
              "      <div>\n",
              "<style scoped>\n",
              "    .dataframe tbody tr th:only-of-type {\n",
              "        vertical-align: middle;\n",
              "    }\n",
              "\n",
              "    .dataframe tbody tr th {\n",
              "        vertical-align: top;\n",
              "    }\n",
              "\n",
              "    .dataframe thead th {\n",
              "        text-align: right;\n",
              "    }\n",
              "</style>\n",
              "<table border=\"1\" class=\"dataframe\">\n",
              "  <thead>\n",
              "    <tr style=\"text-align: right;\">\n",
              "      <th></th>\n",
              "      <th>capital</th>\n",
              "      <th>poblacion</th>\n",
              "      <th>sup. en km2</th>\n",
              "    </tr>\n",
              "  </thead>\n",
              "  <tbody>\n",
              "    <tr>\n",
              "      <th>Brasil</th>\n",
              "      <td>Brasilia</td>\n",
              "      <td>212600000</td>\n",
              "      <td>8516000</td>\n",
              "    </tr>\n",
              "    <tr>\n",
              "      <th>Colombia</th>\n",
              "      <td>Bogotá</td>\n",
              "      <td>50880000</td>\n",
              "      <td>1143000</td>\n",
              "    </tr>\n",
              "  </tbody>\n",
              "</table>\n",
              "</div>\n",
              "      <button class=\"colab-df-convert\" onclick=\"convertToInteractive('df-bbfa2163-3eac-48ba-99f1-b1cadf7c2761')\"\n",
              "              title=\"Convert this dataframe to an interactive table.\"\n",
              "              style=\"display:none;\">\n",
              "        \n",
              "  <svg xmlns=\"http://www.w3.org/2000/svg\" height=\"24px\"viewBox=\"0 0 24 24\"\n",
              "       width=\"24px\">\n",
              "    <path d=\"M0 0h24v24H0V0z\" fill=\"none\"/>\n",
              "    <path d=\"M18.56 5.44l.94 2.06.94-2.06 2.06-.94-2.06-.94-.94-2.06-.94 2.06-2.06.94zm-11 1L8.5 8.5l.94-2.06 2.06-.94-2.06-.94L8.5 2.5l-.94 2.06-2.06.94zm10 10l.94 2.06.94-2.06 2.06-.94-2.06-.94-.94-2.06-.94 2.06-2.06.94z\"/><path d=\"M17.41 7.96l-1.37-1.37c-.4-.4-.92-.59-1.43-.59-.52 0-1.04.2-1.43.59L10.3 9.45l-7.72 7.72c-.78.78-.78 2.05 0 2.83L4 21.41c.39.39.9.59 1.41.59.51 0 1.02-.2 1.41-.59l7.78-7.78 2.81-2.81c.8-.78.8-2.07 0-2.86zM5.41 20L4 18.59l7.72-7.72 1.47 1.35L5.41 20z\"/>\n",
              "  </svg>\n",
              "      </button>\n",
              "      \n",
              "  <style>\n",
              "    .colab-df-container {\n",
              "      display:flex;\n",
              "      flex-wrap:wrap;\n",
              "      gap: 12px;\n",
              "    }\n",
              "\n",
              "    .colab-df-convert {\n",
              "      background-color: #E8F0FE;\n",
              "      border: none;\n",
              "      border-radius: 50%;\n",
              "      cursor: pointer;\n",
              "      display: none;\n",
              "      fill: #1967D2;\n",
              "      height: 32px;\n",
              "      padding: 0 0 0 0;\n",
              "      width: 32px;\n",
              "    }\n",
              "\n",
              "    .colab-df-convert:hover {\n",
              "      background-color: #E2EBFA;\n",
              "      box-shadow: 0px 1px 2px rgba(60, 64, 67, 0.3), 0px 1px 3px 1px rgba(60, 64, 67, 0.15);\n",
              "      fill: #174EA6;\n",
              "    }\n",
              "\n",
              "    [theme=dark] .colab-df-convert {\n",
              "      background-color: #3B4455;\n",
              "      fill: #D2E3FC;\n",
              "    }\n",
              "\n",
              "    [theme=dark] .colab-df-convert:hover {\n",
              "      background-color: #434B5C;\n",
              "      box-shadow: 0px 1px 3px 1px rgba(0, 0, 0, 0.15);\n",
              "      filter: drop-shadow(0px 1px 2px rgba(0, 0, 0, 0.3));\n",
              "      fill: #FFFFFF;\n",
              "    }\n",
              "  </style>\n",
              "\n",
              "      <script>\n",
              "        const buttonEl =\n",
              "          document.querySelector('#df-bbfa2163-3eac-48ba-99f1-b1cadf7c2761 button.colab-df-convert');\n",
              "        buttonEl.style.display =\n",
              "          google.colab.kernel.accessAllowed ? 'block' : 'none';\n",
              "\n",
              "        async function convertToInteractive(key) {\n",
              "          const element = document.querySelector('#df-bbfa2163-3eac-48ba-99f1-b1cadf7c2761');\n",
              "          const dataTable =\n",
              "            await google.colab.kernel.invokeFunction('convertToInteractive',\n",
              "                                                     [key], {});\n",
              "          if (!dataTable) return;\n",
              "\n",
              "          const docLinkHtml = 'Like what you see? Visit the ' +\n",
              "            '<a target=\"_blank\" href=https://colab.research.google.com/notebooks/data_table.ipynb>data table notebook</a>'\n",
              "            + ' to learn more about interactive tables.';\n",
              "          element.innerHTML = '';\n",
              "          dataTable['output_type'] = 'display_data';\n",
              "          await google.colab.output.renderOutput(dataTable, element);\n",
              "          const docLink = document.createElement('div');\n",
              "          docLink.innerHTML = docLinkHtml;\n",
              "          element.appendChild(docLink);\n",
              "        }\n",
              "      </script>\n",
              "    </div>\n",
              "  </div>\n",
              "  "
            ]
          },
          "metadata": {},
          "execution_count": 69
        }
      ],
      "source": [
        "paises3.loc[paises3.poblacion > 50000000]"
      ]
    },
    {
      "cell_type": "markdown",
      "id": "bbc4429d-de7b-40ce-b719-1a74e6d5b8b1",
      "metadata": {
        "id": "bbc4429d-de7b-40ce-b719-1a74e6d5b8b1"
      },
      "source": [
        "__Ejercicio 25:__"
      ]
    },
    {
      "cell_type": "markdown",
      "id": "1c4a734d-f289-427a-846c-fdf9a006ecf1",
      "metadata": {
        "id": "1c4a734d-f289-427a-846c-fdf9a006ecf1"
      },
      "source": [
        " Agregar una columna al DataFrame \"paises\" que contenga la población en millones de habitantes"
      ]
    },
    {
      "cell_type": "code",
      "execution_count": 70,
      "id": "bde20776-6f31-4bd3-9554-b7038341175f",
      "metadata": {
        "id": "bde20776-6f31-4bd3-9554-b7038341175f",
        "colab": {
          "base_uri": "https://localhost:8080/",
          "height": 269
        },
        "outputId": "547d68b6-d19c-475a-8fb1-927b681173b9"
      },
      "outputs": [
        {
          "output_type": "execute_result",
          "data": {
            "text/plain": [
              "                     capital  poblacion  sup. en km2\n",
              "Argentina       Buenos Aires   45380000      2780000\n",
              "Brasil              Brasilia  212600000      8516000\n",
              "Chile      Santiago de Chile   19120000       756950\n",
              "Colombia              Bogotá   50880000      1143000\n",
              "Ecuador                Quito   17640000       283560\n",
              "Paraguay            Asunción    7133000       406752\n",
              "Peru                    Lima   32970000      1285216"
            ],
            "text/html": [
              "\n",
              "  <div id=\"df-df5959e6-1ff9-4804-9c32-0bbaececcff6\">\n",
              "    <div class=\"colab-df-container\">\n",
              "      <div>\n",
              "<style scoped>\n",
              "    .dataframe tbody tr th:only-of-type {\n",
              "        vertical-align: middle;\n",
              "    }\n",
              "\n",
              "    .dataframe tbody tr th {\n",
              "        vertical-align: top;\n",
              "    }\n",
              "\n",
              "    .dataframe thead th {\n",
              "        text-align: right;\n",
              "    }\n",
              "</style>\n",
              "<table border=\"1\" class=\"dataframe\">\n",
              "  <thead>\n",
              "    <tr style=\"text-align: right;\">\n",
              "      <th></th>\n",
              "      <th>capital</th>\n",
              "      <th>poblacion</th>\n",
              "      <th>sup. en km2</th>\n",
              "    </tr>\n",
              "  </thead>\n",
              "  <tbody>\n",
              "    <tr>\n",
              "      <th>Argentina</th>\n",
              "      <td>Buenos Aires</td>\n",
              "      <td>45380000</td>\n",
              "      <td>2780000</td>\n",
              "    </tr>\n",
              "    <tr>\n",
              "      <th>Brasil</th>\n",
              "      <td>Brasilia</td>\n",
              "      <td>212600000</td>\n",
              "      <td>8516000</td>\n",
              "    </tr>\n",
              "    <tr>\n",
              "      <th>Chile</th>\n",
              "      <td>Santiago de Chile</td>\n",
              "      <td>19120000</td>\n",
              "      <td>756950</td>\n",
              "    </tr>\n",
              "    <tr>\n",
              "      <th>Colombia</th>\n",
              "      <td>Bogotá</td>\n",
              "      <td>50880000</td>\n",
              "      <td>1143000</td>\n",
              "    </tr>\n",
              "    <tr>\n",
              "      <th>Ecuador</th>\n",
              "      <td>Quito</td>\n",
              "      <td>17640000</td>\n",
              "      <td>283560</td>\n",
              "    </tr>\n",
              "    <tr>\n",
              "      <th>Paraguay</th>\n",
              "      <td>Asunción</td>\n",
              "      <td>7133000</td>\n",
              "      <td>406752</td>\n",
              "    </tr>\n",
              "    <tr>\n",
              "      <th>Peru</th>\n",
              "      <td>Lima</td>\n",
              "      <td>32970000</td>\n",
              "      <td>1285216</td>\n",
              "    </tr>\n",
              "  </tbody>\n",
              "</table>\n",
              "</div>\n",
              "      <button class=\"colab-df-convert\" onclick=\"convertToInteractive('df-df5959e6-1ff9-4804-9c32-0bbaececcff6')\"\n",
              "              title=\"Convert this dataframe to an interactive table.\"\n",
              "              style=\"display:none;\">\n",
              "        \n",
              "  <svg xmlns=\"http://www.w3.org/2000/svg\" height=\"24px\"viewBox=\"0 0 24 24\"\n",
              "       width=\"24px\">\n",
              "    <path d=\"M0 0h24v24H0V0z\" fill=\"none\"/>\n",
              "    <path d=\"M18.56 5.44l.94 2.06.94-2.06 2.06-.94-2.06-.94-.94-2.06-.94 2.06-2.06.94zm-11 1L8.5 8.5l.94-2.06 2.06-.94-2.06-.94L8.5 2.5l-.94 2.06-2.06.94zm10 10l.94 2.06.94-2.06 2.06-.94-2.06-.94-.94-2.06-.94 2.06-2.06.94z\"/><path d=\"M17.41 7.96l-1.37-1.37c-.4-.4-.92-.59-1.43-.59-.52 0-1.04.2-1.43.59L10.3 9.45l-7.72 7.72c-.78.78-.78 2.05 0 2.83L4 21.41c.39.39.9.59 1.41.59.51 0 1.02-.2 1.41-.59l7.78-7.78 2.81-2.81c.8-.78.8-2.07 0-2.86zM5.41 20L4 18.59l7.72-7.72 1.47 1.35L5.41 20z\"/>\n",
              "  </svg>\n",
              "      </button>\n",
              "      \n",
              "  <style>\n",
              "    .colab-df-container {\n",
              "      display:flex;\n",
              "      flex-wrap:wrap;\n",
              "      gap: 12px;\n",
              "    }\n",
              "\n",
              "    .colab-df-convert {\n",
              "      background-color: #E8F0FE;\n",
              "      border: none;\n",
              "      border-radius: 50%;\n",
              "      cursor: pointer;\n",
              "      display: none;\n",
              "      fill: #1967D2;\n",
              "      height: 32px;\n",
              "      padding: 0 0 0 0;\n",
              "      width: 32px;\n",
              "    }\n",
              "\n",
              "    .colab-df-convert:hover {\n",
              "      background-color: #E2EBFA;\n",
              "      box-shadow: 0px 1px 2px rgba(60, 64, 67, 0.3), 0px 1px 3px 1px rgba(60, 64, 67, 0.15);\n",
              "      fill: #174EA6;\n",
              "    }\n",
              "\n",
              "    [theme=dark] .colab-df-convert {\n",
              "      background-color: #3B4455;\n",
              "      fill: #D2E3FC;\n",
              "    }\n",
              "\n",
              "    [theme=dark] .colab-df-convert:hover {\n",
              "      background-color: #434B5C;\n",
              "      box-shadow: 0px 1px 3px 1px rgba(0, 0, 0, 0.15);\n",
              "      filter: drop-shadow(0px 1px 2px rgba(0, 0, 0, 0.3));\n",
              "      fill: #FFFFFF;\n",
              "    }\n",
              "  </style>\n",
              "\n",
              "      <script>\n",
              "        const buttonEl =\n",
              "          document.querySelector('#df-df5959e6-1ff9-4804-9c32-0bbaececcff6 button.colab-df-convert');\n",
              "        buttonEl.style.display =\n",
              "          google.colab.kernel.accessAllowed ? 'block' : 'none';\n",
              "\n",
              "        async function convertToInteractive(key) {\n",
              "          const element = document.querySelector('#df-df5959e6-1ff9-4804-9c32-0bbaececcff6');\n",
              "          const dataTable =\n",
              "            await google.colab.kernel.invokeFunction('convertToInteractive',\n",
              "                                                     [key], {});\n",
              "          if (!dataTable) return;\n",
              "\n",
              "          const docLinkHtml = 'Like what you see? Visit the ' +\n",
              "            '<a target=\"_blank\" href=https://colab.research.google.com/notebooks/data_table.ipynb>data table notebook</a>'\n",
              "            + ' to learn more about interactive tables.';\n",
              "          element.innerHTML = '';\n",
              "          dataTable['output_type'] = 'display_data';\n",
              "          await google.colab.output.renderOutput(dataTable, element);\n",
              "          const docLink = document.createElement('div');\n",
              "          docLink.innerHTML = docLinkHtml;\n",
              "          element.appendChild(docLink);\n",
              "        }\n",
              "      </script>\n",
              "    </div>\n",
              "  </div>\n",
              "  "
            ]
          },
          "metadata": {},
          "execution_count": 70
        }
      ],
      "source": [
        "paises3"
      ]
    },
    {
      "cell_type": "code",
      "execution_count": 71,
      "id": "2477bed2-47d4-4001-b8b2-66b7a0d28a84",
      "metadata": {
        "id": "2477bed2-47d4-4001-b8b2-66b7a0d28a84",
        "colab": {
          "base_uri": "https://localhost:8080/",
          "height": 269
        },
        "outputId": "00a2bf91-dfeb-4ca9-8791-1419fc7da86b"
      },
      "outputs": [
        {
          "output_type": "execute_result",
          "data": {
            "text/plain": [
              "                     capital  poblacion  sup. en km2  pob. en MM\n",
              "Argentina       Buenos Aires   45380000      2780000      45.380\n",
              "Brasil              Brasilia  212600000      8516000     212.600\n",
              "Chile      Santiago de Chile   19120000       756950      19.120\n",
              "Colombia              Bogotá   50880000      1143000      50.880\n",
              "Ecuador                Quito   17640000       283560      17.640\n",
              "Paraguay            Asunción    7133000       406752       7.133\n",
              "Peru                    Lima   32970000      1285216      32.970"
            ],
            "text/html": [
              "\n",
              "  <div id=\"df-0522401b-973b-4cd2-81a9-dc9b83f8a598\">\n",
              "    <div class=\"colab-df-container\">\n",
              "      <div>\n",
              "<style scoped>\n",
              "    .dataframe tbody tr th:only-of-type {\n",
              "        vertical-align: middle;\n",
              "    }\n",
              "\n",
              "    .dataframe tbody tr th {\n",
              "        vertical-align: top;\n",
              "    }\n",
              "\n",
              "    .dataframe thead th {\n",
              "        text-align: right;\n",
              "    }\n",
              "</style>\n",
              "<table border=\"1\" class=\"dataframe\">\n",
              "  <thead>\n",
              "    <tr style=\"text-align: right;\">\n",
              "      <th></th>\n",
              "      <th>capital</th>\n",
              "      <th>poblacion</th>\n",
              "      <th>sup. en km2</th>\n",
              "      <th>pob. en MM</th>\n",
              "    </tr>\n",
              "  </thead>\n",
              "  <tbody>\n",
              "    <tr>\n",
              "      <th>Argentina</th>\n",
              "      <td>Buenos Aires</td>\n",
              "      <td>45380000</td>\n",
              "      <td>2780000</td>\n",
              "      <td>45.380</td>\n",
              "    </tr>\n",
              "    <tr>\n",
              "      <th>Brasil</th>\n",
              "      <td>Brasilia</td>\n",
              "      <td>212600000</td>\n",
              "      <td>8516000</td>\n",
              "      <td>212.600</td>\n",
              "    </tr>\n",
              "    <tr>\n",
              "      <th>Chile</th>\n",
              "      <td>Santiago de Chile</td>\n",
              "      <td>19120000</td>\n",
              "      <td>756950</td>\n",
              "      <td>19.120</td>\n",
              "    </tr>\n",
              "    <tr>\n",
              "      <th>Colombia</th>\n",
              "      <td>Bogotá</td>\n",
              "      <td>50880000</td>\n",
              "      <td>1143000</td>\n",
              "      <td>50.880</td>\n",
              "    </tr>\n",
              "    <tr>\n",
              "      <th>Ecuador</th>\n",
              "      <td>Quito</td>\n",
              "      <td>17640000</td>\n",
              "      <td>283560</td>\n",
              "      <td>17.640</td>\n",
              "    </tr>\n",
              "    <tr>\n",
              "      <th>Paraguay</th>\n",
              "      <td>Asunción</td>\n",
              "      <td>7133000</td>\n",
              "      <td>406752</td>\n",
              "      <td>7.133</td>\n",
              "    </tr>\n",
              "    <tr>\n",
              "      <th>Peru</th>\n",
              "      <td>Lima</td>\n",
              "      <td>32970000</td>\n",
              "      <td>1285216</td>\n",
              "      <td>32.970</td>\n",
              "    </tr>\n",
              "  </tbody>\n",
              "</table>\n",
              "</div>\n",
              "      <button class=\"colab-df-convert\" onclick=\"convertToInteractive('df-0522401b-973b-4cd2-81a9-dc9b83f8a598')\"\n",
              "              title=\"Convert this dataframe to an interactive table.\"\n",
              "              style=\"display:none;\">\n",
              "        \n",
              "  <svg xmlns=\"http://www.w3.org/2000/svg\" height=\"24px\"viewBox=\"0 0 24 24\"\n",
              "       width=\"24px\">\n",
              "    <path d=\"M0 0h24v24H0V0z\" fill=\"none\"/>\n",
              "    <path d=\"M18.56 5.44l.94 2.06.94-2.06 2.06-.94-2.06-.94-.94-2.06-.94 2.06-2.06.94zm-11 1L8.5 8.5l.94-2.06 2.06-.94-2.06-.94L8.5 2.5l-.94 2.06-2.06.94zm10 10l.94 2.06.94-2.06 2.06-.94-2.06-.94-.94-2.06-.94 2.06-2.06.94z\"/><path d=\"M17.41 7.96l-1.37-1.37c-.4-.4-.92-.59-1.43-.59-.52 0-1.04.2-1.43.59L10.3 9.45l-7.72 7.72c-.78.78-.78 2.05 0 2.83L4 21.41c.39.39.9.59 1.41.59.51 0 1.02-.2 1.41-.59l7.78-7.78 2.81-2.81c.8-.78.8-2.07 0-2.86zM5.41 20L4 18.59l7.72-7.72 1.47 1.35L5.41 20z\"/>\n",
              "  </svg>\n",
              "      </button>\n",
              "      \n",
              "  <style>\n",
              "    .colab-df-container {\n",
              "      display:flex;\n",
              "      flex-wrap:wrap;\n",
              "      gap: 12px;\n",
              "    }\n",
              "\n",
              "    .colab-df-convert {\n",
              "      background-color: #E8F0FE;\n",
              "      border: none;\n",
              "      border-radius: 50%;\n",
              "      cursor: pointer;\n",
              "      display: none;\n",
              "      fill: #1967D2;\n",
              "      height: 32px;\n",
              "      padding: 0 0 0 0;\n",
              "      width: 32px;\n",
              "    }\n",
              "\n",
              "    .colab-df-convert:hover {\n",
              "      background-color: #E2EBFA;\n",
              "      box-shadow: 0px 1px 2px rgba(60, 64, 67, 0.3), 0px 1px 3px 1px rgba(60, 64, 67, 0.15);\n",
              "      fill: #174EA6;\n",
              "    }\n",
              "\n",
              "    [theme=dark] .colab-df-convert {\n",
              "      background-color: #3B4455;\n",
              "      fill: #D2E3FC;\n",
              "    }\n",
              "\n",
              "    [theme=dark] .colab-df-convert:hover {\n",
              "      background-color: #434B5C;\n",
              "      box-shadow: 0px 1px 3px 1px rgba(0, 0, 0, 0.15);\n",
              "      filter: drop-shadow(0px 1px 2px rgba(0, 0, 0, 0.3));\n",
              "      fill: #FFFFFF;\n",
              "    }\n",
              "  </style>\n",
              "\n",
              "      <script>\n",
              "        const buttonEl =\n",
              "          document.querySelector('#df-0522401b-973b-4cd2-81a9-dc9b83f8a598 button.colab-df-convert');\n",
              "        buttonEl.style.display =\n",
              "          google.colab.kernel.accessAllowed ? 'block' : 'none';\n",
              "\n",
              "        async function convertToInteractive(key) {\n",
              "          const element = document.querySelector('#df-0522401b-973b-4cd2-81a9-dc9b83f8a598');\n",
              "          const dataTable =\n",
              "            await google.colab.kernel.invokeFunction('convertToInteractive',\n",
              "                                                     [key], {});\n",
              "          if (!dataTable) return;\n",
              "\n",
              "          const docLinkHtml = 'Like what you see? Visit the ' +\n",
              "            '<a target=\"_blank\" href=https://colab.research.google.com/notebooks/data_table.ipynb>data table notebook</a>'\n",
              "            + ' to learn more about interactive tables.';\n",
              "          element.innerHTML = '';\n",
              "          dataTable['output_type'] = 'display_data';\n",
              "          await google.colab.output.renderOutput(dataTable, element);\n",
              "          const docLink = document.createElement('div');\n",
              "          docLink.innerHTML = docLinkHtml;\n",
              "          element.appendChild(docLink);\n",
              "        }\n",
              "      </script>\n",
              "    </div>\n",
              "  </div>\n",
              "  "
            ]
          },
          "metadata": {},
          "execution_count": 71
        }
      ],
      "source": [
        "paises3[\"pob. en MM\"] = paises3.poblacion/1000000\n",
        "paises3"
      ]
    },
    {
      "cell_type": "markdown",
      "id": "52ddd9fe-36e5-41ab-ab25-b05df4edb325",
      "metadata": {
        "id": "52ddd9fe-36e5-41ab-ab25-b05df4edb325"
      },
      "source": [
        "Volver a agregar una columna al DataFrame \"paises\" que contenga la población en millones de habitantes, utilizando la función __apply__"
      ]
    },
    {
      "cell_type": "code",
      "execution_count": 71,
      "id": "50c438d3-a991-47c2-8615-67fb3352df86",
      "metadata": {
        "id": "50c438d3-a991-47c2-8615-67fb3352df86"
      },
      "outputs": [],
      "source": [
        " "
      ]
    },
    {
      "cell_type": "code",
      "execution_count": 71,
      "id": "13495445-04d2-4eef-af06-f87bcc63d7ab",
      "metadata": {
        "id": "13495445-04d2-4eef-af06-f87bcc63d7ab"
      },
      "outputs": [],
      "source": []
    },
    {
      "cell_type": "markdown",
      "id": "f96ba9cc-6f79-4c81-8e0a-33be51711c49",
      "metadata": {
        "id": "f96ba9cc-6f79-4c81-8e0a-33be51711c49"
      },
      "source": [
        "__Ejercicio 26:__ Agregar una columna al DataFrame \"paises\" que contenga la población por cada Km2 de superficie, utilizando la función apply"
      ]
    },
    {
      "cell_type": "code",
      "execution_count": 72,
      "id": "73540771-223f-4993-9f90-6ff60f11bb5e",
      "metadata": {
        "id": "73540771-223f-4993-9f90-6ff60f11bb5e"
      },
      "outputs": [],
      "source": [
        "def densidad(df):\n",
        "  return df[\"poblacion\"]/df[\"sup. en km2\"]\n",
        "\n",
        "paises3[\"densidad pob\"] = paises3.apply(densidad, axis=1)"
      ]
    },
    {
      "cell_type": "code",
      "execution_count": 73,
      "id": "7d7c5e3a-e3cf-4281-b797-591516cb554d",
      "metadata": {
        "id": "7d7c5e3a-e3cf-4281-b797-591516cb554d",
        "colab": {
          "base_uri": "https://localhost:8080/",
          "height": 269
        },
        "outputId": "d03cb9e2-1d3d-4dda-93ae-09712f2e1262"
      },
      "outputs": [
        {
          "output_type": "execute_result",
          "data": {
            "text/plain": [
              "                     capital  poblacion  sup. en km2  pob. en MM  densidad pob\n",
              "Argentina       Buenos Aires   45380000      2780000      45.380     16.323741\n",
              "Brasil              Brasilia  212600000      8516000     212.600     24.964772\n",
              "Chile      Santiago de Chile   19120000       756950      19.120     25.259264\n",
              "Colombia              Bogotá   50880000      1143000      50.880     44.514436\n",
              "Ecuador                Quito   17640000       283560      17.640     62.209056\n",
              "Paraguay            Asunción    7133000       406752       7.133     17.536484\n",
              "Peru                    Lima   32970000      1285216      32.970     25.653275"
            ],
            "text/html": [
              "\n",
              "  <div id=\"df-7f69a918-dc5e-4d02-b085-33e801155baf\">\n",
              "    <div class=\"colab-df-container\">\n",
              "      <div>\n",
              "<style scoped>\n",
              "    .dataframe tbody tr th:only-of-type {\n",
              "        vertical-align: middle;\n",
              "    }\n",
              "\n",
              "    .dataframe tbody tr th {\n",
              "        vertical-align: top;\n",
              "    }\n",
              "\n",
              "    .dataframe thead th {\n",
              "        text-align: right;\n",
              "    }\n",
              "</style>\n",
              "<table border=\"1\" class=\"dataframe\">\n",
              "  <thead>\n",
              "    <tr style=\"text-align: right;\">\n",
              "      <th></th>\n",
              "      <th>capital</th>\n",
              "      <th>poblacion</th>\n",
              "      <th>sup. en km2</th>\n",
              "      <th>pob. en MM</th>\n",
              "      <th>densidad pob</th>\n",
              "    </tr>\n",
              "  </thead>\n",
              "  <tbody>\n",
              "    <tr>\n",
              "      <th>Argentina</th>\n",
              "      <td>Buenos Aires</td>\n",
              "      <td>45380000</td>\n",
              "      <td>2780000</td>\n",
              "      <td>45.380</td>\n",
              "      <td>16.323741</td>\n",
              "    </tr>\n",
              "    <tr>\n",
              "      <th>Brasil</th>\n",
              "      <td>Brasilia</td>\n",
              "      <td>212600000</td>\n",
              "      <td>8516000</td>\n",
              "      <td>212.600</td>\n",
              "      <td>24.964772</td>\n",
              "    </tr>\n",
              "    <tr>\n",
              "      <th>Chile</th>\n",
              "      <td>Santiago de Chile</td>\n",
              "      <td>19120000</td>\n",
              "      <td>756950</td>\n",
              "      <td>19.120</td>\n",
              "      <td>25.259264</td>\n",
              "    </tr>\n",
              "    <tr>\n",
              "      <th>Colombia</th>\n",
              "      <td>Bogotá</td>\n",
              "      <td>50880000</td>\n",
              "      <td>1143000</td>\n",
              "      <td>50.880</td>\n",
              "      <td>44.514436</td>\n",
              "    </tr>\n",
              "    <tr>\n",
              "      <th>Ecuador</th>\n",
              "      <td>Quito</td>\n",
              "      <td>17640000</td>\n",
              "      <td>283560</td>\n",
              "      <td>17.640</td>\n",
              "      <td>62.209056</td>\n",
              "    </tr>\n",
              "    <tr>\n",
              "      <th>Paraguay</th>\n",
              "      <td>Asunción</td>\n",
              "      <td>7133000</td>\n",
              "      <td>406752</td>\n",
              "      <td>7.133</td>\n",
              "      <td>17.536484</td>\n",
              "    </tr>\n",
              "    <tr>\n",
              "      <th>Peru</th>\n",
              "      <td>Lima</td>\n",
              "      <td>32970000</td>\n",
              "      <td>1285216</td>\n",
              "      <td>32.970</td>\n",
              "      <td>25.653275</td>\n",
              "    </tr>\n",
              "  </tbody>\n",
              "</table>\n",
              "</div>\n",
              "      <button class=\"colab-df-convert\" onclick=\"convertToInteractive('df-7f69a918-dc5e-4d02-b085-33e801155baf')\"\n",
              "              title=\"Convert this dataframe to an interactive table.\"\n",
              "              style=\"display:none;\">\n",
              "        \n",
              "  <svg xmlns=\"http://www.w3.org/2000/svg\" height=\"24px\"viewBox=\"0 0 24 24\"\n",
              "       width=\"24px\">\n",
              "    <path d=\"M0 0h24v24H0V0z\" fill=\"none\"/>\n",
              "    <path d=\"M18.56 5.44l.94 2.06.94-2.06 2.06-.94-2.06-.94-.94-2.06-.94 2.06-2.06.94zm-11 1L8.5 8.5l.94-2.06 2.06-.94-2.06-.94L8.5 2.5l-.94 2.06-2.06.94zm10 10l.94 2.06.94-2.06 2.06-.94-2.06-.94-.94-2.06-.94 2.06-2.06.94z\"/><path d=\"M17.41 7.96l-1.37-1.37c-.4-.4-.92-.59-1.43-.59-.52 0-1.04.2-1.43.59L10.3 9.45l-7.72 7.72c-.78.78-.78 2.05 0 2.83L4 21.41c.39.39.9.59 1.41.59.51 0 1.02-.2 1.41-.59l7.78-7.78 2.81-2.81c.8-.78.8-2.07 0-2.86zM5.41 20L4 18.59l7.72-7.72 1.47 1.35L5.41 20z\"/>\n",
              "  </svg>\n",
              "      </button>\n",
              "      \n",
              "  <style>\n",
              "    .colab-df-container {\n",
              "      display:flex;\n",
              "      flex-wrap:wrap;\n",
              "      gap: 12px;\n",
              "    }\n",
              "\n",
              "    .colab-df-convert {\n",
              "      background-color: #E8F0FE;\n",
              "      border: none;\n",
              "      border-radius: 50%;\n",
              "      cursor: pointer;\n",
              "      display: none;\n",
              "      fill: #1967D2;\n",
              "      height: 32px;\n",
              "      padding: 0 0 0 0;\n",
              "      width: 32px;\n",
              "    }\n",
              "\n",
              "    .colab-df-convert:hover {\n",
              "      background-color: #E2EBFA;\n",
              "      box-shadow: 0px 1px 2px rgba(60, 64, 67, 0.3), 0px 1px 3px 1px rgba(60, 64, 67, 0.15);\n",
              "      fill: #174EA6;\n",
              "    }\n",
              "\n",
              "    [theme=dark] .colab-df-convert {\n",
              "      background-color: #3B4455;\n",
              "      fill: #D2E3FC;\n",
              "    }\n",
              "\n",
              "    [theme=dark] .colab-df-convert:hover {\n",
              "      background-color: #434B5C;\n",
              "      box-shadow: 0px 1px 3px 1px rgba(0, 0, 0, 0.15);\n",
              "      filter: drop-shadow(0px 1px 2px rgba(0, 0, 0, 0.3));\n",
              "      fill: #FFFFFF;\n",
              "    }\n",
              "  </style>\n",
              "\n",
              "      <script>\n",
              "        const buttonEl =\n",
              "          document.querySelector('#df-7f69a918-dc5e-4d02-b085-33e801155baf button.colab-df-convert');\n",
              "        buttonEl.style.display =\n",
              "          google.colab.kernel.accessAllowed ? 'block' : 'none';\n",
              "\n",
              "        async function convertToInteractive(key) {\n",
              "          const element = document.querySelector('#df-7f69a918-dc5e-4d02-b085-33e801155baf');\n",
              "          const dataTable =\n",
              "            await google.colab.kernel.invokeFunction('convertToInteractive',\n",
              "                                                     [key], {});\n",
              "          if (!dataTable) return;\n",
              "\n",
              "          const docLinkHtml = 'Like what you see? Visit the ' +\n",
              "            '<a target=\"_blank\" href=https://colab.research.google.com/notebooks/data_table.ipynb>data table notebook</a>'\n",
              "            + ' to learn more about interactive tables.';\n",
              "          element.innerHTML = '';\n",
              "          dataTable['output_type'] = 'display_data';\n",
              "          await google.colab.output.renderOutput(dataTable, element);\n",
              "          const docLink = document.createElement('div');\n",
              "          docLink.innerHTML = docLinkHtml;\n",
              "          element.appendChild(docLink);\n",
              "        }\n",
              "      </script>\n",
              "    </div>\n",
              "  </div>\n",
              "  "
            ]
          },
          "metadata": {},
          "execution_count": 73
        }
      ],
      "source": [
        "paises3"
      ]
    },
    {
      "cell_type": "markdown",
      "id": "a2cbd888-730f-43ce-856f-25c5042c233d",
      "metadata": {
        "id": "a2cbd888-730f-43ce-856f-25c5042c233d"
      },
      "source": [
        "__Ejercicio 27:__ Guardar el DataFrame en formato pickle"
      ]
    },
    {
      "cell_type": "code",
      "execution_count": 74,
      "id": "955a47a5-ca79-48a6-a833-53d7ca7f8e49",
      "metadata": {
        "id": "955a47a5-ca79-48a6-a833-53d7ca7f8e49"
      },
      "outputs": [],
      "source": [
        "paises3.to_pickle(\"./pickle\")"
      ]
    },
    {
      "cell_type": "markdown",
      "id": "0482e677-98a3-4998-8119-f0ae45758a04",
      "metadata": {
        "id": "0482e677-98a3-4998-8119-f0ae45758a04"
      },
      "source": [
        "__Ejercicio 28:__ Leer el archivo pickle anterior"
      ]
    },
    {
      "cell_type": "code",
      "execution_count": 75,
      "id": "5c5cf5fd-424d-46f1-8f8a-2f3e8f225bf8",
      "metadata": {
        "id": "5c5cf5fd-424d-46f1-8f8a-2f3e8f225bf8",
        "colab": {
          "base_uri": "https://localhost:8080/",
          "height": 269
        },
        "outputId": "a580061c-23a4-4a4a-98f3-5fa984cd4bf3"
      },
      "outputs": [
        {
          "output_type": "execute_result",
          "data": {
            "text/plain": [
              "                     capital  poblacion  sup. en km2  pob. en MM  densidad pob\n",
              "Argentina       Buenos Aires   45380000      2780000      45.380     16.323741\n",
              "Brasil              Brasilia  212600000      8516000     212.600     24.964772\n",
              "Chile      Santiago de Chile   19120000       756950      19.120     25.259264\n",
              "Colombia              Bogotá   50880000      1143000      50.880     44.514436\n",
              "Ecuador                Quito   17640000       283560      17.640     62.209056\n",
              "Paraguay            Asunción    7133000       406752       7.133     17.536484\n",
              "Peru                    Lima   32970000      1285216      32.970     25.653275"
            ],
            "text/html": [
              "\n",
              "  <div id=\"df-fd02bbb1-60bd-4623-bfd0-c2ac962288e0\">\n",
              "    <div class=\"colab-df-container\">\n",
              "      <div>\n",
              "<style scoped>\n",
              "    .dataframe tbody tr th:only-of-type {\n",
              "        vertical-align: middle;\n",
              "    }\n",
              "\n",
              "    .dataframe tbody tr th {\n",
              "        vertical-align: top;\n",
              "    }\n",
              "\n",
              "    .dataframe thead th {\n",
              "        text-align: right;\n",
              "    }\n",
              "</style>\n",
              "<table border=\"1\" class=\"dataframe\">\n",
              "  <thead>\n",
              "    <tr style=\"text-align: right;\">\n",
              "      <th></th>\n",
              "      <th>capital</th>\n",
              "      <th>poblacion</th>\n",
              "      <th>sup. en km2</th>\n",
              "      <th>pob. en MM</th>\n",
              "      <th>densidad pob</th>\n",
              "    </tr>\n",
              "  </thead>\n",
              "  <tbody>\n",
              "    <tr>\n",
              "      <th>Argentina</th>\n",
              "      <td>Buenos Aires</td>\n",
              "      <td>45380000</td>\n",
              "      <td>2780000</td>\n",
              "      <td>45.380</td>\n",
              "      <td>16.323741</td>\n",
              "    </tr>\n",
              "    <tr>\n",
              "      <th>Brasil</th>\n",
              "      <td>Brasilia</td>\n",
              "      <td>212600000</td>\n",
              "      <td>8516000</td>\n",
              "      <td>212.600</td>\n",
              "      <td>24.964772</td>\n",
              "    </tr>\n",
              "    <tr>\n",
              "      <th>Chile</th>\n",
              "      <td>Santiago de Chile</td>\n",
              "      <td>19120000</td>\n",
              "      <td>756950</td>\n",
              "      <td>19.120</td>\n",
              "      <td>25.259264</td>\n",
              "    </tr>\n",
              "    <tr>\n",
              "      <th>Colombia</th>\n",
              "      <td>Bogotá</td>\n",
              "      <td>50880000</td>\n",
              "      <td>1143000</td>\n",
              "      <td>50.880</td>\n",
              "      <td>44.514436</td>\n",
              "    </tr>\n",
              "    <tr>\n",
              "      <th>Ecuador</th>\n",
              "      <td>Quito</td>\n",
              "      <td>17640000</td>\n",
              "      <td>283560</td>\n",
              "      <td>17.640</td>\n",
              "      <td>62.209056</td>\n",
              "    </tr>\n",
              "    <tr>\n",
              "      <th>Paraguay</th>\n",
              "      <td>Asunción</td>\n",
              "      <td>7133000</td>\n",
              "      <td>406752</td>\n",
              "      <td>7.133</td>\n",
              "      <td>17.536484</td>\n",
              "    </tr>\n",
              "    <tr>\n",
              "      <th>Peru</th>\n",
              "      <td>Lima</td>\n",
              "      <td>32970000</td>\n",
              "      <td>1285216</td>\n",
              "      <td>32.970</td>\n",
              "      <td>25.653275</td>\n",
              "    </tr>\n",
              "  </tbody>\n",
              "</table>\n",
              "</div>\n",
              "      <button class=\"colab-df-convert\" onclick=\"convertToInteractive('df-fd02bbb1-60bd-4623-bfd0-c2ac962288e0')\"\n",
              "              title=\"Convert this dataframe to an interactive table.\"\n",
              "              style=\"display:none;\">\n",
              "        \n",
              "  <svg xmlns=\"http://www.w3.org/2000/svg\" height=\"24px\"viewBox=\"0 0 24 24\"\n",
              "       width=\"24px\">\n",
              "    <path d=\"M0 0h24v24H0V0z\" fill=\"none\"/>\n",
              "    <path d=\"M18.56 5.44l.94 2.06.94-2.06 2.06-.94-2.06-.94-.94-2.06-.94 2.06-2.06.94zm-11 1L8.5 8.5l.94-2.06 2.06-.94-2.06-.94L8.5 2.5l-.94 2.06-2.06.94zm10 10l.94 2.06.94-2.06 2.06-.94-2.06-.94-.94-2.06-.94 2.06-2.06.94z\"/><path d=\"M17.41 7.96l-1.37-1.37c-.4-.4-.92-.59-1.43-.59-.52 0-1.04.2-1.43.59L10.3 9.45l-7.72 7.72c-.78.78-.78 2.05 0 2.83L4 21.41c.39.39.9.59 1.41.59.51 0 1.02-.2 1.41-.59l7.78-7.78 2.81-2.81c.8-.78.8-2.07 0-2.86zM5.41 20L4 18.59l7.72-7.72 1.47 1.35L5.41 20z\"/>\n",
              "  </svg>\n",
              "      </button>\n",
              "      \n",
              "  <style>\n",
              "    .colab-df-container {\n",
              "      display:flex;\n",
              "      flex-wrap:wrap;\n",
              "      gap: 12px;\n",
              "    }\n",
              "\n",
              "    .colab-df-convert {\n",
              "      background-color: #E8F0FE;\n",
              "      border: none;\n",
              "      border-radius: 50%;\n",
              "      cursor: pointer;\n",
              "      display: none;\n",
              "      fill: #1967D2;\n",
              "      height: 32px;\n",
              "      padding: 0 0 0 0;\n",
              "      width: 32px;\n",
              "    }\n",
              "\n",
              "    .colab-df-convert:hover {\n",
              "      background-color: #E2EBFA;\n",
              "      box-shadow: 0px 1px 2px rgba(60, 64, 67, 0.3), 0px 1px 3px 1px rgba(60, 64, 67, 0.15);\n",
              "      fill: #174EA6;\n",
              "    }\n",
              "\n",
              "    [theme=dark] .colab-df-convert {\n",
              "      background-color: #3B4455;\n",
              "      fill: #D2E3FC;\n",
              "    }\n",
              "\n",
              "    [theme=dark] .colab-df-convert:hover {\n",
              "      background-color: #434B5C;\n",
              "      box-shadow: 0px 1px 3px 1px rgba(0, 0, 0, 0.15);\n",
              "      filter: drop-shadow(0px 1px 2px rgba(0, 0, 0, 0.3));\n",
              "      fill: #FFFFFF;\n",
              "    }\n",
              "  </style>\n",
              "\n",
              "      <script>\n",
              "        const buttonEl =\n",
              "          document.querySelector('#df-fd02bbb1-60bd-4623-bfd0-c2ac962288e0 button.colab-df-convert');\n",
              "        buttonEl.style.display =\n",
              "          google.colab.kernel.accessAllowed ? 'block' : 'none';\n",
              "\n",
              "        async function convertToInteractive(key) {\n",
              "          const element = document.querySelector('#df-fd02bbb1-60bd-4623-bfd0-c2ac962288e0');\n",
              "          const dataTable =\n",
              "            await google.colab.kernel.invokeFunction('convertToInteractive',\n",
              "                                                     [key], {});\n",
              "          if (!dataTable) return;\n",
              "\n",
              "          const docLinkHtml = 'Like what you see? Visit the ' +\n",
              "            '<a target=\"_blank\" href=https://colab.research.google.com/notebooks/data_table.ipynb>data table notebook</a>'\n",
              "            + ' to learn more about interactive tables.';\n",
              "          element.innerHTML = '';\n",
              "          dataTable['output_type'] = 'display_data';\n",
              "          await google.colab.output.renderOutput(dataTable, element);\n",
              "          const docLink = document.createElement('div');\n",
              "          docLink.innerHTML = docLinkHtml;\n",
              "          element.appendChild(docLink);\n",
              "        }\n",
              "      </script>\n",
              "    </div>\n",
              "  </div>\n",
              "  "
            ]
          },
          "metadata": {},
          "execution_count": 75
        }
      ],
      "source": [
        "pd.read_pickle(\"./pickle\")"
      ]
    },
    {
      "cell_type": "markdown",
      "id": "9c148dee-3640-4c57-8d8f-7cd6de1c6bb2",
      "metadata": {
        "id": "9c148dee-3640-4c57-8d8f-7cd6de1c6bb2"
      },
      "source": [
        "__Ejercicio 29:__"
      ]
    },
    {
      "cell_type": "markdown",
      "id": "3202abbd-e359-4902-9e09-e7082f9109dc",
      "metadata": {
        "id": "3202abbd-e359-4902-9e09-e7082f9109dc"
      },
      "source": [
        "Guardar el DataFrame paises en formato .csv"
      ]
    },
    {
      "cell_type": "code",
      "execution_count": 76,
      "id": "382c9f51-04da-4237-977b-3ba99037bd93",
      "metadata": {
        "id": "382c9f51-04da-4237-977b-3ba99037bd93"
      },
      "outputs": [],
      "source": [
        "paises3.to_csv(\"./csv\")"
      ]
    },
    {
      "cell_type": "markdown",
      "id": "1245c8fb-c252-4260-93b1-93d6bfd1ee81",
      "metadata": {
        "id": "1245c8fb-c252-4260-93b1-93d6bfd1ee81"
      },
      "source": [
        "Guardar el DataFrame paises en formato .xlsx"
      ]
    },
    {
      "cell_type": "code",
      "execution_count": 78,
      "id": "cb318548-fd7a-49c9-ba82-a8e7c1e44539",
      "metadata": {
        "id": "cb318548-fd7a-49c9-ba82-a8e7c1e44539"
      },
      "outputs": [],
      "source": [
        "paises3.to_excel(\"./excel.xlsx\", sheet_name= \"paises\", index_label= \"pais\")"
      ]
    },
    {
      "cell_type": "markdown",
      "id": "10986453-a51b-40ab-b632-cc02f2f11a39",
      "metadata": {
        "id": "10986453-a51b-40ab-b632-cc02f2f11a39"
      },
      "source": [
        "__Ejercicio 30:__"
      ]
    },
    {
      "cell_type": "markdown",
      "id": "48c168b5-52a5-4c1e-9f37-6885322b4172",
      "metadata": {
        "id": "48c168b5-52a5-4c1e-9f37-6885322b4172"
      },
      "source": [
        "Leer el archivo __csv.csv__"
      ]
    },
    {
      "cell_type": "code",
      "execution_count": 82,
      "id": "c09d81bb-8ec7-47b6-aeb3-8297f948c8f0",
      "metadata": {
        "id": "c09d81bb-8ec7-47b6-aeb3-8297f948c8f0"
      },
      "outputs": [],
      "source": [
        "paises_csv= pd.read_csv(\"./csv\")"
      ]
    },
    {
      "cell_type": "code",
      "execution_count": 83,
      "id": "3a9aa98e-b53d-467a-b72c-f900ced6d691",
      "metadata": {
        "id": "3a9aa98e-b53d-467a-b72c-f900ced6d691",
        "colab": {
          "base_uri": "https://localhost:8080/",
          "height": 269
        },
        "outputId": "aa891a11-32a9-4f74-c1cd-758409d3f669"
      },
      "outputs": [
        {
          "output_type": "execute_result",
          "data": {
            "text/plain": [
              "  Unnamed: 0            capital  poblacion  sup. en km2  pob. en MM  \\\n",
              "0  Argentina       Buenos Aires   45380000      2780000      45.380   \n",
              "1     Brasil           Brasilia  212600000      8516000     212.600   \n",
              "2      Chile  Santiago de Chile   19120000       756950      19.120   \n",
              "3   Colombia             Bogotá   50880000      1143000      50.880   \n",
              "4    Ecuador              Quito   17640000       283560      17.640   \n",
              "5   Paraguay           Asunción    7133000       406752       7.133   \n",
              "6       Peru               Lima   32970000      1285216      32.970   \n",
              "\n",
              "   densidad pob  \n",
              "0     16.323741  \n",
              "1     24.964772  \n",
              "2     25.259264  \n",
              "3     44.514436  \n",
              "4     62.209056  \n",
              "5     17.536484  \n",
              "6     25.653275  "
            ],
            "text/html": [
              "\n",
              "  <div id=\"df-d22eda04-ccca-43e9-b23d-769041d1704b\">\n",
              "    <div class=\"colab-df-container\">\n",
              "      <div>\n",
              "<style scoped>\n",
              "    .dataframe tbody tr th:only-of-type {\n",
              "        vertical-align: middle;\n",
              "    }\n",
              "\n",
              "    .dataframe tbody tr th {\n",
              "        vertical-align: top;\n",
              "    }\n",
              "\n",
              "    .dataframe thead th {\n",
              "        text-align: right;\n",
              "    }\n",
              "</style>\n",
              "<table border=\"1\" class=\"dataframe\">\n",
              "  <thead>\n",
              "    <tr style=\"text-align: right;\">\n",
              "      <th></th>\n",
              "      <th>Unnamed: 0</th>\n",
              "      <th>capital</th>\n",
              "      <th>poblacion</th>\n",
              "      <th>sup. en km2</th>\n",
              "      <th>pob. en MM</th>\n",
              "      <th>densidad pob</th>\n",
              "    </tr>\n",
              "  </thead>\n",
              "  <tbody>\n",
              "    <tr>\n",
              "      <th>0</th>\n",
              "      <td>Argentina</td>\n",
              "      <td>Buenos Aires</td>\n",
              "      <td>45380000</td>\n",
              "      <td>2780000</td>\n",
              "      <td>45.380</td>\n",
              "      <td>16.323741</td>\n",
              "    </tr>\n",
              "    <tr>\n",
              "      <th>1</th>\n",
              "      <td>Brasil</td>\n",
              "      <td>Brasilia</td>\n",
              "      <td>212600000</td>\n",
              "      <td>8516000</td>\n",
              "      <td>212.600</td>\n",
              "      <td>24.964772</td>\n",
              "    </tr>\n",
              "    <tr>\n",
              "      <th>2</th>\n",
              "      <td>Chile</td>\n",
              "      <td>Santiago de Chile</td>\n",
              "      <td>19120000</td>\n",
              "      <td>756950</td>\n",
              "      <td>19.120</td>\n",
              "      <td>25.259264</td>\n",
              "    </tr>\n",
              "    <tr>\n",
              "      <th>3</th>\n",
              "      <td>Colombia</td>\n",
              "      <td>Bogotá</td>\n",
              "      <td>50880000</td>\n",
              "      <td>1143000</td>\n",
              "      <td>50.880</td>\n",
              "      <td>44.514436</td>\n",
              "    </tr>\n",
              "    <tr>\n",
              "      <th>4</th>\n",
              "      <td>Ecuador</td>\n",
              "      <td>Quito</td>\n",
              "      <td>17640000</td>\n",
              "      <td>283560</td>\n",
              "      <td>17.640</td>\n",
              "      <td>62.209056</td>\n",
              "    </tr>\n",
              "    <tr>\n",
              "      <th>5</th>\n",
              "      <td>Paraguay</td>\n",
              "      <td>Asunción</td>\n",
              "      <td>7133000</td>\n",
              "      <td>406752</td>\n",
              "      <td>7.133</td>\n",
              "      <td>17.536484</td>\n",
              "    </tr>\n",
              "    <tr>\n",
              "      <th>6</th>\n",
              "      <td>Peru</td>\n",
              "      <td>Lima</td>\n",
              "      <td>32970000</td>\n",
              "      <td>1285216</td>\n",
              "      <td>32.970</td>\n",
              "      <td>25.653275</td>\n",
              "    </tr>\n",
              "  </tbody>\n",
              "</table>\n",
              "</div>\n",
              "      <button class=\"colab-df-convert\" onclick=\"convertToInteractive('df-d22eda04-ccca-43e9-b23d-769041d1704b')\"\n",
              "              title=\"Convert this dataframe to an interactive table.\"\n",
              "              style=\"display:none;\">\n",
              "        \n",
              "  <svg xmlns=\"http://www.w3.org/2000/svg\" height=\"24px\"viewBox=\"0 0 24 24\"\n",
              "       width=\"24px\">\n",
              "    <path d=\"M0 0h24v24H0V0z\" fill=\"none\"/>\n",
              "    <path d=\"M18.56 5.44l.94 2.06.94-2.06 2.06-.94-2.06-.94-.94-2.06-.94 2.06-2.06.94zm-11 1L8.5 8.5l.94-2.06 2.06-.94-2.06-.94L8.5 2.5l-.94 2.06-2.06.94zm10 10l.94 2.06.94-2.06 2.06-.94-2.06-.94-.94-2.06-.94 2.06-2.06.94z\"/><path d=\"M17.41 7.96l-1.37-1.37c-.4-.4-.92-.59-1.43-.59-.52 0-1.04.2-1.43.59L10.3 9.45l-7.72 7.72c-.78.78-.78 2.05 0 2.83L4 21.41c.39.39.9.59 1.41.59.51 0 1.02-.2 1.41-.59l7.78-7.78 2.81-2.81c.8-.78.8-2.07 0-2.86zM5.41 20L4 18.59l7.72-7.72 1.47 1.35L5.41 20z\"/>\n",
              "  </svg>\n",
              "      </button>\n",
              "      \n",
              "  <style>\n",
              "    .colab-df-container {\n",
              "      display:flex;\n",
              "      flex-wrap:wrap;\n",
              "      gap: 12px;\n",
              "    }\n",
              "\n",
              "    .colab-df-convert {\n",
              "      background-color: #E8F0FE;\n",
              "      border: none;\n",
              "      border-radius: 50%;\n",
              "      cursor: pointer;\n",
              "      display: none;\n",
              "      fill: #1967D2;\n",
              "      height: 32px;\n",
              "      padding: 0 0 0 0;\n",
              "      width: 32px;\n",
              "    }\n",
              "\n",
              "    .colab-df-convert:hover {\n",
              "      background-color: #E2EBFA;\n",
              "      box-shadow: 0px 1px 2px rgba(60, 64, 67, 0.3), 0px 1px 3px 1px rgba(60, 64, 67, 0.15);\n",
              "      fill: #174EA6;\n",
              "    }\n",
              "\n",
              "    [theme=dark] .colab-df-convert {\n",
              "      background-color: #3B4455;\n",
              "      fill: #D2E3FC;\n",
              "    }\n",
              "\n",
              "    [theme=dark] .colab-df-convert:hover {\n",
              "      background-color: #434B5C;\n",
              "      box-shadow: 0px 1px 3px 1px rgba(0, 0, 0, 0.15);\n",
              "      filter: drop-shadow(0px 1px 2px rgba(0, 0, 0, 0.3));\n",
              "      fill: #FFFFFF;\n",
              "    }\n",
              "  </style>\n",
              "\n",
              "      <script>\n",
              "        const buttonEl =\n",
              "          document.querySelector('#df-d22eda04-ccca-43e9-b23d-769041d1704b button.colab-df-convert');\n",
              "        buttonEl.style.display =\n",
              "          google.colab.kernel.accessAllowed ? 'block' : 'none';\n",
              "\n",
              "        async function convertToInteractive(key) {\n",
              "          const element = document.querySelector('#df-d22eda04-ccca-43e9-b23d-769041d1704b');\n",
              "          const dataTable =\n",
              "            await google.colab.kernel.invokeFunction('convertToInteractive',\n",
              "                                                     [key], {});\n",
              "          if (!dataTable) return;\n",
              "\n",
              "          const docLinkHtml = 'Like what you see? Visit the ' +\n",
              "            '<a target=\"_blank\" href=https://colab.research.google.com/notebooks/data_table.ipynb>data table notebook</a>'\n",
              "            + ' to learn more about interactive tables.';\n",
              "          element.innerHTML = '';\n",
              "          dataTable['output_type'] = 'display_data';\n",
              "          await google.colab.output.renderOutput(dataTable, element);\n",
              "          const docLink = document.createElement('div');\n",
              "          docLink.innerHTML = docLinkHtml;\n",
              "          element.appendChild(docLink);\n",
              "        }\n",
              "      </script>\n",
              "    </div>\n",
              "  </div>\n",
              "  "
            ]
          },
          "metadata": {},
          "execution_count": 83
        }
      ],
      "source": [
        "paises_csv"
      ]
    },
    {
      "cell_type": "markdown",
      "id": "6edef509-a902-46e3-b687-ea9bba982c42",
      "metadata": {
        "id": "6edef509-a902-46e3-b687-ea9bba982c42"
      },
      "source": [
        "Leer el archivo __excel.xlsx__"
      ]
    },
    {
      "cell_type": "code",
      "execution_count": 84,
      "id": "f970fd5c-7916-425c-840f-3be8aed555d0",
      "metadata": {
        "id": "f970fd5c-7916-425c-840f-3be8aed555d0"
      },
      "outputs": [],
      "source": [
        "paises_excel= pd.read_excel(\"./excel.xlsx\", index_col= \"pais\")"
      ]
    },
    {
      "cell_type": "code",
      "execution_count": 85,
      "id": "09e8b1e3-c900-462d-94af-ab40651e3d0c",
      "metadata": {
        "id": "09e8b1e3-c900-462d-94af-ab40651e3d0c",
        "colab": {
          "base_uri": "https://localhost:8080/",
          "height": 300
        },
        "outputId": "0c03c19e-1964-4a6b-9af0-56f1230bc30b"
      },
      "outputs": [
        {
          "output_type": "execute_result",
          "data": {
            "text/plain": [
              "                     capital  poblacion  sup. en km2  pob. en MM  densidad pob\n",
              "pais                                                                          \n",
              "Argentina       Buenos Aires   45380000      2780000      45.380     16.323741\n",
              "Brasil              Brasilia  212600000      8516000     212.600     24.964772\n",
              "Chile      Santiago de Chile   19120000       756950      19.120     25.259264\n",
              "Colombia              Bogotá   50880000      1143000      50.880     44.514436\n",
              "Ecuador                Quito   17640000       283560      17.640     62.209056\n",
              "Paraguay            Asunción    7133000       406752       7.133     17.536484\n",
              "Peru                    Lima   32970000      1285216      32.970     25.653275"
            ],
            "text/html": [
              "\n",
              "  <div id=\"df-dc564374-bca3-4955-940d-68f5101104e4\">\n",
              "    <div class=\"colab-df-container\">\n",
              "      <div>\n",
              "<style scoped>\n",
              "    .dataframe tbody tr th:only-of-type {\n",
              "        vertical-align: middle;\n",
              "    }\n",
              "\n",
              "    .dataframe tbody tr th {\n",
              "        vertical-align: top;\n",
              "    }\n",
              "\n",
              "    .dataframe thead th {\n",
              "        text-align: right;\n",
              "    }\n",
              "</style>\n",
              "<table border=\"1\" class=\"dataframe\">\n",
              "  <thead>\n",
              "    <tr style=\"text-align: right;\">\n",
              "      <th></th>\n",
              "      <th>capital</th>\n",
              "      <th>poblacion</th>\n",
              "      <th>sup. en km2</th>\n",
              "      <th>pob. en MM</th>\n",
              "      <th>densidad pob</th>\n",
              "    </tr>\n",
              "    <tr>\n",
              "      <th>pais</th>\n",
              "      <th></th>\n",
              "      <th></th>\n",
              "      <th></th>\n",
              "      <th></th>\n",
              "      <th></th>\n",
              "    </tr>\n",
              "  </thead>\n",
              "  <tbody>\n",
              "    <tr>\n",
              "      <th>Argentina</th>\n",
              "      <td>Buenos Aires</td>\n",
              "      <td>45380000</td>\n",
              "      <td>2780000</td>\n",
              "      <td>45.380</td>\n",
              "      <td>16.323741</td>\n",
              "    </tr>\n",
              "    <tr>\n",
              "      <th>Brasil</th>\n",
              "      <td>Brasilia</td>\n",
              "      <td>212600000</td>\n",
              "      <td>8516000</td>\n",
              "      <td>212.600</td>\n",
              "      <td>24.964772</td>\n",
              "    </tr>\n",
              "    <tr>\n",
              "      <th>Chile</th>\n",
              "      <td>Santiago de Chile</td>\n",
              "      <td>19120000</td>\n",
              "      <td>756950</td>\n",
              "      <td>19.120</td>\n",
              "      <td>25.259264</td>\n",
              "    </tr>\n",
              "    <tr>\n",
              "      <th>Colombia</th>\n",
              "      <td>Bogotá</td>\n",
              "      <td>50880000</td>\n",
              "      <td>1143000</td>\n",
              "      <td>50.880</td>\n",
              "      <td>44.514436</td>\n",
              "    </tr>\n",
              "    <tr>\n",
              "      <th>Ecuador</th>\n",
              "      <td>Quito</td>\n",
              "      <td>17640000</td>\n",
              "      <td>283560</td>\n",
              "      <td>17.640</td>\n",
              "      <td>62.209056</td>\n",
              "    </tr>\n",
              "    <tr>\n",
              "      <th>Paraguay</th>\n",
              "      <td>Asunción</td>\n",
              "      <td>7133000</td>\n",
              "      <td>406752</td>\n",
              "      <td>7.133</td>\n",
              "      <td>17.536484</td>\n",
              "    </tr>\n",
              "    <tr>\n",
              "      <th>Peru</th>\n",
              "      <td>Lima</td>\n",
              "      <td>32970000</td>\n",
              "      <td>1285216</td>\n",
              "      <td>32.970</td>\n",
              "      <td>25.653275</td>\n",
              "    </tr>\n",
              "  </tbody>\n",
              "</table>\n",
              "</div>\n",
              "      <button class=\"colab-df-convert\" onclick=\"convertToInteractive('df-dc564374-bca3-4955-940d-68f5101104e4')\"\n",
              "              title=\"Convert this dataframe to an interactive table.\"\n",
              "              style=\"display:none;\">\n",
              "        \n",
              "  <svg xmlns=\"http://www.w3.org/2000/svg\" height=\"24px\"viewBox=\"0 0 24 24\"\n",
              "       width=\"24px\">\n",
              "    <path d=\"M0 0h24v24H0V0z\" fill=\"none\"/>\n",
              "    <path d=\"M18.56 5.44l.94 2.06.94-2.06 2.06-.94-2.06-.94-.94-2.06-.94 2.06-2.06.94zm-11 1L8.5 8.5l.94-2.06 2.06-.94-2.06-.94L8.5 2.5l-.94 2.06-2.06.94zm10 10l.94 2.06.94-2.06 2.06-.94-2.06-.94-.94-2.06-.94 2.06-2.06.94z\"/><path d=\"M17.41 7.96l-1.37-1.37c-.4-.4-.92-.59-1.43-.59-.52 0-1.04.2-1.43.59L10.3 9.45l-7.72 7.72c-.78.78-.78 2.05 0 2.83L4 21.41c.39.39.9.59 1.41.59.51 0 1.02-.2 1.41-.59l7.78-7.78 2.81-2.81c.8-.78.8-2.07 0-2.86zM5.41 20L4 18.59l7.72-7.72 1.47 1.35L5.41 20z\"/>\n",
              "  </svg>\n",
              "      </button>\n",
              "      \n",
              "  <style>\n",
              "    .colab-df-container {\n",
              "      display:flex;\n",
              "      flex-wrap:wrap;\n",
              "      gap: 12px;\n",
              "    }\n",
              "\n",
              "    .colab-df-convert {\n",
              "      background-color: #E8F0FE;\n",
              "      border: none;\n",
              "      border-radius: 50%;\n",
              "      cursor: pointer;\n",
              "      display: none;\n",
              "      fill: #1967D2;\n",
              "      height: 32px;\n",
              "      padding: 0 0 0 0;\n",
              "      width: 32px;\n",
              "    }\n",
              "\n",
              "    .colab-df-convert:hover {\n",
              "      background-color: #E2EBFA;\n",
              "      box-shadow: 0px 1px 2px rgba(60, 64, 67, 0.3), 0px 1px 3px 1px rgba(60, 64, 67, 0.15);\n",
              "      fill: #174EA6;\n",
              "    }\n",
              "\n",
              "    [theme=dark] .colab-df-convert {\n",
              "      background-color: #3B4455;\n",
              "      fill: #D2E3FC;\n",
              "    }\n",
              "\n",
              "    [theme=dark] .colab-df-convert:hover {\n",
              "      background-color: #434B5C;\n",
              "      box-shadow: 0px 1px 3px 1px rgba(0, 0, 0, 0.15);\n",
              "      filter: drop-shadow(0px 1px 2px rgba(0, 0, 0, 0.3));\n",
              "      fill: #FFFFFF;\n",
              "    }\n",
              "  </style>\n",
              "\n",
              "      <script>\n",
              "        const buttonEl =\n",
              "          document.querySelector('#df-dc564374-bca3-4955-940d-68f5101104e4 button.colab-df-convert');\n",
              "        buttonEl.style.display =\n",
              "          google.colab.kernel.accessAllowed ? 'block' : 'none';\n",
              "\n",
              "        async function convertToInteractive(key) {\n",
              "          const element = document.querySelector('#df-dc564374-bca3-4955-940d-68f5101104e4');\n",
              "          const dataTable =\n",
              "            await google.colab.kernel.invokeFunction('convertToInteractive',\n",
              "                                                     [key], {});\n",
              "          if (!dataTable) return;\n",
              "\n",
              "          const docLinkHtml = 'Like what you see? Visit the ' +\n",
              "            '<a target=\"_blank\" href=https://colab.research.google.com/notebooks/data_table.ipynb>data table notebook</a>'\n",
              "            + ' to learn more about interactive tables.';\n",
              "          element.innerHTML = '';\n",
              "          dataTable['output_type'] = 'display_data';\n",
              "          await google.colab.output.renderOutput(dataTable, element);\n",
              "          const docLink = document.createElement('div');\n",
              "          docLink.innerHTML = docLinkHtml;\n",
              "          element.appendChild(docLink);\n",
              "        }\n",
              "      </script>\n",
              "    </div>\n",
              "  </div>\n",
              "  "
            ]
          },
          "metadata": {},
          "execution_count": 85
        }
      ],
      "source": [
        "paises_excel"
      ]
    },
    {
      "cell_type": "code",
      "execution_count": 77,
      "id": "5e9749f3-d0a0-44ef-b528-a509a79474a3",
      "metadata": {
        "id": "5e9749f3-d0a0-44ef-b528-a509a79474a3"
      },
      "outputs": [],
      "source": []
    }
  ],
  "metadata": {
    "kernelspec": {
      "display_name": "Python 3 (ipykernel)",
      "language": "python",
      "name": "python3"
    },
    "language_info": {
      "codemirror_mode": {
        "name": "ipython",
        "version": 3
      },
      "file_extension": ".py",
      "mimetype": "text/x-python",
      "name": "python",
      "nbconvert_exporter": "python",
      "pygments_lexer": "ipython3",
      "version": "3.9.13"
    },
    "colab": {
      "provenance": [],
      "include_colab_link": true
    }
  },
  "nbformat": 4,
  "nbformat_minor": 5
}