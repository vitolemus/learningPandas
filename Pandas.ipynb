{
  "cells": [
    {
      "cell_type": "markdown",
      "metadata": {
        "id": "view-in-github",
        "colab_type": "text"
      },
      "source": [
        "<a href=\"https://colab.research.google.com/github/vitolemus/learningPandas/blob/main/Pandas.ipynb\" target=\"_parent\"><img src=\"https://colab.research.google.com/assets/colab-badge.svg\" alt=\"Open In Colab\"/></a>"
      ]
    },
    {
      "cell_type": "markdown",
      "id": "a61d0e38-bd8f-4ccb-8f85-434512f46f1a",
      "metadata": {
        "tags": [],
        "id": "a61d0e38-bd8f-4ccb-8f85-434512f46f1a"
      },
      "source": [
        "# DataFrames"
      ]
    },
    {
      "cell_type": "code",
      "execution_count": null,
      "id": "d7f29d2f-620b-4da7-a4cc-471e8363db27",
      "metadata": {
        "id": "d7f29d2f-620b-4da7-a4cc-471e8363db27"
      },
      "outputs": [],
      "source": [
        "import pandas as pd"
      ]
    },
    {
      "cell_type": "markdown",
      "id": "b9e95a14-1934-4848-b0a4-88293b69d4e4",
      "metadata": {
        "id": "b9e95a14-1934-4848-b0a4-88293b69d4e4"
      },
      "source": [
        "__Ejercicio 1:__ Crear una serie de pandas con el siguiente arreglo"
      ]
    },
    {
      "cell_type": "code",
      "execution_count": null,
      "id": "85a136e2-0233-484a-876b-94ba4dd3f4f7",
      "metadata": {
        "id": "85a136e2-0233-484a-876b-94ba4dd3f4f7"
      },
      "outputs": [],
      "source": [
        "edades=[22,13,8,33,25,44,38,22]"
      ]
    },
    {
      "cell_type": "code",
      "execution_count": null,
      "id": "902600f6-f652-48a1-8307-4addd450a0be",
      "metadata": {
        "id": "902600f6-f652-48a1-8307-4addd450a0be",
        "outputId": "a563fdd7-1222-4088-bb99-63279b152c9a"
      },
      "outputs": [
        {
          "data": {
            "text/plain": [
              "[22, 13, 8, 33, 25, 44, 38, 22]"
            ]
          },
          "execution_count": 3,
          "metadata": {},
          "output_type": "execute_result"
        }
      ],
      "source": [
        "edades"
      ]
    },
    {
      "cell_type": "code",
      "execution_count": null,
      "id": "8d9f81f9-6fd5-4ae3-a674-816fbd734d29",
      "metadata": {
        "id": "8d9f81f9-6fd5-4ae3-a674-816fbd734d29"
      },
      "outputs": [],
      "source": []
    },
    {
      "cell_type": "code",
      "execution_count": null,
      "id": "60114c97-ba69-4d16-a3a3-90a9b2b24b43",
      "metadata": {
        "id": "60114c97-ba69-4d16-a3a3-90a9b2b24b43"
      },
      "outputs": [],
      "source": []
    },
    {
      "cell_type": "markdown",
      "id": "9803ef5f-68e9-4bef-9111-560dde4be3e4",
      "metadata": {
        "id": "9803ef5f-68e9-4bef-9111-560dde4be3e4"
      },
      "source": [
        "__Ejercicio 2:__"
      ]
    },
    {
      "cell_type": "markdown",
      "id": "5d90cfe7-1adf-423b-84e2-836688e2206a",
      "metadata": {
        "id": "5d90cfe7-1adf-423b-84e2-836688e2206a"
      },
      "source": [
        "Obtener los primeros 5 registros utilizando head"
      ]
    },
    {
      "cell_type": "code",
      "execution_count": null,
      "id": "3a20db5d-d0ec-499a-9463-c178d727ac07",
      "metadata": {
        "id": "3a20db5d-d0ec-499a-9463-c178d727ac07"
      },
      "outputs": [],
      "source": []
    },
    {
      "cell_type": "markdown",
      "id": "e3c9f1e3-2441-4977-9f04-2b842de7578a",
      "metadata": {
        "id": "e3c9f1e3-2441-4977-9f04-2b842de7578a"
      },
      "source": [
        "Obtener los últimos 3 registros utilizando tail"
      ]
    },
    {
      "cell_type": "code",
      "execution_count": null,
      "id": "ce5a5e4b-fbf1-44c6-ab07-dc334dfbfaf5",
      "metadata": {
        "id": "ce5a5e4b-fbf1-44c6-ab07-dc334dfbfaf5"
      },
      "outputs": [],
      "source": []
    },
    {
      "cell_type": "markdown",
      "id": "0fcff9b0-84f8-4f03-8d9e-6743e25e6092",
      "metadata": {
        "id": "0fcff9b0-84f8-4f03-8d9e-6743e25e6092"
      },
      "source": [
        "__Ejercicio 3__"
      ]
    },
    {
      "cell_type": "markdown",
      "id": "a3880be8-54a2-4196-8883-fa4ba37a3f8e",
      "metadata": {
        "id": "a3880be8-54a2-4196-8883-fa4ba37a3f8e"
      },
      "source": [
        "Obtener el valor mínimo de la serie"
      ]
    },
    {
      "cell_type": "code",
      "execution_count": null,
      "id": "ba63ba1c-ce04-4c56-bc35-4dd3b59690bf",
      "metadata": {
        "id": "ba63ba1c-ce04-4c56-bc35-4dd3b59690bf"
      },
      "outputs": [],
      "source": []
    },
    {
      "cell_type": "code",
      "execution_count": null,
      "id": "3ada67f2-7be1-45e3-b65a-c9cd6c150878",
      "metadata": {
        "id": "3ada67f2-7be1-45e3-b65a-c9cd6c150878"
      },
      "outputs": [],
      "source": []
    },
    {
      "cell_type": "markdown",
      "id": "1369762e-0fa0-41e9-9a5d-b9e7ea385abe",
      "metadata": {
        "id": "1369762e-0fa0-41e9-9a5d-b9e7ea385abe"
      },
      "source": [
        "Obtener el valor máximo de la serie"
      ]
    },
    {
      "cell_type": "code",
      "execution_count": null,
      "id": "14c667d0-4a0e-4c9b-bf51-855c7161e972",
      "metadata": {
        "id": "14c667d0-4a0e-4c9b-bf51-855c7161e972"
      },
      "outputs": [],
      "source": []
    },
    {
      "cell_type": "markdown",
      "id": "407e71dd-95e8-4520-8c54-cf28489955db",
      "metadata": {
        "id": "407e71dd-95e8-4520-8c54-cf28489955db"
      },
      "source": [
        "Obtener el valor promedio de la serie"
      ]
    },
    {
      "cell_type": "code",
      "execution_count": null,
      "id": "ad7a5230-8a73-45b5-8bb9-6c8fad8bce58",
      "metadata": {
        "id": "ad7a5230-8a73-45b5-8bb9-6c8fad8bce58"
      },
      "outputs": [],
      "source": []
    },
    {
      "cell_type": "markdown",
      "id": "fd064347-6b86-4880-b20c-fa70f5c50315",
      "metadata": {
        "id": "fd064347-6b86-4880-b20c-fa70f5c50315"
      },
      "source": [
        "__Ejercicio 4:__ Obtener el valor en la segunda posición de la serie"
      ]
    },
    {
      "cell_type": "code",
      "execution_count": null,
      "id": "44744775-18b9-4986-b346-4bfc4a86a76b",
      "metadata": {
        "id": "44744775-18b9-4986-b346-4bfc4a86a76b"
      },
      "outputs": [],
      "source": []
    },
    {
      "cell_type": "code",
      "execution_count": null,
      "id": "e2cb34c3-d380-4f63-96b3-e0d1644ec280",
      "metadata": {
        "id": "e2cb34c3-d380-4f63-96b3-e0d1644ec280"
      },
      "outputs": [],
      "source": []
    },
    {
      "cell_type": "code",
      "execution_count": null,
      "id": "5cf9e1cd-d622-401c-ae95-0a92d9730621",
      "metadata": {
        "id": "5cf9e1cd-d622-401c-ae95-0a92d9730621"
      },
      "outputs": [],
      "source": []
    },
    {
      "cell_type": "markdown",
      "id": "212aaa22-896e-4e78-8fe3-7ee15afd8526",
      "metadata": {
        "id": "212aaa22-896e-4e78-8fe3-7ee15afd8526"
      },
      "source": [
        "__Ejercicio 5:__ Obtener los registros que tengan un valor igual a 22"
      ]
    },
    {
      "cell_type": "code",
      "execution_count": null,
      "id": "8db7d794-1198-4163-a42e-8ca6eae0928a",
      "metadata": {
        "id": "8db7d794-1198-4163-a42e-8ca6eae0928a"
      },
      "outputs": [],
      "source": []
    },
    {
      "cell_type": "markdown",
      "id": "b1a82ab9-0117-4acb-80f7-27afc178141c",
      "metadata": {
        "id": "b1a82ab9-0117-4acb-80f7-27afc178141c"
      },
      "source": [
        "__Ejercicio 6:__"
      ]
    },
    {
      "cell_type": "markdown",
      "id": "a08fcd17-bac9-408a-ac5c-11aca12a5457",
      "metadata": {
        "id": "a08fcd17-bac9-408a-ac5c-11aca12a5457"
      },
      "source": [
        "Crear una segunda serie utilizando los siguientes datos:"
      ]
    },
    {
      "cell_type": "code",
      "execution_count": null,
      "id": "fef8e45b-c418-46ca-a449-25664a1563c7",
      "metadata": {
        "id": "fef8e45b-c418-46ca-a449-25664a1563c7"
      },
      "outputs": [],
      "source": [
        "edades2= [23,15,12,25,20,50,31,2]"
      ]
    },
    {
      "cell_type": "code",
      "execution_count": null,
      "id": "0866517f-9055-41f7-8648-bb4d61ef546a",
      "metadata": {
        "id": "0866517f-9055-41f7-8648-bb4d61ef546a"
      },
      "outputs": [],
      "source": []
    },
    {
      "cell_type": "code",
      "execution_count": null,
      "id": "e156267e-b2f2-4d97-b8ec-debc09964089",
      "metadata": {
        "id": "e156267e-b2f2-4d97-b8ec-debc09964089"
      },
      "outputs": [],
      "source": []
    },
    {
      "cell_type": "code",
      "execution_count": null,
      "id": "faf7f257-b799-49e0-9072-60e1178266f5",
      "metadata": {
        "id": "faf7f257-b799-49e0-9072-60e1178266f5"
      },
      "outputs": [],
      "source": []
    },
    {
      "cell_type": "markdown",
      "id": "36f4b8a1-012d-4f29-b149-71e7fe59b966",
      "metadata": {
        "id": "36f4b8a1-012d-4f29-b149-71e7fe59b966"
      },
      "source": [
        "Sumar ambas series:"
      ]
    },
    {
      "cell_type": "code",
      "execution_count": null,
      "id": "3c78e3c4-7292-4300-a369-ff33c974d314",
      "metadata": {
        "id": "3c78e3c4-7292-4300-a369-ff33c974d314"
      },
      "outputs": [],
      "source": []
    },
    {
      "cell_type": "code",
      "execution_count": null,
      "id": "7ba6d04b-8c6c-44ab-af23-1fff4dcef48a",
      "metadata": {
        "id": "7ba6d04b-8c6c-44ab-af23-1fff4dcef48a"
      },
      "outputs": [],
      "source": []
    },
    {
      "cell_type": "code",
      "execution_count": null,
      "id": "36977085-fd5f-414d-b468-d2d1254dd851",
      "metadata": {
        "id": "36977085-fd5f-414d-b468-d2d1254dd851"
      },
      "outputs": [],
      "source": []
    },
    {
      "cell_type": "code",
      "execution_count": null,
      "id": "39b8cae7-d36b-4b81-a824-1ab8e9d1c76f",
      "metadata": {
        "id": "39b8cae7-d36b-4b81-a824-1ab8e9d1c76f"
      },
      "outputs": [],
      "source": []
    },
    {
      "cell_type": "code",
      "execution_count": null,
      "id": "970a8101-bf4d-45b3-9cac-55518bb7991e",
      "metadata": {
        "id": "970a8101-bf4d-45b3-9cac-55518bb7991e"
      },
      "outputs": [],
      "source": []
    },
    {
      "cell_type": "markdown",
      "id": "1546d2fe-14e5-43a3-959e-54ce2d2979ba",
      "metadata": {
        "id": "1546d2fe-14e5-43a3-959e-54ce2d2979ba"
      },
      "source": [
        "__Ejercicio 7:__"
      ]
    },
    {
      "cell_type": "markdown",
      "id": "ef4ad8e3-7cb4-407c-91a4-5c13cafad38b",
      "metadata": {
        "id": "ef4ad8e3-7cb4-407c-91a4-5c13cafad38b"
      },
      "source": [
        "Reordenar la serie anterior invirtiendo los indices con __sort_index()__"
      ]
    },
    {
      "cell_type": "code",
      "execution_count": null,
      "id": "d53389ed-0e29-4dc7-8c1c-7f8836c7d738",
      "metadata": {
        "id": "d53389ed-0e29-4dc7-8c1c-7f8836c7d738"
      },
      "outputs": [],
      "source": []
    },
    {
      "cell_type": "markdown",
      "id": "e5cf00ee-6e9d-4ebd-90e4-1731511d4afe",
      "metadata": {
        "id": "e5cf00ee-6e9d-4ebd-90e4-1731511d4afe"
      },
      "source": [
        "Volver a sumar ambas series:"
      ]
    },
    {
      "cell_type": "code",
      "execution_count": null,
      "id": "c63131c2-2321-41c5-9bf8-61c38fc3d945",
      "metadata": {
        "id": "c63131c2-2321-41c5-9bf8-61c38fc3d945"
      },
      "outputs": [],
      "source": []
    },
    {
      "cell_type": "code",
      "execution_count": null,
      "id": "0f64c65b-90ce-49b8-93b7-246815910566",
      "metadata": {
        "id": "0f64c65b-90ce-49b8-93b7-246815910566"
      },
      "outputs": [],
      "source": []
    },
    {
      "cell_type": "markdown",
      "id": "a66404f4-5668-4598-a2b0-977904735edb",
      "metadata": {
        "id": "a66404f4-5668-4598-a2b0-977904735edb"
      },
      "source": [
        "__Ejercicio 8:__ Restar a todos los elementos de la primera serie 5 unidades"
      ]
    },
    {
      "cell_type": "code",
      "execution_count": null,
      "id": "ea3f423f-1b03-4fcb-a60d-ffcafebcd3df",
      "metadata": {
        "id": "ea3f423f-1b03-4fcb-a60d-ffcafebcd3df"
      },
      "outputs": [],
      "source": []
    },
    {
      "cell_type": "code",
      "execution_count": null,
      "id": "0eb79ee2-31ef-4889-9eeb-e8a12e7b0e48",
      "metadata": {
        "id": "0eb79ee2-31ef-4889-9eeb-e8a12e7b0e48"
      },
      "outputs": [],
      "source": []
    },
    {
      "cell_type": "markdown",
      "id": "e5e7c359-c9b9-47f9-b158-01cbdeaed940",
      "metadata": {
        "id": "e5e7c359-c9b9-47f9-b158-01cbdeaed940"
      },
      "source": [
        "__Ejercicio 9:__ calcular el cuadrado de todos los valores en la serie utilizando __map__"
      ]
    },
    {
      "cell_type": "code",
      "execution_count": null,
      "id": "368366d9-04ac-4b00-926c-b1cb1ea0befb",
      "metadata": {
        "id": "368366d9-04ac-4b00-926c-b1cb1ea0befb",
        "outputId": "453dac54-24ed-40a5-c49c-7a655096275a"
      },
      "outputs": [
        {
          "ename": "NameError",
          "evalue": "name 'serie' is not defined",
          "output_type": "error",
          "traceback": [
            "\u001b[1;31m---------------------------------------------------------------------------\u001b[0m",
            "\u001b[1;31mNameError\u001b[0m                                 Traceback (most recent call last)",
            "Input \u001b[1;32mIn [1]\u001b[0m, in \u001b[0;36m<cell line: 4>\u001b[1;34m()\u001b[0m\n\u001b[0;32m      1\u001b[0m \u001b[38;5;28;01mdef\u001b[39;00m \u001b[38;5;21mcuadrado\u001b[39m(x):\n\u001b[0;32m      2\u001b[0m     \u001b[38;5;28;01mreturn\u001b[39;00m x\u001b[38;5;241m*\u001b[39mx\n\u001b[1;32m----> 4\u001b[0m \u001b[43mserie\u001b[49m\u001b[38;5;241m.\u001b[39mmap(cuadrado)\n",
            "\u001b[1;31mNameError\u001b[0m: name 'serie' is not defined"
          ]
        }
      ],
      "source": []
    },
    {
      "cell_type": "markdown",
      "id": "ae1fce41-3370-4be5-8f8f-652b66dcd5a4",
      "metadata": {
        "id": "ae1fce41-3370-4be5-8f8f-652b66dcd5a4"
      },
      "source": [
        "__Ejercicio 10:__ Crear un DataFrame con pandas llamado paises utilizando el siguiente diccionario de datos:"
      ]
    },
    {
      "cell_type": "code",
      "execution_count": null,
      "id": "aecbdaa5-73f2-4887-a3ce-b65266f8bab7",
      "metadata": {
        "id": "aecbdaa5-73f2-4887-a3ce-b65266f8bab7"
      },
      "outputs": [],
      "source": [
        "datos={  \n",
        "        \"nombre\":[\"Argentina\",\"Brasil\",\"Chile\",\"Colombia\",\"Ecuador\",\"Paraguay\",\"Peru\"],  \n",
        "        \"capital\":[\"Buenos Airea\",\"Brasilia\",\"Santiago de Chile\",\"Bogotá\",\"Quito\",\"Asunción\",\"Lima\"],  \n",
        "        \"poblacion\":[45380000,212600000,19120000,50880000,17640000,7133000,32970000],\n",
        "        \"sup. en km2\":[2780000,8516000,756950,1143000,283560,406752,1285216]\n",
        "        }"
      ]
    },
    {
      "cell_type": "code",
      "execution_count": null,
      "id": "bafdb9a5-7eee-43ea-8705-e4203c5f774e",
      "metadata": {
        "id": "bafdb9a5-7eee-43ea-8705-e4203c5f774e"
      },
      "outputs": [],
      "source": []
    },
    {
      "cell_type": "markdown",
      "id": "94a88a4d-23ec-44bd-8395-418db8d32334",
      "metadata": {
        "id": "94a88a4d-23ec-44bd-8395-418db8d32334"
      },
      "source": [
        "__Ejercicio 11:__ Visualizar los primeros 5 y los últimos 3 elementos del DataFrame anterior"
      ]
    },
    {
      "cell_type": "code",
      "execution_count": null,
      "id": "4bea3858-2247-4f29-9514-92588531d31a",
      "metadata": {
        "id": "4bea3858-2247-4f29-9514-92588531d31a"
      },
      "outputs": [],
      "source": []
    },
    {
      "cell_type": "code",
      "execution_count": null,
      "id": "57caa923-4212-4d3f-9c82-40c6a6e6459c",
      "metadata": {
        "id": "57caa923-4212-4d3f-9c82-40c6a6e6459c"
      },
      "outputs": [],
      "source": []
    },
    {
      "cell_type": "code",
      "execution_count": null,
      "id": "9e92fdc1-0b0e-417e-9adc-e142844c7dda",
      "metadata": {
        "id": "9e92fdc1-0b0e-417e-9adc-e142844c7dda"
      },
      "outputs": [],
      "source": []
    },
    {
      "cell_type": "markdown",
      "id": "2dc94e46-206b-469b-9b30-4d68bf28ce95",
      "metadata": {
        "id": "2dc94e46-206b-469b-9b30-4d68bf28ce95"
      },
      "source": [
        "__Ejercicio 12:__ Crear un Dataframe utilizando el diccionario de datos anterior únicamente con las columnas nombre y población"
      ]
    },
    {
      "cell_type": "code",
      "execution_count": null,
      "id": "7ec9978e-cf4d-48e1-a26a-d2749f32bb5d",
      "metadata": {
        "id": "7ec9978e-cf4d-48e1-a26a-d2749f32bb5d"
      },
      "outputs": [],
      "source": []
    },
    {
      "cell_type": "code",
      "execution_count": null,
      "id": "fbdb1061-d5c1-4051-acdb-57b3286e5e21",
      "metadata": {
        "id": "fbdb1061-d5c1-4051-acdb-57b3286e5e21"
      },
      "outputs": [],
      "source": []
    },
    {
      "cell_type": "code",
      "execution_count": null,
      "id": "4faedd25-48f5-4cba-b796-545b19c75349",
      "metadata": {
        "id": "4faedd25-48f5-4cba-b796-545b19c75349"
      },
      "outputs": [],
      "source": []
    },
    {
      "cell_type": "code",
      "execution_count": null,
      "id": "5a1aec96-cfb5-49fe-843e-af563f69f5c3",
      "metadata": {
        "id": "5a1aec96-cfb5-49fe-843e-af563f69f5c3"
      },
      "outputs": [],
      "source": []
    },
    {
      "cell_type": "markdown",
      "id": "6a75aea9-288d-4ddc-92ce-d94123d84bfb",
      "metadata": {
        "id": "6a75aea9-288d-4ddc-92ce-d94123d84bfb"
      },
      "source": [
        "__Ejercicio 13:__ Crear un DataFrame utilizando el diccionario de datos, con la columna \"nombre\" como índice:"
      ]
    },
    {
      "cell_type": "code",
      "execution_count": null,
      "id": "cdb5740a-6ba0-4a09-aeff-0227b4cf097c",
      "metadata": {
        "id": "cdb5740a-6ba0-4a09-aeff-0227b4cf097c"
      },
      "outputs": [],
      "source": []
    },
    {
      "cell_type": "code",
      "execution_count": null,
      "id": "7b579bed-8dc1-466e-9e0f-1dee803ad05a",
      "metadata": {
        "id": "7b579bed-8dc1-466e-9e0f-1dee803ad05a"
      },
      "outputs": [],
      "source": []
    },
    {
      "cell_type": "markdown",
      "id": "a94e8e57-5efb-453b-aeb6-5b0dc3ddfabd",
      "metadata": {
        "id": "a94e8e57-5efb-453b-aeb6-5b0dc3ddfabd"
      },
      "source": [
        "__Ejercicio 14:__ Obtener los datos de la fila con el indice \"Argentina\""
      ]
    },
    {
      "cell_type": "code",
      "execution_count": null,
      "id": "ecd20f37-11fb-4180-8345-bc27de5442dd",
      "metadata": {
        "id": "ecd20f37-11fb-4180-8345-bc27de5442dd"
      },
      "outputs": [],
      "source": []
    },
    {
      "cell_type": "markdown",
      "id": "194d0cda-0265-49c9-bc08-c9f3f295fe42",
      "metadata": {
        "id": "194d0cda-0265-49c9-bc08-c9f3f295fe42"
      },
      "source": [
        "__Ejercicio 15:__ Obtener la población y capital de Argentina y Brasil utilizando la función loc"
      ]
    },
    {
      "cell_type": "code",
      "execution_count": null,
      "id": "e4c09750-ce0c-4fc6-9b93-4096f09f9b52",
      "metadata": {
        "id": "e4c09750-ce0c-4fc6-9b93-4096f09f9b52"
      },
      "outputs": [],
      "source": []
    },
    {
      "cell_type": "markdown",
      "id": "d8e74773-012f-4c49-8837-00b6c9b43ec8",
      "metadata": {
        "id": "d8e74773-012f-4c49-8837-00b6c9b43ec8"
      },
      "source": [
        "__Ejercicio 16:__ Obtener la información de los paises con una superficie mayor a 1,000,000 de kilometros cuadrados utilizando loc"
      ]
    },
    {
      "cell_type": "code",
      "execution_count": null,
      "id": "e9746a6c-5a92-4db3-af38-609bbf24bea6",
      "metadata": {
        "id": "e9746a6c-5a92-4db3-af38-609bbf24bea6"
      },
      "outputs": [],
      "source": []
    },
    {
      "cell_type": "markdown",
      "id": "f42d3b15-da5b-45dc-821c-14474cddd1d7",
      "metadata": {
        "id": "f42d3b15-da5b-45dc-821c-14474cddd1d7"
      },
      "source": [
        "__Ejercicio 17:__ Cambiar el nombre de la capital Argentina a \"Buenos Aires\" utilizando la función loc"
      ]
    },
    {
      "cell_type": "code",
      "execution_count": null,
      "id": "9bd51875-b0ec-4000-b8b7-7afabf2e3a7a",
      "metadata": {
        "id": "9bd51875-b0ec-4000-b8b7-7afabf2e3a7a"
      },
      "outputs": [],
      "source": []
    },
    {
      "cell_type": "code",
      "execution_count": null,
      "id": "8c1e6277-9578-4fae-863e-9e54f312b106",
      "metadata": {
        "id": "8c1e6277-9578-4fae-863e-9e54f312b106"
      },
      "outputs": [],
      "source": []
    },
    {
      "cell_type": "markdown",
      "id": "75a8cf12-476a-4a9f-84a9-8ef895e23218",
      "metadata": {
        "id": "75a8cf12-476a-4a9f-84a9-8ef895e23218"
      },
      "source": [
        "__Ejercicio 18:__ "
      ]
    },
    {
      "cell_type": "markdown",
      "id": "574ea1e8-0c78-4bbe-b87d-9222ffdffb02",
      "metadata": {
        "id": "574ea1e8-0c78-4bbe-b87d-9222ffdffb02"
      },
      "source": [
        "Obtener los datos de la fila en la tercera posición utilizando iloc"
      ]
    },
    {
      "cell_type": "code",
      "execution_count": null,
      "id": "669824f4-9928-4ea5-8fcc-0ae504fea694",
      "metadata": {
        "id": "669824f4-9928-4ea5-8fcc-0ae504fea694"
      },
      "outputs": [],
      "source": []
    },
    {
      "cell_type": "markdown",
      "id": "222b5555-05f6-4c57-940b-2683f38654f6",
      "metadata": {
        "id": "222b5555-05f6-4c57-940b-2683f38654f6"
      },
      "source": [
        "Obtener los datos de la columna en la segunda posición utilizando iloc"
      ]
    },
    {
      "cell_type": "code",
      "execution_count": null,
      "id": "4b521130-1c93-4b47-b498-0a726609b6f2",
      "metadata": {
        "id": "4b521130-1c93-4b47-b498-0a726609b6f2"
      },
      "outputs": [],
      "source": []
    },
    {
      "cell_type": "code",
      "execution_count": null,
      "id": "fb439c48-5daf-412c-9c77-4e5b9aef9fb3",
      "metadata": {
        "id": "fb439c48-5daf-412c-9c77-4e5b9aef9fb3"
      },
      "outputs": [],
      "source": []
    },
    {
      "cell_type": "markdown",
      "id": "44c20209-8369-4d3d-b09b-b65ea88b9830",
      "metadata": {
        "id": "44c20209-8369-4d3d-b09b-b65ea88b9830"
      },
      "source": [
        "__Ejercicio 19:__ Obtener los datos de la fila en la tercera y cuarta posición utilizando iloc"
      ]
    },
    {
      "cell_type": "code",
      "execution_count": null,
      "id": "e20c9403-dd01-4ff1-a0a2-73f12f25b5cc",
      "metadata": {
        "id": "e20c9403-dd01-4ff1-a0a2-73f12f25b5cc"
      },
      "outputs": [],
      "source": []
    },
    {
      "cell_type": "code",
      "execution_count": null,
      "id": "2f6006cc-7a6d-4b22-863f-c0898c9cc6ba",
      "metadata": {
        "id": "2f6006cc-7a6d-4b22-863f-c0898c9cc6ba"
      },
      "outputs": [],
      "source": []
    },
    {
      "cell_type": "markdown",
      "id": "19526f4a-841c-4a7a-8990-35be57c904cc",
      "metadata": {
        "id": "19526f4a-841c-4a7a-8990-35be57c904cc"
      },
      "source": [
        "__Ejercicio 20:__ Obtener el nombre de las columnas en el DataFrame"
      ]
    },
    {
      "cell_type": "code",
      "execution_count": null,
      "id": "ca01f3c7-1329-494f-8e36-45fa67da8aef",
      "metadata": {
        "id": "ca01f3c7-1329-494f-8e36-45fa67da8aef"
      },
      "outputs": [],
      "source": []
    },
    {
      "cell_type": "code",
      "execution_count": null,
      "id": "15b18cca-1b9e-4bf8-9fa2-5fa3b06be5c3",
      "metadata": {
        "id": "15b18cca-1b9e-4bf8-9fa2-5fa3b06be5c3"
      },
      "outputs": [],
      "source": []
    },
    {
      "cell_type": "markdown",
      "id": "17cd0d32-5e37-4291-a45f-8ec4b0464acb",
      "metadata": {
        "id": "17cd0d32-5e37-4291-a45f-8ec4b0464acb"
      },
      "source": [
        "__Ejercicio 21:__ "
      ]
    },
    {
      "cell_type": "markdown",
      "id": "a69b2d75-e122-4658-812d-7d68c75cdb97",
      "metadata": {
        "id": "a69b2d75-e122-4658-812d-7d68c75cdb97"
      },
      "source": [
        "Obtener la columna \"poblacion\" con al notacion del punto"
      ]
    },
    {
      "cell_type": "code",
      "execution_count": null,
      "id": "da16d49e-92a9-4c48-84c3-d934ce7affa5",
      "metadata": {
        "id": "da16d49e-92a9-4c48-84c3-d934ce7affa5"
      },
      "outputs": [],
      "source": []
    },
    {
      "cell_type": "markdown",
      "id": "e03f320a-1bd8-4456-ad1e-fbac5d066404",
      "metadata": {
        "id": "e03f320a-1bd8-4456-ad1e-fbac5d066404"
      },
      "source": [
        "Obtener los valores de la columna \"poblacion\""
      ]
    },
    {
      "cell_type": "code",
      "execution_count": null,
      "id": "d8891d82-de51-4d72-8e74-5a1499f2a9a3",
      "metadata": {
        "id": "d8891d82-de51-4d72-8e74-5a1499f2a9a3"
      },
      "outputs": [],
      "source": []
    },
    {
      "cell_type": "markdown",
      "id": "e42cdb7c-122d-4f22-9327-c3c1b4796fa1",
      "metadata": {
        "id": "e42cdb7c-122d-4f22-9327-c3c1b4796fa1"
      },
      "source": [
        "Obtener el nombre de la columna \"poblacion\""
      ]
    },
    {
      "cell_type": "code",
      "execution_count": null,
      "id": "9b575f4e-0d86-42ee-b166-3402e8730634",
      "metadata": {
        "id": "9b575f4e-0d86-42ee-b166-3402e8730634"
      },
      "outputs": [],
      "source": []
    },
    {
      "cell_type": "markdown",
      "id": "e174a791-2e62-4d31-b5e1-735400fd297e",
      "metadata": {
        "id": "e174a791-2e62-4d31-b5e1-735400fd297e"
      },
      "source": [
        "__Ejercicio 22:__ "
      ]
    },
    {
      "cell_type": "markdown",
      "id": "59c041fb-5625-48d0-acc7-dced3b4444ea",
      "metadata": {
        "id": "59c041fb-5625-48d0-acc7-dced3b4444ea"
      },
      "source": [
        "Obtener el valor mínimo de la columna población"
      ]
    },
    {
      "cell_type": "code",
      "execution_count": null,
      "id": "7edf064a-420a-4e42-b81c-b81c52eb7c4d",
      "metadata": {
        "id": "7edf064a-420a-4e42-b81c-b81c52eb7c4d"
      },
      "outputs": [],
      "source": []
    },
    {
      "cell_type": "code",
      "execution_count": null,
      "id": "aab4bed1-4582-4c1d-8372-33a25f14ef67",
      "metadata": {
        "id": "aab4bed1-4582-4c1d-8372-33a25f14ef67"
      },
      "outputs": [],
      "source": []
    },
    {
      "cell_type": "markdown",
      "id": "ee0d266f-8c51-4863-89a0-b3b80cf4a80a",
      "metadata": {
        "id": "ee0d266f-8c51-4863-89a0-b3b80cf4a80a"
      },
      "source": [
        "Obtener el valor máximo de la columna población"
      ]
    },
    {
      "cell_type": "code",
      "execution_count": null,
      "id": "b57ae067-d502-4adf-83a2-3cc951742fba",
      "metadata": {
        "id": "b57ae067-d502-4adf-83a2-3cc951742fba"
      },
      "outputs": [],
      "source": []
    },
    {
      "cell_type": "markdown",
      "id": "d1fc87ab-69a5-40cd-bdf0-d494da7cbdc6",
      "metadata": {
        "id": "d1fc87ab-69a5-40cd-bdf0-d494da7cbdc6"
      },
      "source": [
        "Obtener la desviación estandar de la columna población"
      ]
    },
    {
      "cell_type": "code",
      "execution_count": null,
      "id": "277be38e-5504-471e-885a-53efcdd7f9cf",
      "metadata": {
        "id": "277be38e-5504-471e-885a-53efcdd7f9cf"
      },
      "outputs": [],
      "source": []
    },
    {
      "cell_type": "markdown",
      "id": "fc5aba6c-ac78-4cf8-890d-584fb821794d",
      "metadata": {
        "id": "fc5aba6c-ac78-4cf8-890d-584fb821794d"
      },
      "source": [
        "__Ejercicio 23:__ Obtener un DataFrame con las columnas población y capital "
      ]
    },
    {
      "cell_type": "code",
      "execution_count": null,
      "id": "de361afe-fceb-4937-a038-e98ba15858ad",
      "metadata": {
        "id": "de361afe-fceb-4937-a038-e98ba15858ad"
      },
      "outputs": [],
      "source": []
    },
    {
      "cell_type": "markdown",
      "id": "d0e78aa2-8b82-48a2-84bc-b24ed2c0fe3f",
      "metadata": {
        "id": "d0e78aa2-8b82-48a2-84bc-b24ed2c0fe3f"
      },
      "source": [
        "__Ejercicio 24:__ Obtener únicamente los datos de los paises con una población mayor a 50,000,000"
      ]
    },
    {
      "cell_type": "code",
      "execution_count": null,
      "id": "14d30d7d-fac4-4677-a15c-dd0fd92007db",
      "metadata": {
        "id": "14d30d7d-fac4-4677-a15c-dd0fd92007db"
      },
      "outputs": [],
      "source": []
    },
    {
      "cell_type": "markdown",
      "id": "bbc4429d-de7b-40ce-b719-1a74e6d5b8b1",
      "metadata": {
        "id": "bbc4429d-de7b-40ce-b719-1a74e6d5b8b1"
      },
      "source": [
        "__Ejercicio 25:__"
      ]
    },
    {
      "cell_type": "markdown",
      "id": "1c4a734d-f289-427a-846c-fdf9a006ecf1",
      "metadata": {
        "id": "1c4a734d-f289-427a-846c-fdf9a006ecf1"
      },
      "source": [
        " Agregar una columna al DataFrame \"paises\" que contenga la población en millones de habitantes"
      ]
    },
    {
      "cell_type": "code",
      "execution_count": null,
      "id": "bde20776-6f31-4bd3-9554-b7038341175f",
      "metadata": {
        "id": "bde20776-6f31-4bd3-9554-b7038341175f"
      },
      "outputs": [],
      "source": []
    },
    {
      "cell_type": "code",
      "execution_count": null,
      "id": "2477bed2-47d4-4001-b8b2-66b7a0d28a84",
      "metadata": {
        "id": "2477bed2-47d4-4001-b8b2-66b7a0d28a84"
      },
      "outputs": [],
      "source": []
    },
    {
      "cell_type": "code",
      "execution_count": null,
      "id": "890a53aa-7ec1-4ef7-a14d-05d095af9ea0",
      "metadata": {
        "id": "890a53aa-7ec1-4ef7-a14d-05d095af9ea0"
      },
      "outputs": [],
      "source": []
    },
    {
      "cell_type": "markdown",
      "id": "52ddd9fe-36e5-41ab-ab25-b05df4edb325",
      "metadata": {
        "id": "52ddd9fe-36e5-41ab-ab25-b05df4edb325"
      },
      "source": [
        "Volver a agregar una columna al DataFrame \"paises\" que contenga la población en millones de habitantes, utilizando la función __apply__"
      ]
    },
    {
      "cell_type": "code",
      "execution_count": null,
      "id": "50c438d3-a991-47c2-8615-67fb3352df86",
      "metadata": {
        "id": "50c438d3-a991-47c2-8615-67fb3352df86"
      },
      "outputs": [],
      "source": []
    },
    {
      "cell_type": "code",
      "execution_count": null,
      "id": "13495445-04d2-4eef-af06-f87bcc63d7ab",
      "metadata": {
        "id": "13495445-04d2-4eef-af06-f87bcc63d7ab"
      },
      "outputs": [],
      "source": []
    },
    {
      "cell_type": "markdown",
      "id": "f96ba9cc-6f79-4c81-8e0a-33be51711c49",
      "metadata": {
        "id": "f96ba9cc-6f79-4c81-8e0a-33be51711c49"
      },
      "source": [
        "__Ejercicio 26:__ Agregar una columna al DataFrame \"paises\" que contenga la población por cada Km2 de superficie, utilizando la función apply"
      ]
    },
    {
      "cell_type": "code",
      "execution_count": null,
      "id": "73540771-223f-4993-9f90-6ff60f11bb5e",
      "metadata": {
        "id": "73540771-223f-4993-9f90-6ff60f11bb5e"
      },
      "outputs": [],
      "source": []
    },
    {
      "cell_type": "code",
      "execution_count": null,
      "id": "7d7c5e3a-e3cf-4281-b797-591516cb554d",
      "metadata": {
        "id": "7d7c5e3a-e3cf-4281-b797-591516cb554d"
      },
      "outputs": [],
      "source": []
    },
    {
      "cell_type": "markdown",
      "id": "a2cbd888-730f-43ce-856f-25c5042c233d",
      "metadata": {
        "id": "a2cbd888-730f-43ce-856f-25c5042c233d"
      },
      "source": [
        "__Ejercicio 27:__ Guardar el DataFrame en formato pickle"
      ]
    },
    {
      "cell_type": "code",
      "execution_count": null,
      "id": "955a47a5-ca79-48a6-a833-53d7ca7f8e49",
      "metadata": {
        "id": "955a47a5-ca79-48a6-a833-53d7ca7f8e49"
      },
      "outputs": [],
      "source": []
    },
    {
      "cell_type": "markdown",
      "id": "0482e677-98a3-4998-8119-f0ae45758a04",
      "metadata": {
        "id": "0482e677-98a3-4998-8119-f0ae45758a04"
      },
      "source": [
        "__Ejercicio 28:__ Leer el archivo pickle anterior"
      ]
    },
    {
      "cell_type": "code",
      "execution_count": null,
      "id": "5c5cf5fd-424d-46f1-8f8a-2f3e8f225bf8",
      "metadata": {
        "id": "5c5cf5fd-424d-46f1-8f8a-2f3e8f225bf8"
      },
      "outputs": [],
      "source": []
    },
    {
      "cell_type": "markdown",
      "id": "9c148dee-3640-4c57-8d8f-7cd6de1c6bb2",
      "metadata": {
        "id": "9c148dee-3640-4c57-8d8f-7cd6de1c6bb2"
      },
      "source": [
        "__Ejercicio 29:__"
      ]
    },
    {
      "cell_type": "markdown",
      "id": "3202abbd-e359-4902-9e09-e7082f9109dc",
      "metadata": {
        "id": "3202abbd-e359-4902-9e09-e7082f9109dc"
      },
      "source": [
        "Guardar el DataFrame paises en formato .csv"
      ]
    },
    {
      "cell_type": "code",
      "execution_count": null,
      "id": "382c9f51-04da-4237-977b-3ba99037bd93",
      "metadata": {
        "id": "382c9f51-04da-4237-977b-3ba99037bd93"
      },
      "outputs": [],
      "source": []
    },
    {
      "cell_type": "markdown",
      "id": "1245c8fb-c252-4260-93b1-93d6bfd1ee81",
      "metadata": {
        "id": "1245c8fb-c252-4260-93b1-93d6bfd1ee81"
      },
      "source": [
        "Guardar el DataFrame paises en formato .xlsx"
      ]
    },
    {
      "cell_type": "code",
      "execution_count": null,
      "id": "cb318548-fd7a-49c9-ba82-a8e7c1e44539",
      "metadata": {
        "id": "cb318548-fd7a-49c9-ba82-a8e7c1e44539"
      },
      "outputs": [],
      "source": []
    },
    {
      "cell_type": "markdown",
      "id": "10986453-a51b-40ab-b632-cc02f2f11a39",
      "metadata": {
        "id": "10986453-a51b-40ab-b632-cc02f2f11a39"
      },
      "source": [
        "__Ejercicio 30:__"
      ]
    },
    {
      "cell_type": "markdown",
      "id": "48c168b5-52a5-4c1e-9f37-6885322b4172",
      "metadata": {
        "id": "48c168b5-52a5-4c1e-9f37-6885322b4172"
      },
      "source": [
        "Leer el archivo __csv.csv__"
      ]
    },
    {
      "cell_type": "code",
      "execution_count": null,
      "id": "c09d81bb-8ec7-47b6-aeb3-8297f948c8f0",
      "metadata": {
        "id": "c09d81bb-8ec7-47b6-aeb3-8297f948c8f0"
      },
      "outputs": [],
      "source": []
    },
    {
      "cell_type": "code",
      "execution_count": null,
      "id": "3a9aa98e-b53d-467a-b72c-f900ced6d691",
      "metadata": {
        "id": "3a9aa98e-b53d-467a-b72c-f900ced6d691"
      },
      "outputs": [],
      "source": []
    },
    {
      "cell_type": "markdown",
      "id": "6edef509-a902-46e3-b687-ea9bba982c42",
      "metadata": {
        "id": "6edef509-a902-46e3-b687-ea9bba982c42"
      },
      "source": [
        "Leer el archivo __excel.xlsx__"
      ]
    },
    {
      "cell_type": "code",
      "execution_count": null,
      "id": "f970fd5c-7916-425c-840f-3be8aed555d0",
      "metadata": {
        "id": "f970fd5c-7916-425c-840f-3be8aed555d0"
      },
      "outputs": [],
      "source": []
    },
    {
      "cell_type": "code",
      "execution_count": null,
      "id": "09e8b1e3-c900-462d-94af-ab40651e3d0c",
      "metadata": {
        "id": "09e8b1e3-c900-462d-94af-ab40651e3d0c"
      },
      "outputs": [],
      "source": []
    },
    {
      "cell_type": "code",
      "execution_count": null,
      "id": "5e9749f3-d0a0-44ef-b528-a509a79474a3",
      "metadata": {
        "id": "5e9749f3-d0a0-44ef-b528-a509a79474a3"
      },
      "outputs": [],
      "source": []
    }
  ],
  "metadata": {
    "kernelspec": {
      "display_name": "Python 3 (ipykernel)",
      "language": "python",
      "name": "python3"
    },
    "language_info": {
      "codemirror_mode": {
        "name": "ipython",
        "version": 3
      },
      "file_extension": ".py",
      "mimetype": "text/x-python",
      "name": "python",
      "nbconvert_exporter": "python",
      "pygments_lexer": "ipython3",
      "version": "3.9.13"
    },
    "colab": {
      "provenance": [],
      "include_colab_link": true
    }
  },
  "nbformat": 4,
  "nbformat_minor": 5
}