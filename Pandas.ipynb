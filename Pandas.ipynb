{
  "cells": [
    {
      "cell_type": "markdown",
      "metadata": {
        "id": "view-in-github",
        "colab_type": "text"
      },
      "source": [
        "<a href=\"https://colab.research.google.com/github/vitolemus/learningPandas/blob/main/Pandas.ipynb\" target=\"_parent\"><img src=\"https://colab.research.google.com/assets/colab-badge.svg\" alt=\"Open In Colab\"/></a>"
      ]
    },
    {
      "cell_type": "markdown",
      "id": "a61d0e38-bd8f-4ccb-8f85-434512f46f1a",
      "metadata": {
        "tags": [],
        "id": "a61d0e38-bd8f-4ccb-8f85-434512f46f1a"
      },
      "source": [
        "# DataFrames"
      ]
    },
    {
      "cell_type": "code",
      "execution_count": 1,
      "id": "d7f29d2f-620b-4da7-a4cc-471e8363db27",
      "metadata": {
        "id": "d7f29d2f-620b-4da7-a4cc-471e8363db27"
      },
      "outputs": [],
      "source": [
        "import pandas as pd"
      ]
    },
    {
      "cell_type": "markdown",
      "id": "b9e95a14-1934-4848-b0a4-88293b69d4e4",
      "metadata": {
        "id": "b9e95a14-1934-4848-b0a4-88293b69d4e4"
      },
      "source": [
        "__Ejercicio 1:__ Crear una serie de pandas con el siguiente arreglo"
      ]
    },
    {
      "cell_type": "code",
      "execution_count": 2,
      "id": "85a136e2-0233-484a-876b-94ba4dd3f4f7",
      "metadata": {
        "id": "85a136e2-0233-484a-876b-94ba4dd3f4f7"
      },
      "outputs": [],
      "source": [
        "edades=[22,13,8,33,25,44,38,22]"
      ]
    },
    {
      "cell_type": "code",
      "execution_count": 3,
      "id": "902600f6-f652-48a1-8307-4addd450a0be",
      "metadata": {
        "colab": {
          "base_uri": "https://localhost:8080/"
        },
        "id": "902600f6-f652-48a1-8307-4addd450a0be",
        "outputId": "ffa77df4-310b-4a75-eb8f-2150ae9946c6"
      },
      "outputs": [
        {
          "output_type": "execute_result",
          "data": {
            "text/plain": [
              "[22, 13, 8, 33, 25, 44, 38, 22]"
            ]
          },
          "metadata": {},
          "execution_count": 3
        }
      ],
      "source": [
        "edades"
      ]
    },
    {
      "cell_type": "code",
      "execution_count": 4,
      "id": "8d9f81f9-6fd5-4ae3-a674-816fbd734d29",
      "metadata": {
        "id": "8d9f81f9-6fd5-4ae3-a674-816fbd734d29"
      },
      "outputs": [],
      "source": [
        "serie = pd.Series(edades)"
      ]
    },
    {
      "cell_type": "code",
      "execution_count": 5,
      "id": "60114c97-ba69-4d16-a3a3-90a9b2b24b43",
      "metadata": {
        "colab": {
          "base_uri": "https://localhost:8080/"
        },
        "id": "60114c97-ba69-4d16-a3a3-90a9b2b24b43",
        "outputId": "d82bcd6b-5d34-416c-e44a-fac1a0b405db"
      },
      "outputs": [
        {
          "output_type": "execute_result",
          "data": {
            "text/plain": [
              "0    22\n",
              "1    13\n",
              "2     8\n",
              "3    33\n",
              "4    25\n",
              "5    44\n",
              "6    38\n",
              "7    22\n",
              "dtype: int64"
            ]
          },
          "metadata": {},
          "execution_count": 5
        }
      ],
      "source": [
        "serie"
      ]
    },
    {
      "cell_type": "markdown",
      "id": "9803ef5f-68e9-4bef-9111-560dde4be3e4",
      "metadata": {
        "id": "9803ef5f-68e9-4bef-9111-560dde4be3e4"
      },
      "source": [
        "__Ejercicio 2:__"
      ]
    },
    {
      "cell_type": "markdown",
      "id": "5d90cfe7-1adf-423b-84e2-836688e2206a",
      "metadata": {
        "id": "5d90cfe7-1adf-423b-84e2-836688e2206a"
      },
      "source": [
        "Obtener los primeros 5 registros utilizando head"
      ]
    },
    {
      "cell_type": "code",
      "execution_count": 6,
      "id": "3a20db5d-d0ec-499a-9463-c178d727ac07",
      "metadata": {
        "colab": {
          "base_uri": "https://localhost:8080/"
        },
        "id": "3a20db5d-d0ec-499a-9463-c178d727ac07",
        "outputId": "2474aa64-2f3e-4cfe-bbc5-02404c800ff4"
      },
      "outputs": [
        {
          "output_type": "execute_result",
          "data": {
            "text/plain": [
              "0    22\n",
              "1    13\n",
              "2     8\n",
              "3    33\n",
              "4    25\n",
              "dtype: int64"
            ]
          },
          "metadata": {},
          "execution_count": 6
        }
      ],
      "source": [
        "serie.head()"
      ]
    },
    {
      "cell_type": "markdown",
      "id": "e3c9f1e3-2441-4977-9f04-2b842de7578a",
      "metadata": {
        "id": "e3c9f1e3-2441-4977-9f04-2b842de7578a"
      },
      "source": [
        "Obtener los últimos 3 registros utilizando tail"
      ]
    },
    {
      "cell_type": "code",
      "execution_count": 7,
      "id": "ce5a5e4b-fbf1-44c6-ab07-dc334dfbfaf5",
      "metadata": {
        "colab": {
          "base_uri": "https://localhost:8080/"
        },
        "id": "ce5a5e4b-fbf1-44c6-ab07-dc334dfbfaf5",
        "outputId": "eb002166-92cc-41d3-9878-8563c17e2f21"
      },
      "outputs": [
        {
          "output_type": "execute_result",
          "data": {
            "text/plain": [
              "5    44\n",
              "6    38\n",
              "7    22\n",
              "dtype: int64"
            ]
          },
          "metadata": {},
          "execution_count": 7
        }
      ],
      "source": [
        "serie.tail(3)"
      ]
    },
    {
      "cell_type": "markdown",
      "id": "0fcff9b0-84f8-4f03-8d9e-6743e25e6092",
      "metadata": {
        "id": "0fcff9b0-84f8-4f03-8d9e-6743e25e6092"
      },
      "source": [
        "__Ejercicio 3__"
      ]
    },
    {
      "cell_type": "markdown",
      "id": "a3880be8-54a2-4196-8883-fa4ba37a3f8e",
      "metadata": {
        "id": "a3880be8-54a2-4196-8883-fa4ba37a3f8e"
      },
      "source": [
        "Obtener el valor mínimo de la serie"
      ]
    },
    {
      "cell_type": "code",
      "execution_count": 8,
      "id": "ba63ba1c-ce04-4c56-bc35-4dd3b59690bf",
      "metadata": {
        "colab": {
          "base_uri": "https://localhost:8080/"
        },
        "id": "ba63ba1c-ce04-4c56-bc35-4dd3b59690bf",
        "outputId": "cae6e720-bf79-4462-b0ef-7ede68b74f3f"
      },
      "outputs": [
        {
          "output_type": "execute_result",
          "data": {
            "text/plain": [
              "8"
            ]
          },
          "metadata": {},
          "execution_count": 8
        }
      ],
      "source": [
        "serie.min()"
      ]
    },
    {
      "cell_type": "markdown",
      "id": "1369762e-0fa0-41e9-9a5d-b9e7ea385abe",
      "metadata": {
        "id": "1369762e-0fa0-41e9-9a5d-b9e7ea385abe"
      },
      "source": [
        "Obtener el valor máximo de la serie"
      ]
    },
    {
      "cell_type": "code",
      "execution_count": 9,
      "id": "14c667d0-4a0e-4c9b-bf51-855c7161e972",
      "metadata": {
        "colab": {
          "base_uri": "https://localhost:8080/"
        },
        "id": "14c667d0-4a0e-4c9b-bf51-855c7161e972",
        "outputId": "6aea69ec-e77e-4ce0-902b-007aa91b5aaa"
      },
      "outputs": [
        {
          "output_type": "execute_result",
          "data": {
            "text/plain": [
              "44"
            ]
          },
          "metadata": {},
          "execution_count": 9
        }
      ],
      "source": [
        "serie.max()"
      ]
    },
    {
      "cell_type": "markdown",
      "id": "407e71dd-95e8-4520-8c54-cf28489955db",
      "metadata": {
        "id": "407e71dd-95e8-4520-8c54-cf28489955db"
      },
      "source": [
        "Obtener el valor promedio de la serie"
      ]
    },
    {
      "cell_type": "code",
      "execution_count": 10,
      "id": "ad7a5230-8a73-45b5-8bb9-6c8fad8bce58",
      "metadata": {
        "colab": {
          "base_uri": "https://localhost:8080/"
        },
        "id": "ad7a5230-8a73-45b5-8bb9-6c8fad8bce58",
        "outputId": "1accd337-c2d1-4d16-b218-6e6b4b770c4a"
      },
      "outputs": [
        {
          "output_type": "execute_result",
          "data": {
            "text/plain": [
              "25.625"
            ]
          },
          "metadata": {},
          "execution_count": 10
        }
      ],
      "source": [
        "serie.mean()"
      ]
    },
    {
      "cell_type": "markdown",
      "id": "fd064347-6b86-4880-b20c-fa70f5c50315",
      "metadata": {
        "id": "fd064347-6b86-4880-b20c-fa70f5c50315"
      },
      "source": [
        "__Ejercicio 4:__ Obtener el valor en la segunda posición de la serie"
      ]
    },
    {
      "cell_type": "code",
      "execution_count": 11,
      "id": "44744775-18b9-4986-b346-4bfc4a86a76b",
      "metadata": {
        "colab": {
          "base_uri": "https://localhost:8080/"
        },
        "id": "44744775-18b9-4986-b346-4bfc4a86a76b",
        "outputId": "db42be24-f997-486e-dcf4-45755d64807a"
      },
      "outputs": [
        {
          "output_type": "execute_result",
          "data": {
            "text/plain": [
              "0    22\n",
              "1    13\n",
              "2     8\n",
              "3    33\n",
              "4    25\n",
              "5    44\n",
              "6    38\n",
              "7    22\n",
              "dtype: int64"
            ]
          },
          "metadata": {},
          "execution_count": 11
        }
      ],
      "source": [
        "serie"
      ]
    },
    {
      "cell_type": "code",
      "execution_count": 12,
      "id": "e2cb34c3-d380-4f63-96b3-e0d1644ec280",
      "metadata": {
        "colab": {
          "base_uri": "https://localhost:8080/"
        },
        "id": "e2cb34c3-d380-4f63-96b3-e0d1644ec280",
        "outputId": "3357247a-8077-485c-81a1-7dea7b9f2d42"
      },
      "outputs": [
        {
          "output_type": "execute_result",
          "data": {
            "text/plain": [
              "13"
            ]
          },
          "metadata": {},
          "execution_count": 12
        }
      ],
      "source": [
        "serie[1]"
      ]
    },
    {
      "cell_type": "code",
      "source": [
        "serie.get(5)"
      ],
      "metadata": {
        "colab": {
          "base_uri": "https://localhost:8080/"
        },
        "id": "-9e3-N9MP9YI",
        "outputId": "276622f4-c303-4156-b5f5-76cd4b5eca70"
      },
      "id": "-9e3-N9MP9YI",
      "execution_count": 13,
      "outputs": [
        {
          "output_type": "execute_result",
          "data": {
            "text/plain": [
              "44"
            ]
          },
          "metadata": {},
          "execution_count": 13
        }
      ]
    },
    {
      "cell_type": "markdown",
      "id": "212aaa22-896e-4e78-8fe3-7ee15afd8526",
      "metadata": {
        "id": "212aaa22-896e-4e78-8fe3-7ee15afd8526"
      },
      "source": [
        "__Ejercicio 5:__ Obtener los registros que tengan un valor igual a 22"
      ]
    },
    {
      "cell_type": "code",
      "execution_count": 14,
      "id": "8db7d794-1198-4163-a42e-8ca6eae0928a",
      "metadata": {
        "colab": {
          "base_uri": "https://localhost:8080/"
        },
        "id": "8db7d794-1198-4163-a42e-8ca6eae0928a",
        "outputId": "33c960b1-8ea4-450a-9a9d-5e7b45bdea62"
      },
      "outputs": [
        {
          "output_type": "execute_result",
          "data": {
            "text/plain": [
              "0     True\n",
              "1    False\n",
              "2    False\n",
              "3    False\n",
              "4    False\n",
              "5    False\n",
              "6    False\n",
              "7     True\n",
              "dtype: bool"
            ]
          },
          "metadata": {},
          "execution_count": 14
        }
      ],
      "source": [
        "serie == 22"
      ]
    },
    {
      "cell_type": "code",
      "source": [
        "serie[serie == 22]"
      ],
      "metadata": {
        "colab": {
          "base_uri": "https://localhost:8080/"
        },
        "id": "95y9HwZiP3XI",
        "outputId": "492379c4-e137-42a8-87d1-145dde3c4b3f"
      },
      "id": "95y9HwZiP3XI",
      "execution_count": 15,
      "outputs": [
        {
          "output_type": "execute_result",
          "data": {
            "text/plain": [
              "0    22\n",
              "7    22\n",
              "dtype: int64"
            ]
          },
          "metadata": {},
          "execution_count": 15
        }
      ]
    },
    {
      "cell_type": "markdown",
      "id": "b1a82ab9-0117-4acb-80f7-27afc178141c",
      "metadata": {
        "id": "b1a82ab9-0117-4acb-80f7-27afc178141c"
      },
      "source": [
        "__Ejercicio 6:__"
      ]
    },
    {
      "cell_type": "markdown",
      "id": "a08fcd17-bac9-408a-ac5c-11aca12a5457",
      "metadata": {
        "id": "a08fcd17-bac9-408a-ac5c-11aca12a5457"
      },
      "source": [
        "Crear una segunda serie utilizando los siguientes datos:"
      ]
    },
    {
      "cell_type": "code",
      "execution_count": 16,
      "id": "fef8e45b-c418-46ca-a449-25664a1563c7",
      "metadata": {
        "id": "fef8e45b-c418-46ca-a449-25664a1563c7"
      },
      "outputs": [],
      "source": [
        "edades2= [23,15,12,25,20,50,31,2]"
      ]
    },
    {
      "cell_type": "code",
      "execution_count": 17,
      "id": "0866517f-9055-41f7-8648-bb4d61ef546a",
      "metadata": {
        "id": "0866517f-9055-41f7-8648-bb4d61ef546a"
      },
      "outputs": [],
      "source": [
        "serie2 = pd.Series(edades2)"
      ]
    },
    {
      "cell_type": "code",
      "execution_count": 18,
      "id": "e156267e-b2f2-4d97-b8ec-debc09964089",
      "metadata": {
        "colab": {
          "base_uri": "https://localhost:8080/"
        },
        "id": "e156267e-b2f2-4d97-b8ec-debc09964089",
        "outputId": "9785cec2-37b6-4f1d-bfb3-9d6f0fcc7679"
      },
      "outputs": [
        {
          "output_type": "execute_result",
          "data": {
            "text/plain": [
              "0    23\n",
              "1    15\n",
              "2    12\n",
              "3    25\n",
              "4    20\n",
              "5    50\n",
              "6    31\n",
              "7     2\n",
              "dtype: int64"
            ]
          },
          "metadata": {},
          "execution_count": 18
        }
      ],
      "source": [
        "serie2"
      ]
    },
    {
      "cell_type": "markdown",
      "id": "36f4b8a1-012d-4f29-b149-71e7fe59b966",
      "metadata": {
        "id": "36f4b8a1-012d-4f29-b149-71e7fe59b966"
      },
      "source": [
        "Sumar ambas series:"
      ]
    },
    {
      "cell_type": "code",
      "execution_count": 19,
      "id": "3c78e3c4-7292-4300-a369-ff33c974d314",
      "metadata": {
        "colab": {
          "base_uri": "https://localhost:8080/"
        },
        "id": "3c78e3c4-7292-4300-a369-ff33c974d314",
        "outputId": "346ecf59-9d09-40ba-897f-a51bb8ee7534"
      },
      "outputs": [
        {
          "output_type": "execute_result",
          "data": {
            "text/plain": [
              "0    45\n",
              "1    28\n",
              "2    20\n",
              "3    58\n",
              "4    45\n",
              "5    94\n",
              "6    69\n",
              "7    24\n",
              "dtype: int64"
            ]
          },
          "metadata": {},
          "execution_count": 19
        }
      ],
      "source": [
        "serie + serie2"
      ]
    },
    {
      "cell_type": "code",
      "execution_count": 20,
      "id": "7ba6d04b-8c6c-44ab-af23-1fff4dcef48a",
      "metadata": {
        "colab": {
          "base_uri": "https://localhost:8080/"
        },
        "id": "7ba6d04b-8c6c-44ab-af23-1fff4dcef48a",
        "outputId": "4c5eaba5-e629-4716-b954-514e63709ace"
      },
      "outputs": [
        {
          "output_type": "execute_result",
          "data": {
            "text/plain": [
              "[22, 13, 8, 33, 25, 44, 38, 22, 23, 15, 12, 25, 20, 50, 31, 2]"
            ]
          },
          "metadata": {},
          "execution_count": 20
        }
      ],
      "source": [
        "edades + edades2"
      ]
    },
    {
      "cell_type": "code",
      "execution_count": 21,
      "id": "36977085-fd5f-414d-b468-d2d1254dd851",
      "metadata": {
        "id": "36977085-fd5f-414d-b468-d2d1254dd851"
      },
      "outputs": [],
      "source": [
        "edades3 = 2"
      ]
    },
    {
      "cell_type": "code",
      "execution_count": 22,
      "id": "39b8cae7-d36b-4b81-a824-1ab8e9d1c76f",
      "metadata": {
        "id": "39b8cae7-d36b-4b81-a824-1ab8e9d1c76f"
      },
      "outputs": [],
      "source": [
        "serie3 = pd. Series(edades3)"
      ]
    },
    {
      "cell_type": "code",
      "execution_count": 23,
      "id": "970a8101-bf4d-45b3-9cac-55518bb7991e",
      "metadata": {
        "colab": {
          "base_uri": "https://localhost:8080/"
        },
        "id": "970a8101-bf4d-45b3-9cac-55518bb7991e",
        "outputId": "c6bb9155-52aa-446c-c5bc-ce577535bf0b"
      },
      "outputs": [
        {
          "output_type": "execute_result",
          "data": {
            "text/plain": [
              "0    2\n",
              "dtype: int64"
            ]
          },
          "metadata": {},
          "execution_count": 23
        }
      ],
      "source": [
        "serie3"
      ]
    },
    {
      "cell_type": "code",
      "source": [
        "serie3 + serie"
      ],
      "metadata": {
        "id": "sCq67cD5RYqr",
        "outputId": "fc6c9ef4-a523-47cb-e050-ecdff15063d9",
        "colab": {
          "base_uri": "https://localhost:8080/"
        }
      },
      "id": "sCq67cD5RYqr",
      "execution_count": 24,
      "outputs": [
        {
          "output_type": "execute_result",
          "data": {
            "text/plain": [
              "0    24.0\n",
              "1     NaN\n",
              "2     NaN\n",
              "3     NaN\n",
              "4     NaN\n",
              "5     NaN\n",
              "6     NaN\n",
              "7     NaN\n",
              "dtype: float64"
            ]
          },
          "metadata": {},
          "execution_count": 24
        }
      ]
    },
    {
      "cell_type": "markdown",
      "id": "1546d2fe-14e5-43a3-959e-54ce2d2979ba",
      "metadata": {
        "id": "1546d2fe-14e5-43a3-959e-54ce2d2979ba"
      },
      "source": [
        "__Ejercicio 7:__"
      ]
    },
    {
      "cell_type": "markdown",
      "id": "ef4ad8e3-7cb4-407c-91a4-5c13cafad38b",
      "metadata": {
        "id": "ef4ad8e3-7cb4-407c-91a4-5c13cafad38b"
      },
      "source": [
        "Reordenar la serie anterior invirtiendo los indices con __sort_index()__"
      ]
    },
    {
      "cell_type": "code",
      "execution_count": 25,
      "id": "d53389ed-0e29-4dc7-8c1c-7f8836c7d738",
      "metadata": {
        "id": "d53389ed-0e29-4dc7-8c1c-7f8836c7d738"
      },
      "outputs": [],
      "source": [
        "serie2 = serie2.sort_index(ascending= False)"
      ]
    },
    {
      "cell_type": "code",
      "source": [
        "serie2"
      ],
      "metadata": {
        "colab": {
          "base_uri": "https://localhost:8080/"
        },
        "id": "wsmmP1a4TNni",
        "outputId": "99de27c4-0786-4aa6-9b69-da91b71272aa"
      },
      "id": "wsmmP1a4TNni",
      "execution_count": 26,
      "outputs": [
        {
          "output_type": "execute_result",
          "data": {
            "text/plain": [
              "7     2\n",
              "6    31\n",
              "5    50\n",
              "4    20\n",
              "3    25\n",
              "2    12\n",
              "1    15\n",
              "0    23\n",
              "dtype: int64"
            ]
          },
          "metadata": {},
          "execution_count": 26
        }
      ]
    },
    {
      "cell_type": "markdown",
      "id": "e5cf00ee-6e9d-4ebd-90e4-1731511d4afe",
      "metadata": {
        "id": "e5cf00ee-6e9d-4ebd-90e4-1731511d4afe"
      },
      "source": [
        "Volver a sumar ambas series:"
      ]
    },
    {
      "cell_type": "code",
      "execution_count": 27,
      "id": "c63131c2-2321-41c5-9bf8-61c38fc3d945",
      "metadata": {
        "id": "c63131c2-2321-41c5-9bf8-61c38fc3d945",
        "colab": {
          "base_uri": "https://localhost:8080/"
        },
        "outputId": "60e121f7-5074-4de6-93a8-97ff62b0f2b8"
      },
      "outputs": [
        {
          "output_type": "execute_result",
          "data": {
            "text/plain": [
              "0    45\n",
              "1    28\n",
              "2    20\n",
              "3    58\n",
              "4    45\n",
              "5    94\n",
              "6    69\n",
              "7    24\n",
              "dtype: int64"
            ]
          },
          "metadata": {},
          "execution_count": 27
        }
      ],
      "source": [
        "serie + serie2"
      ]
    },
    {
      "cell_type": "markdown",
      "source": [
        "Se suman por igualdad de indice NO por la posición"
      ],
      "metadata": {
        "id": "e3Iywvz0TYaU"
      },
      "id": "e3Iywvz0TYaU"
    },
    {
      "cell_type": "markdown",
      "id": "a66404f4-5668-4598-a2b0-977904735edb",
      "metadata": {
        "id": "a66404f4-5668-4598-a2b0-977904735edb"
      },
      "source": [
        "__Ejercicio 8:__ Restar a todos los elementos de la primera serie 5 unidades"
      ]
    },
    {
      "cell_type": "code",
      "execution_count": 28,
      "id": "ea3f423f-1b03-4fcb-a60d-ffcafebcd3df",
      "metadata": {
        "id": "ea3f423f-1b03-4fcb-a60d-ffcafebcd3df",
        "colab": {
          "base_uri": "https://localhost:8080/"
        },
        "outputId": "e3a39ed1-034e-4a50-c87c-3df16c533829"
      },
      "outputs": [
        {
          "output_type": "execute_result",
          "data": {
            "text/plain": [
              "0    17\n",
              "1     8\n",
              "2     3\n",
              "3    28\n",
              "4    20\n",
              "5    39\n",
              "6    33\n",
              "7    17\n",
              "dtype: int64"
            ]
          },
          "metadata": {},
          "execution_count": 28
        }
      ],
      "source": [
        "serie - 5"
      ]
    },
    {
      "cell_type": "code",
      "execution_count": 29,
      "id": "0eb79ee2-31ef-4889-9eeb-e8a12e7b0e48",
      "metadata": {
        "id": "0eb79ee2-31ef-4889-9eeb-e8a12e7b0e48",
        "colab": {
          "base_uri": "https://localhost:8080/"
        },
        "outputId": "f6bea1b8-c7bb-41ab-fadc-15bf11335d3f"
      },
      "outputs": [
        {
          "output_type": "execute_result",
          "data": {
            "text/plain": [
              "0    22\n",
              "1    13\n",
              "2     8\n",
              "3    33\n",
              "4    25\n",
              "5    44\n",
              "6    38\n",
              "7    22\n",
              "dtype: int64"
            ]
          },
          "metadata": {},
          "execution_count": 29
        }
      ],
      "source": [
        "serie"
      ]
    },
    {
      "cell_type": "markdown",
      "id": "e5e7c359-c9b9-47f9-b158-01cbdeaed940",
      "metadata": {
        "id": "e5e7c359-c9b9-47f9-b158-01cbdeaed940"
      },
      "source": [
        "__Ejercicio 9:__ calcular el cuadrado de todos los valores en la serie utilizando __map__"
      ]
    },
    {
      "cell_type": "code",
      "execution_count": 30,
      "id": "368366d9-04ac-4b00-926c-b1cb1ea0befb",
      "metadata": {
        "id": "368366d9-04ac-4b00-926c-b1cb1ea0befb",
        "outputId": "0cd81527-ebdd-4597-c2ea-8c27161b8887",
        "colab": {
          "base_uri": "https://localhost:8080/"
        }
      },
      "outputs": [
        {
          "output_type": "execute_result",
          "data": {
            "text/plain": [
              "0     484\n",
              "1     169\n",
              "2      64\n",
              "3    1089\n",
              "4     625\n",
              "5    1936\n",
              "6    1444\n",
              "7     484\n",
              "dtype: int64"
            ]
          },
          "metadata": {},
          "execution_count": 30
        }
      ],
      "source": [
        "def cuadrado(x):\n",
        "  return x*x\n",
        "\n",
        "serie.map(cuadrado)"
      ]
    },
    {
      "cell_type": "markdown",
      "id": "ae1fce41-3370-4be5-8f8f-652b66dcd5a4",
      "metadata": {
        "id": "ae1fce41-3370-4be5-8f8f-652b66dcd5a4"
      },
      "source": [
        "__Ejercicio 10:__ Crear un DataFrame con pandas llamado paises utilizando el siguiente diccionario de datos:"
      ]
    },
    {
      "cell_type": "code",
      "execution_count": 31,
      "id": "aecbdaa5-73f2-4887-a3ce-b65266f8bab7",
      "metadata": {
        "id": "aecbdaa5-73f2-4887-a3ce-b65266f8bab7"
      },
      "outputs": [],
      "source": [
        "datos={  \n",
        "        \"nombre\":[\"Argentina\",\"Brasil\",\"Chile\",\"Colombia\",\"Ecuador\",\"Paraguay\",\"Peru\"],  \n",
        "        \"capital\":[\"Buenos Airea\",\"Brasilia\",\"Santiago de Chile\",\"Bogotá\",\"Quito\",\"Asunción\",\"Lima\"],  \n",
        "        \"poblacion\":[45380000,212600000,19120000,50880000,17640000,7133000,32970000],\n",
        "        \"sup. en km2\":[2780000,8516000,756950,1143000,283560,406752,1285216]\n",
        "        }"
      ]
    },
    {
      "cell_type": "code",
      "execution_count": 32,
      "id": "bafdb9a5-7eee-43ea-8705-e4203c5f774e",
      "metadata": {
        "id": "bafdb9a5-7eee-43ea-8705-e4203c5f774e",
        "colab": {
          "base_uri": "https://localhost:8080/",
          "height": 269
        },
        "outputId": "3caab5b5-1720-4f9b-90c4-7153f87e707f"
      },
      "outputs": [
        {
          "output_type": "execute_result",
          "data": {
            "text/plain": [
              "      nombre            capital  poblacion  sup. en km2\n",
              "0  Argentina       Buenos Airea   45380000      2780000\n",
              "1     Brasil           Brasilia  212600000      8516000\n",
              "2      Chile  Santiago de Chile   19120000       756950\n",
              "3   Colombia             Bogotá   50880000      1143000\n",
              "4    Ecuador              Quito   17640000       283560\n",
              "5   Paraguay           Asunción    7133000       406752\n",
              "6       Peru               Lima   32970000      1285216"
            ],
            "text/html": [
              "\n",
              "  <div id=\"df-b3c84498-d1fc-4a93-88b9-00b4e447486f\">\n",
              "    <div class=\"colab-df-container\">\n",
              "      <div>\n",
              "<style scoped>\n",
              "    .dataframe tbody tr th:only-of-type {\n",
              "        vertical-align: middle;\n",
              "    }\n",
              "\n",
              "    .dataframe tbody tr th {\n",
              "        vertical-align: top;\n",
              "    }\n",
              "\n",
              "    .dataframe thead th {\n",
              "        text-align: right;\n",
              "    }\n",
              "</style>\n",
              "<table border=\"1\" class=\"dataframe\">\n",
              "  <thead>\n",
              "    <tr style=\"text-align: right;\">\n",
              "      <th></th>\n",
              "      <th>nombre</th>\n",
              "      <th>capital</th>\n",
              "      <th>poblacion</th>\n",
              "      <th>sup. en km2</th>\n",
              "    </tr>\n",
              "  </thead>\n",
              "  <tbody>\n",
              "    <tr>\n",
              "      <th>0</th>\n",
              "      <td>Argentina</td>\n",
              "      <td>Buenos Airea</td>\n",
              "      <td>45380000</td>\n",
              "      <td>2780000</td>\n",
              "    </tr>\n",
              "    <tr>\n",
              "      <th>1</th>\n",
              "      <td>Brasil</td>\n",
              "      <td>Brasilia</td>\n",
              "      <td>212600000</td>\n",
              "      <td>8516000</td>\n",
              "    </tr>\n",
              "    <tr>\n",
              "      <th>2</th>\n",
              "      <td>Chile</td>\n",
              "      <td>Santiago de Chile</td>\n",
              "      <td>19120000</td>\n",
              "      <td>756950</td>\n",
              "    </tr>\n",
              "    <tr>\n",
              "      <th>3</th>\n",
              "      <td>Colombia</td>\n",
              "      <td>Bogotá</td>\n",
              "      <td>50880000</td>\n",
              "      <td>1143000</td>\n",
              "    </tr>\n",
              "    <tr>\n",
              "      <th>4</th>\n",
              "      <td>Ecuador</td>\n",
              "      <td>Quito</td>\n",
              "      <td>17640000</td>\n",
              "      <td>283560</td>\n",
              "    </tr>\n",
              "    <tr>\n",
              "      <th>5</th>\n",
              "      <td>Paraguay</td>\n",
              "      <td>Asunción</td>\n",
              "      <td>7133000</td>\n",
              "      <td>406752</td>\n",
              "    </tr>\n",
              "    <tr>\n",
              "      <th>6</th>\n",
              "      <td>Peru</td>\n",
              "      <td>Lima</td>\n",
              "      <td>32970000</td>\n",
              "      <td>1285216</td>\n",
              "    </tr>\n",
              "  </tbody>\n",
              "</table>\n",
              "</div>\n",
              "      <button class=\"colab-df-convert\" onclick=\"convertToInteractive('df-b3c84498-d1fc-4a93-88b9-00b4e447486f')\"\n",
              "              title=\"Convert this dataframe to an interactive table.\"\n",
              "              style=\"display:none;\">\n",
              "        \n",
              "  <svg xmlns=\"http://www.w3.org/2000/svg\" height=\"24px\"viewBox=\"0 0 24 24\"\n",
              "       width=\"24px\">\n",
              "    <path d=\"M0 0h24v24H0V0z\" fill=\"none\"/>\n",
              "    <path d=\"M18.56 5.44l.94 2.06.94-2.06 2.06-.94-2.06-.94-.94-2.06-.94 2.06-2.06.94zm-11 1L8.5 8.5l.94-2.06 2.06-.94-2.06-.94L8.5 2.5l-.94 2.06-2.06.94zm10 10l.94 2.06.94-2.06 2.06-.94-2.06-.94-.94-2.06-.94 2.06-2.06.94z\"/><path d=\"M17.41 7.96l-1.37-1.37c-.4-.4-.92-.59-1.43-.59-.52 0-1.04.2-1.43.59L10.3 9.45l-7.72 7.72c-.78.78-.78 2.05 0 2.83L4 21.41c.39.39.9.59 1.41.59.51 0 1.02-.2 1.41-.59l7.78-7.78 2.81-2.81c.8-.78.8-2.07 0-2.86zM5.41 20L4 18.59l7.72-7.72 1.47 1.35L5.41 20z\"/>\n",
              "  </svg>\n",
              "      </button>\n",
              "      \n",
              "  <style>\n",
              "    .colab-df-container {\n",
              "      display:flex;\n",
              "      flex-wrap:wrap;\n",
              "      gap: 12px;\n",
              "    }\n",
              "\n",
              "    .colab-df-convert {\n",
              "      background-color: #E8F0FE;\n",
              "      border: none;\n",
              "      border-radius: 50%;\n",
              "      cursor: pointer;\n",
              "      display: none;\n",
              "      fill: #1967D2;\n",
              "      height: 32px;\n",
              "      padding: 0 0 0 0;\n",
              "      width: 32px;\n",
              "    }\n",
              "\n",
              "    .colab-df-convert:hover {\n",
              "      background-color: #E2EBFA;\n",
              "      box-shadow: 0px 1px 2px rgba(60, 64, 67, 0.3), 0px 1px 3px 1px rgba(60, 64, 67, 0.15);\n",
              "      fill: #174EA6;\n",
              "    }\n",
              "\n",
              "    [theme=dark] .colab-df-convert {\n",
              "      background-color: #3B4455;\n",
              "      fill: #D2E3FC;\n",
              "    }\n",
              "\n",
              "    [theme=dark] .colab-df-convert:hover {\n",
              "      background-color: #434B5C;\n",
              "      box-shadow: 0px 1px 3px 1px rgba(0, 0, 0, 0.15);\n",
              "      filter: drop-shadow(0px 1px 2px rgba(0, 0, 0, 0.3));\n",
              "      fill: #FFFFFF;\n",
              "    }\n",
              "  </style>\n",
              "\n",
              "      <script>\n",
              "        const buttonEl =\n",
              "          document.querySelector('#df-b3c84498-d1fc-4a93-88b9-00b4e447486f button.colab-df-convert');\n",
              "        buttonEl.style.display =\n",
              "          google.colab.kernel.accessAllowed ? 'block' : 'none';\n",
              "\n",
              "        async function convertToInteractive(key) {\n",
              "          const element = document.querySelector('#df-b3c84498-d1fc-4a93-88b9-00b4e447486f');\n",
              "          const dataTable =\n",
              "            await google.colab.kernel.invokeFunction('convertToInteractive',\n",
              "                                                     [key], {});\n",
              "          if (!dataTable) return;\n",
              "\n",
              "          const docLinkHtml = 'Like what you see? Visit the ' +\n",
              "            '<a target=\"_blank\" href=https://colab.research.google.com/notebooks/data_table.ipynb>data table notebook</a>'\n",
              "            + ' to learn more about interactive tables.';\n",
              "          element.innerHTML = '';\n",
              "          dataTable['output_type'] = 'display_data';\n",
              "          await google.colab.output.renderOutput(dataTable, element);\n",
              "          const docLink = document.createElement('div');\n",
              "          docLink.innerHTML = docLinkHtml;\n",
              "          element.appendChild(docLink);\n",
              "        }\n",
              "      </script>\n",
              "    </div>\n",
              "  </div>\n",
              "  "
            ]
          },
          "metadata": {},
          "execution_count": 32
        }
      ],
      "source": [
        " paises = pd.DataFrame(datos)\n",
        " paises"
      ]
    },
    {
      "cell_type": "markdown",
      "id": "94a88a4d-23ec-44bd-8395-418db8d32334",
      "metadata": {
        "id": "94a88a4d-23ec-44bd-8395-418db8d32334"
      },
      "source": [
        "__Ejercicio 11:__ Visualizar los primeros 5 y los últimos 3 elementos del DataFrame anterior"
      ]
    },
    {
      "cell_type": "code",
      "source": [
        "paises"
      ],
      "metadata": {
        "colab": {
          "base_uri": "https://localhost:8080/",
          "height": 269
        },
        "id": "8RjIj-l_Vi1o",
        "outputId": "52dd8f08-2dab-4249-99e8-e8324abcb6ac"
      },
      "id": "8RjIj-l_Vi1o",
      "execution_count": 33,
      "outputs": [
        {
          "output_type": "execute_result",
          "data": {
            "text/plain": [
              "      nombre            capital  poblacion  sup. en km2\n",
              "0  Argentina       Buenos Airea   45380000      2780000\n",
              "1     Brasil           Brasilia  212600000      8516000\n",
              "2      Chile  Santiago de Chile   19120000       756950\n",
              "3   Colombia             Bogotá   50880000      1143000\n",
              "4    Ecuador              Quito   17640000       283560\n",
              "5   Paraguay           Asunción    7133000       406752\n",
              "6       Peru               Lima   32970000      1285216"
            ],
            "text/html": [
              "\n",
              "  <div id=\"df-2433cd1d-9e72-42f8-90ed-d6b9980b4cd6\">\n",
              "    <div class=\"colab-df-container\">\n",
              "      <div>\n",
              "<style scoped>\n",
              "    .dataframe tbody tr th:only-of-type {\n",
              "        vertical-align: middle;\n",
              "    }\n",
              "\n",
              "    .dataframe tbody tr th {\n",
              "        vertical-align: top;\n",
              "    }\n",
              "\n",
              "    .dataframe thead th {\n",
              "        text-align: right;\n",
              "    }\n",
              "</style>\n",
              "<table border=\"1\" class=\"dataframe\">\n",
              "  <thead>\n",
              "    <tr style=\"text-align: right;\">\n",
              "      <th></th>\n",
              "      <th>nombre</th>\n",
              "      <th>capital</th>\n",
              "      <th>poblacion</th>\n",
              "      <th>sup. en km2</th>\n",
              "    </tr>\n",
              "  </thead>\n",
              "  <tbody>\n",
              "    <tr>\n",
              "      <th>0</th>\n",
              "      <td>Argentina</td>\n",
              "      <td>Buenos Airea</td>\n",
              "      <td>45380000</td>\n",
              "      <td>2780000</td>\n",
              "    </tr>\n",
              "    <tr>\n",
              "      <th>1</th>\n",
              "      <td>Brasil</td>\n",
              "      <td>Brasilia</td>\n",
              "      <td>212600000</td>\n",
              "      <td>8516000</td>\n",
              "    </tr>\n",
              "    <tr>\n",
              "      <th>2</th>\n",
              "      <td>Chile</td>\n",
              "      <td>Santiago de Chile</td>\n",
              "      <td>19120000</td>\n",
              "      <td>756950</td>\n",
              "    </tr>\n",
              "    <tr>\n",
              "      <th>3</th>\n",
              "      <td>Colombia</td>\n",
              "      <td>Bogotá</td>\n",
              "      <td>50880000</td>\n",
              "      <td>1143000</td>\n",
              "    </tr>\n",
              "    <tr>\n",
              "      <th>4</th>\n",
              "      <td>Ecuador</td>\n",
              "      <td>Quito</td>\n",
              "      <td>17640000</td>\n",
              "      <td>283560</td>\n",
              "    </tr>\n",
              "    <tr>\n",
              "      <th>5</th>\n",
              "      <td>Paraguay</td>\n",
              "      <td>Asunción</td>\n",
              "      <td>7133000</td>\n",
              "      <td>406752</td>\n",
              "    </tr>\n",
              "    <tr>\n",
              "      <th>6</th>\n",
              "      <td>Peru</td>\n",
              "      <td>Lima</td>\n",
              "      <td>32970000</td>\n",
              "      <td>1285216</td>\n",
              "    </tr>\n",
              "  </tbody>\n",
              "</table>\n",
              "</div>\n",
              "      <button class=\"colab-df-convert\" onclick=\"convertToInteractive('df-2433cd1d-9e72-42f8-90ed-d6b9980b4cd6')\"\n",
              "              title=\"Convert this dataframe to an interactive table.\"\n",
              "              style=\"display:none;\">\n",
              "        \n",
              "  <svg xmlns=\"http://www.w3.org/2000/svg\" height=\"24px\"viewBox=\"0 0 24 24\"\n",
              "       width=\"24px\">\n",
              "    <path d=\"M0 0h24v24H0V0z\" fill=\"none\"/>\n",
              "    <path d=\"M18.56 5.44l.94 2.06.94-2.06 2.06-.94-2.06-.94-.94-2.06-.94 2.06-2.06.94zm-11 1L8.5 8.5l.94-2.06 2.06-.94-2.06-.94L8.5 2.5l-.94 2.06-2.06.94zm10 10l.94 2.06.94-2.06 2.06-.94-2.06-.94-.94-2.06-.94 2.06-2.06.94z\"/><path d=\"M17.41 7.96l-1.37-1.37c-.4-.4-.92-.59-1.43-.59-.52 0-1.04.2-1.43.59L10.3 9.45l-7.72 7.72c-.78.78-.78 2.05 0 2.83L4 21.41c.39.39.9.59 1.41.59.51 0 1.02-.2 1.41-.59l7.78-7.78 2.81-2.81c.8-.78.8-2.07 0-2.86zM5.41 20L4 18.59l7.72-7.72 1.47 1.35L5.41 20z\"/>\n",
              "  </svg>\n",
              "      </button>\n",
              "      \n",
              "  <style>\n",
              "    .colab-df-container {\n",
              "      display:flex;\n",
              "      flex-wrap:wrap;\n",
              "      gap: 12px;\n",
              "    }\n",
              "\n",
              "    .colab-df-convert {\n",
              "      background-color: #E8F0FE;\n",
              "      border: none;\n",
              "      border-radius: 50%;\n",
              "      cursor: pointer;\n",
              "      display: none;\n",
              "      fill: #1967D2;\n",
              "      height: 32px;\n",
              "      padding: 0 0 0 0;\n",
              "      width: 32px;\n",
              "    }\n",
              "\n",
              "    .colab-df-convert:hover {\n",
              "      background-color: #E2EBFA;\n",
              "      box-shadow: 0px 1px 2px rgba(60, 64, 67, 0.3), 0px 1px 3px 1px rgba(60, 64, 67, 0.15);\n",
              "      fill: #174EA6;\n",
              "    }\n",
              "\n",
              "    [theme=dark] .colab-df-convert {\n",
              "      background-color: #3B4455;\n",
              "      fill: #D2E3FC;\n",
              "    }\n",
              "\n",
              "    [theme=dark] .colab-df-convert:hover {\n",
              "      background-color: #434B5C;\n",
              "      box-shadow: 0px 1px 3px 1px rgba(0, 0, 0, 0.15);\n",
              "      filter: drop-shadow(0px 1px 2px rgba(0, 0, 0, 0.3));\n",
              "      fill: #FFFFFF;\n",
              "    }\n",
              "  </style>\n",
              "\n",
              "      <script>\n",
              "        const buttonEl =\n",
              "          document.querySelector('#df-2433cd1d-9e72-42f8-90ed-d6b9980b4cd6 button.colab-df-convert');\n",
              "        buttonEl.style.display =\n",
              "          google.colab.kernel.accessAllowed ? 'block' : 'none';\n",
              "\n",
              "        async function convertToInteractive(key) {\n",
              "          const element = document.querySelector('#df-2433cd1d-9e72-42f8-90ed-d6b9980b4cd6');\n",
              "          const dataTable =\n",
              "            await google.colab.kernel.invokeFunction('convertToInteractive',\n",
              "                                                     [key], {});\n",
              "          if (!dataTable) return;\n",
              "\n",
              "          const docLinkHtml = 'Like what you see? Visit the ' +\n",
              "            '<a target=\"_blank\" href=https://colab.research.google.com/notebooks/data_table.ipynb>data table notebook</a>'\n",
              "            + ' to learn more about interactive tables.';\n",
              "          element.innerHTML = '';\n",
              "          dataTable['output_type'] = 'display_data';\n",
              "          await google.colab.output.renderOutput(dataTable, element);\n",
              "          const docLink = document.createElement('div');\n",
              "          docLink.innerHTML = docLinkHtml;\n",
              "          element.appendChild(docLink);\n",
              "        }\n",
              "      </script>\n",
              "    </div>\n",
              "  </div>\n",
              "  "
            ]
          },
          "metadata": {},
          "execution_count": 33
        }
      ]
    },
    {
      "cell_type": "code",
      "execution_count": 34,
      "id": "4bea3858-2247-4f29-9514-92588531d31a",
      "metadata": {
        "id": "4bea3858-2247-4f29-9514-92588531d31a",
        "colab": {
          "base_uri": "https://localhost:8080/",
          "height": 206
        },
        "outputId": "739a40c8-6b7b-4fed-a72b-2924632a31b8"
      },
      "outputs": [
        {
          "output_type": "execute_result",
          "data": {
            "text/plain": [
              "      nombre            capital  poblacion  sup. en km2\n",
              "0  Argentina       Buenos Airea   45380000      2780000\n",
              "1     Brasil           Brasilia  212600000      8516000\n",
              "2      Chile  Santiago de Chile   19120000       756950\n",
              "3   Colombia             Bogotá   50880000      1143000\n",
              "4    Ecuador              Quito   17640000       283560"
            ],
            "text/html": [
              "\n",
              "  <div id=\"df-979960ab-df5d-4f30-8cb3-5bf9a6177835\">\n",
              "    <div class=\"colab-df-container\">\n",
              "      <div>\n",
              "<style scoped>\n",
              "    .dataframe tbody tr th:only-of-type {\n",
              "        vertical-align: middle;\n",
              "    }\n",
              "\n",
              "    .dataframe tbody tr th {\n",
              "        vertical-align: top;\n",
              "    }\n",
              "\n",
              "    .dataframe thead th {\n",
              "        text-align: right;\n",
              "    }\n",
              "</style>\n",
              "<table border=\"1\" class=\"dataframe\">\n",
              "  <thead>\n",
              "    <tr style=\"text-align: right;\">\n",
              "      <th></th>\n",
              "      <th>nombre</th>\n",
              "      <th>capital</th>\n",
              "      <th>poblacion</th>\n",
              "      <th>sup. en km2</th>\n",
              "    </tr>\n",
              "  </thead>\n",
              "  <tbody>\n",
              "    <tr>\n",
              "      <th>0</th>\n",
              "      <td>Argentina</td>\n",
              "      <td>Buenos Airea</td>\n",
              "      <td>45380000</td>\n",
              "      <td>2780000</td>\n",
              "    </tr>\n",
              "    <tr>\n",
              "      <th>1</th>\n",
              "      <td>Brasil</td>\n",
              "      <td>Brasilia</td>\n",
              "      <td>212600000</td>\n",
              "      <td>8516000</td>\n",
              "    </tr>\n",
              "    <tr>\n",
              "      <th>2</th>\n",
              "      <td>Chile</td>\n",
              "      <td>Santiago de Chile</td>\n",
              "      <td>19120000</td>\n",
              "      <td>756950</td>\n",
              "    </tr>\n",
              "    <tr>\n",
              "      <th>3</th>\n",
              "      <td>Colombia</td>\n",
              "      <td>Bogotá</td>\n",
              "      <td>50880000</td>\n",
              "      <td>1143000</td>\n",
              "    </tr>\n",
              "    <tr>\n",
              "      <th>4</th>\n",
              "      <td>Ecuador</td>\n",
              "      <td>Quito</td>\n",
              "      <td>17640000</td>\n",
              "      <td>283560</td>\n",
              "    </tr>\n",
              "  </tbody>\n",
              "</table>\n",
              "</div>\n",
              "      <button class=\"colab-df-convert\" onclick=\"convertToInteractive('df-979960ab-df5d-4f30-8cb3-5bf9a6177835')\"\n",
              "              title=\"Convert this dataframe to an interactive table.\"\n",
              "              style=\"display:none;\">\n",
              "        \n",
              "  <svg xmlns=\"http://www.w3.org/2000/svg\" height=\"24px\"viewBox=\"0 0 24 24\"\n",
              "       width=\"24px\">\n",
              "    <path d=\"M0 0h24v24H0V0z\" fill=\"none\"/>\n",
              "    <path d=\"M18.56 5.44l.94 2.06.94-2.06 2.06-.94-2.06-.94-.94-2.06-.94 2.06-2.06.94zm-11 1L8.5 8.5l.94-2.06 2.06-.94-2.06-.94L8.5 2.5l-.94 2.06-2.06.94zm10 10l.94 2.06.94-2.06 2.06-.94-2.06-.94-.94-2.06-.94 2.06-2.06.94z\"/><path d=\"M17.41 7.96l-1.37-1.37c-.4-.4-.92-.59-1.43-.59-.52 0-1.04.2-1.43.59L10.3 9.45l-7.72 7.72c-.78.78-.78 2.05 0 2.83L4 21.41c.39.39.9.59 1.41.59.51 0 1.02-.2 1.41-.59l7.78-7.78 2.81-2.81c.8-.78.8-2.07 0-2.86zM5.41 20L4 18.59l7.72-7.72 1.47 1.35L5.41 20z\"/>\n",
              "  </svg>\n",
              "      </button>\n",
              "      \n",
              "  <style>\n",
              "    .colab-df-container {\n",
              "      display:flex;\n",
              "      flex-wrap:wrap;\n",
              "      gap: 12px;\n",
              "    }\n",
              "\n",
              "    .colab-df-convert {\n",
              "      background-color: #E8F0FE;\n",
              "      border: none;\n",
              "      border-radius: 50%;\n",
              "      cursor: pointer;\n",
              "      display: none;\n",
              "      fill: #1967D2;\n",
              "      height: 32px;\n",
              "      padding: 0 0 0 0;\n",
              "      width: 32px;\n",
              "    }\n",
              "\n",
              "    .colab-df-convert:hover {\n",
              "      background-color: #E2EBFA;\n",
              "      box-shadow: 0px 1px 2px rgba(60, 64, 67, 0.3), 0px 1px 3px 1px rgba(60, 64, 67, 0.15);\n",
              "      fill: #174EA6;\n",
              "    }\n",
              "\n",
              "    [theme=dark] .colab-df-convert {\n",
              "      background-color: #3B4455;\n",
              "      fill: #D2E3FC;\n",
              "    }\n",
              "\n",
              "    [theme=dark] .colab-df-convert:hover {\n",
              "      background-color: #434B5C;\n",
              "      box-shadow: 0px 1px 3px 1px rgba(0, 0, 0, 0.15);\n",
              "      filter: drop-shadow(0px 1px 2px rgba(0, 0, 0, 0.3));\n",
              "      fill: #FFFFFF;\n",
              "    }\n",
              "  </style>\n",
              "\n",
              "      <script>\n",
              "        const buttonEl =\n",
              "          document.querySelector('#df-979960ab-df5d-4f30-8cb3-5bf9a6177835 button.colab-df-convert');\n",
              "        buttonEl.style.display =\n",
              "          google.colab.kernel.accessAllowed ? 'block' : 'none';\n",
              "\n",
              "        async function convertToInteractive(key) {\n",
              "          const element = document.querySelector('#df-979960ab-df5d-4f30-8cb3-5bf9a6177835');\n",
              "          const dataTable =\n",
              "            await google.colab.kernel.invokeFunction('convertToInteractive',\n",
              "                                                     [key], {});\n",
              "          if (!dataTable) return;\n",
              "\n",
              "          const docLinkHtml = 'Like what you see? Visit the ' +\n",
              "            '<a target=\"_blank\" href=https://colab.research.google.com/notebooks/data_table.ipynb>data table notebook</a>'\n",
              "            + ' to learn more about interactive tables.';\n",
              "          element.innerHTML = '';\n",
              "          dataTable['output_type'] = 'display_data';\n",
              "          await google.colab.output.renderOutput(dataTable, element);\n",
              "          const docLink = document.createElement('div');\n",
              "          docLink.innerHTML = docLinkHtml;\n",
              "          element.appendChild(docLink);\n",
              "        }\n",
              "      </script>\n",
              "    </div>\n",
              "  </div>\n",
              "  "
            ]
          },
          "metadata": {},
          "execution_count": 34
        }
      ],
      "source": [
        "paises.head()"
      ]
    },
    {
      "cell_type": "code",
      "execution_count": 35,
      "id": "57caa923-4212-4d3f-9c82-40c6a6e6459c",
      "metadata": {
        "id": "57caa923-4212-4d3f-9c82-40c6a6e6459c",
        "colab": {
          "base_uri": "https://localhost:8080/",
          "height": 143
        },
        "outputId": "69f83171-9b1c-4ba3-b2e9-2ee58508bb3c"
      },
      "outputs": [
        {
          "output_type": "execute_result",
          "data": {
            "text/plain": [
              "     nombre   capital  poblacion  sup. en km2\n",
              "4   Ecuador     Quito   17640000       283560\n",
              "5  Paraguay  Asunción    7133000       406752\n",
              "6      Peru      Lima   32970000      1285216"
            ],
            "text/html": [
              "\n",
              "  <div id=\"df-35127a71-ea8e-4a6f-a35c-b9ef287840cf\">\n",
              "    <div class=\"colab-df-container\">\n",
              "      <div>\n",
              "<style scoped>\n",
              "    .dataframe tbody tr th:only-of-type {\n",
              "        vertical-align: middle;\n",
              "    }\n",
              "\n",
              "    .dataframe tbody tr th {\n",
              "        vertical-align: top;\n",
              "    }\n",
              "\n",
              "    .dataframe thead th {\n",
              "        text-align: right;\n",
              "    }\n",
              "</style>\n",
              "<table border=\"1\" class=\"dataframe\">\n",
              "  <thead>\n",
              "    <tr style=\"text-align: right;\">\n",
              "      <th></th>\n",
              "      <th>nombre</th>\n",
              "      <th>capital</th>\n",
              "      <th>poblacion</th>\n",
              "      <th>sup. en km2</th>\n",
              "    </tr>\n",
              "  </thead>\n",
              "  <tbody>\n",
              "    <tr>\n",
              "      <th>4</th>\n",
              "      <td>Ecuador</td>\n",
              "      <td>Quito</td>\n",
              "      <td>17640000</td>\n",
              "      <td>283560</td>\n",
              "    </tr>\n",
              "    <tr>\n",
              "      <th>5</th>\n",
              "      <td>Paraguay</td>\n",
              "      <td>Asunción</td>\n",
              "      <td>7133000</td>\n",
              "      <td>406752</td>\n",
              "    </tr>\n",
              "    <tr>\n",
              "      <th>6</th>\n",
              "      <td>Peru</td>\n",
              "      <td>Lima</td>\n",
              "      <td>32970000</td>\n",
              "      <td>1285216</td>\n",
              "    </tr>\n",
              "  </tbody>\n",
              "</table>\n",
              "</div>\n",
              "      <button class=\"colab-df-convert\" onclick=\"convertToInteractive('df-35127a71-ea8e-4a6f-a35c-b9ef287840cf')\"\n",
              "              title=\"Convert this dataframe to an interactive table.\"\n",
              "              style=\"display:none;\">\n",
              "        \n",
              "  <svg xmlns=\"http://www.w3.org/2000/svg\" height=\"24px\"viewBox=\"0 0 24 24\"\n",
              "       width=\"24px\">\n",
              "    <path d=\"M0 0h24v24H0V0z\" fill=\"none\"/>\n",
              "    <path d=\"M18.56 5.44l.94 2.06.94-2.06 2.06-.94-2.06-.94-.94-2.06-.94 2.06-2.06.94zm-11 1L8.5 8.5l.94-2.06 2.06-.94-2.06-.94L8.5 2.5l-.94 2.06-2.06.94zm10 10l.94 2.06.94-2.06 2.06-.94-2.06-.94-.94-2.06-.94 2.06-2.06.94z\"/><path d=\"M17.41 7.96l-1.37-1.37c-.4-.4-.92-.59-1.43-.59-.52 0-1.04.2-1.43.59L10.3 9.45l-7.72 7.72c-.78.78-.78 2.05 0 2.83L4 21.41c.39.39.9.59 1.41.59.51 0 1.02-.2 1.41-.59l7.78-7.78 2.81-2.81c.8-.78.8-2.07 0-2.86zM5.41 20L4 18.59l7.72-7.72 1.47 1.35L5.41 20z\"/>\n",
              "  </svg>\n",
              "      </button>\n",
              "      \n",
              "  <style>\n",
              "    .colab-df-container {\n",
              "      display:flex;\n",
              "      flex-wrap:wrap;\n",
              "      gap: 12px;\n",
              "    }\n",
              "\n",
              "    .colab-df-convert {\n",
              "      background-color: #E8F0FE;\n",
              "      border: none;\n",
              "      border-radius: 50%;\n",
              "      cursor: pointer;\n",
              "      display: none;\n",
              "      fill: #1967D2;\n",
              "      height: 32px;\n",
              "      padding: 0 0 0 0;\n",
              "      width: 32px;\n",
              "    }\n",
              "\n",
              "    .colab-df-convert:hover {\n",
              "      background-color: #E2EBFA;\n",
              "      box-shadow: 0px 1px 2px rgba(60, 64, 67, 0.3), 0px 1px 3px 1px rgba(60, 64, 67, 0.15);\n",
              "      fill: #174EA6;\n",
              "    }\n",
              "\n",
              "    [theme=dark] .colab-df-convert {\n",
              "      background-color: #3B4455;\n",
              "      fill: #D2E3FC;\n",
              "    }\n",
              "\n",
              "    [theme=dark] .colab-df-convert:hover {\n",
              "      background-color: #434B5C;\n",
              "      box-shadow: 0px 1px 3px 1px rgba(0, 0, 0, 0.15);\n",
              "      filter: drop-shadow(0px 1px 2px rgba(0, 0, 0, 0.3));\n",
              "      fill: #FFFFFF;\n",
              "    }\n",
              "  </style>\n",
              "\n",
              "      <script>\n",
              "        const buttonEl =\n",
              "          document.querySelector('#df-35127a71-ea8e-4a6f-a35c-b9ef287840cf button.colab-df-convert');\n",
              "        buttonEl.style.display =\n",
              "          google.colab.kernel.accessAllowed ? 'block' : 'none';\n",
              "\n",
              "        async function convertToInteractive(key) {\n",
              "          const element = document.querySelector('#df-35127a71-ea8e-4a6f-a35c-b9ef287840cf');\n",
              "          const dataTable =\n",
              "            await google.colab.kernel.invokeFunction('convertToInteractive',\n",
              "                                                     [key], {});\n",
              "          if (!dataTable) return;\n",
              "\n",
              "          const docLinkHtml = 'Like what you see? Visit the ' +\n",
              "            '<a target=\"_blank\" href=https://colab.research.google.com/notebooks/data_table.ipynb>data table notebook</a>'\n",
              "            + ' to learn more about interactive tables.';\n",
              "          element.innerHTML = '';\n",
              "          dataTable['output_type'] = 'display_data';\n",
              "          await google.colab.output.renderOutput(dataTable, element);\n",
              "          const docLink = document.createElement('div');\n",
              "          docLink.innerHTML = docLinkHtml;\n",
              "          element.appendChild(docLink);\n",
              "        }\n",
              "      </script>\n",
              "    </div>\n",
              "  </div>\n",
              "  "
            ]
          },
          "metadata": {},
          "execution_count": 35
        }
      ],
      "source": [
        "paises.tail(3)"
      ]
    },
    {
      "cell_type": "markdown",
      "source": [
        "Podemos mostrar los 5 primeros lugares del DF usando Python:"
      ],
      "metadata": {
        "id": "TBVT0hBgV6zI"
      },
      "id": "TBVT0hBgV6zI"
    },
    {
      "cell_type": "code",
      "execution_count": 36,
      "id": "9e92fdc1-0b0e-417e-9adc-e142844c7dda",
      "metadata": {
        "id": "9e92fdc1-0b0e-417e-9adc-e142844c7dda",
        "colab": {
          "base_uri": "https://localhost:8080/",
          "height": 206
        },
        "outputId": "6d5ef5d5-5036-4de9-da7b-bb4c245e6d56"
      },
      "outputs": [
        {
          "output_type": "execute_result",
          "data": {
            "text/plain": [
              "      nombre            capital  poblacion  sup. en km2\n",
              "0  Argentina       Buenos Airea   45380000      2780000\n",
              "1     Brasil           Brasilia  212600000      8516000\n",
              "2      Chile  Santiago de Chile   19120000       756950\n",
              "3   Colombia             Bogotá   50880000      1143000\n",
              "4    Ecuador              Quito   17640000       283560"
            ],
            "text/html": [
              "\n",
              "  <div id=\"df-25456a8a-c81d-43f4-9d01-b59e86fe5551\">\n",
              "    <div class=\"colab-df-container\">\n",
              "      <div>\n",
              "<style scoped>\n",
              "    .dataframe tbody tr th:only-of-type {\n",
              "        vertical-align: middle;\n",
              "    }\n",
              "\n",
              "    .dataframe tbody tr th {\n",
              "        vertical-align: top;\n",
              "    }\n",
              "\n",
              "    .dataframe thead th {\n",
              "        text-align: right;\n",
              "    }\n",
              "</style>\n",
              "<table border=\"1\" class=\"dataframe\">\n",
              "  <thead>\n",
              "    <tr style=\"text-align: right;\">\n",
              "      <th></th>\n",
              "      <th>nombre</th>\n",
              "      <th>capital</th>\n",
              "      <th>poblacion</th>\n",
              "      <th>sup. en km2</th>\n",
              "    </tr>\n",
              "  </thead>\n",
              "  <tbody>\n",
              "    <tr>\n",
              "      <th>0</th>\n",
              "      <td>Argentina</td>\n",
              "      <td>Buenos Airea</td>\n",
              "      <td>45380000</td>\n",
              "      <td>2780000</td>\n",
              "    </tr>\n",
              "    <tr>\n",
              "      <th>1</th>\n",
              "      <td>Brasil</td>\n",
              "      <td>Brasilia</td>\n",
              "      <td>212600000</td>\n",
              "      <td>8516000</td>\n",
              "    </tr>\n",
              "    <tr>\n",
              "      <th>2</th>\n",
              "      <td>Chile</td>\n",
              "      <td>Santiago de Chile</td>\n",
              "      <td>19120000</td>\n",
              "      <td>756950</td>\n",
              "    </tr>\n",
              "    <tr>\n",
              "      <th>3</th>\n",
              "      <td>Colombia</td>\n",
              "      <td>Bogotá</td>\n",
              "      <td>50880000</td>\n",
              "      <td>1143000</td>\n",
              "    </tr>\n",
              "    <tr>\n",
              "      <th>4</th>\n",
              "      <td>Ecuador</td>\n",
              "      <td>Quito</td>\n",
              "      <td>17640000</td>\n",
              "      <td>283560</td>\n",
              "    </tr>\n",
              "  </tbody>\n",
              "</table>\n",
              "</div>\n",
              "      <button class=\"colab-df-convert\" onclick=\"convertToInteractive('df-25456a8a-c81d-43f4-9d01-b59e86fe5551')\"\n",
              "              title=\"Convert this dataframe to an interactive table.\"\n",
              "              style=\"display:none;\">\n",
              "        \n",
              "  <svg xmlns=\"http://www.w3.org/2000/svg\" height=\"24px\"viewBox=\"0 0 24 24\"\n",
              "       width=\"24px\">\n",
              "    <path d=\"M0 0h24v24H0V0z\" fill=\"none\"/>\n",
              "    <path d=\"M18.56 5.44l.94 2.06.94-2.06 2.06-.94-2.06-.94-.94-2.06-.94 2.06-2.06.94zm-11 1L8.5 8.5l.94-2.06 2.06-.94-2.06-.94L8.5 2.5l-.94 2.06-2.06.94zm10 10l.94 2.06.94-2.06 2.06-.94-2.06-.94-.94-2.06-.94 2.06-2.06.94z\"/><path d=\"M17.41 7.96l-1.37-1.37c-.4-.4-.92-.59-1.43-.59-.52 0-1.04.2-1.43.59L10.3 9.45l-7.72 7.72c-.78.78-.78 2.05 0 2.83L4 21.41c.39.39.9.59 1.41.59.51 0 1.02-.2 1.41-.59l7.78-7.78 2.81-2.81c.8-.78.8-2.07 0-2.86zM5.41 20L4 18.59l7.72-7.72 1.47 1.35L5.41 20z\"/>\n",
              "  </svg>\n",
              "      </button>\n",
              "      \n",
              "  <style>\n",
              "    .colab-df-container {\n",
              "      display:flex;\n",
              "      flex-wrap:wrap;\n",
              "      gap: 12px;\n",
              "    }\n",
              "\n",
              "    .colab-df-convert {\n",
              "      background-color: #E8F0FE;\n",
              "      border: none;\n",
              "      border-radius: 50%;\n",
              "      cursor: pointer;\n",
              "      display: none;\n",
              "      fill: #1967D2;\n",
              "      height: 32px;\n",
              "      padding: 0 0 0 0;\n",
              "      width: 32px;\n",
              "    }\n",
              "\n",
              "    .colab-df-convert:hover {\n",
              "      background-color: #E2EBFA;\n",
              "      box-shadow: 0px 1px 2px rgba(60, 64, 67, 0.3), 0px 1px 3px 1px rgba(60, 64, 67, 0.15);\n",
              "      fill: #174EA6;\n",
              "    }\n",
              "\n",
              "    [theme=dark] .colab-df-convert {\n",
              "      background-color: #3B4455;\n",
              "      fill: #D2E3FC;\n",
              "    }\n",
              "\n",
              "    [theme=dark] .colab-df-convert:hover {\n",
              "      background-color: #434B5C;\n",
              "      box-shadow: 0px 1px 3px 1px rgba(0, 0, 0, 0.15);\n",
              "      filter: drop-shadow(0px 1px 2px rgba(0, 0, 0, 0.3));\n",
              "      fill: #FFFFFF;\n",
              "    }\n",
              "  </style>\n",
              "\n",
              "      <script>\n",
              "        const buttonEl =\n",
              "          document.querySelector('#df-25456a8a-c81d-43f4-9d01-b59e86fe5551 button.colab-df-convert');\n",
              "        buttonEl.style.display =\n",
              "          google.colab.kernel.accessAllowed ? 'block' : 'none';\n",
              "\n",
              "        async function convertToInteractive(key) {\n",
              "          const element = document.querySelector('#df-25456a8a-c81d-43f4-9d01-b59e86fe5551');\n",
              "          const dataTable =\n",
              "            await google.colab.kernel.invokeFunction('convertToInteractive',\n",
              "                                                     [key], {});\n",
              "          if (!dataTable) return;\n",
              "\n",
              "          const docLinkHtml = 'Like what you see? Visit the ' +\n",
              "            '<a target=\"_blank\" href=https://colab.research.google.com/notebooks/data_table.ipynb>data table notebook</a>'\n",
              "            + ' to learn more about interactive tables.';\n",
              "          element.innerHTML = '';\n",
              "          dataTable['output_type'] = 'display_data';\n",
              "          await google.colab.output.renderOutput(dataTable, element);\n",
              "          const docLink = document.createElement('div');\n",
              "          docLink.innerHTML = docLinkHtml;\n",
              "          element.appendChild(docLink);\n",
              "        }\n",
              "      </script>\n",
              "    </div>\n",
              "  </div>\n",
              "  "
            ]
          },
          "metadata": {},
          "execution_count": 36
        }
      ],
      "source": [
        "paises[:5]"
      ]
    },
    {
      "cell_type": "markdown",
      "id": "2dc94e46-206b-469b-9b30-4d68bf28ce95",
      "metadata": {
        "id": "2dc94e46-206b-469b-9b30-4d68bf28ce95"
      },
      "source": [
        "__Ejercicio 12:__ Crear un Dataframe utilizando el diccionario de datos anterior únicamente con las columnas nombre y población"
      ]
    },
    {
      "cell_type": "code",
      "execution_count": 37,
      "id": "7ec9978e-cf4d-48e1-a26a-d2749f32bb5d",
      "metadata": {
        "id": "7ec9978e-cf4d-48e1-a26a-d2749f32bb5d"
      },
      "outputs": [],
      "source": [
        "paises2 = pd.DataFrame(datos, columns = [\"nombre\", \"poblacion\"])\n"
      ]
    },
    {
      "cell_type": "code",
      "execution_count": 38,
      "id": "fbdb1061-d5c1-4051-acdb-57b3286e5e21",
      "metadata": {
        "id": "fbdb1061-d5c1-4051-acdb-57b3286e5e21",
        "colab": {
          "base_uri": "https://localhost:8080/",
          "height": 269
        },
        "outputId": "61bb3abe-d656-42d3-ad1b-49a93696d56f"
      },
      "outputs": [
        {
          "output_type": "execute_result",
          "data": {
            "text/plain": [
              "      nombre  poblacion\n",
              "0  Argentina   45380000\n",
              "1     Brasil  212600000\n",
              "2      Chile   19120000\n",
              "3   Colombia   50880000\n",
              "4    Ecuador   17640000\n",
              "5   Paraguay    7133000\n",
              "6       Peru   32970000"
            ],
            "text/html": [
              "\n",
              "  <div id=\"df-279e5fda-73bd-4222-b30b-7e2c8542df43\">\n",
              "    <div class=\"colab-df-container\">\n",
              "      <div>\n",
              "<style scoped>\n",
              "    .dataframe tbody tr th:only-of-type {\n",
              "        vertical-align: middle;\n",
              "    }\n",
              "\n",
              "    .dataframe tbody tr th {\n",
              "        vertical-align: top;\n",
              "    }\n",
              "\n",
              "    .dataframe thead th {\n",
              "        text-align: right;\n",
              "    }\n",
              "</style>\n",
              "<table border=\"1\" class=\"dataframe\">\n",
              "  <thead>\n",
              "    <tr style=\"text-align: right;\">\n",
              "      <th></th>\n",
              "      <th>nombre</th>\n",
              "      <th>poblacion</th>\n",
              "    </tr>\n",
              "  </thead>\n",
              "  <tbody>\n",
              "    <tr>\n",
              "      <th>0</th>\n",
              "      <td>Argentina</td>\n",
              "      <td>45380000</td>\n",
              "    </tr>\n",
              "    <tr>\n",
              "      <th>1</th>\n",
              "      <td>Brasil</td>\n",
              "      <td>212600000</td>\n",
              "    </tr>\n",
              "    <tr>\n",
              "      <th>2</th>\n",
              "      <td>Chile</td>\n",
              "      <td>19120000</td>\n",
              "    </tr>\n",
              "    <tr>\n",
              "      <th>3</th>\n",
              "      <td>Colombia</td>\n",
              "      <td>50880000</td>\n",
              "    </tr>\n",
              "    <tr>\n",
              "      <th>4</th>\n",
              "      <td>Ecuador</td>\n",
              "      <td>17640000</td>\n",
              "    </tr>\n",
              "    <tr>\n",
              "      <th>5</th>\n",
              "      <td>Paraguay</td>\n",
              "      <td>7133000</td>\n",
              "    </tr>\n",
              "    <tr>\n",
              "      <th>6</th>\n",
              "      <td>Peru</td>\n",
              "      <td>32970000</td>\n",
              "    </tr>\n",
              "  </tbody>\n",
              "</table>\n",
              "</div>\n",
              "      <button class=\"colab-df-convert\" onclick=\"convertToInteractive('df-279e5fda-73bd-4222-b30b-7e2c8542df43')\"\n",
              "              title=\"Convert this dataframe to an interactive table.\"\n",
              "              style=\"display:none;\">\n",
              "        \n",
              "  <svg xmlns=\"http://www.w3.org/2000/svg\" height=\"24px\"viewBox=\"0 0 24 24\"\n",
              "       width=\"24px\">\n",
              "    <path d=\"M0 0h24v24H0V0z\" fill=\"none\"/>\n",
              "    <path d=\"M18.56 5.44l.94 2.06.94-2.06 2.06-.94-2.06-.94-.94-2.06-.94 2.06-2.06.94zm-11 1L8.5 8.5l.94-2.06 2.06-.94-2.06-.94L8.5 2.5l-.94 2.06-2.06.94zm10 10l.94 2.06.94-2.06 2.06-.94-2.06-.94-.94-2.06-.94 2.06-2.06.94z\"/><path d=\"M17.41 7.96l-1.37-1.37c-.4-.4-.92-.59-1.43-.59-.52 0-1.04.2-1.43.59L10.3 9.45l-7.72 7.72c-.78.78-.78 2.05 0 2.83L4 21.41c.39.39.9.59 1.41.59.51 0 1.02-.2 1.41-.59l7.78-7.78 2.81-2.81c.8-.78.8-2.07 0-2.86zM5.41 20L4 18.59l7.72-7.72 1.47 1.35L5.41 20z\"/>\n",
              "  </svg>\n",
              "      </button>\n",
              "      \n",
              "  <style>\n",
              "    .colab-df-container {\n",
              "      display:flex;\n",
              "      flex-wrap:wrap;\n",
              "      gap: 12px;\n",
              "    }\n",
              "\n",
              "    .colab-df-convert {\n",
              "      background-color: #E8F0FE;\n",
              "      border: none;\n",
              "      border-radius: 50%;\n",
              "      cursor: pointer;\n",
              "      display: none;\n",
              "      fill: #1967D2;\n",
              "      height: 32px;\n",
              "      padding: 0 0 0 0;\n",
              "      width: 32px;\n",
              "    }\n",
              "\n",
              "    .colab-df-convert:hover {\n",
              "      background-color: #E2EBFA;\n",
              "      box-shadow: 0px 1px 2px rgba(60, 64, 67, 0.3), 0px 1px 3px 1px rgba(60, 64, 67, 0.15);\n",
              "      fill: #174EA6;\n",
              "    }\n",
              "\n",
              "    [theme=dark] .colab-df-convert {\n",
              "      background-color: #3B4455;\n",
              "      fill: #D2E3FC;\n",
              "    }\n",
              "\n",
              "    [theme=dark] .colab-df-convert:hover {\n",
              "      background-color: #434B5C;\n",
              "      box-shadow: 0px 1px 3px 1px rgba(0, 0, 0, 0.15);\n",
              "      filter: drop-shadow(0px 1px 2px rgba(0, 0, 0, 0.3));\n",
              "      fill: #FFFFFF;\n",
              "    }\n",
              "  </style>\n",
              "\n",
              "      <script>\n",
              "        const buttonEl =\n",
              "          document.querySelector('#df-279e5fda-73bd-4222-b30b-7e2c8542df43 button.colab-df-convert');\n",
              "        buttonEl.style.display =\n",
              "          google.colab.kernel.accessAllowed ? 'block' : 'none';\n",
              "\n",
              "        async function convertToInteractive(key) {\n",
              "          const element = document.querySelector('#df-279e5fda-73bd-4222-b30b-7e2c8542df43');\n",
              "          const dataTable =\n",
              "            await google.colab.kernel.invokeFunction('convertToInteractive',\n",
              "                                                     [key], {});\n",
              "          if (!dataTable) return;\n",
              "\n",
              "          const docLinkHtml = 'Like what you see? Visit the ' +\n",
              "            '<a target=\"_blank\" href=https://colab.research.google.com/notebooks/data_table.ipynb>data table notebook</a>'\n",
              "            + ' to learn more about interactive tables.';\n",
              "          element.innerHTML = '';\n",
              "          dataTable['output_type'] = 'display_data';\n",
              "          await google.colab.output.renderOutput(dataTable, element);\n",
              "          const docLink = document.createElement('div');\n",
              "          docLink.innerHTML = docLinkHtml;\n",
              "          element.appendChild(docLink);\n",
              "        }\n",
              "      </script>\n",
              "    </div>\n",
              "  </div>\n",
              "  "
            ]
          },
          "metadata": {},
          "execution_count": 38
        }
      ],
      "source": [
        "paises2"
      ]
    },
    {
      "cell_type": "markdown",
      "id": "6a75aea9-288d-4ddc-92ce-d94123d84bfb",
      "metadata": {
        "id": "6a75aea9-288d-4ddc-92ce-d94123d84bfb"
      },
      "source": [
        "__Ejercicio 13:__ Crear un DataFrame utilizando el diccionario de datos, con la columna \"nombre\" como índice:"
      ]
    },
    {
      "cell_type": "code",
      "execution_count": 39,
      "id": "cdb5740a-6ba0-4a09-aeff-0227b4cf097c",
      "metadata": {
        "id": "cdb5740a-6ba0-4a09-aeff-0227b4cf097c"
      },
      "outputs": [],
      "source": [
        "paises3 = pd.DataFrame(datos, index=datos[\"nombre\"], columns=[\"capital\", \"poblacion\", \"sup. en km2\"])"
      ]
    },
    {
      "cell_type": "code",
      "execution_count": 40,
      "id": "7b579bed-8dc1-466e-9e0f-1dee803ad05a",
      "metadata": {
        "id": "7b579bed-8dc1-466e-9e0f-1dee803ad05a",
        "colab": {
          "base_uri": "https://localhost:8080/",
          "height": 269
        },
        "outputId": "c2082876-b07d-4f39-f668-150f8aa65dac"
      },
      "outputs": [
        {
          "output_type": "execute_result",
          "data": {
            "text/plain": [
              "                     capital  poblacion  sup. en km2\n",
              "Argentina       Buenos Airea   45380000      2780000\n",
              "Brasil              Brasilia  212600000      8516000\n",
              "Chile      Santiago de Chile   19120000       756950\n",
              "Colombia              Bogotá   50880000      1143000\n",
              "Ecuador                Quito   17640000       283560\n",
              "Paraguay            Asunción    7133000       406752\n",
              "Peru                    Lima   32970000      1285216"
            ],
            "text/html": [
              "\n",
              "  <div id=\"df-fa418866-07ce-412d-bd1a-9e4ac25c37c3\">\n",
              "    <div class=\"colab-df-container\">\n",
              "      <div>\n",
              "<style scoped>\n",
              "    .dataframe tbody tr th:only-of-type {\n",
              "        vertical-align: middle;\n",
              "    }\n",
              "\n",
              "    .dataframe tbody tr th {\n",
              "        vertical-align: top;\n",
              "    }\n",
              "\n",
              "    .dataframe thead th {\n",
              "        text-align: right;\n",
              "    }\n",
              "</style>\n",
              "<table border=\"1\" class=\"dataframe\">\n",
              "  <thead>\n",
              "    <tr style=\"text-align: right;\">\n",
              "      <th></th>\n",
              "      <th>capital</th>\n",
              "      <th>poblacion</th>\n",
              "      <th>sup. en km2</th>\n",
              "    </tr>\n",
              "  </thead>\n",
              "  <tbody>\n",
              "    <tr>\n",
              "      <th>Argentina</th>\n",
              "      <td>Buenos Airea</td>\n",
              "      <td>45380000</td>\n",
              "      <td>2780000</td>\n",
              "    </tr>\n",
              "    <tr>\n",
              "      <th>Brasil</th>\n",
              "      <td>Brasilia</td>\n",
              "      <td>212600000</td>\n",
              "      <td>8516000</td>\n",
              "    </tr>\n",
              "    <tr>\n",
              "      <th>Chile</th>\n",
              "      <td>Santiago de Chile</td>\n",
              "      <td>19120000</td>\n",
              "      <td>756950</td>\n",
              "    </tr>\n",
              "    <tr>\n",
              "      <th>Colombia</th>\n",
              "      <td>Bogotá</td>\n",
              "      <td>50880000</td>\n",
              "      <td>1143000</td>\n",
              "    </tr>\n",
              "    <tr>\n",
              "      <th>Ecuador</th>\n",
              "      <td>Quito</td>\n",
              "      <td>17640000</td>\n",
              "      <td>283560</td>\n",
              "    </tr>\n",
              "    <tr>\n",
              "      <th>Paraguay</th>\n",
              "      <td>Asunción</td>\n",
              "      <td>7133000</td>\n",
              "      <td>406752</td>\n",
              "    </tr>\n",
              "    <tr>\n",
              "      <th>Peru</th>\n",
              "      <td>Lima</td>\n",
              "      <td>32970000</td>\n",
              "      <td>1285216</td>\n",
              "    </tr>\n",
              "  </tbody>\n",
              "</table>\n",
              "</div>\n",
              "      <button class=\"colab-df-convert\" onclick=\"convertToInteractive('df-fa418866-07ce-412d-bd1a-9e4ac25c37c3')\"\n",
              "              title=\"Convert this dataframe to an interactive table.\"\n",
              "              style=\"display:none;\">\n",
              "        \n",
              "  <svg xmlns=\"http://www.w3.org/2000/svg\" height=\"24px\"viewBox=\"0 0 24 24\"\n",
              "       width=\"24px\">\n",
              "    <path d=\"M0 0h24v24H0V0z\" fill=\"none\"/>\n",
              "    <path d=\"M18.56 5.44l.94 2.06.94-2.06 2.06-.94-2.06-.94-.94-2.06-.94 2.06-2.06.94zm-11 1L8.5 8.5l.94-2.06 2.06-.94-2.06-.94L8.5 2.5l-.94 2.06-2.06.94zm10 10l.94 2.06.94-2.06 2.06-.94-2.06-.94-.94-2.06-.94 2.06-2.06.94z\"/><path d=\"M17.41 7.96l-1.37-1.37c-.4-.4-.92-.59-1.43-.59-.52 0-1.04.2-1.43.59L10.3 9.45l-7.72 7.72c-.78.78-.78 2.05 0 2.83L4 21.41c.39.39.9.59 1.41.59.51 0 1.02-.2 1.41-.59l7.78-7.78 2.81-2.81c.8-.78.8-2.07 0-2.86zM5.41 20L4 18.59l7.72-7.72 1.47 1.35L5.41 20z\"/>\n",
              "  </svg>\n",
              "      </button>\n",
              "      \n",
              "  <style>\n",
              "    .colab-df-container {\n",
              "      display:flex;\n",
              "      flex-wrap:wrap;\n",
              "      gap: 12px;\n",
              "    }\n",
              "\n",
              "    .colab-df-convert {\n",
              "      background-color: #E8F0FE;\n",
              "      border: none;\n",
              "      border-radius: 50%;\n",
              "      cursor: pointer;\n",
              "      display: none;\n",
              "      fill: #1967D2;\n",
              "      height: 32px;\n",
              "      padding: 0 0 0 0;\n",
              "      width: 32px;\n",
              "    }\n",
              "\n",
              "    .colab-df-convert:hover {\n",
              "      background-color: #E2EBFA;\n",
              "      box-shadow: 0px 1px 2px rgba(60, 64, 67, 0.3), 0px 1px 3px 1px rgba(60, 64, 67, 0.15);\n",
              "      fill: #174EA6;\n",
              "    }\n",
              "\n",
              "    [theme=dark] .colab-df-convert {\n",
              "      background-color: #3B4455;\n",
              "      fill: #D2E3FC;\n",
              "    }\n",
              "\n",
              "    [theme=dark] .colab-df-convert:hover {\n",
              "      background-color: #434B5C;\n",
              "      box-shadow: 0px 1px 3px 1px rgba(0, 0, 0, 0.15);\n",
              "      filter: drop-shadow(0px 1px 2px rgba(0, 0, 0, 0.3));\n",
              "      fill: #FFFFFF;\n",
              "    }\n",
              "  </style>\n",
              "\n",
              "      <script>\n",
              "        const buttonEl =\n",
              "          document.querySelector('#df-fa418866-07ce-412d-bd1a-9e4ac25c37c3 button.colab-df-convert');\n",
              "        buttonEl.style.display =\n",
              "          google.colab.kernel.accessAllowed ? 'block' : 'none';\n",
              "\n",
              "        async function convertToInteractive(key) {\n",
              "          const element = document.querySelector('#df-fa418866-07ce-412d-bd1a-9e4ac25c37c3');\n",
              "          const dataTable =\n",
              "            await google.colab.kernel.invokeFunction('convertToInteractive',\n",
              "                                                     [key], {});\n",
              "          if (!dataTable) return;\n",
              "\n",
              "          const docLinkHtml = 'Like what you see? Visit the ' +\n",
              "            '<a target=\"_blank\" href=https://colab.research.google.com/notebooks/data_table.ipynb>data table notebook</a>'\n",
              "            + ' to learn more about interactive tables.';\n",
              "          element.innerHTML = '';\n",
              "          dataTable['output_type'] = 'display_data';\n",
              "          await google.colab.output.renderOutput(dataTable, element);\n",
              "          const docLink = document.createElement('div');\n",
              "          docLink.innerHTML = docLinkHtml;\n",
              "          element.appendChild(docLink);\n",
              "        }\n",
              "      </script>\n",
              "    </div>\n",
              "  </div>\n",
              "  "
            ]
          },
          "metadata": {},
          "execution_count": 40
        }
      ],
      "source": [
        "paises3"
      ]
    },
    {
      "cell_type": "markdown",
      "id": "a94e8e57-5efb-453b-aeb6-5b0dc3ddfabd",
      "metadata": {
        "id": "a94e8e57-5efb-453b-aeb6-5b0dc3ddfabd"
      },
      "source": [
        "__Ejercicio 14:__ Obtener los datos de la fila con el indice \"Argentina\""
      ]
    },
    {
      "cell_type": "code",
      "execution_count": 41,
      "id": "ecd20f37-11fb-4180-8345-bc27de5442dd",
      "metadata": {
        "id": "ecd20f37-11fb-4180-8345-bc27de5442dd",
        "colab": {
          "base_uri": "https://localhost:8080/"
        },
        "outputId": "78edd188-ecb7-47be-d39d-bda37c4ccabd"
      },
      "outputs": [
        {
          "output_type": "execute_result",
          "data": {
            "text/plain": [
              "capital        Buenos Airea\n",
              "poblacion          45380000\n",
              "sup. en km2         2780000\n",
              "Name: Argentina, dtype: object"
            ]
          },
          "metadata": {},
          "execution_count": 41
        }
      ],
      "source": [
        "paises3.loc[\"Argentina\"]"
      ]
    },
    {
      "cell_type": "markdown",
      "id": "194d0cda-0265-49c9-bc08-c9f3f295fe42",
      "metadata": {
        "id": "194d0cda-0265-49c9-bc08-c9f3f295fe42"
      },
      "source": [
        "__Ejercicio 15:__ Obtener la población y capital de Argentina y Brasil utilizando la función loc"
      ]
    },
    {
      "cell_type": "code",
      "execution_count": 42,
      "id": "e4c09750-ce0c-4fc6-9b93-4096f09f9b52",
      "metadata": {
        "id": "e4c09750-ce0c-4fc6-9b93-4096f09f9b52",
        "colab": {
          "base_uri": "https://localhost:8080/",
          "height": 112
        },
        "outputId": "6fcf5842-9b0e-43a5-e553-fdbbcb330d06"
      },
      "outputs": [
        {
          "output_type": "execute_result",
          "data": {
            "text/plain": [
              "           poblacion\n",
              "Argentina   45380000\n",
              "Brasil     212600000"
            ],
            "text/html": [
              "\n",
              "  <div id=\"df-d3ccfebc-b521-44a4-969e-08ff333d2f41\">\n",
              "    <div class=\"colab-df-container\">\n",
              "      <div>\n",
              "<style scoped>\n",
              "    .dataframe tbody tr th:only-of-type {\n",
              "        vertical-align: middle;\n",
              "    }\n",
              "\n",
              "    .dataframe tbody tr th {\n",
              "        vertical-align: top;\n",
              "    }\n",
              "\n",
              "    .dataframe thead th {\n",
              "        text-align: right;\n",
              "    }\n",
              "</style>\n",
              "<table border=\"1\" class=\"dataframe\">\n",
              "  <thead>\n",
              "    <tr style=\"text-align: right;\">\n",
              "      <th></th>\n",
              "      <th>poblacion</th>\n",
              "    </tr>\n",
              "  </thead>\n",
              "  <tbody>\n",
              "    <tr>\n",
              "      <th>Argentina</th>\n",
              "      <td>45380000</td>\n",
              "    </tr>\n",
              "    <tr>\n",
              "      <th>Brasil</th>\n",
              "      <td>212600000</td>\n",
              "    </tr>\n",
              "  </tbody>\n",
              "</table>\n",
              "</div>\n",
              "      <button class=\"colab-df-convert\" onclick=\"convertToInteractive('df-d3ccfebc-b521-44a4-969e-08ff333d2f41')\"\n",
              "              title=\"Convert this dataframe to an interactive table.\"\n",
              "              style=\"display:none;\">\n",
              "        \n",
              "  <svg xmlns=\"http://www.w3.org/2000/svg\" height=\"24px\"viewBox=\"0 0 24 24\"\n",
              "       width=\"24px\">\n",
              "    <path d=\"M0 0h24v24H0V0z\" fill=\"none\"/>\n",
              "    <path d=\"M18.56 5.44l.94 2.06.94-2.06 2.06-.94-2.06-.94-.94-2.06-.94 2.06-2.06.94zm-11 1L8.5 8.5l.94-2.06 2.06-.94-2.06-.94L8.5 2.5l-.94 2.06-2.06.94zm10 10l.94 2.06.94-2.06 2.06-.94-2.06-.94-.94-2.06-.94 2.06-2.06.94z\"/><path d=\"M17.41 7.96l-1.37-1.37c-.4-.4-.92-.59-1.43-.59-.52 0-1.04.2-1.43.59L10.3 9.45l-7.72 7.72c-.78.78-.78 2.05 0 2.83L4 21.41c.39.39.9.59 1.41.59.51 0 1.02-.2 1.41-.59l7.78-7.78 2.81-2.81c.8-.78.8-2.07 0-2.86zM5.41 20L4 18.59l7.72-7.72 1.47 1.35L5.41 20z\"/>\n",
              "  </svg>\n",
              "      </button>\n",
              "      \n",
              "  <style>\n",
              "    .colab-df-container {\n",
              "      display:flex;\n",
              "      flex-wrap:wrap;\n",
              "      gap: 12px;\n",
              "    }\n",
              "\n",
              "    .colab-df-convert {\n",
              "      background-color: #E8F0FE;\n",
              "      border: none;\n",
              "      border-radius: 50%;\n",
              "      cursor: pointer;\n",
              "      display: none;\n",
              "      fill: #1967D2;\n",
              "      height: 32px;\n",
              "      padding: 0 0 0 0;\n",
              "      width: 32px;\n",
              "    }\n",
              "\n",
              "    .colab-df-convert:hover {\n",
              "      background-color: #E2EBFA;\n",
              "      box-shadow: 0px 1px 2px rgba(60, 64, 67, 0.3), 0px 1px 3px 1px rgba(60, 64, 67, 0.15);\n",
              "      fill: #174EA6;\n",
              "    }\n",
              "\n",
              "    [theme=dark] .colab-df-convert {\n",
              "      background-color: #3B4455;\n",
              "      fill: #D2E3FC;\n",
              "    }\n",
              "\n",
              "    [theme=dark] .colab-df-convert:hover {\n",
              "      background-color: #434B5C;\n",
              "      box-shadow: 0px 1px 3px 1px rgba(0, 0, 0, 0.15);\n",
              "      filter: drop-shadow(0px 1px 2px rgba(0, 0, 0, 0.3));\n",
              "      fill: #FFFFFF;\n",
              "    }\n",
              "  </style>\n",
              "\n",
              "      <script>\n",
              "        const buttonEl =\n",
              "          document.querySelector('#df-d3ccfebc-b521-44a4-969e-08ff333d2f41 button.colab-df-convert');\n",
              "        buttonEl.style.display =\n",
              "          google.colab.kernel.accessAllowed ? 'block' : 'none';\n",
              "\n",
              "        async function convertToInteractive(key) {\n",
              "          const element = document.querySelector('#df-d3ccfebc-b521-44a4-969e-08ff333d2f41');\n",
              "          const dataTable =\n",
              "            await google.colab.kernel.invokeFunction('convertToInteractive',\n",
              "                                                     [key], {});\n",
              "          if (!dataTable) return;\n",
              "\n",
              "          const docLinkHtml = 'Like what you see? Visit the ' +\n",
              "            '<a target=\"_blank\" href=https://colab.research.google.com/notebooks/data_table.ipynb>data table notebook</a>'\n",
              "            + ' to learn more about interactive tables.';\n",
              "          element.innerHTML = '';\n",
              "          dataTable['output_type'] = 'display_data';\n",
              "          await google.colab.output.renderOutput(dataTable, element);\n",
              "          const docLink = document.createElement('div');\n",
              "          docLink.innerHTML = docLinkHtml;\n",
              "          element.appendChild(docLink);\n",
              "        }\n",
              "      </script>\n",
              "    </div>\n",
              "  </div>\n",
              "  "
            ]
          },
          "metadata": {},
          "execution_count": 42
        }
      ],
      "source": [
        "paises3.loc[[\"Argentina\", \"Brasil\"], [\"poblacion\"]]"
      ]
    },
    {
      "cell_type": "markdown",
      "id": "d8e74773-012f-4c49-8837-00b6c9b43ec8",
      "metadata": {
        "id": "d8e74773-012f-4c49-8837-00b6c9b43ec8"
      },
      "source": [
        "__Ejercicio 16:__ Obtener la información de los paises con una superficie mayor a 1,000,000 de kilometros cuadrados utilizando loc"
      ]
    },
    {
      "cell_type": "markdown",
      "source": [
        "Para mostrar solo 1 columna, lo podemos hacer de las siguientes formas:"
      ],
      "metadata": {
        "id": "U5ZLVsT5j3Y_"
      },
      "id": "U5ZLVsT5j3Y_"
    },
    {
      "cell_type": "code",
      "source": [
        "paises3.loc[ : , [\"sup. en km2\"]]"
      ],
      "metadata": {
        "colab": {
          "base_uri": "https://localhost:8080/",
          "height": 269
        },
        "id": "CJWYIWsXi7Zm",
        "outputId": "57267676-98af-45c5-e694-75ccf3272939"
      },
      "id": "CJWYIWsXi7Zm",
      "execution_count": 43,
      "outputs": [
        {
          "output_type": "execute_result",
          "data": {
            "text/plain": [
              "           sup. en km2\n",
              "Argentina      2780000\n",
              "Brasil         8516000\n",
              "Chile           756950\n",
              "Colombia       1143000\n",
              "Ecuador         283560\n",
              "Paraguay        406752\n",
              "Peru           1285216"
            ],
            "text/html": [
              "\n",
              "  <div id=\"df-b3097d85-d935-4ece-914b-d04ce9c9864e\">\n",
              "    <div class=\"colab-df-container\">\n",
              "      <div>\n",
              "<style scoped>\n",
              "    .dataframe tbody tr th:only-of-type {\n",
              "        vertical-align: middle;\n",
              "    }\n",
              "\n",
              "    .dataframe tbody tr th {\n",
              "        vertical-align: top;\n",
              "    }\n",
              "\n",
              "    .dataframe thead th {\n",
              "        text-align: right;\n",
              "    }\n",
              "</style>\n",
              "<table border=\"1\" class=\"dataframe\">\n",
              "  <thead>\n",
              "    <tr style=\"text-align: right;\">\n",
              "      <th></th>\n",
              "      <th>sup. en km2</th>\n",
              "    </tr>\n",
              "  </thead>\n",
              "  <tbody>\n",
              "    <tr>\n",
              "      <th>Argentina</th>\n",
              "      <td>2780000</td>\n",
              "    </tr>\n",
              "    <tr>\n",
              "      <th>Brasil</th>\n",
              "      <td>8516000</td>\n",
              "    </tr>\n",
              "    <tr>\n",
              "      <th>Chile</th>\n",
              "      <td>756950</td>\n",
              "    </tr>\n",
              "    <tr>\n",
              "      <th>Colombia</th>\n",
              "      <td>1143000</td>\n",
              "    </tr>\n",
              "    <tr>\n",
              "      <th>Ecuador</th>\n",
              "      <td>283560</td>\n",
              "    </tr>\n",
              "    <tr>\n",
              "      <th>Paraguay</th>\n",
              "      <td>406752</td>\n",
              "    </tr>\n",
              "    <tr>\n",
              "      <th>Peru</th>\n",
              "      <td>1285216</td>\n",
              "    </tr>\n",
              "  </tbody>\n",
              "</table>\n",
              "</div>\n",
              "      <button class=\"colab-df-convert\" onclick=\"convertToInteractive('df-b3097d85-d935-4ece-914b-d04ce9c9864e')\"\n",
              "              title=\"Convert this dataframe to an interactive table.\"\n",
              "              style=\"display:none;\">\n",
              "        \n",
              "  <svg xmlns=\"http://www.w3.org/2000/svg\" height=\"24px\"viewBox=\"0 0 24 24\"\n",
              "       width=\"24px\">\n",
              "    <path d=\"M0 0h24v24H0V0z\" fill=\"none\"/>\n",
              "    <path d=\"M18.56 5.44l.94 2.06.94-2.06 2.06-.94-2.06-.94-.94-2.06-.94 2.06-2.06.94zm-11 1L8.5 8.5l.94-2.06 2.06-.94-2.06-.94L8.5 2.5l-.94 2.06-2.06.94zm10 10l.94 2.06.94-2.06 2.06-.94-2.06-.94-.94-2.06-.94 2.06-2.06.94z\"/><path d=\"M17.41 7.96l-1.37-1.37c-.4-.4-.92-.59-1.43-.59-.52 0-1.04.2-1.43.59L10.3 9.45l-7.72 7.72c-.78.78-.78 2.05 0 2.83L4 21.41c.39.39.9.59 1.41.59.51 0 1.02-.2 1.41-.59l7.78-7.78 2.81-2.81c.8-.78.8-2.07 0-2.86zM5.41 20L4 18.59l7.72-7.72 1.47 1.35L5.41 20z\"/>\n",
              "  </svg>\n",
              "      </button>\n",
              "      \n",
              "  <style>\n",
              "    .colab-df-container {\n",
              "      display:flex;\n",
              "      flex-wrap:wrap;\n",
              "      gap: 12px;\n",
              "    }\n",
              "\n",
              "    .colab-df-convert {\n",
              "      background-color: #E8F0FE;\n",
              "      border: none;\n",
              "      border-radius: 50%;\n",
              "      cursor: pointer;\n",
              "      display: none;\n",
              "      fill: #1967D2;\n",
              "      height: 32px;\n",
              "      padding: 0 0 0 0;\n",
              "      width: 32px;\n",
              "    }\n",
              "\n",
              "    .colab-df-convert:hover {\n",
              "      background-color: #E2EBFA;\n",
              "      box-shadow: 0px 1px 2px rgba(60, 64, 67, 0.3), 0px 1px 3px 1px rgba(60, 64, 67, 0.15);\n",
              "      fill: #174EA6;\n",
              "    }\n",
              "\n",
              "    [theme=dark] .colab-df-convert {\n",
              "      background-color: #3B4455;\n",
              "      fill: #D2E3FC;\n",
              "    }\n",
              "\n",
              "    [theme=dark] .colab-df-convert:hover {\n",
              "      background-color: #434B5C;\n",
              "      box-shadow: 0px 1px 3px 1px rgba(0, 0, 0, 0.15);\n",
              "      filter: drop-shadow(0px 1px 2px rgba(0, 0, 0, 0.3));\n",
              "      fill: #FFFFFF;\n",
              "    }\n",
              "  </style>\n",
              "\n",
              "      <script>\n",
              "        const buttonEl =\n",
              "          document.querySelector('#df-b3097d85-d935-4ece-914b-d04ce9c9864e button.colab-df-convert');\n",
              "        buttonEl.style.display =\n",
              "          google.colab.kernel.accessAllowed ? 'block' : 'none';\n",
              "\n",
              "        async function convertToInteractive(key) {\n",
              "          const element = document.querySelector('#df-b3097d85-d935-4ece-914b-d04ce9c9864e');\n",
              "          const dataTable =\n",
              "            await google.colab.kernel.invokeFunction('convertToInteractive',\n",
              "                                                     [key], {});\n",
              "          if (!dataTable) return;\n",
              "\n",
              "          const docLinkHtml = 'Like what you see? Visit the ' +\n",
              "            '<a target=\"_blank\" href=https://colab.research.google.com/notebooks/data_table.ipynb>data table notebook</a>'\n",
              "            + ' to learn more about interactive tables.';\n",
              "          element.innerHTML = '';\n",
              "          dataTable['output_type'] = 'display_data';\n",
              "          await google.colab.output.renderOutput(dataTable, element);\n",
              "          const docLink = document.createElement('div');\n",
              "          docLink.innerHTML = docLinkHtml;\n",
              "          element.appendChild(docLink);\n",
              "        }\n",
              "      </script>\n",
              "    </div>\n",
              "  </div>\n",
              "  "
            ]
          },
          "metadata": {},
          "execution_count": 43
        }
      ]
    },
    {
      "cell_type": "code",
      "source": [
        "paises3.capital"
      ],
      "metadata": {
        "colab": {
          "base_uri": "https://localhost:8080/"
        },
        "id": "U3nevF0JilXY",
        "outputId": "b248962a-acfb-4176-c4c1-0a07a43e54ac"
      },
      "id": "U3nevF0JilXY",
      "execution_count": 44,
      "outputs": [
        {
          "output_type": "execute_result",
          "data": {
            "text/plain": [
              "Argentina         Buenos Airea\n",
              "Brasil                Brasilia\n",
              "Chile        Santiago de Chile\n",
              "Colombia                Bogotá\n",
              "Ecuador                  Quito\n",
              "Paraguay              Asunción\n",
              "Peru                      Lima\n",
              "Name: capital, dtype: object"
            ]
          },
          "metadata": {},
          "execution_count": 44
        }
      ]
    },
    {
      "cell_type": "code",
      "source": [
        "paises3.poblacion"
      ],
      "metadata": {
        "colab": {
          "base_uri": "https://localhost:8080/"
        },
        "id": "c7fVAZnWixh7",
        "outputId": "6c243cad-058c-4c18-ede9-11e4b3b1cce7"
      },
      "id": "c7fVAZnWixh7",
      "execution_count": 45,
      "outputs": [
        {
          "output_type": "execute_result",
          "data": {
            "text/plain": [
              "Argentina     45380000\n",
              "Brasil       212600000\n",
              "Chile         19120000\n",
              "Colombia      50880000\n",
              "Ecuador       17640000\n",
              "Paraguay       7133000\n",
              "Peru          32970000\n",
              "Name: poblacion, dtype: int64"
            ]
          },
          "metadata": {},
          "execution_count": 45
        }
      ]
    },
    {
      "cell_type": "code",
      "source": [
        "paises3[\"sup. en km2\"]"
      ],
      "metadata": {
        "colab": {
          "base_uri": "https://localhost:8080/"
        },
        "id": "cwFcj_dSi2EA",
        "outputId": "6b55bd7f-df86-478b-c0be-fa7b172a97d6"
      },
      "id": "cwFcj_dSi2EA",
      "execution_count": 46,
      "outputs": [
        {
          "output_type": "execute_result",
          "data": {
            "text/plain": [
              "Argentina    2780000\n",
              "Brasil       8516000\n",
              "Chile         756950\n",
              "Colombia     1143000\n",
              "Ecuador       283560\n",
              "Paraguay      406752\n",
              "Peru         1285216\n",
              "Name: sup. en km2, dtype: int64"
            ]
          },
          "metadata": {},
          "execution_count": 46
        }
      ]
    },
    {
      "cell_type": "code",
      "execution_count": 47,
      "id": "e9746a6c-5a92-4db3-af38-609bbf24bea6",
      "metadata": {
        "id": "e9746a6c-5a92-4db3-af38-609bbf24bea6",
        "colab": {
          "base_uri": "https://localhost:8080/",
          "height": 175
        },
        "outputId": "8c5de4ab-21c6-4441-caec-e1badfdade87"
      },
      "outputs": [
        {
          "output_type": "execute_result",
          "data": {
            "text/plain": [
              "                capital  poblacion  sup. en km2\n",
              "Argentina  Buenos Airea   45380000      2780000\n",
              "Brasil         Brasilia  212600000      8516000\n",
              "Colombia         Bogotá   50880000      1143000\n",
              "Peru               Lima   32970000      1285216"
            ],
            "text/html": [
              "\n",
              "  <div id=\"df-29301a44-2a1f-4fcd-83df-5e34cfdba8b3\">\n",
              "    <div class=\"colab-df-container\">\n",
              "      <div>\n",
              "<style scoped>\n",
              "    .dataframe tbody tr th:only-of-type {\n",
              "        vertical-align: middle;\n",
              "    }\n",
              "\n",
              "    .dataframe tbody tr th {\n",
              "        vertical-align: top;\n",
              "    }\n",
              "\n",
              "    .dataframe thead th {\n",
              "        text-align: right;\n",
              "    }\n",
              "</style>\n",
              "<table border=\"1\" class=\"dataframe\">\n",
              "  <thead>\n",
              "    <tr style=\"text-align: right;\">\n",
              "      <th></th>\n",
              "      <th>capital</th>\n",
              "      <th>poblacion</th>\n",
              "      <th>sup. en km2</th>\n",
              "    </tr>\n",
              "  </thead>\n",
              "  <tbody>\n",
              "    <tr>\n",
              "      <th>Argentina</th>\n",
              "      <td>Buenos Airea</td>\n",
              "      <td>45380000</td>\n",
              "      <td>2780000</td>\n",
              "    </tr>\n",
              "    <tr>\n",
              "      <th>Brasil</th>\n",
              "      <td>Brasilia</td>\n",
              "      <td>212600000</td>\n",
              "      <td>8516000</td>\n",
              "    </tr>\n",
              "    <tr>\n",
              "      <th>Colombia</th>\n",
              "      <td>Bogotá</td>\n",
              "      <td>50880000</td>\n",
              "      <td>1143000</td>\n",
              "    </tr>\n",
              "    <tr>\n",
              "      <th>Peru</th>\n",
              "      <td>Lima</td>\n",
              "      <td>32970000</td>\n",
              "      <td>1285216</td>\n",
              "    </tr>\n",
              "  </tbody>\n",
              "</table>\n",
              "</div>\n",
              "      <button class=\"colab-df-convert\" onclick=\"convertToInteractive('df-29301a44-2a1f-4fcd-83df-5e34cfdba8b3')\"\n",
              "              title=\"Convert this dataframe to an interactive table.\"\n",
              "              style=\"display:none;\">\n",
              "        \n",
              "  <svg xmlns=\"http://www.w3.org/2000/svg\" height=\"24px\"viewBox=\"0 0 24 24\"\n",
              "       width=\"24px\">\n",
              "    <path d=\"M0 0h24v24H0V0z\" fill=\"none\"/>\n",
              "    <path d=\"M18.56 5.44l.94 2.06.94-2.06 2.06-.94-2.06-.94-.94-2.06-.94 2.06-2.06.94zm-11 1L8.5 8.5l.94-2.06 2.06-.94-2.06-.94L8.5 2.5l-.94 2.06-2.06.94zm10 10l.94 2.06.94-2.06 2.06-.94-2.06-.94-.94-2.06-.94 2.06-2.06.94z\"/><path d=\"M17.41 7.96l-1.37-1.37c-.4-.4-.92-.59-1.43-.59-.52 0-1.04.2-1.43.59L10.3 9.45l-7.72 7.72c-.78.78-.78 2.05 0 2.83L4 21.41c.39.39.9.59 1.41.59.51 0 1.02-.2 1.41-.59l7.78-7.78 2.81-2.81c.8-.78.8-2.07 0-2.86zM5.41 20L4 18.59l7.72-7.72 1.47 1.35L5.41 20z\"/>\n",
              "  </svg>\n",
              "      </button>\n",
              "      \n",
              "  <style>\n",
              "    .colab-df-container {\n",
              "      display:flex;\n",
              "      flex-wrap:wrap;\n",
              "      gap: 12px;\n",
              "    }\n",
              "\n",
              "    .colab-df-convert {\n",
              "      background-color: #E8F0FE;\n",
              "      border: none;\n",
              "      border-radius: 50%;\n",
              "      cursor: pointer;\n",
              "      display: none;\n",
              "      fill: #1967D2;\n",
              "      height: 32px;\n",
              "      padding: 0 0 0 0;\n",
              "      width: 32px;\n",
              "    }\n",
              "\n",
              "    .colab-df-convert:hover {\n",
              "      background-color: #E2EBFA;\n",
              "      box-shadow: 0px 1px 2px rgba(60, 64, 67, 0.3), 0px 1px 3px 1px rgba(60, 64, 67, 0.15);\n",
              "      fill: #174EA6;\n",
              "    }\n",
              "\n",
              "    [theme=dark] .colab-df-convert {\n",
              "      background-color: #3B4455;\n",
              "      fill: #D2E3FC;\n",
              "    }\n",
              "\n",
              "    [theme=dark] .colab-df-convert:hover {\n",
              "      background-color: #434B5C;\n",
              "      box-shadow: 0px 1px 3px 1px rgba(0, 0, 0, 0.15);\n",
              "      filter: drop-shadow(0px 1px 2px rgba(0, 0, 0, 0.3));\n",
              "      fill: #FFFFFF;\n",
              "    }\n",
              "  </style>\n",
              "\n",
              "      <script>\n",
              "        const buttonEl =\n",
              "          document.querySelector('#df-29301a44-2a1f-4fcd-83df-5e34cfdba8b3 button.colab-df-convert');\n",
              "        buttonEl.style.display =\n",
              "          google.colab.kernel.accessAllowed ? 'block' : 'none';\n",
              "\n",
              "        async function convertToInteractive(key) {\n",
              "          const element = document.querySelector('#df-29301a44-2a1f-4fcd-83df-5e34cfdba8b3');\n",
              "          const dataTable =\n",
              "            await google.colab.kernel.invokeFunction('convertToInteractive',\n",
              "                                                     [key], {});\n",
              "          if (!dataTable) return;\n",
              "\n",
              "          const docLinkHtml = 'Like what you see? Visit the ' +\n",
              "            '<a target=\"_blank\" href=https://colab.research.google.com/notebooks/data_table.ipynb>data table notebook</a>'\n",
              "            + ' to learn more about interactive tables.';\n",
              "          element.innerHTML = '';\n",
              "          dataTable['output_type'] = 'display_data';\n",
              "          await google.colab.output.renderOutput(dataTable, element);\n",
              "          const docLink = document.createElement('div');\n",
              "          docLink.innerHTML = docLinkHtml;\n",
              "          element.appendChild(docLink);\n",
              "        }\n",
              "      </script>\n",
              "    </div>\n",
              "  </div>\n",
              "  "
            ]
          },
          "metadata": {},
          "execution_count": 47
        }
      ],
      "source": [
        "paises3.loc[paises3[\"sup. en km2\"]> 1000000]"
      ]
    },
    {
      "cell_type": "markdown",
      "id": "f42d3b15-da5b-45dc-821c-14474cddd1d7",
      "metadata": {
        "id": "f42d3b15-da5b-45dc-821c-14474cddd1d7"
      },
      "source": [
        "__Ejercicio 17:__ Cambiar el nombre de la capital Argentina a \"Buenos Aires\" utilizando la función loc"
      ]
    },
    {
      "cell_type": "code",
      "execution_count": 48,
      "id": "8c1e6277-9578-4fae-863e-9e54f312b106",
      "metadata": {
        "id": "8c1e6277-9578-4fae-863e-9e54f312b106",
        "colab": {
          "base_uri": "https://localhost:8080/",
          "height": 269
        },
        "outputId": "43c12b5e-b582-40fd-fb1e-8f5ddd0fc7d9"
      },
      "outputs": [
        {
          "output_type": "execute_result",
          "data": {
            "text/plain": [
              "                     capital  poblacion  sup. en km2\n",
              "Argentina       Buenos Airea   45380000      2780000\n",
              "Brasil              Brasilia  212600000      8516000\n",
              "Chile      Santiago de Chile   19120000       756950\n",
              "Colombia              Bogotá   50880000      1143000\n",
              "Ecuador                Quito   17640000       283560\n",
              "Paraguay            Asunción    7133000       406752\n",
              "Peru                    Lima   32970000      1285216"
            ],
            "text/html": [
              "\n",
              "  <div id=\"df-fb755866-86ea-4310-8168-183fd10a2a88\">\n",
              "    <div class=\"colab-df-container\">\n",
              "      <div>\n",
              "<style scoped>\n",
              "    .dataframe tbody tr th:only-of-type {\n",
              "        vertical-align: middle;\n",
              "    }\n",
              "\n",
              "    .dataframe tbody tr th {\n",
              "        vertical-align: top;\n",
              "    }\n",
              "\n",
              "    .dataframe thead th {\n",
              "        text-align: right;\n",
              "    }\n",
              "</style>\n",
              "<table border=\"1\" class=\"dataframe\">\n",
              "  <thead>\n",
              "    <tr style=\"text-align: right;\">\n",
              "      <th></th>\n",
              "      <th>capital</th>\n",
              "      <th>poblacion</th>\n",
              "      <th>sup. en km2</th>\n",
              "    </tr>\n",
              "  </thead>\n",
              "  <tbody>\n",
              "    <tr>\n",
              "      <th>Argentina</th>\n",
              "      <td>Buenos Airea</td>\n",
              "      <td>45380000</td>\n",
              "      <td>2780000</td>\n",
              "    </tr>\n",
              "    <tr>\n",
              "      <th>Brasil</th>\n",
              "      <td>Brasilia</td>\n",
              "      <td>212600000</td>\n",
              "      <td>8516000</td>\n",
              "    </tr>\n",
              "    <tr>\n",
              "      <th>Chile</th>\n",
              "      <td>Santiago de Chile</td>\n",
              "      <td>19120000</td>\n",
              "      <td>756950</td>\n",
              "    </tr>\n",
              "    <tr>\n",
              "      <th>Colombia</th>\n",
              "      <td>Bogotá</td>\n",
              "      <td>50880000</td>\n",
              "      <td>1143000</td>\n",
              "    </tr>\n",
              "    <tr>\n",
              "      <th>Ecuador</th>\n",
              "      <td>Quito</td>\n",
              "      <td>17640000</td>\n",
              "      <td>283560</td>\n",
              "    </tr>\n",
              "    <tr>\n",
              "      <th>Paraguay</th>\n",
              "      <td>Asunción</td>\n",
              "      <td>7133000</td>\n",
              "      <td>406752</td>\n",
              "    </tr>\n",
              "    <tr>\n",
              "      <th>Peru</th>\n",
              "      <td>Lima</td>\n",
              "      <td>32970000</td>\n",
              "      <td>1285216</td>\n",
              "    </tr>\n",
              "  </tbody>\n",
              "</table>\n",
              "</div>\n",
              "      <button class=\"colab-df-convert\" onclick=\"convertToInteractive('df-fb755866-86ea-4310-8168-183fd10a2a88')\"\n",
              "              title=\"Convert this dataframe to an interactive table.\"\n",
              "              style=\"display:none;\">\n",
              "        \n",
              "  <svg xmlns=\"http://www.w3.org/2000/svg\" height=\"24px\"viewBox=\"0 0 24 24\"\n",
              "       width=\"24px\">\n",
              "    <path d=\"M0 0h24v24H0V0z\" fill=\"none\"/>\n",
              "    <path d=\"M18.56 5.44l.94 2.06.94-2.06 2.06-.94-2.06-.94-.94-2.06-.94 2.06-2.06.94zm-11 1L8.5 8.5l.94-2.06 2.06-.94-2.06-.94L8.5 2.5l-.94 2.06-2.06.94zm10 10l.94 2.06.94-2.06 2.06-.94-2.06-.94-.94-2.06-.94 2.06-2.06.94z\"/><path d=\"M17.41 7.96l-1.37-1.37c-.4-.4-.92-.59-1.43-.59-.52 0-1.04.2-1.43.59L10.3 9.45l-7.72 7.72c-.78.78-.78 2.05 0 2.83L4 21.41c.39.39.9.59 1.41.59.51 0 1.02-.2 1.41-.59l7.78-7.78 2.81-2.81c.8-.78.8-2.07 0-2.86zM5.41 20L4 18.59l7.72-7.72 1.47 1.35L5.41 20z\"/>\n",
              "  </svg>\n",
              "      </button>\n",
              "      \n",
              "  <style>\n",
              "    .colab-df-container {\n",
              "      display:flex;\n",
              "      flex-wrap:wrap;\n",
              "      gap: 12px;\n",
              "    }\n",
              "\n",
              "    .colab-df-convert {\n",
              "      background-color: #E8F0FE;\n",
              "      border: none;\n",
              "      border-radius: 50%;\n",
              "      cursor: pointer;\n",
              "      display: none;\n",
              "      fill: #1967D2;\n",
              "      height: 32px;\n",
              "      padding: 0 0 0 0;\n",
              "      width: 32px;\n",
              "    }\n",
              "\n",
              "    .colab-df-convert:hover {\n",
              "      background-color: #E2EBFA;\n",
              "      box-shadow: 0px 1px 2px rgba(60, 64, 67, 0.3), 0px 1px 3px 1px rgba(60, 64, 67, 0.15);\n",
              "      fill: #174EA6;\n",
              "    }\n",
              "\n",
              "    [theme=dark] .colab-df-convert {\n",
              "      background-color: #3B4455;\n",
              "      fill: #D2E3FC;\n",
              "    }\n",
              "\n",
              "    [theme=dark] .colab-df-convert:hover {\n",
              "      background-color: #434B5C;\n",
              "      box-shadow: 0px 1px 3px 1px rgba(0, 0, 0, 0.15);\n",
              "      filter: drop-shadow(0px 1px 2px rgba(0, 0, 0, 0.3));\n",
              "      fill: #FFFFFF;\n",
              "    }\n",
              "  </style>\n",
              "\n",
              "      <script>\n",
              "        const buttonEl =\n",
              "          document.querySelector('#df-fb755866-86ea-4310-8168-183fd10a2a88 button.colab-df-convert');\n",
              "        buttonEl.style.display =\n",
              "          google.colab.kernel.accessAllowed ? 'block' : 'none';\n",
              "\n",
              "        async function convertToInteractive(key) {\n",
              "          const element = document.querySelector('#df-fb755866-86ea-4310-8168-183fd10a2a88');\n",
              "          const dataTable =\n",
              "            await google.colab.kernel.invokeFunction('convertToInteractive',\n",
              "                                                     [key], {});\n",
              "          if (!dataTable) return;\n",
              "\n",
              "          const docLinkHtml = 'Like what you see? Visit the ' +\n",
              "            '<a target=\"_blank\" href=https://colab.research.google.com/notebooks/data_table.ipynb>data table notebook</a>'\n",
              "            + ' to learn more about interactive tables.';\n",
              "          element.innerHTML = '';\n",
              "          dataTable['output_type'] = 'display_data';\n",
              "          await google.colab.output.renderOutput(dataTable, element);\n",
              "          const docLink = document.createElement('div');\n",
              "          docLink.innerHTML = docLinkHtml;\n",
              "          element.appendChild(docLink);\n",
              "        }\n",
              "      </script>\n",
              "    </div>\n",
              "  </div>\n",
              "  "
            ]
          },
          "metadata": {},
          "execution_count": 48
        }
      ],
      "source": [
        "paises3"
      ]
    },
    {
      "cell_type": "code",
      "execution_count": 49,
      "id": "9bd51875-b0ec-4000-b8b7-7afabf2e3a7a",
      "metadata": {
        "id": "9bd51875-b0ec-4000-b8b7-7afabf2e3a7a"
      },
      "outputs": [],
      "source": [
        "paises3.loc[\"Argentina\", \"capital\"] = \"Buenos Aires\""
      ]
    },
    {
      "cell_type": "code",
      "source": [
        "paises3.loc[\"Argentina\", \"capital\"]"
      ],
      "metadata": {
        "colab": {
          "base_uri": "https://localhost:8080/",
          "height": 36
        },
        "id": "LfyZi2BAkihb",
        "outputId": "4a89b9e0-21a7-44da-fdbe-576a8278b472"
      },
      "id": "LfyZi2BAkihb",
      "execution_count": 50,
      "outputs": [
        {
          "output_type": "execute_result",
          "data": {
            "text/plain": [
              "'Buenos Aires'"
            ],
            "application/vnd.google.colaboratory.intrinsic+json": {
              "type": "string"
            }
          },
          "metadata": {},
          "execution_count": 50
        }
      ]
    },
    {
      "cell_type": "markdown",
      "id": "75a8cf12-476a-4a9f-84a9-8ef895e23218",
      "metadata": {
        "id": "75a8cf12-476a-4a9f-84a9-8ef895e23218"
      },
      "source": [
        "__Ejercicio 18:__ "
      ]
    },
    {
      "cell_type": "markdown",
      "id": "574ea1e8-0c78-4bbe-b87d-9222ffdffb02",
      "metadata": {
        "id": "574ea1e8-0c78-4bbe-b87d-9222ffdffb02"
      },
      "source": [
        "Obtener los datos de la fila en la tercera posición utilizando iloc"
      ]
    },
    {
      "cell_type": "code",
      "execution_count": 51,
      "id": "669824f4-9928-4ea5-8fcc-0ae504fea694",
      "metadata": {
        "id": "669824f4-9928-4ea5-8fcc-0ae504fea694",
        "colab": {
          "base_uri": "https://localhost:8080/"
        },
        "outputId": "f0053df6-73e9-4276-b789-ff09772399b2"
      },
      "outputs": [
        {
          "output_type": "execute_result",
          "data": {
            "text/plain": [
              "capital        Santiago de Chile\n",
              "poblacion               19120000\n",
              "sup. en km2               756950\n",
              "Name: Chile, dtype: object"
            ]
          },
          "metadata": {},
          "execution_count": 51
        }
      ],
      "source": [
        "paises3.iloc[2]"
      ]
    },
    {
      "cell_type": "markdown",
      "id": "222b5555-05f6-4c57-940b-2683f38654f6",
      "metadata": {
        "id": "222b5555-05f6-4c57-940b-2683f38654f6"
      },
      "source": [
        "Obtener los datos de la columna en la segunda posición utilizando iloc"
      ]
    },
    {
      "cell_type": "code",
      "execution_count": 52,
      "id": "4b521130-1c93-4b47-b498-0a726609b6f2",
      "metadata": {
        "id": "4b521130-1c93-4b47-b498-0a726609b6f2",
        "colab": {
          "base_uri": "https://localhost:8080/"
        },
        "outputId": "2f8a8e98-a90c-4fb6-eb88-d828b6d48768"
      },
      "outputs": [
        {
          "output_type": "execute_result",
          "data": {
            "text/plain": [
              "Argentina     45380000\n",
              "Brasil       212600000\n",
              "Chile         19120000\n",
              "Colombia      50880000\n",
              "Ecuador       17640000\n",
              "Paraguay       7133000\n",
              "Peru          32970000\n",
              "Name: poblacion, dtype: int64"
            ]
          },
          "metadata": {},
          "execution_count": 52
        }
      ],
      "source": [
        "paises3.iloc[ :, 1]"
      ]
    },
    {
      "cell_type": "code",
      "execution_count": 53,
      "id": "fb439c48-5daf-412c-9c77-4e5b9aef9fb3",
      "metadata": {
        "id": "fb439c48-5daf-412c-9c77-4e5b9aef9fb3",
        "colab": {
          "base_uri": "https://localhost:8080/",
          "height": 269
        },
        "outputId": "f586fc8d-cab4-4b36-d724-0cb101f84fc2"
      },
      "outputs": [
        {
          "output_type": "execute_result",
          "data": {
            "text/plain": [
              "                     capital  poblacion  sup. en km2\n",
              "Argentina       Buenos Aires   45380000      2780000\n",
              "Brasil              Brasilia  212600000      8516000\n",
              "Chile      Santiago de Chile   19120000       756950\n",
              "Colombia              Bogotá   50880000      1143000\n",
              "Ecuador                Quito   17640000       283560\n",
              "Paraguay            Asunción    7133000       406752\n",
              "Peru                    Lima   32970000      1285216"
            ],
            "text/html": [
              "\n",
              "  <div id=\"df-3bf5926c-0b7c-4b26-9d8f-846e274831a8\">\n",
              "    <div class=\"colab-df-container\">\n",
              "      <div>\n",
              "<style scoped>\n",
              "    .dataframe tbody tr th:only-of-type {\n",
              "        vertical-align: middle;\n",
              "    }\n",
              "\n",
              "    .dataframe tbody tr th {\n",
              "        vertical-align: top;\n",
              "    }\n",
              "\n",
              "    .dataframe thead th {\n",
              "        text-align: right;\n",
              "    }\n",
              "</style>\n",
              "<table border=\"1\" class=\"dataframe\">\n",
              "  <thead>\n",
              "    <tr style=\"text-align: right;\">\n",
              "      <th></th>\n",
              "      <th>capital</th>\n",
              "      <th>poblacion</th>\n",
              "      <th>sup. en km2</th>\n",
              "    </tr>\n",
              "  </thead>\n",
              "  <tbody>\n",
              "    <tr>\n",
              "      <th>Argentina</th>\n",
              "      <td>Buenos Aires</td>\n",
              "      <td>45380000</td>\n",
              "      <td>2780000</td>\n",
              "    </tr>\n",
              "    <tr>\n",
              "      <th>Brasil</th>\n",
              "      <td>Brasilia</td>\n",
              "      <td>212600000</td>\n",
              "      <td>8516000</td>\n",
              "    </tr>\n",
              "    <tr>\n",
              "      <th>Chile</th>\n",
              "      <td>Santiago de Chile</td>\n",
              "      <td>19120000</td>\n",
              "      <td>756950</td>\n",
              "    </tr>\n",
              "    <tr>\n",
              "      <th>Colombia</th>\n",
              "      <td>Bogotá</td>\n",
              "      <td>50880000</td>\n",
              "      <td>1143000</td>\n",
              "    </tr>\n",
              "    <tr>\n",
              "      <th>Ecuador</th>\n",
              "      <td>Quito</td>\n",
              "      <td>17640000</td>\n",
              "      <td>283560</td>\n",
              "    </tr>\n",
              "    <tr>\n",
              "      <th>Paraguay</th>\n",
              "      <td>Asunción</td>\n",
              "      <td>7133000</td>\n",
              "      <td>406752</td>\n",
              "    </tr>\n",
              "    <tr>\n",
              "      <th>Peru</th>\n",
              "      <td>Lima</td>\n",
              "      <td>32970000</td>\n",
              "      <td>1285216</td>\n",
              "    </tr>\n",
              "  </tbody>\n",
              "</table>\n",
              "</div>\n",
              "      <button class=\"colab-df-convert\" onclick=\"convertToInteractive('df-3bf5926c-0b7c-4b26-9d8f-846e274831a8')\"\n",
              "              title=\"Convert this dataframe to an interactive table.\"\n",
              "              style=\"display:none;\">\n",
              "        \n",
              "  <svg xmlns=\"http://www.w3.org/2000/svg\" height=\"24px\"viewBox=\"0 0 24 24\"\n",
              "       width=\"24px\">\n",
              "    <path d=\"M0 0h24v24H0V0z\" fill=\"none\"/>\n",
              "    <path d=\"M18.56 5.44l.94 2.06.94-2.06 2.06-.94-2.06-.94-.94-2.06-.94 2.06-2.06.94zm-11 1L8.5 8.5l.94-2.06 2.06-.94-2.06-.94L8.5 2.5l-.94 2.06-2.06.94zm10 10l.94 2.06.94-2.06 2.06-.94-2.06-.94-.94-2.06-.94 2.06-2.06.94z\"/><path d=\"M17.41 7.96l-1.37-1.37c-.4-.4-.92-.59-1.43-.59-.52 0-1.04.2-1.43.59L10.3 9.45l-7.72 7.72c-.78.78-.78 2.05 0 2.83L4 21.41c.39.39.9.59 1.41.59.51 0 1.02-.2 1.41-.59l7.78-7.78 2.81-2.81c.8-.78.8-2.07 0-2.86zM5.41 20L4 18.59l7.72-7.72 1.47 1.35L5.41 20z\"/>\n",
              "  </svg>\n",
              "      </button>\n",
              "      \n",
              "  <style>\n",
              "    .colab-df-container {\n",
              "      display:flex;\n",
              "      flex-wrap:wrap;\n",
              "      gap: 12px;\n",
              "    }\n",
              "\n",
              "    .colab-df-convert {\n",
              "      background-color: #E8F0FE;\n",
              "      border: none;\n",
              "      border-radius: 50%;\n",
              "      cursor: pointer;\n",
              "      display: none;\n",
              "      fill: #1967D2;\n",
              "      height: 32px;\n",
              "      padding: 0 0 0 0;\n",
              "      width: 32px;\n",
              "    }\n",
              "\n",
              "    .colab-df-convert:hover {\n",
              "      background-color: #E2EBFA;\n",
              "      box-shadow: 0px 1px 2px rgba(60, 64, 67, 0.3), 0px 1px 3px 1px rgba(60, 64, 67, 0.15);\n",
              "      fill: #174EA6;\n",
              "    }\n",
              "\n",
              "    [theme=dark] .colab-df-convert {\n",
              "      background-color: #3B4455;\n",
              "      fill: #D2E3FC;\n",
              "    }\n",
              "\n",
              "    [theme=dark] .colab-df-convert:hover {\n",
              "      background-color: #434B5C;\n",
              "      box-shadow: 0px 1px 3px 1px rgba(0, 0, 0, 0.15);\n",
              "      filter: drop-shadow(0px 1px 2px rgba(0, 0, 0, 0.3));\n",
              "      fill: #FFFFFF;\n",
              "    }\n",
              "  </style>\n",
              "\n",
              "      <script>\n",
              "        const buttonEl =\n",
              "          document.querySelector('#df-3bf5926c-0b7c-4b26-9d8f-846e274831a8 button.colab-df-convert');\n",
              "        buttonEl.style.display =\n",
              "          google.colab.kernel.accessAllowed ? 'block' : 'none';\n",
              "\n",
              "        async function convertToInteractive(key) {\n",
              "          const element = document.querySelector('#df-3bf5926c-0b7c-4b26-9d8f-846e274831a8');\n",
              "          const dataTable =\n",
              "            await google.colab.kernel.invokeFunction('convertToInteractive',\n",
              "                                                     [key], {});\n",
              "          if (!dataTable) return;\n",
              "\n",
              "          const docLinkHtml = 'Like what you see? Visit the ' +\n",
              "            '<a target=\"_blank\" href=https://colab.research.google.com/notebooks/data_table.ipynb>data table notebook</a>'\n",
              "            + ' to learn more about interactive tables.';\n",
              "          element.innerHTML = '';\n",
              "          dataTable['output_type'] = 'display_data';\n",
              "          await google.colab.output.renderOutput(dataTable, element);\n",
              "          const docLink = document.createElement('div');\n",
              "          docLink.innerHTML = docLinkHtml;\n",
              "          element.appendChild(docLink);\n",
              "        }\n",
              "      </script>\n",
              "    </div>\n",
              "  </div>\n",
              "  "
            ]
          },
          "metadata": {},
          "execution_count": 53
        }
      ],
      "source": [
        "paises3"
      ]
    },
    {
      "cell_type": "markdown",
      "id": "44c20209-8369-4d3d-b09b-b65ea88b9830",
      "metadata": {
        "id": "44c20209-8369-4d3d-b09b-b65ea88b9830"
      },
      "source": [
        "__Ejercicio 19:__ Obtener los datos de la fila en la tercera y cuarta posición utilizando iloc"
      ]
    },
    {
      "cell_type": "code",
      "execution_count": 54,
      "id": "e20c9403-dd01-4ff1-a0a2-73f12f25b5cc",
      "metadata": {
        "id": "e20c9403-dd01-4ff1-a0a2-73f12f25b5cc",
        "colab": {
          "base_uri": "https://localhost:8080/",
          "height": 112
        },
        "outputId": "51de5d34-3d68-4d72-a614-c1162c4cd7f4"
      },
      "outputs": [
        {
          "output_type": "execute_result",
          "data": {
            "text/plain": [
              "                    capital  poblacion  sup. en km2\n",
              "Chile     Santiago de Chile   19120000       756950\n",
              "Colombia             Bogotá   50880000      1143000"
            ],
            "text/html": [
              "\n",
              "  <div id=\"df-1b99f0ca-89f9-442d-9e3c-5b715e2baf87\">\n",
              "    <div class=\"colab-df-container\">\n",
              "      <div>\n",
              "<style scoped>\n",
              "    .dataframe tbody tr th:only-of-type {\n",
              "        vertical-align: middle;\n",
              "    }\n",
              "\n",
              "    .dataframe tbody tr th {\n",
              "        vertical-align: top;\n",
              "    }\n",
              "\n",
              "    .dataframe thead th {\n",
              "        text-align: right;\n",
              "    }\n",
              "</style>\n",
              "<table border=\"1\" class=\"dataframe\">\n",
              "  <thead>\n",
              "    <tr style=\"text-align: right;\">\n",
              "      <th></th>\n",
              "      <th>capital</th>\n",
              "      <th>poblacion</th>\n",
              "      <th>sup. en km2</th>\n",
              "    </tr>\n",
              "  </thead>\n",
              "  <tbody>\n",
              "    <tr>\n",
              "      <th>Chile</th>\n",
              "      <td>Santiago de Chile</td>\n",
              "      <td>19120000</td>\n",
              "      <td>756950</td>\n",
              "    </tr>\n",
              "    <tr>\n",
              "      <th>Colombia</th>\n",
              "      <td>Bogotá</td>\n",
              "      <td>50880000</td>\n",
              "      <td>1143000</td>\n",
              "    </tr>\n",
              "  </tbody>\n",
              "</table>\n",
              "</div>\n",
              "      <button class=\"colab-df-convert\" onclick=\"convertToInteractive('df-1b99f0ca-89f9-442d-9e3c-5b715e2baf87')\"\n",
              "              title=\"Convert this dataframe to an interactive table.\"\n",
              "              style=\"display:none;\">\n",
              "        \n",
              "  <svg xmlns=\"http://www.w3.org/2000/svg\" height=\"24px\"viewBox=\"0 0 24 24\"\n",
              "       width=\"24px\">\n",
              "    <path d=\"M0 0h24v24H0V0z\" fill=\"none\"/>\n",
              "    <path d=\"M18.56 5.44l.94 2.06.94-2.06 2.06-.94-2.06-.94-.94-2.06-.94 2.06-2.06.94zm-11 1L8.5 8.5l.94-2.06 2.06-.94-2.06-.94L8.5 2.5l-.94 2.06-2.06.94zm10 10l.94 2.06.94-2.06 2.06-.94-2.06-.94-.94-2.06-.94 2.06-2.06.94z\"/><path d=\"M17.41 7.96l-1.37-1.37c-.4-.4-.92-.59-1.43-.59-.52 0-1.04.2-1.43.59L10.3 9.45l-7.72 7.72c-.78.78-.78 2.05 0 2.83L4 21.41c.39.39.9.59 1.41.59.51 0 1.02-.2 1.41-.59l7.78-7.78 2.81-2.81c.8-.78.8-2.07 0-2.86zM5.41 20L4 18.59l7.72-7.72 1.47 1.35L5.41 20z\"/>\n",
              "  </svg>\n",
              "      </button>\n",
              "      \n",
              "  <style>\n",
              "    .colab-df-container {\n",
              "      display:flex;\n",
              "      flex-wrap:wrap;\n",
              "      gap: 12px;\n",
              "    }\n",
              "\n",
              "    .colab-df-convert {\n",
              "      background-color: #E8F0FE;\n",
              "      border: none;\n",
              "      border-radius: 50%;\n",
              "      cursor: pointer;\n",
              "      display: none;\n",
              "      fill: #1967D2;\n",
              "      height: 32px;\n",
              "      padding: 0 0 0 0;\n",
              "      width: 32px;\n",
              "    }\n",
              "\n",
              "    .colab-df-convert:hover {\n",
              "      background-color: #E2EBFA;\n",
              "      box-shadow: 0px 1px 2px rgba(60, 64, 67, 0.3), 0px 1px 3px 1px rgba(60, 64, 67, 0.15);\n",
              "      fill: #174EA6;\n",
              "    }\n",
              "\n",
              "    [theme=dark] .colab-df-convert {\n",
              "      background-color: #3B4455;\n",
              "      fill: #D2E3FC;\n",
              "    }\n",
              "\n",
              "    [theme=dark] .colab-df-convert:hover {\n",
              "      background-color: #434B5C;\n",
              "      box-shadow: 0px 1px 3px 1px rgba(0, 0, 0, 0.15);\n",
              "      filter: drop-shadow(0px 1px 2px rgba(0, 0, 0, 0.3));\n",
              "      fill: #FFFFFF;\n",
              "    }\n",
              "  </style>\n",
              "\n",
              "      <script>\n",
              "        const buttonEl =\n",
              "          document.querySelector('#df-1b99f0ca-89f9-442d-9e3c-5b715e2baf87 button.colab-df-convert');\n",
              "        buttonEl.style.display =\n",
              "          google.colab.kernel.accessAllowed ? 'block' : 'none';\n",
              "\n",
              "        async function convertToInteractive(key) {\n",
              "          const element = document.querySelector('#df-1b99f0ca-89f9-442d-9e3c-5b715e2baf87');\n",
              "          const dataTable =\n",
              "            await google.colab.kernel.invokeFunction('convertToInteractive',\n",
              "                                                     [key], {});\n",
              "          if (!dataTable) return;\n",
              "\n",
              "          const docLinkHtml = 'Like what you see? Visit the ' +\n",
              "            '<a target=\"_blank\" href=https://colab.research.google.com/notebooks/data_table.ipynb>data table notebook</a>'\n",
              "            + ' to learn more about interactive tables.';\n",
              "          element.innerHTML = '';\n",
              "          dataTable['output_type'] = 'display_data';\n",
              "          await google.colab.output.renderOutput(dataTable, element);\n",
              "          const docLink = document.createElement('div');\n",
              "          docLink.innerHTML = docLinkHtml;\n",
              "          element.appendChild(docLink);\n",
              "        }\n",
              "      </script>\n",
              "    </div>\n",
              "  </div>\n",
              "  "
            ]
          },
          "metadata": {},
          "execution_count": 54
        }
      ],
      "source": [
        "paises3.iloc[[2,3]]"
      ]
    },
    {
      "cell_type": "code",
      "execution_count": 55,
      "id": "2f6006cc-7a6d-4b22-863f-c0898c9cc6ba",
      "metadata": {
        "id": "2f6006cc-7a6d-4b22-863f-c0898c9cc6ba",
        "colab": {
          "base_uri": "https://localhost:8080/",
          "height": 269
        },
        "outputId": "76fcab73-2144-42a4-8530-8a950f5b520b"
      },
      "outputs": [
        {
          "output_type": "execute_result",
          "data": {
            "text/plain": [
              "                     capital  poblacion  sup. en km2\n",
              "Argentina       Buenos Aires   45380000      2780000\n",
              "Brasil              Brasilia  212600000      8516000\n",
              "Chile      Santiago de Chile   19120000       756950\n",
              "Colombia              Bogotá   50880000      1143000\n",
              "Ecuador                Quito   17640000       283560\n",
              "Paraguay            Asunción    7133000       406752\n",
              "Peru                    Lima   32970000      1285216"
            ],
            "text/html": [
              "\n",
              "  <div id=\"df-831e89f5-fb61-45e3-b5ce-4908697005fd\">\n",
              "    <div class=\"colab-df-container\">\n",
              "      <div>\n",
              "<style scoped>\n",
              "    .dataframe tbody tr th:only-of-type {\n",
              "        vertical-align: middle;\n",
              "    }\n",
              "\n",
              "    .dataframe tbody tr th {\n",
              "        vertical-align: top;\n",
              "    }\n",
              "\n",
              "    .dataframe thead th {\n",
              "        text-align: right;\n",
              "    }\n",
              "</style>\n",
              "<table border=\"1\" class=\"dataframe\">\n",
              "  <thead>\n",
              "    <tr style=\"text-align: right;\">\n",
              "      <th></th>\n",
              "      <th>capital</th>\n",
              "      <th>poblacion</th>\n",
              "      <th>sup. en km2</th>\n",
              "    </tr>\n",
              "  </thead>\n",
              "  <tbody>\n",
              "    <tr>\n",
              "      <th>Argentina</th>\n",
              "      <td>Buenos Aires</td>\n",
              "      <td>45380000</td>\n",
              "      <td>2780000</td>\n",
              "    </tr>\n",
              "    <tr>\n",
              "      <th>Brasil</th>\n",
              "      <td>Brasilia</td>\n",
              "      <td>212600000</td>\n",
              "      <td>8516000</td>\n",
              "    </tr>\n",
              "    <tr>\n",
              "      <th>Chile</th>\n",
              "      <td>Santiago de Chile</td>\n",
              "      <td>19120000</td>\n",
              "      <td>756950</td>\n",
              "    </tr>\n",
              "    <tr>\n",
              "      <th>Colombia</th>\n",
              "      <td>Bogotá</td>\n",
              "      <td>50880000</td>\n",
              "      <td>1143000</td>\n",
              "    </tr>\n",
              "    <tr>\n",
              "      <th>Ecuador</th>\n",
              "      <td>Quito</td>\n",
              "      <td>17640000</td>\n",
              "      <td>283560</td>\n",
              "    </tr>\n",
              "    <tr>\n",
              "      <th>Paraguay</th>\n",
              "      <td>Asunción</td>\n",
              "      <td>7133000</td>\n",
              "      <td>406752</td>\n",
              "    </tr>\n",
              "    <tr>\n",
              "      <th>Peru</th>\n",
              "      <td>Lima</td>\n",
              "      <td>32970000</td>\n",
              "      <td>1285216</td>\n",
              "    </tr>\n",
              "  </tbody>\n",
              "</table>\n",
              "</div>\n",
              "      <button class=\"colab-df-convert\" onclick=\"convertToInteractive('df-831e89f5-fb61-45e3-b5ce-4908697005fd')\"\n",
              "              title=\"Convert this dataframe to an interactive table.\"\n",
              "              style=\"display:none;\">\n",
              "        \n",
              "  <svg xmlns=\"http://www.w3.org/2000/svg\" height=\"24px\"viewBox=\"0 0 24 24\"\n",
              "       width=\"24px\">\n",
              "    <path d=\"M0 0h24v24H0V0z\" fill=\"none\"/>\n",
              "    <path d=\"M18.56 5.44l.94 2.06.94-2.06 2.06-.94-2.06-.94-.94-2.06-.94 2.06-2.06.94zm-11 1L8.5 8.5l.94-2.06 2.06-.94-2.06-.94L8.5 2.5l-.94 2.06-2.06.94zm10 10l.94 2.06.94-2.06 2.06-.94-2.06-.94-.94-2.06-.94 2.06-2.06.94z\"/><path d=\"M17.41 7.96l-1.37-1.37c-.4-.4-.92-.59-1.43-.59-.52 0-1.04.2-1.43.59L10.3 9.45l-7.72 7.72c-.78.78-.78 2.05 0 2.83L4 21.41c.39.39.9.59 1.41.59.51 0 1.02-.2 1.41-.59l7.78-7.78 2.81-2.81c.8-.78.8-2.07 0-2.86zM5.41 20L4 18.59l7.72-7.72 1.47 1.35L5.41 20z\"/>\n",
              "  </svg>\n",
              "      </button>\n",
              "      \n",
              "  <style>\n",
              "    .colab-df-container {\n",
              "      display:flex;\n",
              "      flex-wrap:wrap;\n",
              "      gap: 12px;\n",
              "    }\n",
              "\n",
              "    .colab-df-convert {\n",
              "      background-color: #E8F0FE;\n",
              "      border: none;\n",
              "      border-radius: 50%;\n",
              "      cursor: pointer;\n",
              "      display: none;\n",
              "      fill: #1967D2;\n",
              "      height: 32px;\n",
              "      padding: 0 0 0 0;\n",
              "      width: 32px;\n",
              "    }\n",
              "\n",
              "    .colab-df-convert:hover {\n",
              "      background-color: #E2EBFA;\n",
              "      box-shadow: 0px 1px 2px rgba(60, 64, 67, 0.3), 0px 1px 3px 1px rgba(60, 64, 67, 0.15);\n",
              "      fill: #174EA6;\n",
              "    }\n",
              "\n",
              "    [theme=dark] .colab-df-convert {\n",
              "      background-color: #3B4455;\n",
              "      fill: #D2E3FC;\n",
              "    }\n",
              "\n",
              "    [theme=dark] .colab-df-convert:hover {\n",
              "      background-color: #434B5C;\n",
              "      box-shadow: 0px 1px 3px 1px rgba(0, 0, 0, 0.15);\n",
              "      filter: drop-shadow(0px 1px 2px rgba(0, 0, 0, 0.3));\n",
              "      fill: #FFFFFF;\n",
              "    }\n",
              "  </style>\n",
              "\n",
              "      <script>\n",
              "        const buttonEl =\n",
              "          document.querySelector('#df-831e89f5-fb61-45e3-b5ce-4908697005fd button.colab-df-convert');\n",
              "        buttonEl.style.display =\n",
              "          google.colab.kernel.accessAllowed ? 'block' : 'none';\n",
              "\n",
              "        async function convertToInteractive(key) {\n",
              "          const element = document.querySelector('#df-831e89f5-fb61-45e3-b5ce-4908697005fd');\n",
              "          const dataTable =\n",
              "            await google.colab.kernel.invokeFunction('convertToInteractive',\n",
              "                                                     [key], {});\n",
              "          if (!dataTable) return;\n",
              "\n",
              "          const docLinkHtml = 'Like what you see? Visit the ' +\n",
              "            '<a target=\"_blank\" href=https://colab.research.google.com/notebooks/data_table.ipynb>data table notebook</a>'\n",
              "            + ' to learn more about interactive tables.';\n",
              "          element.innerHTML = '';\n",
              "          dataTable['output_type'] = 'display_data';\n",
              "          await google.colab.output.renderOutput(dataTable, element);\n",
              "          const docLink = document.createElement('div');\n",
              "          docLink.innerHTML = docLinkHtml;\n",
              "          element.appendChild(docLink);\n",
              "        }\n",
              "      </script>\n",
              "    </div>\n",
              "  </div>\n",
              "  "
            ]
          },
          "metadata": {},
          "execution_count": 55
        }
      ],
      "source": [
        "paises3"
      ]
    },
    {
      "cell_type": "markdown",
      "id": "19526f4a-841c-4a7a-8990-35be57c904cc",
      "metadata": {
        "id": "19526f4a-841c-4a7a-8990-35be57c904cc"
      },
      "source": [
        "__Ejercicio 20:__ Obtener el nombre de las columnas en el DataFrame"
      ]
    },
    {
      "cell_type": "code",
      "execution_count": 56,
      "id": "ca01f3c7-1329-494f-8e36-45fa67da8aef",
      "metadata": {
        "id": "ca01f3c7-1329-494f-8e36-45fa67da8aef",
        "colab": {
          "base_uri": "https://localhost:8080/"
        },
        "outputId": "cb41006b-b702-49c7-d41e-ad0c850b21da"
      },
      "outputs": [
        {
          "output_type": "execute_result",
          "data": {
            "text/plain": [
              "Index(['capital', 'poblacion', 'sup. en km2'], dtype='object')"
            ]
          },
          "metadata": {},
          "execution_count": 56
        }
      ],
      "source": [
        "paises3.columns"
      ]
    },
    {
      "cell_type": "code",
      "execution_count": 57,
      "id": "15b18cca-1b9e-4bf8-9fa2-5fa3b06be5c3",
      "metadata": {
        "id": "15b18cca-1b9e-4bf8-9fa2-5fa3b06be5c3",
        "colab": {
          "base_uri": "https://localhost:8080/"
        },
        "outputId": "3308b24f-3da4-497a-cce2-6f6f05eba112"
      },
      "outputs": [
        {
          "output_type": "execute_result",
          "data": {
            "text/plain": [
              "Index(['Argentina', 'Brasil', 'Chile', 'Colombia', 'Ecuador', 'Paraguay',\n",
              "       'Peru'],\n",
              "      dtype='object')"
            ]
          },
          "metadata": {},
          "execution_count": 57
        }
      ],
      "source": [
        "paises3.index"
      ]
    },
    {
      "cell_type": "code",
      "source": [
        "paises3"
      ],
      "metadata": {
        "colab": {
          "base_uri": "https://localhost:8080/",
          "height": 269
        },
        "id": "Xmn6OP4tmduf",
        "outputId": "7c5baf77-6a64-4016-d405-cbbad6157f56"
      },
      "id": "Xmn6OP4tmduf",
      "execution_count": 58,
      "outputs": [
        {
          "output_type": "execute_result",
          "data": {
            "text/plain": [
              "                     capital  poblacion  sup. en km2\n",
              "Argentina       Buenos Aires   45380000      2780000\n",
              "Brasil              Brasilia  212600000      8516000\n",
              "Chile      Santiago de Chile   19120000       756950\n",
              "Colombia              Bogotá   50880000      1143000\n",
              "Ecuador                Quito   17640000       283560\n",
              "Paraguay            Asunción    7133000       406752\n",
              "Peru                    Lima   32970000      1285216"
            ],
            "text/html": [
              "\n",
              "  <div id=\"df-ccdcfaa9-6ead-4613-bfe1-a1f001f83be9\">\n",
              "    <div class=\"colab-df-container\">\n",
              "      <div>\n",
              "<style scoped>\n",
              "    .dataframe tbody tr th:only-of-type {\n",
              "        vertical-align: middle;\n",
              "    }\n",
              "\n",
              "    .dataframe tbody tr th {\n",
              "        vertical-align: top;\n",
              "    }\n",
              "\n",
              "    .dataframe thead th {\n",
              "        text-align: right;\n",
              "    }\n",
              "</style>\n",
              "<table border=\"1\" class=\"dataframe\">\n",
              "  <thead>\n",
              "    <tr style=\"text-align: right;\">\n",
              "      <th></th>\n",
              "      <th>capital</th>\n",
              "      <th>poblacion</th>\n",
              "      <th>sup. en km2</th>\n",
              "    </tr>\n",
              "  </thead>\n",
              "  <tbody>\n",
              "    <tr>\n",
              "      <th>Argentina</th>\n",
              "      <td>Buenos Aires</td>\n",
              "      <td>45380000</td>\n",
              "      <td>2780000</td>\n",
              "    </tr>\n",
              "    <tr>\n",
              "      <th>Brasil</th>\n",
              "      <td>Brasilia</td>\n",
              "      <td>212600000</td>\n",
              "      <td>8516000</td>\n",
              "    </tr>\n",
              "    <tr>\n",
              "      <th>Chile</th>\n",
              "      <td>Santiago de Chile</td>\n",
              "      <td>19120000</td>\n",
              "      <td>756950</td>\n",
              "    </tr>\n",
              "    <tr>\n",
              "      <th>Colombia</th>\n",
              "      <td>Bogotá</td>\n",
              "      <td>50880000</td>\n",
              "      <td>1143000</td>\n",
              "    </tr>\n",
              "    <tr>\n",
              "      <th>Ecuador</th>\n",
              "      <td>Quito</td>\n",
              "      <td>17640000</td>\n",
              "      <td>283560</td>\n",
              "    </tr>\n",
              "    <tr>\n",
              "      <th>Paraguay</th>\n",
              "      <td>Asunción</td>\n",
              "      <td>7133000</td>\n",
              "      <td>406752</td>\n",
              "    </tr>\n",
              "    <tr>\n",
              "      <th>Peru</th>\n",
              "      <td>Lima</td>\n",
              "      <td>32970000</td>\n",
              "      <td>1285216</td>\n",
              "    </tr>\n",
              "  </tbody>\n",
              "</table>\n",
              "</div>\n",
              "      <button class=\"colab-df-convert\" onclick=\"convertToInteractive('df-ccdcfaa9-6ead-4613-bfe1-a1f001f83be9')\"\n",
              "              title=\"Convert this dataframe to an interactive table.\"\n",
              "              style=\"display:none;\">\n",
              "        \n",
              "  <svg xmlns=\"http://www.w3.org/2000/svg\" height=\"24px\"viewBox=\"0 0 24 24\"\n",
              "       width=\"24px\">\n",
              "    <path d=\"M0 0h24v24H0V0z\" fill=\"none\"/>\n",
              "    <path d=\"M18.56 5.44l.94 2.06.94-2.06 2.06-.94-2.06-.94-.94-2.06-.94 2.06-2.06.94zm-11 1L8.5 8.5l.94-2.06 2.06-.94-2.06-.94L8.5 2.5l-.94 2.06-2.06.94zm10 10l.94 2.06.94-2.06 2.06-.94-2.06-.94-.94-2.06-.94 2.06-2.06.94z\"/><path d=\"M17.41 7.96l-1.37-1.37c-.4-.4-.92-.59-1.43-.59-.52 0-1.04.2-1.43.59L10.3 9.45l-7.72 7.72c-.78.78-.78 2.05 0 2.83L4 21.41c.39.39.9.59 1.41.59.51 0 1.02-.2 1.41-.59l7.78-7.78 2.81-2.81c.8-.78.8-2.07 0-2.86zM5.41 20L4 18.59l7.72-7.72 1.47 1.35L5.41 20z\"/>\n",
              "  </svg>\n",
              "      </button>\n",
              "      \n",
              "  <style>\n",
              "    .colab-df-container {\n",
              "      display:flex;\n",
              "      flex-wrap:wrap;\n",
              "      gap: 12px;\n",
              "    }\n",
              "\n",
              "    .colab-df-convert {\n",
              "      background-color: #E8F0FE;\n",
              "      border: none;\n",
              "      border-radius: 50%;\n",
              "      cursor: pointer;\n",
              "      display: none;\n",
              "      fill: #1967D2;\n",
              "      height: 32px;\n",
              "      padding: 0 0 0 0;\n",
              "      width: 32px;\n",
              "    }\n",
              "\n",
              "    .colab-df-convert:hover {\n",
              "      background-color: #E2EBFA;\n",
              "      box-shadow: 0px 1px 2px rgba(60, 64, 67, 0.3), 0px 1px 3px 1px rgba(60, 64, 67, 0.15);\n",
              "      fill: #174EA6;\n",
              "    }\n",
              "\n",
              "    [theme=dark] .colab-df-convert {\n",
              "      background-color: #3B4455;\n",
              "      fill: #D2E3FC;\n",
              "    }\n",
              "\n",
              "    [theme=dark] .colab-df-convert:hover {\n",
              "      background-color: #434B5C;\n",
              "      box-shadow: 0px 1px 3px 1px rgba(0, 0, 0, 0.15);\n",
              "      filter: drop-shadow(0px 1px 2px rgba(0, 0, 0, 0.3));\n",
              "      fill: #FFFFFF;\n",
              "    }\n",
              "  </style>\n",
              "\n",
              "      <script>\n",
              "        const buttonEl =\n",
              "          document.querySelector('#df-ccdcfaa9-6ead-4613-bfe1-a1f001f83be9 button.colab-df-convert');\n",
              "        buttonEl.style.display =\n",
              "          google.colab.kernel.accessAllowed ? 'block' : 'none';\n",
              "\n",
              "        async function convertToInteractive(key) {\n",
              "          const element = document.querySelector('#df-ccdcfaa9-6ead-4613-bfe1-a1f001f83be9');\n",
              "          const dataTable =\n",
              "            await google.colab.kernel.invokeFunction('convertToInteractive',\n",
              "                                                     [key], {});\n",
              "          if (!dataTable) return;\n",
              "\n",
              "          const docLinkHtml = 'Like what you see? Visit the ' +\n",
              "            '<a target=\"_blank\" href=https://colab.research.google.com/notebooks/data_table.ipynb>data table notebook</a>'\n",
              "            + ' to learn more about interactive tables.';\n",
              "          element.innerHTML = '';\n",
              "          dataTable['output_type'] = 'display_data';\n",
              "          await google.colab.output.renderOutput(dataTable, element);\n",
              "          const docLink = document.createElement('div');\n",
              "          docLink.innerHTML = docLinkHtml;\n",
              "          element.appendChild(docLink);\n",
              "        }\n",
              "      </script>\n",
              "    </div>\n",
              "  </div>\n",
              "  "
            ]
          },
          "metadata": {},
          "execution_count": 58
        }
      ]
    },
    {
      "cell_type": "markdown",
      "id": "17cd0d32-5e37-4291-a45f-8ec4b0464acb",
      "metadata": {
        "id": "17cd0d32-5e37-4291-a45f-8ec4b0464acb"
      },
      "source": [
        "__Ejercicio 21:__ "
      ]
    },
    {
      "cell_type": "markdown",
      "id": "a69b2d75-e122-4658-812d-7d68c75cdb97",
      "metadata": {
        "id": "a69b2d75-e122-4658-812d-7d68c75cdb97"
      },
      "source": [
        "Obtener la columna \"poblacion\" con al notacion del punto"
      ]
    },
    {
      "cell_type": "code",
      "execution_count": 59,
      "id": "da16d49e-92a9-4c48-84c3-d934ce7affa5",
      "metadata": {
        "id": "da16d49e-92a9-4c48-84c3-d934ce7affa5",
        "colab": {
          "base_uri": "https://localhost:8080/"
        },
        "outputId": "a67dd39c-cccc-4dda-a745-1129cc5391b7"
      },
      "outputs": [
        {
          "output_type": "execute_result",
          "data": {
            "text/plain": [
              "Argentina     45380000\n",
              "Brasil       212600000\n",
              "Chile         19120000\n",
              "Colombia      50880000\n",
              "Ecuador       17640000\n",
              "Paraguay       7133000\n",
              "Peru          32970000\n",
              "Name: poblacion, dtype: int64"
            ]
          },
          "metadata": {},
          "execution_count": 59
        }
      ],
      "source": [
        "paises3.poblacion"
      ]
    },
    {
      "cell_type": "markdown",
      "id": "e03f320a-1bd8-4456-ad1e-fbac5d066404",
      "metadata": {
        "id": "e03f320a-1bd8-4456-ad1e-fbac5d066404"
      },
      "source": [
        "Obtener los valores de la columna \"poblacion\""
      ]
    },
    {
      "cell_type": "code",
      "execution_count": 60,
      "id": "d8891d82-de51-4d72-8e74-5a1499f2a9a3",
      "metadata": {
        "id": "d8891d82-de51-4d72-8e74-5a1499f2a9a3",
        "colab": {
          "base_uri": "https://localhost:8080/"
        },
        "outputId": "366911f5-0b51-4db8-ba02-60adb3b60086"
      },
      "outputs": [
        {
          "output_type": "execute_result",
          "data": {
            "text/plain": [
              "array([ 45380000, 212600000,  19120000,  50880000,  17640000,   7133000,\n",
              "        32970000])"
            ]
          },
          "metadata": {},
          "execution_count": 60
        }
      ],
      "source": [
        "paises3.poblacion.values"
      ]
    },
    {
      "cell_type": "markdown",
      "id": "e42cdb7c-122d-4f22-9327-c3c1b4796fa1",
      "metadata": {
        "id": "e42cdb7c-122d-4f22-9327-c3c1b4796fa1"
      },
      "source": [
        "Obtener el nombre de la columna \"poblacion\""
      ]
    },
    {
      "cell_type": "code",
      "execution_count": 61,
      "id": "9b575f4e-0d86-42ee-b166-3402e8730634",
      "metadata": {
        "id": "9b575f4e-0d86-42ee-b166-3402e8730634",
        "colab": {
          "base_uri": "https://localhost:8080/",
          "height": 36
        },
        "outputId": "33cbd357-53c1-4dc8-808a-c59dbacc0bfc"
      },
      "outputs": [
        {
          "output_type": "execute_result",
          "data": {
            "text/plain": [
              "'poblacion'"
            ],
            "application/vnd.google.colaboratory.intrinsic+json": {
              "type": "string"
            }
          },
          "metadata": {},
          "execution_count": 61
        }
      ],
      "source": [
        "paises3.poblacion.name"
      ]
    },
    {
      "cell_type": "markdown",
      "id": "e174a791-2e62-4d31-b5e1-735400fd297e",
      "metadata": {
        "id": "e174a791-2e62-4d31-b5e1-735400fd297e"
      },
      "source": [
        "__Ejercicio 22:__ "
      ]
    },
    {
      "cell_type": "markdown",
      "id": "59c041fb-5625-48d0-acc7-dced3b4444ea",
      "metadata": {
        "id": "59c041fb-5625-48d0-acc7-dced3b4444ea"
      },
      "source": [
        "Obtener el valor mínimo de la columna población"
      ]
    },
    {
      "cell_type": "code",
      "execution_count": 62,
      "id": "7edf064a-420a-4e42-b81c-b81c52eb7c4d",
      "metadata": {
        "id": "7edf064a-420a-4e42-b81c-b81c52eb7c4d",
        "colab": {
          "base_uri": "https://localhost:8080/"
        },
        "outputId": "36b440e6-1d94-4c7e-d3cc-c710cac60dd6"
      },
      "outputs": [
        {
          "output_type": "execute_result",
          "data": {
            "text/plain": [
              "7133000"
            ]
          },
          "metadata": {},
          "execution_count": 62
        }
      ],
      "source": [
        "paises3.poblacion.min()"
      ]
    },
    {
      "cell_type": "code",
      "execution_count": 63,
      "id": "aab4bed1-4582-4c1d-8372-33a25f14ef67",
      "metadata": {
        "id": "aab4bed1-4582-4c1d-8372-33a25f14ef67",
        "colab": {
          "base_uri": "https://localhost:8080/",
          "height": 269
        },
        "outputId": "58b869d5-7e31-4f43-c3b6-d5c31be29ae3"
      },
      "outputs": [
        {
          "output_type": "execute_result",
          "data": {
            "text/plain": [
              "                     capital  poblacion  sup. en km2\n",
              "Argentina       Buenos Aires   45380000      2780000\n",
              "Brasil              Brasilia  212600000      8516000\n",
              "Chile      Santiago de Chile   19120000       756950\n",
              "Colombia              Bogotá   50880000      1143000\n",
              "Ecuador                Quito   17640000       283560\n",
              "Paraguay            Asunción    7133000       406752\n",
              "Peru                    Lima   32970000      1285216"
            ],
            "text/html": [
              "\n",
              "  <div id=\"df-0d3e72c6-d261-4aa2-aa92-b25e701624d1\">\n",
              "    <div class=\"colab-df-container\">\n",
              "      <div>\n",
              "<style scoped>\n",
              "    .dataframe tbody tr th:only-of-type {\n",
              "        vertical-align: middle;\n",
              "    }\n",
              "\n",
              "    .dataframe tbody tr th {\n",
              "        vertical-align: top;\n",
              "    }\n",
              "\n",
              "    .dataframe thead th {\n",
              "        text-align: right;\n",
              "    }\n",
              "</style>\n",
              "<table border=\"1\" class=\"dataframe\">\n",
              "  <thead>\n",
              "    <tr style=\"text-align: right;\">\n",
              "      <th></th>\n",
              "      <th>capital</th>\n",
              "      <th>poblacion</th>\n",
              "      <th>sup. en km2</th>\n",
              "    </tr>\n",
              "  </thead>\n",
              "  <tbody>\n",
              "    <tr>\n",
              "      <th>Argentina</th>\n",
              "      <td>Buenos Aires</td>\n",
              "      <td>45380000</td>\n",
              "      <td>2780000</td>\n",
              "    </tr>\n",
              "    <tr>\n",
              "      <th>Brasil</th>\n",
              "      <td>Brasilia</td>\n",
              "      <td>212600000</td>\n",
              "      <td>8516000</td>\n",
              "    </tr>\n",
              "    <tr>\n",
              "      <th>Chile</th>\n",
              "      <td>Santiago de Chile</td>\n",
              "      <td>19120000</td>\n",
              "      <td>756950</td>\n",
              "    </tr>\n",
              "    <tr>\n",
              "      <th>Colombia</th>\n",
              "      <td>Bogotá</td>\n",
              "      <td>50880000</td>\n",
              "      <td>1143000</td>\n",
              "    </tr>\n",
              "    <tr>\n",
              "      <th>Ecuador</th>\n",
              "      <td>Quito</td>\n",
              "      <td>17640000</td>\n",
              "      <td>283560</td>\n",
              "    </tr>\n",
              "    <tr>\n",
              "      <th>Paraguay</th>\n",
              "      <td>Asunción</td>\n",
              "      <td>7133000</td>\n",
              "      <td>406752</td>\n",
              "    </tr>\n",
              "    <tr>\n",
              "      <th>Peru</th>\n",
              "      <td>Lima</td>\n",
              "      <td>32970000</td>\n",
              "      <td>1285216</td>\n",
              "    </tr>\n",
              "  </tbody>\n",
              "</table>\n",
              "</div>\n",
              "      <button class=\"colab-df-convert\" onclick=\"convertToInteractive('df-0d3e72c6-d261-4aa2-aa92-b25e701624d1')\"\n",
              "              title=\"Convert this dataframe to an interactive table.\"\n",
              "              style=\"display:none;\">\n",
              "        \n",
              "  <svg xmlns=\"http://www.w3.org/2000/svg\" height=\"24px\"viewBox=\"0 0 24 24\"\n",
              "       width=\"24px\">\n",
              "    <path d=\"M0 0h24v24H0V0z\" fill=\"none\"/>\n",
              "    <path d=\"M18.56 5.44l.94 2.06.94-2.06 2.06-.94-2.06-.94-.94-2.06-.94 2.06-2.06.94zm-11 1L8.5 8.5l.94-2.06 2.06-.94-2.06-.94L8.5 2.5l-.94 2.06-2.06.94zm10 10l.94 2.06.94-2.06 2.06-.94-2.06-.94-.94-2.06-.94 2.06-2.06.94z\"/><path d=\"M17.41 7.96l-1.37-1.37c-.4-.4-.92-.59-1.43-.59-.52 0-1.04.2-1.43.59L10.3 9.45l-7.72 7.72c-.78.78-.78 2.05 0 2.83L4 21.41c.39.39.9.59 1.41.59.51 0 1.02-.2 1.41-.59l7.78-7.78 2.81-2.81c.8-.78.8-2.07 0-2.86zM5.41 20L4 18.59l7.72-7.72 1.47 1.35L5.41 20z\"/>\n",
              "  </svg>\n",
              "      </button>\n",
              "      \n",
              "  <style>\n",
              "    .colab-df-container {\n",
              "      display:flex;\n",
              "      flex-wrap:wrap;\n",
              "      gap: 12px;\n",
              "    }\n",
              "\n",
              "    .colab-df-convert {\n",
              "      background-color: #E8F0FE;\n",
              "      border: none;\n",
              "      border-radius: 50%;\n",
              "      cursor: pointer;\n",
              "      display: none;\n",
              "      fill: #1967D2;\n",
              "      height: 32px;\n",
              "      padding: 0 0 0 0;\n",
              "      width: 32px;\n",
              "    }\n",
              "\n",
              "    .colab-df-convert:hover {\n",
              "      background-color: #E2EBFA;\n",
              "      box-shadow: 0px 1px 2px rgba(60, 64, 67, 0.3), 0px 1px 3px 1px rgba(60, 64, 67, 0.15);\n",
              "      fill: #174EA6;\n",
              "    }\n",
              "\n",
              "    [theme=dark] .colab-df-convert {\n",
              "      background-color: #3B4455;\n",
              "      fill: #D2E3FC;\n",
              "    }\n",
              "\n",
              "    [theme=dark] .colab-df-convert:hover {\n",
              "      background-color: #434B5C;\n",
              "      box-shadow: 0px 1px 3px 1px rgba(0, 0, 0, 0.15);\n",
              "      filter: drop-shadow(0px 1px 2px rgba(0, 0, 0, 0.3));\n",
              "      fill: #FFFFFF;\n",
              "    }\n",
              "  </style>\n",
              "\n",
              "      <script>\n",
              "        const buttonEl =\n",
              "          document.querySelector('#df-0d3e72c6-d261-4aa2-aa92-b25e701624d1 button.colab-df-convert');\n",
              "        buttonEl.style.display =\n",
              "          google.colab.kernel.accessAllowed ? 'block' : 'none';\n",
              "\n",
              "        async function convertToInteractive(key) {\n",
              "          const element = document.querySelector('#df-0d3e72c6-d261-4aa2-aa92-b25e701624d1');\n",
              "          const dataTable =\n",
              "            await google.colab.kernel.invokeFunction('convertToInteractive',\n",
              "                                                     [key], {});\n",
              "          if (!dataTable) return;\n",
              "\n",
              "          const docLinkHtml = 'Like what you see? Visit the ' +\n",
              "            '<a target=\"_blank\" href=https://colab.research.google.com/notebooks/data_table.ipynb>data table notebook</a>'\n",
              "            + ' to learn more about interactive tables.';\n",
              "          element.innerHTML = '';\n",
              "          dataTable['output_type'] = 'display_data';\n",
              "          await google.colab.output.renderOutput(dataTable, element);\n",
              "          const docLink = document.createElement('div');\n",
              "          docLink.innerHTML = docLinkHtml;\n",
              "          element.appendChild(docLink);\n",
              "        }\n",
              "      </script>\n",
              "    </div>\n",
              "  </div>\n",
              "  "
            ]
          },
          "metadata": {},
          "execution_count": 63
        }
      ],
      "source": [
        "paises3"
      ]
    },
    {
      "cell_type": "markdown",
      "id": "ee0d266f-8c51-4863-89a0-b3b80cf4a80a",
      "metadata": {
        "id": "ee0d266f-8c51-4863-89a0-b3b80cf4a80a"
      },
      "source": [
        "Obtener el valor máximo de la columna población"
      ]
    },
    {
      "cell_type": "code",
      "execution_count": 64,
      "id": "b57ae067-d502-4adf-83a2-3cc951742fba",
      "metadata": {
        "id": "b57ae067-d502-4adf-83a2-3cc951742fba",
        "colab": {
          "base_uri": "https://localhost:8080/"
        },
        "outputId": "1e01c596-35eb-4647-8e8e-1ae283366f64"
      },
      "outputs": [
        {
          "output_type": "execute_result",
          "data": {
            "text/plain": [
              "212600000"
            ]
          },
          "metadata": {},
          "execution_count": 64
        }
      ],
      "source": [
        "paises3.poblacion.max()"
      ]
    },
    {
      "cell_type": "markdown",
      "id": "d1fc87ab-69a5-40cd-bdf0-d494da7cbdc6",
      "metadata": {
        "id": "d1fc87ab-69a5-40cd-bdf0-d494da7cbdc6"
      },
      "source": [
        "Obtener la desviación estandar de la columna población"
      ]
    },
    {
      "cell_type": "code",
      "execution_count": 65,
      "id": "277be38e-5504-471e-885a-53efcdd7f9cf",
      "metadata": {
        "id": "277be38e-5504-471e-885a-53efcdd7f9cf",
        "colab": {
          "base_uri": "https://localhost:8080/"
        },
        "outputId": "0675bbaf-8da6-4146-f655-269bab320dcc"
      },
      "outputs": [
        {
          "output_type": "execute_result",
          "data": {
            "text/plain": [
              "71188621.18043464"
            ]
          },
          "metadata": {},
          "execution_count": 65
        }
      ],
      "source": [
        "paises3.poblacion.std()"
      ]
    },
    {
      "cell_type": "markdown",
      "id": "fc5aba6c-ac78-4cf8-890d-584fb821794d",
      "metadata": {
        "id": "fc5aba6c-ac78-4cf8-890d-584fb821794d"
      },
      "source": [
        "__Ejercicio 23:__ Obtener un DataFrame con las columnas población y capital "
      ]
    },
    {
      "cell_type": "code",
      "execution_count": 66,
      "id": "de361afe-fceb-4937-a038-e98ba15858ad",
      "metadata": {
        "id": "de361afe-fceb-4937-a038-e98ba15858ad",
        "colab": {
          "base_uri": "https://localhost:8080/",
          "height": 269
        },
        "outputId": "64d323b0-b5a9-4ed5-a9a3-14b228a6a512"
      },
      "outputs": [
        {
          "output_type": "execute_result",
          "data": {
            "text/plain": [
              "                     capital  poblacion\n",
              "Argentina       Buenos Airea   45380000\n",
              "Brasil              Brasilia  212600000\n",
              "Chile      Santiago de Chile   19120000\n",
              "Colombia              Bogotá   50880000\n",
              "Ecuador                Quito   17640000\n",
              "Paraguay            Asunción    7133000\n",
              "Peru                    Lima   32970000"
            ],
            "text/html": [
              "\n",
              "  <div id=\"df-8a0aa6b9-4dab-4f40-b66c-8ba0e9ab998c\">\n",
              "    <div class=\"colab-df-container\">\n",
              "      <div>\n",
              "<style scoped>\n",
              "    .dataframe tbody tr th:only-of-type {\n",
              "        vertical-align: middle;\n",
              "    }\n",
              "\n",
              "    .dataframe tbody tr th {\n",
              "        vertical-align: top;\n",
              "    }\n",
              "\n",
              "    .dataframe thead th {\n",
              "        text-align: right;\n",
              "    }\n",
              "</style>\n",
              "<table border=\"1\" class=\"dataframe\">\n",
              "  <thead>\n",
              "    <tr style=\"text-align: right;\">\n",
              "      <th></th>\n",
              "      <th>capital</th>\n",
              "      <th>poblacion</th>\n",
              "    </tr>\n",
              "  </thead>\n",
              "  <tbody>\n",
              "    <tr>\n",
              "      <th>Argentina</th>\n",
              "      <td>Buenos Airea</td>\n",
              "      <td>45380000</td>\n",
              "    </tr>\n",
              "    <tr>\n",
              "      <th>Brasil</th>\n",
              "      <td>Brasilia</td>\n",
              "      <td>212600000</td>\n",
              "    </tr>\n",
              "    <tr>\n",
              "      <th>Chile</th>\n",
              "      <td>Santiago de Chile</td>\n",
              "      <td>19120000</td>\n",
              "    </tr>\n",
              "    <tr>\n",
              "      <th>Colombia</th>\n",
              "      <td>Bogotá</td>\n",
              "      <td>50880000</td>\n",
              "    </tr>\n",
              "    <tr>\n",
              "      <th>Ecuador</th>\n",
              "      <td>Quito</td>\n",
              "      <td>17640000</td>\n",
              "    </tr>\n",
              "    <tr>\n",
              "      <th>Paraguay</th>\n",
              "      <td>Asunción</td>\n",
              "      <td>7133000</td>\n",
              "    </tr>\n",
              "    <tr>\n",
              "      <th>Peru</th>\n",
              "      <td>Lima</td>\n",
              "      <td>32970000</td>\n",
              "    </tr>\n",
              "  </tbody>\n",
              "</table>\n",
              "</div>\n",
              "      <button class=\"colab-df-convert\" onclick=\"convertToInteractive('df-8a0aa6b9-4dab-4f40-b66c-8ba0e9ab998c')\"\n",
              "              title=\"Convert this dataframe to an interactive table.\"\n",
              "              style=\"display:none;\">\n",
              "        \n",
              "  <svg xmlns=\"http://www.w3.org/2000/svg\" height=\"24px\"viewBox=\"0 0 24 24\"\n",
              "       width=\"24px\">\n",
              "    <path d=\"M0 0h24v24H0V0z\" fill=\"none\"/>\n",
              "    <path d=\"M18.56 5.44l.94 2.06.94-2.06 2.06-.94-2.06-.94-.94-2.06-.94 2.06-2.06.94zm-11 1L8.5 8.5l.94-2.06 2.06-.94-2.06-.94L8.5 2.5l-.94 2.06-2.06.94zm10 10l.94 2.06.94-2.06 2.06-.94-2.06-.94-.94-2.06-.94 2.06-2.06.94z\"/><path d=\"M17.41 7.96l-1.37-1.37c-.4-.4-.92-.59-1.43-.59-.52 0-1.04.2-1.43.59L10.3 9.45l-7.72 7.72c-.78.78-.78 2.05 0 2.83L4 21.41c.39.39.9.59 1.41.59.51 0 1.02-.2 1.41-.59l7.78-7.78 2.81-2.81c.8-.78.8-2.07 0-2.86zM5.41 20L4 18.59l7.72-7.72 1.47 1.35L5.41 20z\"/>\n",
              "  </svg>\n",
              "      </button>\n",
              "      \n",
              "  <style>\n",
              "    .colab-df-container {\n",
              "      display:flex;\n",
              "      flex-wrap:wrap;\n",
              "      gap: 12px;\n",
              "    }\n",
              "\n",
              "    .colab-df-convert {\n",
              "      background-color: #E8F0FE;\n",
              "      border: none;\n",
              "      border-radius: 50%;\n",
              "      cursor: pointer;\n",
              "      display: none;\n",
              "      fill: #1967D2;\n",
              "      height: 32px;\n",
              "      padding: 0 0 0 0;\n",
              "      width: 32px;\n",
              "    }\n",
              "\n",
              "    .colab-df-convert:hover {\n",
              "      background-color: #E2EBFA;\n",
              "      box-shadow: 0px 1px 2px rgba(60, 64, 67, 0.3), 0px 1px 3px 1px rgba(60, 64, 67, 0.15);\n",
              "      fill: #174EA6;\n",
              "    }\n",
              "\n",
              "    [theme=dark] .colab-df-convert {\n",
              "      background-color: #3B4455;\n",
              "      fill: #D2E3FC;\n",
              "    }\n",
              "\n",
              "    [theme=dark] .colab-df-convert:hover {\n",
              "      background-color: #434B5C;\n",
              "      box-shadow: 0px 1px 3px 1px rgba(0, 0, 0, 0.15);\n",
              "      filter: drop-shadow(0px 1px 2px rgba(0, 0, 0, 0.3));\n",
              "      fill: #FFFFFF;\n",
              "    }\n",
              "  </style>\n",
              "\n",
              "      <script>\n",
              "        const buttonEl =\n",
              "          document.querySelector('#df-8a0aa6b9-4dab-4f40-b66c-8ba0e9ab998c button.colab-df-convert');\n",
              "        buttonEl.style.display =\n",
              "          google.colab.kernel.accessAllowed ? 'block' : 'none';\n",
              "\n",
              "        async function convertToInteractive(key) {\n",
              "          const element = document.querySelector('#df-8a0aa6b9-4dab-4f40-b66c-8ba0e9ab998c');\n",
              "          const dataTable =\n",
              "            await google.colab.kernel.invokeFunction('convertToInteractive',\n",
              "                                                     [key], {});\n",
              "          if (!dataTable) return;\n",
              "\n",
              "          const docLinkHtml = 'Like what you see? Visit the ' +\n",
              "            '<a target=\"_blank\" href=https://colab.research.google.com/notebooks/data_table.ipynb>data table notebook</a>'\n",
              "            + ' to learn more about interactive tables.';\n",
              "          element.innerHTML = '';\n",
              "          dataTable['output_type'] = 'display_data';\n",
              "          await google.colab.output.renderOutput(dataTable, element);\n",
              "          const docLink = document.createElement('div');\n",
              "          docLink.innerHTML = docLinkHtml;\n",
              "          element.appendChild(docLink);\n",
              "        }\n",
              "      </script>\n",
              "    </div>\n",
              "  </div>\n",
              "  "
            ]
          },
          "metadata": {},
          "execution_count": 66
        }
      ],
      "source": [
        "paises4 = pd.DataFrame(datos, columns=[\"capital\", \"poblacion\"], index=datos[\"nombre\"])\n",
        "paises4"
      ]
    },
    {
      "cell_type": "code",
      "source": [
        "paises3[[\"capital\", \"poblacion\"]]"
      ],
      "metadata": {
        "colab": {
          "base_uri": "https://localhost:8080/",
          "height": 269
        },
        "id": "rtGko5SipH2z",
        "outputId": "a0955dcd-7c7e-4ab0-d5a0-9c1444aafb40"
      },
      "id": "rtGko5SipH2z",
      "execution_count": 67,
      "outputs": [
        {
          "output_type": "execute_result",
          "data": {
            "text/plain": [
              "                     capital  poblacion\n",
              "Argentina       Buenos Aires   45380000\n",
              "Brasil              Brasilia  212600000\n",
              "Chile      Santiago de Chile   19120000\n",
              "Colombia              Bogotá   50880000\n",
              "Ecuador                Quito   17640000\n",
              "Paraguay            Asunción    7133000\n",
              "Peru                    Lima   32970000"
            ],
            "text/html": [
              "\n",
              "  <div id=\"df-528b9d52-7915-4234-a1a8-19f5d875c627\">\n",
              "    <div class=\"colab-df-container\">\n",
              "      <div>\n",
              "<style scoped>\n",
              "    .dataframe tbody tr th:only-of-type {\n",
              "        vertical-align: middle;\n",
              "    }\n",
              "\n",
              "    .dataframe tbody tr th {\n",
              "        vertical-align: top;\n",
              "    }\n",
              "\n",
              "    .dataframe thead th {\n",
              "        text-align: right;\n",
              "    }\n",
              "</style>\n",
              "<table border=\"1\" class=\"dataframe\">\n",
              "  <thead>\n",
              "    <tr style=\"text-align: right;\">\n",
              "      <th></th>\n",
              "      <th>capital</th>\n",
              "      <th>poblacion</th>\n",
              "    </tr>\n",
              "  </thead>\n",
              "  <tbody>\n",
              "    <tr>\n",
              "      <th>Argentina</th>\n",
              "      <td>Buenos Aires</td>\n",
              "      <td>45380000</td>\n",
              "    </tr>\n",
              "    <tr>\n",
              "      <th>Brasil</th>\n",
              "      <td>Brasilia</td>\n",
              "      <td>212600000</td>\n",
              "    </tr>\n",
              "    <tr>\n",
              "      <th>Chile</th>\n",
              "      <td>Santiago de Chile</td>\n",
              "      <td>19120000</td>\n",
              "    </tr>\n",
              "    <tr>\n",
              "      <th>Colombia</th>\n",
              "      <td>Bogotá</td>\n",
              "      <td>50880000</td>\n",
              "    </tr>\n",
              "    <tr>\n",
              "      <th>Ecuador</th>\n",
              "      <td>Quito</td>\n",
              "      <td>17640000</td>\n",
              "    </tr>\n",
              "    <tr>\n",
              "      <th>Paraguay</th>\n",
              "      <td>Asunción</td>\n",
              "      <td>7133000</td>\n",
              "    </tr>\n",
              "    <tr>\n",
              "      <th>Peru</th>\n",
              "      <td>Lima</td>\n",
              "      <td>32970000</td>\n",
              "    </tr>\n",
              "  </tbody>\n",
              "</table>\n",
              "</div>\n",
              "      <button class=\"colab-df-convert\" onclick=\"convertToInteractive('df-528b9d52-7915-4234-a1a8-19f5d875c627')\"\n",
              "              title=\"Convert this dataframe to an interactive table.\"\n",
              "              style=\"display:none;\">\n",
              "        \n",
              "  <svg xmlns=\"http://www.w3.org/2000/svg\" height=\"24px\"viewBox=\"0 0 24 24\"\n",
              "       width=\"24px\">\n",
              "    <path d=\"M0 0h24v24H0V0z\" fill=\"none\"/>\n",
              "    <path d=\"M18.56 5.44l.94 2.06.94-2.06 2.06-.94-2.06-.94-.94-2.06-.94 2.06-2.06.94zm-11 1L8.5 8.5l.94-2.06 2.06-.94-2.06-.94L8.5 2.5l-.94 2.06-2.06.94zm10 10l.94 2.06.94-2.06 2.06-.94-2.06-.94-.94-2.06-.94 2.06-2.06.94z\"/><path d=\"M17.41 7.96l-1.37-1.37c-.4-.4-.92-.59-1.43-.59-.52 0-1.04.2-1.43.59L10.3 9.45l-7.72 7.72c-.78.78-.78 2.05 0 2.83L4 21.41c.39.39.9.59 1.41.59.51 0 1.02-.2 1.41-.59l7.78-7.78 2.81-2.81c.8-.78.8-2.07 0-2.86zM5.41 20L4 18.59l7.72-7.72 1.47 1.35L5.41 20z\"/>\n",
              "  </svg>\n",
              "      </button>\n",
              "      \n",
              "  <style>\n",
              "    .colab-df-container {\n",
              "      display:flex;\n",
              "      flex-wrap:wrap;\n",
              "      gap: 12px;\n",
              "    }\n",
              "\n",
              "    .colab-df-convert {\n",
              "      background-color: #E8F0FE;\n",
              "      border: none;\n",
              "      border-radius: 50%;\n",
              "      cursor: pointer;\n",
              "      display: none;\n",
              "      fill: #1967D2;\n",
              "      height: 32px;\n",
              "      padding: 0 0 0 0;\n",
              "      width: 32px;\n",
              "    }\n",
              "\n",
              "    .colab-df-convert:hover {\n",
              "      background-color: #E2EBFA;\n",
              "      box-shadow: 0px 1px 2px rgba(60, 64, 67, 0.3), 0px 1px 3px 1px rgba(60, 64, 67, 0.15);\n",
              "      fill: #174EA6;\n",
              "    }\n",
              "\n",
              "    [theme=dark] .colab-df-convert {\n",
              "      background-color: #3B4455;\n",
              "      fill: #D2E3FC;\n",
              "    }\n",
              "\n",
              "    [theme=dark] .colab-df-convert:hover {\n",
              "      background-color: #434B5C;\n",
              "      box-shadow: 0px 1px 3px 1px rgba(0, 0, 0, 0.15);\n",
              "      filter: drop-shadow(0px 1px 2px rgba(0, 0, 0, 0.3));\n",
              "      fill: #FFFFFF;\n",
              "    }\n",
              "  </style>\n",
              "\n",
              "      <script>\n",
              "        const buttonEl =\n",
              "          document.querySelector('#df-528b9d52-7915-4234-a1a8-19f5d875c627 button.colab-df-convert');\n",
              "        buttonEl.style.display =\n",
              "          google.colab.kernel.accessAllowed ? 'block' : 'none';\n",
              "\n",
              "        async function convertToInteractive(key) {\n",
              "          const element = document.querySelector('#df-528b9d52-7915-4234-a1a8-19f5d875c627');\n",
              "          const dataTable =\n",
              "            await google.colab.kernel.invokeFunction('convertToInteractive',\n",
              "                                                     [key], {});\n",
              "          if (!dataTable) return;\n",
              "\n",
              "          const docLinkHtml = 'Like what you see? Visit the ' +\n",
              "            '<a target=\"_blank\" href=https://colab.research.google.com/notebooks/data_table.ipynb>data table notebook</a>'\n",
              "            + ' to learn more about interactive tables.';\n",
              "          element.innerHTML = '';\n",
              "          dataTable['output_type'] = 'display_data';\n",
              "          await google.colab.output.renderOutput(dataTable, element);\n",
              "          const docLink = document.createElement('div');\n",
              "          docLink.innerHTML = docLinkHtml;\n",
              "          element.appendChild(docLink);\n",
              "        }\n",
              "      </script>\n",
              "    </div>\n",
              "  </div>\n",
              "  "
            ]
          },
          "metadata": {},
          "execution_count": 67
        }
      ]
    },
    {
      "cell_type": "markdown",
      "id": "d0e78aa2-8b82-48a2-84bc-b24ed2c0fe3f",
      "metadata": {
        "id": "d0e78aa2-8b82-48a2-84bc-b24ed2c0fe3f"
      },
      "source": [
        "__Ejercicio 24:__ Obtener únicamente los datos de los paises con una población mayor a 50,000,000"
      ]
    },
    {
      "cell_type": "code",
      "execution_count": 68,
      "id": "14d30d7d-fac4-4677-a15c-dd0fd92007db",
      "metadata": {
        "id": "14d30d7d-fac4-4677-a15c-dd0fd92007db",
        "colab": {
          "base_uri": "https://localhost:8080/",
          "height": 112
        },
        "outputId": "a5b65cb0-1e5d-4b73-b669-4b3562813dc3"
      },
      "outputs": [
        {
          "output_type": "execute_result",
          "data": {
            "text/plain": [
              "           capital  poblacion  sup. en km2\n",
              "Brasil    Brasilia  212600000      8516000\n",
              "Colombia    Bogotá   50880000      1143000"
            ],
            "text/html": [
              "\n",
              "  <div id=\"df-7a887674-7421-42e8-b032-e8911a9666d3\">\n",
              "    <div class=\"colab-df-container\">\n",
              "      <div>\n",
              "<style scoped>\n",
              "    .dataframe tbody tr th:only-of-type {\n",
              "        vertical-align: middle;\n",
              "    }\n",
              "\n",
              "    .dataframe tbody tr th {\n",
              "        vertical-align: top;\n",
              "    }\n",
              "\n",
              "    .dataframe thead th {\n",
              "        text-align: right;\n",
              "    }\n",
              "</style>\n",
              "<table border=\"1\" class=\"dataframe\">\n",
              "  <thead>\n",
              "    <tr style=\"text-align: right;\">\n",
              "      <th></th>\n",
              "      <th>capital</th>\n",
              "      <th>poblacion</th>\n",
              "      <th>sup. en km2</th>\n",
              "    </tr>\n",
              "  </thead>\n",
              "  <tbody>\n",
              "    <tr>\n",
              "      <th>Brasil</th>\n",
              "      <td>Brasilia</td>\n",
              "      <td>212600000</td>\n",
              "      <td>8516000</td>\n",
              "    </tr>\n",
              "    <tr>\n",
              "      <th>Colombia</th>\n",
              "      <td>Bogotá</td>\n",
              "      <td>50880000</td>\n",
              "      <td>1143000</td>\n",
              "    </tr>\n",
              "  </tbody>\n",
              "</table>\n",
              "</div>\n",
              "      <button class=\"colab-df-convert\" onclick=\"convertToInteractive('df-7a887674-7421-42e8-b032-e8911a9666d3')\"\n",
              "              title=\"Convert this dataframe to an interactive table.\"\n",
              "              style=\"display:none;\">\n",
              "        \n",
              "  <svg xmlns=\"http://www.w3.org/2000/svg\" height=\"24px\"viewBox=\"0 0 24 24\"\n",
              "       width=\"24px\">\n",
              "    <path d=\"M0 0h24v24H0V0z\" fill=\"none\"/>\n",
              "    <path d=\"M18.56 5.44l.94 2.06.94-2.06 2.06-.94-2.06-.94-.94-2.06-.94 2.06-2.06.94zm-11 1L8.5 8.5l.94-2.06 2.06-.94-2.06-.94L8.5 2.5l-.94 2.06-2.06.94zm10 10l.94 2.06.94-2.06 2.06-.94-2.06-.94-.94-2.06-.94 2.06-2.06.94z\"/><path d=\"M17.41 7.96l-1.37-1.37c-.4-.4-.92-.59-1.43-.59-.52 0-1.04.2-1.43.59L10.3 9.45l-7.72 7.72c-.78.78-.78 2.05 0 2.83L4 21.41c.39.39.9.59 1.41.59.51 0 1.02-.2 1.41-.59l7.78-7.78 2.81-2.81c.8-.78.8-2.07 0-2.86zM5.41 20L4 18.59l7.72-7.72 1.47 1.35L5.41 20z\"/>\n",
              "  </svg>\n",
              "      </button>\n",
              "      \n",
              "  <style>\n",
              "    .colab-df-container {\n",
              "      display:flex;\n",
              "      flex-wrap:wrap;\n",
              "      gap: 12px;\n",
              "    }\n",
              "\n",
              "    .colab-df-convert {\n",
              "      background-color: #E8F0FE;\n",
              "      border: none;\n",
              "      border-radius: 50%;\n",
              "      cursor: pointer;\n",
              "      display: none;\n",
              "      fill: #1967D2;\n",
              "      height: 32px;\n",
              "      padding: 0 0 0 0;\n",
              "      width: 32px;\n",
              "    }\n",
              "\n",
              "    .colab-df-convert:hover {\n",
              "      background-color: #E2EBFA;\n",
              "      box-shadow: 0px 1px 2px rgba(60, 64, 67, 0.3), 0px 1px 3px 1px rgba(60, 64, 67, 0.15);\n",
              "      fill: #174EA6;\n",
              "    }\n",
              "\n",
              "    [theme=dark] .colab-df-convert {\n",
              "      background-color: #3B4455;\n",
              "      fill: #D2E3FC;\n",
              "    }\n",
              "\n",
              "    [theme=dark] .colab-df-convert:hover {\n",
              "      background-color: #434B5C;\n",
              "      box-shadow: 0px 1px 3px 1px rgba(0, 0, 0, 0.15);\n",
              "      filter: drop-shadow(0px 1px 2px rgba(0, 0, 0, 0.3));\n",
              "      fill: #FFFFFF;\n",
              "    }\n",
              "  </style>\n",
              "\n",
              "      <script>\n",
              "        const buttonEl =\n",
              "          document.querySelector('#df-7a887674-7421-42e8-b032-e8911a9666d3 button.colab-df-convert');\n",
              "        buttonEl.style.display =\n",
              "          google.colab.kernel.accessAllowed ? 'block' : 'none';\n",
              "\n",
              "        async function convertToInteractive(key) {\n",
              "          const element = document.querySelector('#df-7a887674-7421-42e8-b032-e8911a9666d3');\n",
              "          const dataTable =\n",
              "            await google.colab.kernel.invokeFunction('convertToInteractive',\n",
              "                                                     [key], {});\n",
              "          if (!dataTable) return;\n",
              "\n",
              "          const docLinkHtml = 'Like what you see? Visit the ' +\n",
              "            '<a target=\"_blank\" href=https://colab.research.google.com/notebooks/data_table.ipynb>data table notebook</a>'\n",
              "            + ' to learn more about interactive tables.';\n",
              "          element.innerHTML = '';\n",
              "          dataTable['output_type'] = 'display_data';\n",
              "          await google.colab.output.renderOutput(dataTable, element);\n",
              "          const docLink = document.createElement('div');\n",
              "          docLink.innerHTML = docLinkHtml;\n",
              "          element.appendChild(docLink);\n",
              "        }\n",
              "      </script>\n",
              "    </div>\n",
              "  </div>\n",
              "  "
            ]
          },
          "metadata": {},
          "execution_count": 68
        }
      ],
      "source": [
        "paises3.loc[paises3.poblacion > 50000000]"
      ]
    },
    {
      "cell_type": "markdown",
      "id": "bbc4429d-de7b-40ce-b719-1a74e6d5b8b1",
      "metadata": {
        "id": "bbc4429d-de7b-40ce-b719-1a74e6d5b8b1"
      },
      "source": [
        "__Ejercicio 25:__"
      ]
    },
    {
      "cell_type": "markdown",
      "id": "1c4a734d-f289-427a-846c-fdf9a006ecf1",
      "metadata": {
        "id": "1c4a734d-f289-427a-846c-fdf9a006ecf1"
      },
      "source": [
        " Agregar una columna al DataFrame \"paises\" que contenga la población en millones de habitantes"
      ]
    },
    {
      "cell_type": "code",
      "execution_count": 69,
      "id": "bde20776-6f31-4bd3-9554-b7038341175f",
      "metadata": {
        "id": "bde20776-6f31-4bd3-9554-b7038341175f",
        "colab": {
          "base_uri": "https://localhost:8080/",
          "height": 269
        },
        "outputId": "4cb0603b-ff4b-475e-e609-a69307d92946"
      },
      "outputs": [
        {
          "output_type": "execute_result",
          "data": {
            "text/plain": [
              "                     capital  poblacion  sup. en km2\n",
              "Argentina       Buenos Aires   45380000      2780000\n",
              "Brasil              Brasilia  212600000      8516000\n",
              "Chile      Santiago de Chile   19120000       756950\n",
              "Colombia              Bogotá   50880000      1143000\n",
              "Ecuador                Quito   17640000       283560\n",
              "Paraguay            Asunción    7133000       406752\n",
              "Peru                    Lima   32970000      1285216"
            ],
            "text/html": [
              "\n",
              "  <div id=\"df-624121f2-8ec0-4183-ba21-f2e7761fc418\">\n",
              "    <div class=\"colab-df-container\">\n",
              "      <div>\n",
              "<style scoped>\n",
              "    .dataframe tbody tr th:only-of-type {\n",
              "        vertical-align: middle;\n",
              "    }\n",
              "\n",
              "    .dataframe tbody tr th {\n",
              "        vertical-align: top;\n",
              "    }\n",
              "\n",
              "    .dataframe thead th {\n",
              "        text-align: right;\n",
              "    }\n",
              "</style>\n",
              "<table border=\"1\" class=\"dataframe\">\n",
              "  <thead>\n",
              "    <tr style=\"text-align: right;\">\n",
              "      <th></th>\n",
              "      <th>capital</th>\n",
              "      <th>poblacion</th>\n",
              "      <th>sup. en km2</th>\n",
              "    </tr>\n",
              "  </thead>\n",
              "  <tbody>\n",
              "    <tr>\n",
              "      <th>Argentina</th>\n",
              "      <td>Buenos Aires</td>\n",
              "      <td>45380000</td>\n",
              "      <td>2780000</td>\n",
              "    </tr>\n",
              "    <tr>\n",
              "      <th>Brasil</th>\n",
              "      <td>Brasilia</td>\n",
              "      <td>212600000</td>\n",
              "      <td>8516000</td>\n",
              "    </tr>\n",
              "    <tr>\n",
              "      <th>Chile</th>\n",
              "      <td>Santiago de Chile</td>\n",
              "      <td>19120000</td>\n",
              "      <td>756950</td>\n",
              "    </tr>\n",
              "    <tr>\n",
              "      <th>Colombia</th>\n",
              "      <td>Bogotá</td>\n",
              "      <td>50880000</td>\n",
              "      <td>1143000</td>\n",
              "    </tr>\n",
              "    <tr>\n",
              "      <th>Ecuador</th>\n",
              "      <td>Quito</td>\n",
              "      <td>17640000</td>\n",
              "      <td>283560</td>\n",
              "    </tr>\n",
              "    <tr>\n",
              "      <th>Paraguay</th>\n",
              "      <td>Asunción</td>\n",
              "      <td>7133000</td>\n",
              "      <td>406752</td>\n",
              "    </tr>\n",
              "    <tr>\n",
              "      <th>Peru</th>\n",
              "      <td>Lima</td>\n",
              "      <td>32970000</td>\n",
              "      <td>1285216</td>\n",
              "    </tr>\n",
              "  </tbody>\n",
              "</table>\n",
              "</div>\n",
              "      <button class=\"colab-df-convert\" onclick=\"convertToInteractive('df-624121f2-8ec0-4183-ba21-f2e7761fc418')\"\n",
              "              title=\"Convert this dataframe to an interactive table.\"\n",
              "              style=\"display:none;\">\n",
              "        \n",
              "  <svg xmlns=\"http://www.w3.org/2000/svg\" height=\"24px\"viewBox=\"0 0 24 24\"\n",
              "       width=\"24px\">\n",
              "    <path d=\"M0 0h24v24H0V0z\" fill=\"none\"/>\n",
              "    <path d=\"M18.56 5.44l.94 2.06.94-2.06 2.06-.94-2.06-.94-.94-2.06-.94 2.06-2.06.94zm-11 1L8.5 8.5l.94-2.06 2.06-.94-2.06-.94L8.5 2.5l-.94 2.06-2.06.94zm10 10l.94 2.06.94-2.06 2.06-.94-2.06-.94-.94-2.06-.94 2.06-2.06.94z\"/><path d=\"M17.41 7.96l-1.37-1.37c-.4-.4-.92-.59-1.43-.59-.52 0-1.04.2-1.43.59L10.3 9.45l-7.72 7.72c-.78.78-.78 2.05 0 2.83L4 21.41c.39.39.9.59 1.41.59.51 0 1.02-.2 1.41-.59l7.78-7.78 2.81-2.81c.8-.78.8-2.07 0-2.86zM5.41 20L4 18.59l7.72-7.72 1.47 1.35L5.41 20z\"/>\n",
              "  </svg>\n",
              "      </button>\n",
              "      \n",
              "  <style>\n",
              "    .colab-df-container {\n",
              "      display:flex;\n",
              "      flex-wrap:wrap;\n",
              "      gap: 12px;\n",
              "    }\n",
              "\n",
              "    .colab-df-convert {\n",
              "      background-color: #E8F0FE;\n",
              "      border: none;\n",
              "      border-radius: 50%;\n",
              "      cursor: pointer;\n",
              "      display: none;\n",
              "      fill: #1967D2;\n",
              "      height: 32px;\n",
              "      padding: 0 0 0 0;\n",
              "      width: 32px;\n",
              "    }\n",
              "\n",
              "    .colab-df-convert:hover {\n",
              "      background-color: #E2EBFA;\n",
              "      box-shadow: 0px 1px 2px rgba(60, 64, 67, 0.3), 0px 1px 3px 1px rgba(60, 64, 67, 0.15);\n",
              "      fill: #174EA6;\n",
              "    }\n",
              "\n",
              "    [theme=dark] .colab-df-convert {\n",
              "      background-color: #3B4455;\n",
              "      fill: #D2E3FC;\n",
              "    }\n",
              "\n",
              "    [theme=dark] .colab-df-convert:hover {\n",
              "      background-color: #434B5C;\n",
              "      box-shadow: 0px 1px 3px 1px rgba(0, 0, 0, 0.15);\n",
              "      filter: drop-shadow(0px 1px 2px rgba(0, 0, 0, 0.3));\n",
              "      fill: #FFFFFF;\n",
              "    }\n",
              "  </style>\n",
              "\n",
              "      <script>\n",
              "        const buttonEl =\n",
              "          document.querySelector('#df-624121f2-8ec0-4183-ba21-f2e7761fc418 button.colab-df-convert');\n",
              "        buttonEl.style.display =\n",
              "          google.colab.kernel.accessAllowed ? 'block' : 'none';\n",
              "\n",
              "        async function convertToInteractive(key) {\n",
              "          const element = document.querySelector('#df-624121f2-8ec0-4183-ba21-f2e7761fc418');\n",
              "          const dataTable =\n",
              "            await google.colab.kernel.invokeFunction('convertToInteractive',\n",
              "                                                     [key], {});\n",
              "          if (!dataTable) return;\n",
              "\n",
              "          const docLinkHtml = 'Like what you see? Visit the ' +\n",
              "            '<a target=\"_blank\" href=https://colab.research.google.com/notebooks/data_table.ipynb>data table notebook</a>'\n",
              "            + ' to learn more about interactive tables.';\n",
              "          element.innerHTML = '';\n",
              "          dataTable['output_type'] = 'display_data';\n",
              "          await google.colab.output.renderOutput(dataTable, element);\n",
              "          const docLink = document.createElement('div');\n",
              "          docLink.innerHTML = docLinkHtml;\n",
              "          element.appendChild(docLink);\n",
              "        }\n",
              "      </script>\n",
              "    </div>\n",
              "  </div>\n",
              "  "
            ]
          },
          "metadata": {},
          "execution_count": 69
        }
      ],
      "source": [
        "paises3"
      ]
    },
    {
      "cell_type": "code",
      "execution_count": 70,
      "id": "2477bed2-47d4-4001-b8b2-66b7a0d28a84",
      "metadata": {
        "id": "2477bed2-47d4-4001-b8b2-66b7a0d28a84",
        "colab": {
          "base_uri": "https://localhost:8080/",
          "height": 269
        },
        "outputId": "ceeac169-42ae-42b0-de65-093315474d0f"
      },
      "outputs": [
        {
          "output_type": "execute_result",
          "data": {
            "text/plain": [
              "                     capital  poblacion  sup. en km2  pob. en MM\n",
              "Argentina       Buenos Aires   45380000      2780000      45.380\n",
              "Brasil              Brasilia  212600000      8516000     212.600\n",
              "Chile      Santiago de Chile   19120000       756950      19.120\n",
              "Colombia              Bogotá   50880000      1143000      50.880\n",
              "Ecuador                Quito   17640000       283560      17.640\n",
              "Paraguay            Asunción    7133000       406752       7.133\n",
              "Peru                    Lima   32970000      1285216      32.970"
            ],
            "text/html": [
              "\n",
              "  <div id=\"df-b4d5f256-fb9b-49be-ada6-93c4f9beb394\">\n",
              "    <div class=\"colab-df-container\">\n",
              "      <div>\n",
              "<style scoped>\n",
              "    .dataframe tbody tr th:only-of-type {\n",
              "        vertical-align: middle;\n",
              "    }\n",
              "\n",
              "    .dataframe tbody tr th {\n",
              "        vertical-align: top;\n",
              "    }\n",
              "\n",
              "    .dataframe thead th {\n",
              "        text-align: right;\n",
              "    }\n",
              "</style>\n",
              "<table border=\"1\" class=\"dataframe\">\n",
              "  <thead>\n",
              "    <tr style=\"text-align: right;\">\n",
              "      <th></th>\n",
              "      <th>capital</th>\n",
              "      <th>poblacion</th>\n",
              "      <th>sup. en km2</th>\n",
              "      <th>pob. en MM</th>\n",
              "    </tr>\n",
              "  </thead>\n",
              "  <tbody>\n",
              "    <tr>\n",
              "      <th>Argentina</th>\n",
              "      <td>Buenos Aires</td>\n",
              "      <td>45380000</td>\n",
              "      <td>2780000</td>\n",
              "      <td>45.380</td>\n",
              "    </tr>\n",
              "    <tr>\n",
              "      <th>Brasil</th>\n",
              "      <td>Brasilia</td>\n",
              "      <td>212600000</td>\n",
              "      <td>8516000</td>\n",
              "      <td>212.600</td>\n",
              "    </tr>\n",
              "    <tr>\n",
              "      <th>Chile</th>\n",
              "      <td>Santiago de Chile</td>\n",
              "      <td>19120000</td>\n",
              "      <td>756950</td>\n",
              "      <td>19.120</td>\n",
              "    </tr>\n",
              "    <tr>\n",
              "      <th>Colombia</th>\n",
              "      <td>Bogotá</td>\n",
              "      <td>50880000</td>\n",
              "      <td>1143000</td>\n",
              "      <td>50.880</td>\n",
              "    </tr>\n",
              "    <tr>\n",
              "      <th>Ecuador</th>\n",
              "      <td>Quito</td>\n",
              "      <td>17640000</td>\n",
              "      <td>283560</td>\n",
              "      <td>17.640</td>\n",
              "    </tr>\n",
              "    <tr>\n",
              "      <th>Paraguay</th>\n",
              "      <td>Asunción</td>\n",
              "      <td>7133000</td>\n",
              "      <td>406752</td>\n",
              "      <td>7.133</td>\n",
              "    </tr>\n",
              "    <tr>\n",
              "      <th>Peru</th>\n",
              "      <td>Lima</td>\n",
              "      <td>32970000</td>\n",
              "      <td>1285216</td>\n",
              "      <td>32.970</td>\n",
              "    </tr>\n",
              "  </tbody>\n",
              "</table>\n",
              "</div>\n",
              "      <button class=\"colab-df-convert\" onclick=\"convertToInteractive('df-b4d5f256-fb9b-49be-ada6-93c4f9beb394')\"\n",
              "              title=\"Convert this dataframe to an interactive table.\"\n",
              "              style=\"display:none;\">\n",
              "        \n",
              "  <svg xmlns=\"http://www.w3.org/2000/svg\" height=\"24px\"viewBox=\"0 0 24 24\"\n",
              "       width=\"24px\">\n",
              "    <path d=\"M0 0h24v24H0V0z\" fill=\"none\"/>\n",
              "    <path d=\"M18.56 5.44l.94 2.06.94-2.06 2.06-.94-2.06-.94-.94-2.06-.94 2.06-2.06.94zm-11 1L8.5 8.5l.94-2.06 2.06-.94-2.06-.94L8.5 2.5l-.94 2.06-2.06.94zm10 10l.94 2.06.94-2.06 2.06-.94-2.06-.94-.94-2.06-.94 2.06-2.06.94z\"/><path d=\"M17.41 7.96l-1.37-1.37c-.4-.4-.92-.59-1.43-.59-.52 0-1.04.2-1.43.59L10.3 9.45l-7.72 7.72c-.78.78-.78 2.05 0 2.83L4 21.41c.39.39.9.59 1.41.59.51 0 1.02-.2 1.41-.59l7.78-7.78 2.81-2.81c.8-.78.8-2.07 0-2.86zM5.41 20L4 18.59l7.72-7.72 1.47 1.35L5.41 20z\"/>\n",
              "  </svg>\n",
              "      </button>\n",
              "      \n",
              "  <style>\n",
              "    .colab-df-container {\n",
              "      display:flex;\n",
              "      flex-wrap:wrap;\n",
              "      gap: 12px;\n",
              "    }\n",
              "\n",
              "    .colab-df-convert {\n",
              "      background-color: #E8F0FE;\n",
              "      border: none;\n",
              "      border-radius: 50%;\n",
              "      cursor: pointer;\n",
              "      display: none;\n",
              "      fill: #1967D2;\n",
              "      height: 32px;\n",
              "      padding: 0 0 0 0;\n",
              "      width: 32px;\n",
              "    }\n",
              "\n",
              "    .colab-df-convert:hover {\n",
              "      background-color: #E2EBFA;\n",
              "      box-shadow: 0px 1px 2px rgba(60, 64, 67, 0.3), 0px 1px 3px 1px rgba(60, 64, 67, 0.15);\n",
              "      fill: #174EA6;\n",
              "    }\n",
              "\n",
              "    [theme=dark] .colab-df-convert {\n",
              "      background-color: #3B4455;\n",
              "      fill: #D2E3FC;\n",
              "    }\n",
              "\n",
              "    [theme=dark] .colab-df-convert:hover {\n",
              "      background-color: #434B5C;\n",
              "      box-shadow: 0px 1px 3px 1px rgba(0, 0, 0, 0.15);\n",
              "      filter: drop-shadow(0px 1px 2px rgba(0, 0, 0, 0.3));\n",
              "      fill: #FFFFFF;\n",
              "    }\n",
              "  </style>\n",
              "\n",
              "      <script>\n",
              "        const buttonEl =\n",
              "          document.querySelector('#df-b4d5f256-fb9b-49be-ada6-93c4f9beb394 button.colab-df-convert');\n",
              "        buttonEl.style.display =\n",
              "          google.colab.kernel.accessAllowed ? 'block' : 'none';\n",
              "\n",
              "        async function convertToInteractive(key) {\n",
              "          const element = document.querySelector('#df-b4d5f256-fb9b-49be-ada6-93c4f9beb394');\n",
              "          const dataTable =\n",
              "            await google.colab.kernel.invokeFunction('convertToInteractive',\n",
              "                                                     [key], {});\n",
              "          if (!dataTable) return;\n",
              "\n",
              "          const docLinkHtml = 'Like what you see? Visit the ' +\n",
              "            '<a target=\"_blank\" href=https://colab.research.google.com/notebooks/data_table.ipynb>data table notebook</a>'\n",
              "            + ' to learn more about interactive tables.';\n",
              "          element.innerHTML = '';\n",
              "          dataTable['output_type'] = 'display_data';\n",
              "          await google.colab.output.renderOutput(dataTable, element);\n",
              "          const docLink = document.createElement('div');\n",
              "          docLink.innerHTML = docLinkHtml;\n",
              "          element.appendChild(docLink);\n",
              "        }\n",
              "      </script>\n",
              "    </div>\n",
              "  </div>\n",
              "  "
            ]
          },
          "metadata": {},
          "execution_count": 70
        }
      ],
      "source": [
        "paises3[\"pob. en MM\"] = paises3.poblacion/1000000\n",
        "paises3"
      ]
    },
    {
      "cell_type": "markdown",
      "id": "52ddd9fe-36e5-41ab-ab25-b05df4edb325",
      "metadata": {
        "id": "52ddd9fe-36e5-41ab-ab25-b05df4edb325"
      },
      "source": [
        "Volver a agregar una columna al DataFrame \"paises\" que contenga la población en millones de habitantes, utilizando la función __apply__"
      ]
    },
    {
      "cell_type": "code",
      "execution_count": 70,
      "id": "50c438d3-a991-47c2-8615-67fb3352df86",
      "metadata": {
        "id": "50c438d3-a991-47c2-8615-67fb3352df86"
      },
      "outputs": [],
      "source": [
        " "
      ]
    },
    {
      "cell_type": "code",
      "execution_count": 70,
      "id": "13495445-04d2-4eef-af06-f87bcc63d7ab",
      "metadata": {
        "id": "13495445-04d2-4eef-af06-f87bcc63d7ab"
      },
      "outputs": [],
      "source": []
    },
    {
      "cell_type": "markdown",
      "id": "f96ba9cc-6f79-4c81-8e0a-33be51711c49",
      "metadata": {
        "id": "f96ba9cc-6f79-4c81-8e0a-33be51711c49"
      },
      "source": [
        "__Ejercicio 26:__ Agregar una columna al DataFrame \"paises\" que contenga la población por cada Km2 de superficie, utilizando la función apply"
      ]
    },
    {
      "cell_type": "code",
      "execution_count": 71,
      "id": "73540771-223f-4993-9f90-6ff60f11bb5e",
      "metadata": {
        "id": "73540771-223f-4993-9f90-6ff60f11bb5e"
      },
      "outputs": [],
      "source": [
        "def densidad(df):\n",
        "  return df[\"poblacion\"]/df[\"sup. en km2\"]\n",
        "\n",
        "paises3[\"densidad pob\"] = paises3.apply(densidad, axis=1)"
      ]
    },
    {
      "cell_type": "code",
      "execution_count": 72,
      "id": "7d7c5e3a-e3cf-4281-b797-591516cb554d",
      "metadata": {
        "id": "7d7c5e3a-e3cf-4281-b797-591516cb554d",
        "colab": {
          "base_uri": "https://localhost:8080/",
          "height": 269
        },
        "outputId": "4aeb785d-9aff-4dcb-e4d3-a59f06559fd6"
      },
      "outputs": [
        {
          "output_type": "execute_result",
          "data": {
            "text/plain": [
              "                     capital  poblacion  sup. en km2  pob. en MM  densidad pob\n",
              "Argentina       Buenos Aires   45380000      2780000      45.380     16.323741\n",
              "Brasil              Brasilia  212600000      8516000     212.600     24.964772\n",
              "Chile      Santiago de Chile   19120000       756950      19.120     25.259264\n",
              "Colombia              Bogotá   50880000      1143000      50.880     44.514436\n",
              "Ecuador                Quito   17640000       283560      17.640     62.209056\n",
              "Paraguay            Asunción    7133000       406752       7.133     17.536484\n",
              "Peru                    Lima   32970000      1285216      32.970     25.653275"
            ],
            "text/html": [
              "\n",
              "  <div id=\"df-845773fa-31c9-4903-995f-dd50de17aef5\">\n",
              "    <div class=\"colab-df-container\">\n",
              "      <div>\n",
              "<style scoped>\n",
              "    .dataframe tbody tr th:only-of-type {\n",
              "        vertical-align: middle;\n",
              "    }\n",
              "\n",
              "    .dataframe tbody tr th {\n",
              "        vertical-align: top;\n",
              "    }\n",
              "\n",
              "    .dataframe thead th {\n",
              "        text-align: right;\n",
              "    }\n",
              "</style>\n",
              "<table border=\"1\" class=\"dataframe\">\n",
              "  <thead>\n",
              "    <tr style=\"text-align: right;\">\n",
              "      <th></th>\n",
              "      <th>capital</th>\n",
              "      <th>poblacion</th>\n",
              "      <th>sup. en km2</th>\n",
              "      <th>pob. en MM</th>\n",
              "      <th>densidad pob</th>\n",
              "    </tr>\n",
              "  </thead>\n",
              "  <tbody>\n",
              "    <tr>\n",
              "      <th>Argentina</th>\n",
              "      <td>Buenos Aires</td>\n",
              "      <td>45380000</td>\n",
              "      <td>2780000</td>\n",
              "      <td>45.380</td>\n",
              "      <td>16.323741</td>\n",
              "    </tr>\n",
              "    <tr>\n",
              "      <th>Brasil</th>\n",
              "      <td>Brasilia</td>\n",
              "      <td>212600000</td>\n",
              "      <td>8516000</td>\n",
              "      <td>212.600</td>\n",
              "      <td>24.964772</td>\n",
              "    </tr>\n",
              "    <tr>\n",
              "      <th>Chile</th>\n",
              "      <td>Santiago de Chile</td>\n",
              "      <td>19120000</td>\n",
              "      <td>756950</td>\n",
              "      <td>19.120</td>\n",
              "      <td>25.259264</td>\n",
              "    </tr>\n",
              "    <tr>\n",
              "      <th>Colombia</th>\n",
              "      <td>Bogotá</td>\n",
              "      <td>50880000</td>\n",
              "      <td>1143000</td>\n",
              "      <td>50.880</td>\n",
              "      <td>44.514436</td>\n",
              "    </tr>\n",
              "    <tr>\n",
              "      <th>Ecuador</th>\n",
              "      <td>Quito</td>\n",
              "      <td>17640000</td>\n",
              "      <td>283560</td>\n",
              "      <td>17.640</td>\n",
              "      <td>62.209056</td>\n",
              "    </tr>\n",
              "    <tr>\n",
              "      <th>Paraguay</th>\n",
              "      <td>Asunción</td>\n",
              "      <td>7133000</td>\n",
              "      <td>406752</td>\n",
              "      <td>7.133</td>\n",
              "      <td>17.536484</td>\n",
              "    </tr>\n",
              "    <tr>\n",
              "      <th>Peru</th>\n",
              "      <td>Lima</td>\n",
              "      <td>32970000</td>\n",
              "      <td>1285216</td>\n",
              "      <td>32.970</td>\n",
              "      <td>25.653275</td>\n",
              "    </tr>\n",
              "  </tbody>\n",
              "</table>\n",
              "</div>\n",
              "      <button class=\"colab-df-convert\" onclick=\"convertToInteractive('df-845773fa-31c9-4903-995f-dd50de17aef5')\"\n",
              "              title=\"Convert this dataframe to an interactive table.\"\n",
              "              style=\"display:none;\">\n",
              "        \n",
              "  <svg xmlns=\"http://www.w3.org/2000/svg\" height=\"24px\"viewBox=\"0 0 24 24\"\n",
              "       width=\"24px\">\n",
              "    <path d=\"M0 0h24v24H0V0z\" fill=\"none\"/>\n",
              "    <path d=\"M18.56 5.44l.94 2.06.94-2.06 2.06-.94-2.06-.94-.94-2.06-.94 2.06-2.06.94zm-11 1L8.5 8.5l.94-2.06 2.06-.94-2.06-.94L8.5 2.5l-.94 2.06-2.06.94zm10 10l.94 2.06.94-2.06 2.06-.94-2.06-.94-.94-2.06-.94 2.06-2.06.94z\"/><path d=\"M17.41 7.96l-1.37-1.37c-.4-.4-.92-.59-1.43-.59-.52 0-1.04.2-1.43.59L10.3 9.45l-7.72 7.72c-.78.78-.78 2.05 0 2.83L4 21.41c.39.39.9.59 1.41.59.51 0 1.02-.2 1.41-.59l7.78-7.78 2.81-2.81c.8-.78.8-2.07 0-2.86zM5.41 20L4 18.59l7.72-7.72 1.47 1.35L5.41 20z\"/>\n",
              "  </svg>\n",
              "      </button>\n",
              "      \n",
              "  <style>\n",
              "    .colab-df-container {\n",
              "      display:flex;\n",
              "      flex-wrap:wrap;\n",
              "      gap: 12px;\n",
              "    }\n",
              "\n",
              "    .colab-df-convert {\n",
              "      background-color: #E8F0FE;\n",
              "      border: none;\n",
              "      border-radius: 50%;\n",
              "      cursor: pointer;\n",
              "      display: none;\n",
              "      fill: #1967D2;\n",
              "      height: 32px;\n",
              "      padding: 0 0 0 0;\n",
              "      width: 32px;\n",
              "    }\n",
              "\n",
              "    .colab-df-convert:hover {\n",
              "      background-color: #E2EBFA;\n",
              "      box-shadow: 0px 1px 2px rgba(60, 64, 67, 0.3), 0px 1px 3px 1px rgba(60, 64, 67, 0.15);\n",
              "      fill: #174EA6;\n",
              "    }\n",
              "\n",
              "    [theme=dark] .colab-df-convert {\n",
              "      background-color: #3B4455;\n",
              "      fill: #D2E3FC;\n",
              "    }\n",
              "\n",
              "    [theme=dark] .colab-df-convert:hover {\n",
              "      background-color: #434B5C;\n",
              "      box-shadow: 0px 1px 3px 1px rgba(0, 0, 0, 0.15);\n",
              "      filter: drop-shadow(0px 1px 2px rgba(0, 0, 0, 0.3));\n",
              "      fill: #FFFFFF;\n",
              "    }\n",
              "  </style>\n",
              "\n",
              "      <script>\n",
              "        const buttonEl =\n",
              "          document.querySelector('#df-845773fa-31c9-4903-995f-dd50de17aef5 button.colab-df-convert');\n",
              "        buttonEl.style.display =\n",
              "          google.colab.kernel.accessAllowed ? 'block' : 'none';\n",
              "\n",
              "        async function convertToInteractive(key) {\n",
              "          const element = document.querySelector('#df-845773fa-31c9-4903-995f-dd50de17aef5');\n",
              "          const dataTable =\n",
              "            await google.colab.kernel.invokeFunction('convertToInteractive',\n",
              "                                                     [key], {});\n",
              "          if (!dataTable) return;\n",
              "\n",
              "          const docLinkHtml = 'Like what you see? Visit the ' +\n",
              "            '<a target=\"_blank\" href=https://colab.research.google.com/notebooks/data_table.ipynb>data table notebook</a>'\n",
              "            + ' to learn more about interactive tables.';\n",
              "          element.innerHTML = '';\n",
              "          dataTable['output_type'] = 'display_data';\n",
              "          await google.colab.output.renderOutput(dataTable, element);\n",
              "          const docLink = document.createElement('div');\n",
              "          docLink.innerHTML = docLinkHtml;\n",
              "          element.appendChild(docLink);\n",
              "        }\n",
              "      </script>\n",
              "    </div>\n",
              "  </div>\n",
              "  "
            ]
          },
          "metadata": {},
          "execution_count": 72
        }
      ],
      "source": [
        "paises3"
      ]
    },
    {
      "cell_type": "markdown",
      "id": "a2cbd888-730f-43ce-856f-25c5042c233d",
      "metadata": {
        "id": "a2cbd888-730f-43ce-856f-25c5042c233d"
      },
      "source": [
        "__Ejercicio 27:__ Guardar el DataFrame en formato pickle"
      ]
    },
    {
      "cell_type": "code",
      "execution_count": 73,
      "id": "955a47a5-ca79-48a6-a833-53d7ca7f8e49",
      "metadata": {
        "id": "955a47a5-ca79-48a6-a833-53d7ca7f8e49"
      },
      "outputs": [],
      "source": [
        "paises3.to_pickle(\"./pickle\")"
      ]
    },
    {
      "cell_type": "markdown",
      "id": "0482e677-98a3-4998-8119-f0ae45758a04",
      "metadata": {
        "id": "0482e677-98a3-4998-8119-f0ae45758a04"
      },
      "source": [
        "__Ejercicio 28:__ Leer el archivo pickle anterior"
      ]
    },
    {
      "cell_type": "code",
      "execution_count": 74,
      "id": "5c5cf5fd-424d-46f1-8f8a-2f3e8f225bf8",
      "metadata": {
        "id": "5c5cf5fd-424d-46f1-8f8a-2f3e8f225bf8",
        "colab": {
          "base_uri": "https://localhost:8080/",
          "height": 269
        },
        "outputId": "6b202441-f59c-4b1a-b34d-dab7e0e0e859"
      },
      "outputs": [
        {
          "output_type": "execute_result",
          "data": {
            "text/plain": [
              "                     capital  poblacion  sup. en km2  pob. en MM  densidad pob\n",
              "Argentina       Buenos Aires   45380000      2780000      45.380     16.323741\n",
              "Brasil              Brasilia  212600000      8516000     212.600     24.964772\n",
              "Chile      Santiago de Chile   19120000       756950      19.120     25.259264\n",
              "Colombia              Bogotá   50880000      1143000      50.880     44.514436\n",
              "Ecuador                Quito   17640000       283560      17.640     62.209056\n",
              "Paraguay            Asunción    7133000       406752       7.133     17.536484\n",
              "Peru                    Lima   32970000      1285216      32.970     25.653275"
            ],
            "text/html": [
              "\n",
              "  <div id=\"df-39f744c3-4c5b-4aec-81a1-fee7b3f4a1a1\">\n",
              "    <div class=\"colab-df-container\">\n",
              "      <div>\n",
              "<style scoped>\n",
              "    .dataframe tbody tr th:only-of-type {\n",
              "        vertical-align: middle;\n",
              "    }\n",
              "\n",
              "    .dataframe tbody tr th {\n",
              "        vertical-align: top;\n",
              "    }\n",
              "\n",
              "    .dataframe thead th {\n",
              "        text-align: right;\n",
              "    }\n",
              "</style>\n",
              "<table border=\"1\" class=\"dataframe\">\n",
              "  <thead>\n",
              "    <tr style=\"text-align: right;\">\n",
              "      <th></th>\n",
              "      <th>capital</th>\n",
              "      <th>poblacion</th>\n",
              "      <th>sup. en km2</th>\n",
              "      <th>pob. en MM</th>\n",
              "      <th>densidad pob</th>\n",
              "    </tr>\n",
              "  </thead>\n",
              "  <tbody>\n",
              "    <tr>\n",
              "      <th>Argentina</th>\n",
              "      <td>Buenos Aires</td>\n",
              "      <td>45380000</td>\n",
              "      <td>2780000</td>\n",
              "      <td>45.380</td>\n",
              "      <td>16.323741</td>\n",
              "    </tr>\n",
              "    <tr>\n",
              "      <th>Brasil</th>\n",
              "      <td>Brasilia</td>\n",
              "      <td>212600000</td>\n",
              "      <td>8516000</td>\n",
              "      <td>212.600</td>\n",
              "      <td>24.964772</td>\n",
              "    </tr>\n",
              "    <tr>\n",
              "      <th>Chile</th>\n",
              "      <td>Santiago de Chile</td>\n",
              "      <td>19120000</td>\n",
              "      <td>756950</td>\n",
              "      <td>19.120</td>\n",
              "      <td>25.259264</td>\n",
              "    </tr>\n",
              "    <tr>\n",
              "      <th>Colombia</th>\n",
              "      <td>Bogotá</td>\n",
              "      <td>50880000</td>\n",
              "      <td>1143000</td>\n",
              "      <td>50.880</td>\n",
              "      <td>44.514436</td>\n",
              "    </tr>\n",
              "    <tr>\n",
              "      <th>Ecuador</th>\n",
              "      <td>Quito</td>\n",
              "      <td>17640000</td>\n",
              "      <td>283560</td>\n",
              "      <td>17.640</td>\n",
              "      <td>62.209056</td>\n",
              "    </tr>\n",
              "    <tr>\n",
              "      <th>Paraguay</th>\n",
              "      <td>Asunción</td>\n",
              "      <td>7133000</td>\n",
              "      <td>406752</td>\n",
              "      <td>7.133</td>\n",
              "      <td>17.536484</td>\n",
              "    </tr>\n",
              "    <tr>\n",
              "      <th>Peru</th>\n",
              "      <td>Lima</td>\n",
              "      <td>32970000</td>\n",
              "      <td>1285216</td>\n",
              "      <td>32.970</td>\n",
              "      <td>25.653275</td>\n",
              "    </tr>\n",
              "  </tbody>\n",
              "</table>\n",
              "</div>\n",
              "      <button class=\"colab-df-convert\" onclick=\"convertToInteractive('df-39f744c3-4c5b-4aec-81a1-fee7b3f4a1a1')\"\n",
              "              title=\"Convert this dataframe to an interactive table.\"\n",
              "              style=\"display:none;\">\n",
              "        \n",
              "  <svg xmlns=\"http://www.w3.org/2000/svg\" height=\"24px\"viewBox=\"0 0 24 24\"\n",
              "       width=\"24px\">\n",
              "    <path d=\"M0 0h24v24H0V0z\" fill=\"none\"/>\n",
              "    <path d=\"M18.56 5.44l.94 2.06.94-2.06 2.06-.94-2.06-.94-.94-2.06-.94 2.06-2.06.94zm-11 1L8.5 8.5l.94-2.06 2.06-.94-2.06-.94L8.5 2.5l-.94 2.06-2.06.94zm10 10l.94 2.06.94-2.06 2.06-.94-2.06-.94-.94-2.06-.94 2.06-2.06.94z\"/><path d=\"M17.41 7.96l-1.37-1.37c-.4-.4-.92-.59-1.43-.59-.52 0-1.04.2-1.43.59L10.3 9.45l-7.72 7.72c-.78.78-.78 2.05 0 2.83L4 21.41c.39.39.9.59 1.41.59.51 0 1.02-.2 1.41-.59l7.78-7.78 2.81-2.81c.8-.78.8-2.07 0-2.86zM5.41 20L4 18.59l7.72-7.72 1.47 1.35L5.41 20z\"/>\n",
              "  </svg>\n",
              "      </button>\n",
              "      \n",
              "  <style>\n",
              "    .colab-df-container {\n",
              "      display:flex;\n",
              "      flex-wrap:wrap;\n",
              "      gap: 12px;\n",
              "    }\n",
              "\n",
              "    .colab-df-convert {\n",
              "      background-color: #E8F0FE;\n",
              "      border: none;\n",
              "      border-radius: 50%;\n",
              "      cursor: pointer;\n",
              "      display: none;\n",
              "      fill: #1967D2;\n",
              "      height: 32px;\n",
              "      padding: 0 0 0 0;\n",
              "      width: 32px;\n",
              "    }\n",
              "\n",
              "    .colab-df-convert:hover {\n",
              "      background-color: #E2EBFA;\n",
              "      box-shadow: 0px 1px 2px rgba(60, 64, 67, 0.3), 0px 1px 3px 1px rgba(60, 64, 67, 0.15);\n",
              "      fill: #174EA6;\n",
              "    }\n",
              "\n",
              "    [theme=dark] .colab-df-convert {\n",
              "      background-color: #3B4455;\n",
              "      fill: #D2E3FC;\n",
              "    }\n",
              "\n",
              "    [theme=dark] .colab-df-convert:hover {\n",
              "      background-color: #434B5C;\n",
              "      box-shadow: 0px 1px 3px 1px rgba(0, 0, 0, 0.15);\n",
              "      filter: drop-shadow(0px 1px 2px rgba(0, 0, 0, 0.3));\n",
              "      fill: #FFFFFF;\n",
              "    }\n",
              "  </style>\n",
              "\n",
              "      <script>\n",
              "        const buttonEl =\n",
              "          document.querySelector('#df-39f744c3-4c5b-4aec-81a1-fee7b3f4a1a1 button.colab-df-convert');\n",
              "        buttonEl.style.display =\n",
              "          google.colab.kernel.accessAllowed ? 'block' : 'none';\n",
              "\n",
              "        async function convertToInteractive(key) {\n",
              "          const element = document.querySelector('#df-39f744c3-4c5b-4aec-81a1-fee7b3f4a1a1');\n",
              "          const dataTable =\n",
              "            await google.colab.kernel.invokeFunction('convertToInteractive',\n",
              "                                                     [key], {});\n",
              "          if (!dataTable) return;\n",
              "\n",
              "          const docLinkHtml = 'Like what you see? Visit the ' +\n",
              "            '<a target=\"_blank\" href=https://colab.research.google.com/notebooks/data_table.ipynb>data table notebook</a>'\n",
              "            + ' to learn more about interactive tables.';\n",
              "          element.innerHTML = '';\n",
              "          dataTable['output_type'] = 'display_data';\n",
              "          await google.colab.output.renderOutput(dataTable, element);\n",
              "          const docLink = document.createElement('div');\n",
              "          docLink.innerHTML = docLinkHtml;\n",
              "          element.appendChild(docLink);\n",
              "        }\n",
              "      </script>\n",
              "    </div>\n",
              "  </div>\n",
              "  "
            ]
          },
          "metadata": {},
          "execution_count": 74
        }
      ],
      "source": [
        "pd.read_pickle(\"./pickle\")"
      ]
    },
    {
      "cell_type": "markdown",
      "id": "9c148dee-3640-4c57-8d8f-7cd6de1c6bb2",
      "metadata": {
        "id": "9c148dee-3640-4c57-8d8f-7cd6de1c6bb2"
      },
      "source": [
        "__Ejercicio 29:__"
      ]
    },
    {
      "cell_type": "markdown",
      "id": "3202abbd-e359-4902-9e09-e7082f9109dc",
      "metadata": {
        "id": "3202abbd-e359-4902-9e09-e7082f9109dc"
      },
      "source": [
        "Guardar el DataFrame paises en formato .csv"
      ]
    },
    {
      "cell_type": "code",
      "execution_count": 75,
      "id": "382c9f51-04da-4237-977b-3ba99037bd93",
      "metadata": {
        "id": "382c9f51-04da-4237-977b-3ba99037bd93"
      },
      "outputs": [],
      "source": [
        "paises3.to_csv(\"./csv\")"
      ]
    },
    {
      "cell_type": "markdown",
      "id": "1245c8fb-c252-4260-93b1-93d6bfd1ee81",
      "metadata": {
        "id": "1245c8fb-c252-4260-93b1-93d6bfd1ee81"
      },
      "source": [
        "Guardar el DataFrame paises en formato .xlsx"
      ]
    },
    {
      "cell_type": "code",
      "execution_count": 76,
      "id": "cb318548-fd7a-49c9-ba82-a8e7c1e44539",
      "metadata": {
        "id": "cb318548-fd7a-49c9-ba82-a8e7c1e44539"
      },
      "outputs": [],
      "source": [
        "paises3.to_excel(\"./excel.xlsx\", sheet_name= \"paises\", index_label= \"pais\")"
      ]
    },
    {
      "cell_type": "markdown",
      "id": "10986453-a51b-40ab-b632-cc02f2f11a39",
      "metadata": {
        "id": "10986453-a51b-40ab-b632-cc02f2f11a39"
      },
      "source": [
        "__Ejercicio 30:__"
      ]
    },
    {
      "cell_type": "markdown",
      "id": "48c168b5-52a5-4c1e-9f37-6885322b4172",
      "metadata": {
        "id": "48c168b5-52a5-4c1e-9f37-6885322b4172"
      },
      "source": [
        "Leer el archivo __csv.csv__"
      ]
    },
    {
      "cell_type": "code",
      "execution_count": 77,
      "id": "c09d81bb-8ec7-47b6-aeb3-8297f948c8f0",
      "metadata": {
        "id": "c09d81bb-8ec7-47b6-aeb3-8297f948c8f0"
      },
      "outputs": [],
      "source": [
        "paises_csv= pd.read_csv(\"./csv\")"
      ]
    },
    {
      "cell_type": "code",
      "execution_count": 78,
      "id": "3a9aa98e-b53d-467a-b72c-f900ced6d691",
      "metadata": {
        "id": "3a9aa98e-b53d-467a-b72c-f900ced6d691",
        "colab": {
          "base_uri": "https://localhost:8080/",
          "height": 269
        },
        "outputId": "53f1985a-b215-42e3-fcf4-cb57129302c9"
      },
      "outputs": [
        {
          "output_type": "execute_result",
          "data": {
            "text/plain": [
              "  Unnamed: 0            capital  poblacion  sup. en km2  pob. en MM  \\\n",
              "0  Argentina       Buenos Aires   45380000      2780000      45.380   \n",
              "1     Brasil           Brasilia  212600000      8516000     212.600   \n",
              "2      Chile  Santiago de Chile   19120000       756950      19.120   \n",
              "3   Colombia             Bogotá   50880000      1143000      50.880   \n",
              "4    Ecuador              Quito   17640000       283560      17.640   \n",
              "5   Paraguay           Asunción    7133000       406752       7.133   \n",
              "6       Peru               Lima   32970000      1285216      32.970   \n",
              "\n",
              "   densidad pob  \n",
              "0     16.323741  \n",
              "1     24.964772  \n",
              "2     25.259264  \n",
              "3     44.514436  \n",
              "4     62.209056  \n",
              "5     17.536484  \n",
              "6     25.653275  "
            ],
            "text/html": [
              "\n",
              "  <div id=\"df-1f573f02-9db0-46a2-8624-630147ba2c25\">\n",
              "    <div class=\"colab-df-container\">\n",
              "      <div>\n",
              "<style scoped>\n",
              "    .dataframe tbody tr th:only-of-type {\n",
              "        vertical-align: middle;\n",
              "    }\n",
              "\n",
              "    .dataframe tbody tr th {\n",
              "        vertical-align: top;\n",
              "    }\n",
              "\n",
              "    .dataframe thead th {\n",
              "        text-align: right;\n",
              "    }\n",
              "</style>\n",
              "<table border=\"1\" class=\"dataframe\">\n",
              "  <thead>\n",
              "    <tr style=\"text-align: right;\">\n",
              "      <th></th>\n",
              "      <th>Unnamed: 0</th>\n",
              "      <th>capital</th>\n",
              "      <th>poblacion</th>\n",
              "      <th>sup. en km2</th>\n",
              "      <th>pob. en MM</th>\n",
              "      <th>densidad pob</th>\n",
              "    </tr>\n",
              "  </thead>\n",
              "  <tbody>\n",
              "    <tr>\n",
              "      <th>0</th>\n",
              "      <td>Argentina</td>\n",
              "      <td>Buenos Aires</td>\n",
              "      <td>45380000</td>\n",
              "      <td>2780000</td>\n",
              "      <td>45.380</td>\n",
              "      <td>16.323741</td>\n",
              "    </tr>\n",
              "    <tr>\n",
              "      <th>1</th>\n",
              "      <td>Brasil</td>\n",
              "      <td>Brasilia</td>\n",
              "      <td>212600000</td>\n",
              "      <td>8516000</td>\n",
              "      <td>212.600</td>\n",
              "      <td>24.964772</td>\n",
              "    </tr>\n",
              "    <tr>\n",
              "      <th>2</th>\n",
              "      <td>Chile</td>\n",
              "      <td>Santiago de Chile</td>\n",
              "      <td>19120000</td>\n",
              "      <td>756950</td>\n",
              "      <td>19.120</td>\n",
              "      <td>25.259264</td>\n",
              "    </tr>\n",
              "    <tr>\n",
              "      <th>3</th>\n",
              "      <td>Colombia</td>\n",
              "      <td>Bogotá</td>\n",
              "      <td>50880000</td>\n",
              "      <td>1143000</td>\n",
              "      <td>50.880</td>\n",
              "      <td>44.514436</td>\n",
              "    </tr>\n",
              "    <tr>\n",
              "      <th>4</th>\n",
              "      <td>Ecuador</td>\n",
              "      <td>Quito</td>\n",
              "      <td>17640000</td>\n",
              "      <td>283560</td>\n",
              "      <td>17.640</td>\n",
              "      <td>62.209056</td>\n",
              "    </tr>\n",
              "    <tr>\n",
              "      <th>5</th>\n",
              "      <td>Paraguay</td>\n",
              "      <td>Asunción</td>\n",
              "      <td>7133000</td>\n",
              "      <td>406752</td>\n",
              "      <td>7.133</td>\n",
              "      <td>17.536484</td>\n",
              "    </tr>\n",
              "    <tr>\n",
              "      <th>6</th>\n",
              "      <td>Peru</td>\n",
              "      <td>Lima</td>\n",
              "      <td>32970000</td>\n",
              "      <td>1285216</td>\n",
              "      <td>32.970</td>\n",
              "      <td>25.653275</td>\n",
              "    </tr>\n",
              "  </tbody>\n",
              "</table>\n",
              "</div>\n",
              "      <button class=\"colab-df-convert\" onclick=\"convertToInteractive('df-1f573f02-9db0-46a2-8624-630147ba2c25')\"\n",
              "              title=\"Convert this dataframe to an interactive table.\"\n",
              "              style=\"display:none;\">\n",
              "        \n",
              "  <svg xmlns=\"http://www.w3.org/2000/svg\" height=\"24px\"viewBox=\"0 0 24 24\"\n",
              "       width=\"24px\">\n",
              "    <path d=\"M0 0h24v24H0V0z\" fill=\"none\"/>\n",
              "    <path d=\"M18.56 5.44l.94 2.06.94-2.06 2.06-.94-2.06-.94-.94-2.06-.94 2.06-2.06.94zm-11 1L8.5 8.5l.94-2.06 2.06-.94-2.06-.94L8.5 2.5l-.94 2.06-2.06.94zm10 10l.94 2.06.94-2.06 2.06-.94-2.06-.94-.94-2.06-.94 2.06-2.06.94z\"/><path d=\"M17.41 7.96l-1.37-1.37c-.4-.4-.92-.59-1.43-.59-.52 0-1.04.2-1.43.59L10.3 9.45l-7.72 7.72c-.78.78-.78 2.05 0 2.83L4 21.41c.39.39.9.59 1.41.59.51 0 1.02-.2 1.41-.59l7.78-7.78 2.81-2.81c.8-.78.8-2.07 0-2.86zM5.41 20L4 18.59l7.72-7.72 1.47 1.35L5.41 20z\"/>\n",
              "  </svg>\n",
              "      </button>\n",
              "      \n",
              "  <style>\n",
              "    .colab-df-container {\n",
              "      display:flex;\n",
              "      flex-wrap:wrap;\n",
              "      gap: 12px;\n",
              "    }\n",
              "\n",
              "    .colab-df-convert {\n",
              "      background-color: #E8F0FE;\n",
              "      border: none;\n",
              "      border-radius: 50%;\n",
              "      cursor: pointer;\n",
              "      display: none;\n",
              "      fill: #1967D2;\n",
              "      height: 32px;\n",
              "      padding: 0 0 0 0;\n",
              "      width: 32px;\n",
              "    }\n",
              "\n",
              "    .colab-df-convert:hover {\n",
              "      background-color: #E2EBFA;\n",
              "      box-shadow: 0px 1px 2px rgba(60, 64, 67, 0.3), 0px 1px 3px 1px rgba(60, 64, 67, 0.15);\n",
              "      fill: #174EA6;\n",
              "    }\n",
              "\n",
              "    [theme=dark] .colab-df-convert {\n",
              "      background-color: #3B4455;\n",
              "      fill: #D2E3FC;\n",
              "    }\n",
              "\n",
              "    [theme=dark] .colab-df-convert:hover {\n",
              "      background-color: #434B5C;\n",
              "      box-shadow: 0px 1px 3px 1px rgba(0, 0, 0, 0.15);\n",
              "      filter: drop-shadow(0px 1px 2px rgba(0, 0, 0, 0.3));\n",
              "      fill: #FFFFFF;\n",
              "    }\n",
              "  </style>\n",
              "\n",
              "      <script>\n",
              "        const buttonEl =\n",
              "          document.querySelector('#df-1f573f02-9db0-46a2-8624-630147ba2c25 button.colab-df-convert');\n",
              "        buttonEl.style.display =\n",
              "          google.colab.kernel.accessAllowed ? 'block' : 'none';\n",
              "\n",
              "        async function convertToInteractive(key) {\n",
              "          const element = document.querySelector('#df-1f573f02-9db0-46a2-8624-630147ba2c25');\n",
              "          const dataTable =\n",
              "            await google.colab.kernel.invokeFunction('convertToInteractive',\n",
              "                                                     [key], {});\n",
              "          if (!dataTable) return;\n",
              "\n",
              "          const docLinkHtml = 'Like what you see? Visit the ' +\n",
              "            '<a target=\"_blank\" href=https://colab.research.google.com/notebooks/data_table.ipynb>data table notebook</a>'\n",
              "            + ' to learn more about interactive tables.';\n",
              "          element.innerHTML = '';\n",
              "          dataTable['output_type'] = 'display_data';\n",
              "          await google.colab.output.renderOutput(dataTable, element);\n",
              "          const docLink = document.createElement('div');\n",
              "          docLink.innerHTML = docLinkHtml;\n",
              "          element.appendChild(docLink);\n",
              "        }\n",
              "      </script>\n",
              "    </div>\n",
              "  </div>\n",
              "  "
            ]
          },
          "metadata": {},
          "execution_count": 78
        }
      ],
      "source": [
        "paises_csv"
      ]
    },
    {
      "cell_type": "markdown",
      "id": "6edef509-a902-46e3-b687-ea9bba982c42",
      "metadata": {
        "id": "6edef509-a902-46e3-b687-ea9bba982c42"
      },
      "source": [
        "Leer el archivo __excel.xlsx__"
      ]
    },
    {
      "cell_type": "code",
      "execution_count": 79,
      "id": "f970fd5c-7916-425c-840f-3be8aed555d0",
      "metadata": {
        "id": "f970fd5c-7916-425c-840f-3be8aed555d0"
      },
      "outputs": [],
      "source": [
        "paises_excel= pd.read_excel(\"./excel.xlsx\", index_col= \"pais\")"
      ]
    },
    {
      "cell_type": "code",
      "execution_count": 80,
      "id": "09e8b1e3-c900-462d-94af-ab40651e3d0c",
      "metadata": {
        "id": "09e8b1e3-c900-462d-94af-ab40651e3d0c",
        "colab": {
          "base_uri": "https://localhost:8080/",
          "height": 300
        },
        "outputId": "d9931ffc-7597-4738-f406-1bcf3fc08b42"
      },
      "outputs": [
        {
          "output_type": "execute_result",
          "data": {
            "text/plain": [
              "                     capital  poblacion  sup. en km2  pob. en MM  densidad pob\n",
              "pais                                                                          \n",
              "Argentina       Buenos Aires   45380000      2780000      45.380     16.323741\n",
              "Brasil              Brasilia  212600000      8516000     212.600     24.964772\n",
              "Chile      Santiago de Chile   19120000       756950      19.120     25.259264\n",
              "Colombia              Bogotá   50880000      1143000      50.880     44.514436\n",
              "Ecuador                Quito   17640000       283560      17.640     62.209056\n",
              "Paraguay            Asunción    7133000       406752       7.133     17.536484\n",
              "Peru                    Lima   32970000      1285216      32.970     25.653275"
            ],
            "text/html": [
              "\n",
              "  <div id=\"df-65e3c46d-2f14-48e8-8a86-31ca410c4b88\">\n",
              "    <div class=\"colab-df-container\">\n",
              "      <div>\n",
              "<style scoped>\n",
              "    .dataframe tbody tr th:only-of-type {\n",
              "        vertical-align: middle;\n",
              "    }\n",
              "\n",
              "    .dataframe tbody tr th {\n",
              "        vertical-align: top;\n",
              "    }\n",
              "\n",
              "    .dataframe thead th {\n",
              "        text-align: right;\n",
              "    }\n",
              "</style>\n",
              "<table border=\"1\" class=\"dataframe\">\n",
              "  <thead>\n",
              "    <tr style=\"text-align: right;\">\n",
              "      <th></th>\n",
              "      <th>capital</th>\n",
              "      <th>poblacion</th>\n",
              "      <th>sup. en km2</th>\n",
              "      <th>pob. en MM</th>\n",
              "      <th>densidad pob</th>\n",
              "    </tr>\n",
              "    <tr>\n",
              "      <th>pais</th>\n",
              "      <th></th>\n",
              "      <th></th>\n",
              "      <th></th>\n",
              "      <th></th>\n",
              "      <th></th>\n",
              "    </tr>\n",
              "  </thead>\n",
              "  <tbody>\n",
              "    <tr>\n",
              "      <th>Argentina</th>\n",
              "      <td>Buenos Aires</td>\n",
              "      <td>45380000</td>\n",
              "      <td>2780000</td>\n",
              "      <td>45.380</td>\n",
              "      <td>16.323741</td>\n",
              "    </tr>\n",
              "    <tr>\n",
              "      <th>Brasil</th>\n",
              "      <td>Brasilia</td>\n",
              "      <td>212600000</td>\n",
              "      <td>8516000</td>\n",
              "      <td>212.600</td>\n",
              "      <td>24.964772</td>\n",
              "    </tr>\n",
              "    <tr>\n",
              "      <th>Chile</th>\n",
              "      <td>Santiago de Chile</td>\n",
              "      <td>19120000</td>\n",
              "      <td>756950</td>\n",
              "      <td>19.120</td>\n",
              "      <td>25.259264</td>\n",
              "    </tr>\n",
              "    <tr>\n",
              "      <th>Colombia</th>\n",
              "      <td>Bogotá</td>\n",
              "      <td>50880000</td>\n",
              "      <td>1143000</td>\n",
              "      <td>50.880</td>\n",
              "      <td>44.514436</td>\n",
              "    </tr>\n",
              "    <tr>\n",
              "      <th>Ecuador</th>\n",
              "      <td>Quito</td>\n",
              "      <td>17640000</td>\n",
              "      <td>283560</td>\n",
              "      <td>17.640</td>\n",
              "      <td>62.209056</td>\n",
              "    </tr>\n",
              "    <tr>\n",
              "      <th>Paraguay</th>\n",
              "      <td>Asunción</td>\n",
              "      <td>7133000</td>\n",
              "      <td>406752</td>\n",
              "      <td>7.133</td>\n",
              "      <td>17.536484</td>\n",
              "    </tr>\n",
              "    <tr>\n",
              "      <th>Peru</th>\n",
              "      <td>Lima</td>\n",
              "      <td>32970000</td>\n",
              "      <td>1285216</td>\n",
              "      <td>32.970</td>\n",
              "      <td>25.653275</td>\n",
              "    </tr>\n",
              "  </tbody>\n",
              "</table>\n",
              "</div>\n",
              "      <button class=\"colab-df-convert\" onclick=\"convertToInteractive('df-65e3c46d-2f14-48e8-8a86-31ca410c4b88')\"\n",
              "              title=\"Convert this dataframe to an interactive table.\"\n",
              "              style=\"display:none;\">\n",
              "        \n",
              "  <svg xmlns=\"http://www.w3.org/2000/svg\" height=\"24px\"viewBox=\"0 0 24 24\"\n",
              "       width=\"24px\">\n",
              "    <path d=\"M0 0h24v24H0V0z\" fill=\"none\"/>\n",
              "    <path d=\"M18.56 5.44l.94 2.06.94-2.06 2.06-.94-2.06-.94-.94-2.06-.94 2.06-2.06.94zm-11 1L8.5 8.5l.94-2.06 2.06-.94-2.06-.94L8.5 2.5l-.94 2.06-2.06.94zm10 10l.94 2.06.94-2.06 2.06-.94-2.06-.94-.94-2.06-.94 2.06-2.06.94z\"/><path d=\"M17.41 7.96l-1.37-1.37c-.4-.4-.92-.59-1.43-.59-.52 0-1.04.2-1.43.59L10.3 9.45l-7.72 7.72c-.78.78-.78 2.05 0 2.83L4 21.41c.39.39.9.59 1.41.59.51 0 1.02-.2 1.41-.59l7.78-7.78 2.81-2.81c.8-.78.8-2.07 0-2.86zM5.41 20L4 18.59l7.72-7.72 1.47 1.35L5.41 20z\"/>\n",
              "  </svg>\n",
              "      </button>\n",
              "      \n",
              "  <style>\n",
              "    .colab-df-container {\n",
              "      display:flex;\n",
              "      flex-wrap:wrap;\n",
              "      gap: 12px;\n",
              "    }\n",
              "\n",
              "    .colab-df-convert {\n",
              "      background-color: #E8F0FE;\n",
              "      border: none;\n",
              "      border-radius: 50%;\n",
              "      cursor: pointer;\n",
              "      display: none;\n",
              "      fill: #1967D2;\n",
              "      height: 32px;\n",
              "      padding: 0 0 0 0;\n",
              "      width: 32px;\n",
              "    }\n",
              "\n",
              "    .colab-df-convert:hover {\n",
              "      background-color: #E2EBFA;\n",
              "      box-shadow: 0px 1px 2px rgba(60, 64, 67, 0.3), 0px 1px 3px 1px rgba(60, 64, 67, 0.15);\n",
              "      fill: #174EA6;\n",
              "    }\n",
              "\n",
              "    [theme=dark] .colab-df-convert {\n",
              "      background-color: #3B4455;\n",
              "      fill: #D2E3FC;\n",
              "    }\n",
              "\n",
              "    [theme=dark] .colab-df-convert:hover {\n",
              "      background-color: #434B5C;\n",
              "      box-shadow: 0px 1px 3px 1px rgba(0, 0, 0, 0.15);\n",
              "      filter: drop-shadow(0px 1px 2px rgba(0, 0, 0, 0.3));\n",
              "      fill: #FFFFFF;\n",
              "    }\n",
              "  </style>\n",
              "\n",
              "      <script>\n",
              "        const buttonEl =\n",
              "          document.querySelector('#df-65e3c46d-2f14-48e8-8a86-31ca410c4b88 button.colab-df-convert');\n",
              "        buttonEl.style.display =\n",
              "          google.colab.kernel.accessAllowed ? 'block' : 'none';\n",
              "\n",
              "        async function convertToInteractive(key) {\n",
              "          const element = document.querySelector('#df-65e3c46d-2f14-48e8-8a86-31ca410c4b88');\n",
              "          const dataTable =\n",
              "            await google.colab.kernel.invokeFunction('convertToInteractive',\n",
              "                                                     [key], {});\n",
              "          if (!dataTable) return;\n",
              "\n",
              "          const docLinkHtml = 'Like what you see? Visit the ' +\n",
              "            '<a target=\"_blank\" href=https://colab.research.google.com/notebooks/data_table.ipynb>data table notebook</a>'\n",
              "            + ' to learn more about interactive tables.';\n",
              "          element.innerHTML = '';\n",
              "          dataTable['output_type'] = 'display_data';\n",
              "          await google.colab.output.renderOutput(dataTable, element);\n",
              "          const docLink = document.createElement('div');\n",
              "          docLink.innerHTML = docLinkHtml;\n",
              "          element.appendChild(docLink);\n",
              "        }\n",
              "      </script>\n",
              "    </div>\n",
              "  </div>\n",
              "  "
            ]
          },
          "metadata": {},
          "execution_count": 80
        }
      ],
      "source": [
        "paises_excel"
      ]
    },
    {
      "cell_type": "code",
      "execution_count": 81,
      "id": "5e9749f3-d0a0-44ef-b528-a509a79474a3",
      "metadata": {
        "id": "5e9749f3-d0a0-44ef-b528-a509a79474a3"
      },
      "outputs": [],
      "source": [
        "edades = [1, 4, 12, 25, 15]"
      ]
    },
    {
      "cell_type": "code",
      "source": [
        "s_edades = pd.Series(edades)"
      ],
      "metadata": {
        "id": "r7yPYIZBU8eJ"
      },
      "id": "r7yPYIZBU8eJ",
      "execution_count": 82,
      "outputs": []
    },
    {
      "cell_type": "code",
      "source": [
        "s_edades"
      ],
      "metadata": {
        "id": "MJcd5YBNU7JU",
        "outputId": "26e090a0-7611-4c40-8faa-d298d4375e67",
        "colab": {
          "base_uri": "https://localhost:8080/"
        }
      },
      "id": "MJcd5YBNU7JU",
      "execution_count": 83,
      "outputs": [
        {
          "output_type": "execute_result",
          "data": {
            "text/plain": [
              "0     1\n",
              "1     4\n",
              "2    12\n",
              "3    25\n",
              "4    15\n",
              "dtype: int64"
            ]
          },
          "metadata": {},
          "execution_count": 83
        }
      ]
    },
    {
      "cell_type": "code",
      "source": [
        "s_edades.min()"
      ],
      "metadata": {
        "id": "4gYhjGVpVLYr",
        "outputId": "6a35ee2c-d110-452f-815a-0a68bba2c9db",
        "colab": {
          "base_uri": "https://localhost:8080/"
        }
      },
      "id": "4gYhjGVpVLYr",
      "execution_count": 84,
      "outputs": [
        {
          "output_type": "execute_result",
          "data": {
            "text/plain": [
              "1"
            ]
          },
          "metadata": {},
          "execution_count": 84
        }
      ]
    },
    {
      "cell_type": "code",
      "source": [
        "s_edades.max()"
      ],
      "metadata": {
        "id": "GA17k11-VQ78",
        "outputId": "432f4ece-7afc-44c5-83de-e04240601fb9",
        "colab": {
          "base_uri": "https://localhost:8080/"
        }
      },
      "id": "GA17k11-VQ78",
      "execution_count": 85,
      "outputs": [
        {
          "output_type": "execute_result",
          "data": {
            "text/plain": [
              "25"
            ]
          },
          "metadata": {},
          "execution_count": 85
        }
      ]
    },
    {
      "cell_type": "code",
      "source": [
        "s_edades.mean()"
      ],
      "metadata": {
        "id": "-bgMqTWZVS37",
        "outputId": "c96e3924-206d-4961-a97d-e6d724339564",
        "colab": {
          "base_uri": "https://localhost:8080/"
        }
      },
      "id": "-bgMqTWZVS37",
      "execution_count": 86,
      "outputs": [
        {
          "output_type": "execute_result",
          "data": {
            "text/plain": [
              "11.4"
            ]
          },
          "metadata": {},
          "execution_count": 86
        }
      ]
    },
    {
      "cell_type": "code",
      "source": [],
      "metadata": {
        "id": "Y9j8kgUeVVgF"
      },
      "id": "Y9j8kgUeVVgF",
      "execution_count": null,
      "outputs": []
    },
    {
      "cell_type": "code",
      "source": [],
      "metadata": {
        "id": "h5Xw2Cd2Vcjj"
      },
      "id": "h5Xw2Cd2Vcjj",
      "execution_count": null,
      "outputs": []
    }
  ],
  "metadata": {
    "kernelspec": {
      "display_name": "Python 3 (ipykernel)",
      "language": "python",
      "name": "python3"
    },
    "language_info": {
      "codemirror_mode": {
        "name": "ipython",
        "version": 3
      },
      "file_extension": ".py",
      "mimetype": "text/x-python",
      "name": "python",
      "nbconvert_exporter": "python",
      "pygments_lexer": "ipython3",
      "version": "3.9.13"
    },
    "colab": {
      "provenance": [],
      "include_colab_link": true
    }
  },
  "nbformat": 4,
  "nbformat_minor": 5
}